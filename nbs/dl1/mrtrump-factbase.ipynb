{
 "cells": [
  {
   "cell_type": "code",
   "execution_count": 1,
   "metadata": {},
   "outputs": [],
   "source": [
    "%reload_ext autoreload\n",
    "%autoreload 2\n",
    "%matplotlib inline"
   ]
  },
  {
   "cell_type": "code",
   "execution_count": 2,
   "metadata": {},
   "outputs": [],
   "source": [
    "from fastai.text import *"
   ]
  },
  {
   "cell_type": "markdown",
   "metadata": {},
   "source": [
    "## Look at the data"
   ]
  },
  {
   "cell_type": "code",
   "execution_count": 3,
   "metadata": {},
   "outputs": [
    {
     "data": {
      "text/plain": [
       "[PosixPath('data/mrtrump/MrTrumpSpeeches.csv'),\n",
       " PosixPath('data/mrtrump/models'),\n",
       " PosixPath('data/mrtrump/data_lm_factbase.pkl'),\n",
       " PosixPath('data/mrtrump/MrTrumpSpeeches_preview.csv'),\n",
       " PosixPath('data/mrtrump/data_lm.pkl'),\n",
       " PosixPath('data/mrtrump/models.bak'),\n",
       " PosixPath('data/mrtrump/factbase.csv')]"
      ]
     },
     "execution_count": 3,
     "metadata": {},
     "output_type": "execute_result"
    }
   ],
   "source": [
    "trump_path = Path('data/mrtrump')\n",
    "trump_path.ls()"
   ]
  },
  {
   "cell_type": "code",
   "execution_count": 4,
   "metadata": {},
   "outputs": [
    {
     "data": {
      "text/html": [
       "<div>\n",
       "<style scoped>\n",
       "    .dataframe tbody tr th:only-of-type {\n",
       "        vertical-align: middle;\n",
       "    }\n",
       "\n",
       "    .dataframe tbody tr th {\n",
       "        vertical-align: top;\n",
       "    }\n",
       "\n",
       "    .dataframe thead th {\n",
       "        text-align: right;\n",
       "    }\n",
       "</style>\n",
       "<table border=\"1\" class=\"dataframe\">\n",
       "  <thead>\n",
       "    <tr style=\"text-align: right;\">\n",
       "      <th></th>\n",
       "      <th>Unnamed: 0</th>\n",
       "      <th>transcript</th>\n",
       "    </tr>\n",
       "  </thead>\n",
       "  <tbody>\n",
       "    <tr>\n",
       "      <th>0</th>\n",
       "      <td>0</td>\n",
       "      <td>Oh, thank you very much. Thank you very much. ...</td>\n",
       "    </tr>\n",
       "    <tr>\n",
       "      <th>1</th>\n",
       "      <td>1</td>\n",
       "      <td>Thank you very much, El Paso. Thank you very m...</td>\n",
       "    </tr>\n",
       "    <tr>\n",
       "      <th>2</th>\n",
       "      <td>2</td>\n",
       "      <td>Madam Speaker, Mr. Vice President, Members of ...</td>\n",
       "    </tr>\n",
       "    <tr>\n",
       "      <th>3</th>\n",
       "      <td>3</td>\n",
       "      <td>That's such a great song. We should just let i...</td>\n",
       "    </tr>\n",
       "    <tr>\n",
       "      <th>4</th>\n",
       "      <td>4</td>\n",
       "      <td>My fellow Americans. Tonight, I am speaking to...</td>\n",
       "    </tr>\n",
       "  </tbody>\n",
       "</table>\n",
       "</div>"
      ],
      "text/plain": [
       "   Unnamed: 0                                         transcript\n",
       "0           0  Oh, thank you very much. Thank you very much. ...\n",
       "1           1  Thank you very much, El Paso. Thank you very m...\n",
       "2           2  Madam Speaker, Mr. Vice President, Members of ...\n",
       "3           3  That's such a great song. We should just let i...\n",
       "4           4  My fellow Americans. Tonight, I am speaking to..."
      ]
     },
     "execution_count": 4,
     "metadata": {},
     "output_type": "execute_result"
    }
   ],
   "source": [
    "df = pd.read_csv(trump_path/'factbase.csv')\n",
    "df.head()"
   ]
  },
  {
   "cell_type": "code",
   "execution_count": 5,
   "metadata": {},
   "outputs": [
    {
     "data": {
      "text/plain": [
       "'Oh, thank you very much. Thank you very much. And thank you very much also to a man named Matt Schlapp. What a job he\\'s done. And to CPAC -- I actually started quite a while ago at CPAC, and came here -- probably made my first real political speech. And I enjoyed it so much that I came back for a second one, then a third. Then I said, what the hell, let\\'s run for President. Right? But it\\'s wonderful to be back with so many great patriots, old friends, and brave young conservatives. What a future you have. Our movement and our future in our country is unlimited. What we\\'ve done together has never been done in the history maybe of beyond of country, maybe in the history of the world. They came from the mountains and the valleys and the cities. They came from all over. And what we did in 2016 -- the Election, we call it, with a capital \"E\" -- it\\'s never been done before. And we\\'re going to do it, I think, again in 2020, and the numbers are going to be even bigger. [Audience Chants USA] And we all had to endure, as I was running. So you had 17 Republicans, plus me. [Laughter] And I was probably more of a conservative than a Republican. People just didn’t quite understand that. They didn’t understand it. I think now, with what we\\'ve done with the judiciary and so many other things, I think they get it very well. And it\\'s driving the other side crazy. But we all had to endure, remember? How many times did you hear, for months and months, \"There is no way to 270\"? You know what that means, right? \"There is no way to 270.\" They couldn’t get me there. We might as well have just given up. But there wasn’t any way to 270. In fact, I actually went up to Maine to get one, and I did win the one. But we didn’t need the one. We didn’t need it. We won Maine. We won our half of Maine, remember? You have Nebraska. We won both in Nebraska. We won the half we had to win in Maine. So we got the one, but we didn’t need the one, because we didn’t get 270; we got 306 to 223. 223-306. A state called Wisconsin, a state called -- -- Michigan, where -- by the way, where Fiat Chrysler just announced a $4.5 billion incredible -- -- expansion and new plant, doubling their workforce. Many, many car companies have moved back to Michigan and are continuing to do so. Big numbers. Nobody every thought they\\'d see that happen. So I think we\\'re going to do even better in 2020. I think we\\'re going to do numbers that people haven’t seen for a long time. The men and women here today are on the frontlines of protecting America’s interests, defending America’s value, and reclaiming our nation’s priceless heritage. It\\'s true. With your help, we are reversing decades of blunders and betrayals. These are serious, serious betrayals to our nation and to everything we stand for. It\\'s been done by the failed ruling class that enriched foreign countries at our expense. It wasn’t \"America first.\" In many cases, it was \"America last.\" Those days are over. Long over. America is winning again. America is respected again. And the world knows it. When I meet with prime ministers, when I meet with presidents -- and I get along with them -- because they know that what\\'s taken place over many years -- not just the Obama administration; long before that -- they can\\'t believe, themselves, that they got away with it. They can\\'t believe it. An impossible thing. And they like me. And the reason they like me -- they tell me; they say, \"Mr. President...\" I said -- as an example, President Xi of China, I have great respect. We have a great relationship. I say, \"How is it possible that you got away with this for so long?\" [Laughter] And he said, \"Because nobody ever asked us to change.\" It\\'s true. When they charge 40 percent tariffs on our cars going into China, and we charge them nothing coming into our country; when they raise their tariff from 10 percent to 25 percent and then to 40 percent -- and they said to me, \"We expected that somebody would call and say you can\\'t do that.\" [Laughter] \"Nobody called, so we just left it.\" And I don’t blame them. We should’ve been doing the same thing to them. But we didn’t. True. Right? Hard to believe. It\\'s hard to believe. But now things are different. Now we\\'re negotiating with China. They wouldn’t negotiate with previous administrations. But I found some very old laws from when our country was rich -- really rich. The old tariff laws -- we had to dust them off; you could hardly see, they were so dusty. But, fortunately, they weren’t terminated. We started getting politically correct, even back then. But I said, when we were doing the great things, what happened to those laws? And I checked, and I found 301 and 382. I found one, 1938, where we can do what we have to do. But, you know, they had a debate in -- it was really a tough time in our country because we had so much money we didn’t know what the hell to do with it. Tough, tough, tough. It was called the Great Tariff Debate. Mark Levin will look this up. [Laughter] And the problem is, with Mark, if I make a little mistake, he\\'ll let us know on Sunday night. [Laughter] I got to be very careful when I talk about this. But it was the Great Tariff Debate of 1888. And the debate was: We didn’t know what to do with all of the money we were making. We were so rich. And McKinley, prior to being President, he was very strong on protecting our assets, protecting our country. And he made statements that, \"Others cannot come into our country and steal our wealth and steal our jobs, and build their country and not defend our country. We can\\'t do that. We can\\'t ever allow that to happen.\" And, you know -- I don\\'t know, maybe you know. You know I\\'m totally off-script, right? [Audience member calls out] Thank you, darling. [Laughter] You know I\\'m totally off script right now. And this is how I got elected, by being off script. True. And if we don’t go off script, our country is in big trouble, folks. Because we have to get it back. And when I look at what\\'s happening on the other side, I encourage it. I say, \"No, no...\" -- I think the New Green Deal, or whatever the hell they call it -- [Audience Boos] [Audience Boos] The Green New Deal, right? Green New Deal -- I encourage it. I think it\\'s really something that they should promote. [Laughter] They should work hard on. It\\'s something our country needs desperately. They have to go out and get it. But I\\'ll take the other side of that argument only because I\\'m mandated to. I\\'m mandated. But they should stay with that argument. Never change. [Laughter] Never change. No planes. No energy. [Laughter] When the wind stops blowing, that\\'s the end of your electric. [Laughter] Let\\'s hurry up. \"Darling\" -- \"Darling, is the wind blowing today? I\\'d like to watch television, darling.\" [Laughter] No, but it\\'s true. So the Great Tariff Debate of 1888 -- and then we had so much money we could do whatever we wanted. We built forces up that were incredible. Then, in 1913, they ended tariffs, okay? They ended tariffs. Somebody got stupid and they ended tariffs. They said, \"Oh, it\\'s okay for other nations to come in.\" I won\\'t use a certain words because it\\'s not politically -- but everybody knows the word I\\'d love to use. Should I use it? I won\\'t do it. Our great First Lady always said, \"Don\\'t use certain words, please.\" I said, \"But the audience wanted me to do it.\" She said, \"Don\\'t do it.\" And the problem is, if I do do that, they won\\'t put the little preamble that we just went through. They\\'ll just use the word, and they\\'ll said, \"Isn\\'t that terrible.\" So I won\\'t use it. [Laughter] I\\'ve learned. Because with the fake news -- [Audience Boos] -- if you tell a joke, if you\\'re sarcastic, if you\\'re having fun with the audience, if you\\'re on live television with millions of people and 25,000 people in an arena, and if you say something like, \"Russia, please, if you can, get us Hillary Clinton\\'s emails. Please, Russia, please.\" \"Please get us the emails. Please!\" [Audience chants Trump] So everybody is having a good time. I\\'m laughing, we\\'re all having fun. And then that fake CNN and others say, \"He asked Russia to go get the emails. Horrible.\" [Laughter] I mean, I thought -- like, two weeks ago, I\\'m watching and they\\'re talking about one of the points. \"He asked Russia for the emails.\" These people are sick. [Laughter] And I\\'m telling you, they know the game. They know the game, and they play it dirty -- dirtier than anybody has ever played the game. Dirtier than it\\'s ever been played. But the thing that we\\'ve done is very special. Because, on trade, and because of tariffs -- and I know there are people in the Republican Party and people -- really, even conservatives -- good conservatives -- they don’t like tariffs. I\\'m not liking or not liking. The minimum, the greatest negotiating tool in the history of our country. Do you think China would be sending their top representatives over? Right now, China is paying 25 percent tariff on $50 billion worth of technology goods. I was then going to charge them 25 percent on $200 billion. Not like $200 million -- that\\'s a lot. This is 200 with a \"B\" -- billion. Two-hundred billion. So -- but I was nice, because we\\'re having a very strong negotiation, which if it weren’t for tariffs -- and I tell this to President Xi; this is nothing to hide. I would never be talking like this because, in theory, it could hurt your negotiating position. But in my case, it can\\'t, because it\\'s true. I was nice, and I left it at 10 percent on $200 billion. And here\\'s the beauty: We\\'ve lost so much money with China -- $500 billion a year. And on trade, it\\'s such a disaster; it\\'s $507 billion a year. China -- just one country. We lose with everybody, almost. But China is one country. $507 billion, for many years. So the beauty is this: I have $250 billion more to put tariffs on. The numbers are staggering. Billions of dollars, right now, are pouring into our Treasury. And for those of you that haven’t done the research, if you look, of the 25 percent, our country -- as it\\'s turned out, because it\\'s now been on there for a long while. Our -- and I\\'m in no rush because I\\'m fine with it. I\\'m fine with it. Of the 25 points, we\\'ve paid for 4 points, and China has paid for 21 points. Okay? Twenty-one. That’s what the numbers are. It\\'s very simple. You know, everyone said, \"Oh, it\\'s a tax on our...\" It\\'s not really. And what China and other countries do sometimes is they will subsidize it. So the tax really is incredible. But what it is, beyond everything else, I can negotiate. But then you have senators and a few congressman, but not Mark Meadows. Where is the great Mark Meadows? He\\'s here someplace. Man, has he been good. Mark and Jim Jordan, and -- -- I want to name every one of those couple of hundred people. Because we do have a lot. I want to name every damn one of them. They have been incredible. They\\'ve been fighting. And I just see Mark in the audience. They\\'ve been fighting -- with Deb, much more important. His wife is incredible. What an asset. He would be nowhere without her. [Laughter] Right? But they fight so hard on this witch hunt, this phony deal that they put together; this phony thing that now looks like it\\'s dying. So they don’t have anything with Russia. There\\'s no collusion. So now they go and morph into, \"Let\\'s inspect every deal he\\'s ever done. We\\'re going to go into his finances. We\\'re going to check his deals. We\\'re going to check...\" These people are sick. [Laughter] They\\'re sick. I saw little Shifty Schiff yesterday. No, it\\'s the first time. He went into a meeting and he said, \"We\\'re going to look into his finances.\" I said, \"Where did that come from?\" He always talked about Russia -- collusion with Russia. The collusion delusion. [Laughter] So now we\\'re waiting for a report, and we\\'ll find out whether or not, and who we\\'re dealing with. We\\'re waiting for a report by people that weren’t elected. We had -- think of this: We had the greatest election -- in all fairness, I used to hear Andrew Jackson. This was now greater than the election of Andrew Jackson. People say that. No, people say it. I\\'m not saying it. Right? This was the equivalent or greater. You know, they used to go to Ronald Reagan, when I first started. \"This is Ronald Reagan.\" Then we started really doing well, and they were coming from everywhere to vote. Those red hats -- and white ones. The key is in the color. The key is what it says. \"Make America Great Again,\" is what it says. Right? Right? But we had the greatest of all time. Now we have people that lost. And unfortunately, you put the wrong people in a couple of positions, and they leave people for a long time that shouldn\\'t be there. And, all of a sudden, they\\'re trying to take you out with bullshit. Okay? [Laughter] With bullshit. Now, Robert Mueller never received a vote, and neither did the person that appointed him. And as you know, the Attorney General says, \"I\\'m going to recuse myself.\" [Laughter] \"I\\'m going to recuse.\" And I said, why the hell didn’t he tell me that before I put him in? How do you recuse yourself? But the person that appointed Robert Mueller never received a vote. Robert Mueller put 13 of the angriest Democrats in the history of our country on the commission. [Laughter] Now, how do you do that? These are angry, angry people. You take a look at them. One of them was involved with the Hillary Clinton Foundation, running it. Another one has perhaps the worst reputation of any human being I\\'ve ever seen. [Laughter] All killers. In fact, it would\\'ve been actually better for them if they put half and half, and Mueller can do whatever he wants anyway, which he\\'ll probably do. But we have conflicts. I had a nasty business transaction with Robert Mueller a number of years ago. I said, why isn’t that mentioned? He wanted the job as FBI Director. I mean, these are things that are out there; they know it. Why isn’t that -- and I didn’t give it to him. Why isn’t that mentioned? Jim Comey -- Lyin\\' James Comey -- [Audience Boos] -- is his best friend. James Comey is his best friend. And those are a few of the conflicts. Other than that, it\\'s wonderful. [Laughter] So -- so everybody is waiting. I thought of it this morning, Mark. And I heard you made an incredible speech and statement today. Mark Levin. I heard it was incredible. And I was on the way. But I\\'ll see it later. I guarantee I\\'ll be watching it later. I have one of the great inventions in history. It\\'s called TiVo. [Laughter] I think it\\'s actually better than television, because television is practically useless without TiVo, right? [Laughter] But I\\'ll be watching it later, Mark. But people that got no votes. But I heard this morning, \"President Trump is waiting for the Mueller report.\" I said, wait a minute, let me get this straight. [Laughter] So the Attorney General recuses himself, and I don’t fire him. No obstruction. That\\'s the other thing: If you use your right, if you use your power, if you use Article 2, it\\'s called obstruction. But only for Trump. For nobody else. [Laughter] So the Attorney General is weak and ineffective, and he doesn’t do what he should\\'ve done. Somebody that never got a vote writes a powerful letter -- horrible -- about Comey. Every single Democrat said Comey should be fired, or worse, if possible. [Laughter] Every Republican said -- everybody -- in fact, when I fired Comey, I said, \"You know...\" -- First Lady -- I said, \"Melania, I\\'m doing something today. I\\'m doing it because it really has to be done.\" He\\'s bad. He\\'s a bad, bad -- he\\'s a bad, bad guy. That\\'s been proven now with all of the emails and the texts. \"I\\'m doing something that has to be done. But you know the good news? It\\'s going to be bipartisan. It\\'s going to be so popular, it\\'s going to be bipartisan.\" [Laughter] Every Democrat hates him. Every Republican hates him. He did a horrible job at the FBI. Speak to the real agents, the real people. Because the people in the FBI are incredible people -- not the sleaze on top. And I said to the First Lady -- I said, \"But you know the good news? The good news is that this is going to be so bipartisan. Everyone is going to love it.\" So we fire Comey. And Schumer -- who called for his resignation many times -- Podesta, I believe that day -- because he still hasn’t gotten over getting his ass kicked, okay? I believe that day called for his resignation. That day. Podesta, the great genius of campaigns. [Laughter] He called for the Comey resignation. Others -- almost every, I would say. Mark, would you say virtually every Democrat, virtually every -- I can\\'t think of anybody that said he\\'s doing a good job. So I said to Melania, \"Melania, the good news, this will be a popular thing.\" [Laughter] And I fire a bad cop. I fire a dirty cop. And all of a sudden, the Democrats say, \"How dare he fire him. How dare he do this.\" And that\\'s where we are, folks. That\\'s where we are. We\\'re in this swamp of Washington, D.C. But you know what? We\\'re winning, and they\\'re not. We\\'re winning. So, just to finish -- and I\\'ll tell you, Matt Schlapp is loving this. [Laughter] He\\'s saying, \"This is a lot more than we paid for.\" You know, normally you read a few pages and you say, \"Bye, folks.\" But you know what I like about this? Number one, I\\'m in love, and you\\'re in love. We\\'re all in love together. We\\'ve done something that nobody has ever done. Right? It\\'s easy. No, it\\'s easy. You know, a great friend of mine from New York, he\\'s a stone-cold killer. He\\'s a brutal man. He\\'s actually not even a good friend of mine because he\\'d turn on me in two seconds if it was [Inaudible]. [Laughter] But he\\'s a very rich guy. And he said, \"What are you going to speak about today? Like, what are you going to speak?\" I said, \"I don\\'t know. I don\\'t know.\" [Laughter] He said, \"I just heard that you have the biggest crowd in the history of CPAC. They\\'re all over. By the way, not only in this giant room. They\\'re in many hotel rooms all over the place. You\\'re just better at real estate than they are.\" [Laughter] True. But this guy -- you all know his name -- very rich guy. And he has a problem with a thing called public speaking. If he has to speak to more than like five people, he chokes. [Laughter] He can\\'t breathe. You know, juh-juh. \"Are you okay?\" He kills people for a living -- meaning mentally and financially -- but if there\\'s like an audience of nine, it\\'s like \"augh.\" [Laughter] So he said to me, \"How the hell do you do that?\" And I said, \"It\\'s easy.\" And the reason it\\'s easy -- I really mean this -- there\\'s so much love in this room, it\\'s easy to talk. You can talk your heart out. You really could. There\\'s love in this room. You can talk your heart out. It\\'s easy. It\\'s easy. It\\'s easy. And we\\'ve had that from the day I came down with your First Lady on the escalator in Trump Tower. It\\'s been easy. And you know what? We never had an empty seat. We went out and helped Ted Cruz. We went out and helped so many people. And I\\'ll tell you what: If we didn’t do those 32 rallies -- and it wasn’t easy. When you\\'re doing rallies with 25-, 30,000 people -- in Texas, we had 109,000 people sign up. We used the Houston Rockets arena; it holds 22,000. Tens of thousands were outside. We were sending notices, \"Please don’t come.\" That\\'s a little different. Usually, people are begging. \"Well, yeah, like can somebody come?\" [Laughter] We never had an empty seat. Of course, the Washington Post -- a guy named David Weigel -- he wrote an article, some arena -- [Audience Boos] No, listen to this. He wrote an article. He got there four hours early. He took pictures of an empty arena. He then put out a note -- something to the effect, \"Not very good crowd size, Mr. President.\" And I never saw it because I don’t follow the guy. But thousands of people that were in that arena that was packed with 25,000 people outside that couldn’t get in -- he got there four or five hours early because he doesn’t fly private. You know. [Laughter] And maybe it\\'s because of the carbon footprint. You think maybe that\\'s it? [Laughter] Maybe. Must be the carbon footprint. He just doesn’t want private. But he got there hours early. And, you know, the place hadn’t started taking in people. They weren’t going to take them in. So there were virtually nobody. And, you know, whatever it was -- 18,000 -- when you have nobody, it\\'s a little scary-looking. So he took pictures. And you know who really got even? Our people. Because they were incensed. We had people sitting on the stairwells. We had people sitting in every seat. I don’t think we\\'ve had an empty seat since we announced. And from the day we came down the escalator, I really don’t believe we\\'ve had an empty seat at any arena, at any stadium. It\\'s been an incredible thing. And that\\'s why I say this has never, ever happened before, and now we have to verify it in 2020 with an even bigger victory. [Applause, Audience chants Four More Years] And, by the way, just to finish that story, the great Sarah Huckabee and Mercedes, who is incredible, sitting right here -- -- Mercedes, thank you. They always say -- you know, they\\'re good people, right? Much better than I am. They always say, \"Don\\'t bring it up. Don’t fight. Don’t fight. Everyone understands.\" I said, \"They don’t understand.\" If I don’t explain it, how are they going to understand? So remember the arena one, right? And then it was shown. And the Washington Post had to do -- and this particular writer -- had to do a -- I thought he was going to get fired. I mean, if that were a conservative, he would\\'ve been fired on the spot. He would\\'ve been humiliated for what he did. Because it was fake news. Nobody was in the arena. There were thousands outside but they hadn’t opened the gates yet. They did the same thing at our big inauguration speech. You take a look at those crowds. And I watched one of the evening shows that are ridiculous, how horrible they are, how mean -- how horrible. And I watched it by mistake. [Laughter] And they showed -- they showed from the White House all the way down. They showed from the Cap- -- they showed -- there were people. Nobody has ever seen it. The Capitol down to the Washington Monument -- people. But I saw pictures that there were no people. [Laughter] Those pictures were taken hours before. Right? And they always mention crowd size. \"He talks about crowd size.\" So I\\'m constantly bugging Mercedes. Whenever we have a slow moment, I say, \"Mercedes\" -- and Sarah -- \"show them the pictures. Show them. And compare them with what they put on television. Those pictures were taken hours before.\" And remember this also -- not that Obama would ever do this: But we had fencing all the way down to the Washington Monument. And it was raining and it was wet, and the grass was wet. And women and men -- and I consider them totally equal, so I\\'m not going to say it\\'s harder. [Laughter] In fact, it\\'s probably, with the men I know, it\\'s actually easier for the women to make the walk, right? [Audience Calls Out No] But they had to walk all the way down. They had to walk with high heels, in many cases. They had to walk all the way down to the Washington Monument and then back. And I looked, and I made a speech, and I said, before I got on -- I said to the people that were sitting next to me, \"I\\'ve never seen anything like this. Look at that crowd.\" And it was wide. Wide. We had a crowd -- I\\'ve never seen anything like it. And I have to live -- I have to live with \"crowd size.\" It\\'s all a phony deal. But I saw a picture just the other night of practically no people. It was taken hours before our great day. That was a great day for us. That was a great, great day. People came from all over. People came from all over. So, Sarah said, and Mercedes said, \"Sir, it doesn’t matter. Nobody cares.\" I said, \"But I care.\" [Laughter] And people care. People care. So what I\\'m going to do is I\\'ll give it to the great one. I\\'ll give it to Mark Levin. And I\\'ll give him the picture. Then I\\'ll show you where they showed, just the other day, an empty field -- like nobody on it. And you\\'ll see the sun. You know, you can see it\\'s very dark, because the sun is like starting to rise, right? [Laughter] And you can have some fun. You\\'re going to get big ratings on your show, I\\'ll tell you that. Sunday night, everybody. Sunday night. Huh? Ten o\\'clock, right? Sunday night at 10 o\\'clock. [Audience Member Calls Out, Trump laughs] Thank you. I knew that, actually. But thank you. All right, now let\\'s get back to what I\\'m here for. [Laughter] And don\\'t fall asleep. Don’t fall asleep, right? Don’t fall asleep. You know, somebody said, \"Oh, the speech you made, sir, the State of the Union speech was incredible.\" They said it was incredible. They said that was so great. And I said -- I said -- I did; I got great reviews, even from some of the really bad ones out there. [Laughter] Of course, by the following morning, they had to change because the head people called up, \"What are you doing?\" [Laughter] A lot of it is not the people on television, you know. A lot of it is their bosses -- which someday we\\'re going to have to figure out why, Meadows, why that is. Because, you know, if you\\'re building a great country, you have the best employment and unemployment numbers we\\'ve ever had. More people are working today in the United States than ever before in the history of our country. And you say, why are they upset by that? Why? Why are they upset by that? We\\'ve slashed 30,000 pages of job-killing regulations from the Federal Register. That\\'s an all-time record in the history of the United States, even by Presidents there for eight years, and in one case more. We passed the largest package of tax cuts and reforms in American history. And we got rid of the individual mandate, which was a big deal. Which should lead to the ending of the disaster known as Obamacare. It should. The great state of Texas has a case, and it was literally based on the individual mandate. Now that it\\'s gone, I don\\'t know how they rule against it. Now we\\'ll have to find out. But that\\'ll soon be up in the Supreme Court of the United States, I hope. And we\\'re going to see what happens. And then we\\'re going to get together with the Democrats and come up with really great healthcare, okay? Really great healthcare. And of the other things we did in our tax package is ANWR. Perhaps the largest field in the world -- oil and gas. I got it approved. And I didn’t want to get it approved for a certain reason, because I thought somebody treated me very badly. Very badly. Don’t get that vote very often. And I said, you know, I don’t want to get it. Then I get a call from a friend of mine, and he\\'s in the oil business. He\\'s not asking for anything. He said -- but he really is a knowledgeable guy when it comes to oil and gas. He said to me, \"Hey\" -- and they all call me \"Mr. President.\" I have friends that, for 35 years, \"Hey, Don, how you doing? Hey, Donny. I love you, Donny.\" For 35 years. Now they call, \"Mr. President, sir.\" [Laughter] \"How are you?\" I have a friend -- a very rich guy -- Richard LeFrak, in New York. A builder. A good builder. He calls me all my life, \"Hey, Don, how you doing?\" I\\'ve known this guy so long -- from kindergarten. [Laughter] It\\'s true. \"Hi, Don, how you doing? How\\'s everything?\" And now I get a call the other day, \"Mr. President, how are you, sir? How are you?\" I said, \"Richard, lighten up. Lighten up.\" [Laughter] \"Call me \\'Donald\\'.\" \"Richard, call me \\'Donald\\'.\" You\\'ve known me for -- I don’t want to say, because I don’t want my wife to hear the number.\" [Laughter] But -- it\\'s true. Actually, that\\'s true. That\\'s actually true. Richard came up; he said, \"I\\'ve known your husband for 65 years.\" I said, \"Don’t say that.\" [Laughter] I say, \"Say 25, 30. Don’t say 65 years.\" But I said, \"Richard -- Richard, call me \\'Donald\\', like you always do. Call me \\'Don\\'.\" \"Okay.\" \"Okay, Don. Okay.\" He gets his breath. Uh-huh. Two minutes later -- \"Mr. President...\" [Laughter] That\\'s called respect for the office, right? Maybe that\\'s a good thing, right? Many -- many of my friends. And that wasn’t in the script either, Mark. [Laughter] But we\\'re renegotiating, right now, horrible trade deals that we\\'re cracking down -- and we are really doing a number -- cracking down on countries that cheat, and standing up for the American worker for the first time in many, many decades. Many decades. Our workers have been treated horribly. A country announces they\\'re closing their plant in Michigan or Pennsylvania or Ohio -- they\\'re closing. They\\'re closing a plant; they\\'re going to move to Mexico. They\\'re going to move to China. They\\'re going to move someplace else. They fire all their workers. And then they sell their cars, no tax; just make them in Mexico, sell them back to here. No tax, no nothing. Those days are all gone, folks. They\\'re all gone. They\\'re all gone. And in the new deal with Mexico and Canada, called the USMCA, it\\'s very, very hard -- prohibitively hard -- for a company to fire its 4,000 workers and move to Mexico or some other location. It\\'s now a very costly -- they can do it, I guess, if they want. But it\\'s costly. It\\'s painful. It used to be almost -- I said -- I used to -- I\\'ve been talking about this for a long time. I used to say it\\'s almost like we\\'re giving them an incentive to leave our country. Again, I\\'m for America first. That wasn’t for America first. And we have great companies that are now moving back to our country. They\\'re coming back in. They\\'re coming back in. And, by the way, you know I\\'m building the wall. We\\'re finishing the wall. We got a lot of money. It\\'s in the thing. [Audience chants Build that Wall] But -- and there will be some people in the room that don’t like this. We\\'re down to 3.7 percent unemployment -- the lowest number in a long time. But think of this: I got all these companies moving in. They need workers. We have to bring people into our country to work these great plants that are opening up all over the place. This was not necessarily what I was saying during the campaign because I never knew we would be as successful as we\\'ve been. Companies are roaring back into our country, and now we want people to come in. We need workers to come in, but they\\'ve got to come in legally, and they\\'ve got to come in through merit, merit, merit. [Audience Chants USA] They\\'ve got to come in through merit. They have to be people that can help us. They have to be people that can love our country, not hate our country. We have people in Congress -- right now, we have people in Congress that hate our country. [Audience Boos] And you know that. And we can name every one of them if they want. They hate our country. It\\'s sad. It\\'s very sad. When I see some of the things being made, the statements being made, it\\'s very, very sad. Very, very -- and find out, how did they do in their country? Just ask them, how did they do? Did they do well? Were they succeeding? Just ask that question. Somebody would say, \"Oh, that\\'s terrible that he brings that up.\" But that\\'s okay, I don’t mind. I\\'ll bring it up. [Laughter] How did they do in their country? Not so good. Not so good. But we need workers. We have to bring in workers. One other thing -- because we have a lot of people here that are important people in terms of votes. We have some senators. We have some congressmen. When a senator tells us that he\\'s a free trader, so am I. I\\'m a fair trader. I\\'m a free trader. But when a senator said we can\\'t do tariffs, where we make a fortune, or at a minimum, we\\'re able to use this tremendous power that I found -- tremendous -- old stuff. Nobody even knew it existed. I\\'m able to use it, at a minimum, to negotiate great and fair trade deals. They wouldn\\'t even be talking to us because it\\'s so one-sided. Last year, we lost eight hundred -- this for many years -- almost $800 billion on trade. It\\'s not sustainable. You can\\'t do that. And now we\\'re making great trade deals. But when some of the senators -- good people; I think they\\'re good people. I just don\\'t understand the thinking. So I say, India is a very high-tariff nation. They charge us a lot. When we send a motorcycle to India, it\\'s 100 percent tariff. They charge 100 percent. When India sends a motorcycle to us, we brilliantly charge them nothing. So I want a reciprocal tax, or at least I want to charge a tax. It\\'s called a mirror tax, but it\\'s a reciprocal tax. Now, here\\'s what I don\\'t understand: I\\'ve had a lot of people -- Lindsey Graham. I said, Lindsey -- it\\'s not his thing necessarily. It\\'s not the thing that he\\'s most adept at. But he\\'s adept and he\\'s smart. I said, \"Lindsey, if they charge us a hundred, I\\'d like a reci-...\" If they charge us, we charge them. He goes, \"That makes sense to me.\" [Laughter] And then he gets on to judiciary and things that, frankly, he likes and finds very interesting. But he\\'s a smart guy, and he said -- I\\'ll never forget. It took me about a minute, which is a long time. I did a bad description. It\\'s so easy. They charge 100; we charge nothing. Now we have reciprocal, so it\\'s 100. But what happens now, for those that really think about tariffs and don\\'t like tariffs for whatever reason might be -- and that\\'s okay. What\\'s going to happen is, in many cases, instead of 100 and 100, you\\'re going to have zero and zero, so you won\\'t have any tariff. Okay? It\\'s going to happen. That\\'s going to happen. But you have to -- you have to start working on some of the senators that say \"I can\\'t approve this deal.\" I say, \"You know what? I want to just charge India\" -- as an example, I\\'m using it. But India is a very high-tariff nation. I mean, nobody -- nobody knows it because nobody knows what they\\'re doing in Washington. [Laughter] But India is a very, very high-tariff nation, and they charge tremendous -- tremendous numbers. So they charge 100. So I say, \"I\\'m not going to charge 100, but I\\'m going to charge 25 percent.\" And I hear this turmoil in the Senate because we\\'re charging 25. So I call a couple of the guys up. I say, \"Fellas, listen, they\\'re charging us 100 for the exact same product. I want to charge them 25.\" And I feel so foolish charging 25 because it should be 100. \"But I\\'m doing 25 only because of you. I want to get your support.\" \"Sir, that\\'s not free trade.\" Where do these people come from? [Laughter] Where do they come from? Where? Where do they come from? I need your help. I need your help -- the voters\\' help. Where do they come from? So it can only be one of two or three things. Number one, I know they\\'re very smart people. I know they are. And I even like some of them. [Laughter] But they\\'re smart. So we take that out of the equation. So even -- and I know they don\\'t have evil intentions. And the other thing could be, I guess, maybe -- you know, these companies are all owned by people, and these people are very generous. Campaign contributions -- they\\'re very, very generous people. Can that be possible? I don\\'t think so. I hope not. Because we\\'re talking about our country. We can\\'t allow a country to charge 100 percent and we get nothing for the same exact product. For one thing, they don\\'t respect us. They think we\\'re \"stupido.\" They don\\'t respect us. [Laughter] But let me tell you something: The world respects our country again. They respect us. And America is now booming like never before. Other countries are doing very poorly. Other countries are doing very poorly, and that makes it even harder for us to be successful. Plus, we have a gentleman that likes raising interest rates in the Fed. We have a gentleman that loves quantitative tightening in the Fed. We have a gentleman that likes a very strong dollar in the Fed. So with all of those things -- and we want a strong dollar, but let\\'s be reasonable. You understand that. With all of that, we\\'re doing great. Can you imagine if we left interest rates where they were? There\\'s no inflation, essentially. There\\'s no inflation. Can you imagine if we left interest rates where they were? If we didn\\'t do quantitative tightening, taking money out of the market? If we didn\\'t do quantitative -- and this would lead to a little bit lower dollar. A little bit. I want a strong dollar, but I want a dollar that\\'s going to be great for our country, not a dollar that\\'s so strong that it is prohibitive for us to be dealing with other nations and taking their business. Since the election, we\\'ve created a number that if I would have said during the campaign, the fake news just back there would have said this is crazy. 5.3 million new jobs, including over, now, 600,000 beautiful, brand-new manufacturing jobs that were never going to come back to our country. These are jobs that were never coming back to our country. Remember? Not to talk badly about the other administration, but if that theory went forward with Crooked Hillary winning the election, instead of being up almost 50 percent with the stock market, you would have been down 50 percent. It was heading down. It was going to be a disaster. We have nearly 5 million Americans that have been lifted off of food stamps. Nobody ever thought that was possible. The unemployment rate has reached the lowest in over 51 years. And African American -- and you\\'ve heard me say this many times -- Hispanic American, Asian American unemployment rates are at their all-time historic lows. And African American income has reached an all-time high. So when I\\'m on the debate stage with one of these maniacs -- [Laughter] -- I mean, trains to Hawaii. \"How do you get to Europe?\" \"We haven\\'t figured that one out yet. We don\\'t use airplanes anymore.\" [Laughter] You saw what I\\'m doing in California, right? They have a fast train. The fast train goes from San Francisco to Los Angeles. It\\'s over budget by hundreds of billions of dollars, so they have a great idea -- the new governor; nice guy. Yeah, he\\'s a nice guy. When I\\'m with him face to face, nice. When he speaks about me, not so nice. But face to face, he loves me. [Laughter] He called me up. He said, \"You\\'re a great President. You\\'re doing a great job.\" He actually did, two weeks ago, three weeks. So he\\'ll probably deny it, but check the phone records at the White House. Everybody else does. [Laughter] Check them. Check them. Check them. Called me up three or four weeks ago. I think they need some forest money, because honestly, the management of the forests is very bad and that\\'s one of the problems they have. I said, \"You got to get those forests.\" We can\\'t keep spending billions and billions and losing hundreds of lives, more importantly. Got to clean it up. It\\'s called management. When a tree falls, you can\\'t let the environmentalist say you can\\'t take that tree out. It becomes like a matchstick, that tree. It hits a flame, it goes up. The leaves -- every once in a while, you have to remove the leaves because they are so -- a guy smoking a cigarette, he throws it away, he doesn\\'t mean it. The thing catches on fire and we lose 400,000 acres and people are killed. You got to have management. But he called me up the other day, recently -- let\\'s say four weeks ago or so. He said, \"I just want to tell you you\\'re a great President and you\\'re one of the smartest people I\\'ve ever met.\" That\\'s what he said. Now, that\\'s what he said. Will he admit it? No, I doubt it. [Laughter] But that\\'s what he said. \"And you\\'re doing a great job.\" And then he did start talking about, in all fairness, additional money for the fire, which is -- [Laughter] -- it\\'s okay. That\\'s okay. We have great talks. I mean, I like him. Gavin Newsom. I like him. Nice guy. But they say things -- you know, politicians, they say things to your face, and then you see two days later they\\'re giving a news conference -- just like, where did that guy come from? Where did he come from? But everyone in this great country, right now, because of our great new economy, is doing well -- except, of course, for the Never Trumpers. But they are on mouth-to-mouth resuscitation. [Laughter] Mouth to mouth. Mouth to mouth. They\\'re hanging in. A couple of them. I mean, these guys have gotten me wrong. Not only Never Trumpers. You have Never Trumpers; you have certain hardline. They\\'re basically dishonest people -- because, look, let\\'s face it: Whether you like me or not -- if my name is Smith instead of Trump, and if you told him I put in over 100 federal judges -- it\\'ll soon be 145 federal judges and 2 Supreme Court judges. And 17 appellate division judges. That we\\'ve got the best economy maybe in our history. That we\\'ve got the best employment numbers and unemployment numbers in our history. That we\\'ve cut more regulations in two years than any President has ever done, whether it\\'s for eight or beyond. That we\\'ve taken care of our military with -- -- $1.7 billion. Think of that. Think of what we did. Think of what we did with our military. Think of the numbers that we have for our military. We have numbers -- nobody has ever heard of these numbers before. And you know, part of the problem that we have -- because I\\'m a cost cutter. But -- and you are all cost cutters. But we have to take care of our military. We have to. Seven hundred billions dollars we spent. And that was the first year. And then the second year, $716 billion. Now, I have no choice. I\\'d like to spend much less. Obama was spending much less but our military was being depleted. He was fighting in endless wars; they\\'d never end. And, by the way, as of probably today or tomorrow, we will actually have 100 percent of the caliphate in Syria. One hundred percent. One hundred percent. And we\\'ll leave a small group of guys and gals. But we want to bring our people back home. We want to bring our people back home. It\\'s time. Been in these wars. We were going to be in Syria for four months. We ended up five years. This fighting -- they just like to fight. We want to fix our country. We want to fix our bridges, our highways, our roads, our schools. We want to fix our country up. It\\'s time. It\\'s time. But I was told by a general, who I had to fire -- I said, \"General, how long before we get 100 percent of the caliphate?\" He said, \"Sir, two years.\" I said, \"I can\\'t take it two years.\" And then I flew to Iraq; first time I left the White House -- because I stayed in the White House for months and months because I wanted the Democrats to get back from their vacations from Hawaii and these other places. [Laughter] And I figured it would look good if I stayed in the White House so that you people all love me and vote for me, okay? I figured it would look good. [Laughter] I figured it would look good. So I stayed in the White House. And I\\'ll tell you what: I was there -- I told my wife, \"Go to Florida. Enjoy your Christmas.\" I stayed for Thanksgiving. I said -- I mean, I was in the White House for a long time. Months. Months. I had cabin fever in the White House. [Laughter] But if you\\'ve got to have cabin fever, that\\'s the place to do it, okay? [Laughter] But I was there, I don\\'t know, for a number of months, through Christmas. I spent my New Year\\'s all by myself. [Laughter, Audience calls out Awww] Don\\'t cry. All -- it was me and about 500 men and women outside with machine guns. [Laughter] I never saw so many beautiful-looking machine guns. I\\'d look at that equipment and I\\'d say, \"Man...\" They sit in the trees. They sit on the lawn. I told people, \"I\\'m in this mess\" -- you know, people don\\'t know how big the White House. First of all, it\\'s one of the most beautiful places in the world. It\\'s really -- I made a lot of money with luxury. This building is -- 1799 -- which, of course, when President Xi comes, I say \"1799,\" like it\\'s old. To him, that\\'s like a brand-new house in China. [Laughter] In China, they go back -- they go back 8,000 years. So that\\'s -- that\\'s like a new -- that\\'s like a new residence. But I sat in the White House for months and months, except I took a day off. I flew to a lovely place called Iraq, and I flew at night and I got there at night. And I said to myself, this is interesting, because they say, \"Sir, all of the lights in the plane, sir, are going off.\" I say, \"Why?\" [Laughter] \"Because we\\'re getting ready to land.\" We\\'re an hour out. I said, \"What about the shades?\" \"Well, we want it better than that. May be like [Inaudible]. So we turned the lights off, put the shades down. This is a big seven forty -- Air Force One. And we\\'re landing, and I go up and I look. And I\\'ve landed; I like to sit with pilots. I respect people that know what they\\'re doing, and these are the best in the world. I really do. These are the best in the world. And the pilot says, \"Sir, we\\'re landing in approximately one and a half minutes.\" I say, \"But there\\'s no runway.\" \"No, sir, the runway is right up there, sir.\" I say, \"I don\\'t see it.\" I have pretty good vision. [Laughter] At least for my age I have good vision. [Laughter] I guess for my age I have great vision. But I don’t have vision like a 35-year-old captain. He said, \"No, it\\'s right up there.\" I said, \"I\\'m sorry, Captain, how about this: Should we lift off and try it again? Captain, there\\'s no runway.\" Anyway -- he sits right up there and we land. There\\'s practically not lights. These are little pin spots. And I said, think of this: We spent $7 trillion in the Middle East and we can\\'t land with the lights on -- [Laughter] -- 20 years later. How bad is it? No, seriously, how bad is it? How bad is it? Seven trillion dollars and we have to fly in with no lights. But I met some incredible people. I met some incredible people -- generals. One of them came from Syria -- the operation in Syria. And I was upset with my generals because they weren\\'t getting it finished. I want the job done. I want to bring our people back home. It\\'s not fair. And this is why I flew. So I met generals I didn\\'t know. General one, general two, general three. I mean, these generals -- there\\'s no person in Hollywood that could play the role. These guys are like perfect people. I said, \"What\\'s your name? \"Sir, my name is Raisin.\" What the hell kind of a name? [Laughter] I said, \"Raisin, like the fruit?\" He goes, \"Yes, sir, Raisin.\" \"What\\'s your last name?\" \"Caine. Raisin Caine.\" [Laughter] I said, \"You got to be kidding me.\" It\\'s true. Raisin Caine. I just made him a big star. [Laughter] Just like I did with Mattis when I said, \"We\\'re going to give you a new nickname, because \\'Chaos\\' is not a good nickname.\" So we changed his name. Called him \"Mad Dog.\" But it wasn’t working too well. Mad Dog wasn\\'t working too well. So what happened is I flew to Iraq. I wanted to meet the people on the site, because I learn more sometimes from soldiers, what\\'s going on, than I do from generals. I do. I hate to say it. And I tell that to the generals all the time. But I didn\\'t have to go there. I didn\\'t have to go there. Because I meet -- and I land in this airport, the most incredible thing. We must have spent $3 billion building it. It\\'s one of the reasons I don\\'t want to leave Iraq so fast. I said, \"Well, how do we leave this thing?\" So I have Raisin Caine and three other generals, colonels, sergeants. And I said, \"Bring the cameras. I\\'m going to make a movie. This is the most incredible thing.\" [Laughter] And I said to the generals, \"Listen, we got to get out. I want to know why is it going to take two years to knock off 2 or 3 or 4 percent, which is what we had left.\" \"It won\\'t, sir.\" And I said, \"Tell me why it won\\'t.\" \"It won\\'t, sir. If we attack them in a different manner, we can do it much faster.\" \"Okay, General Raisin Caine, how fast can\" -- \"Sir, we can have it totally finished in one week.\" I said, \"One week? I was told two years.\" [Laughter] One week? \"That\\'s right, sir. We\\'re only hitting them from a temporary base in Syria. But if you gave us permission, we could hit them from the back, from the side, from all over -- from the base that you\\'re right on, right now, sir. They won\\'t know what the hell hit them.\" \"They won\\'t know what the hell hit them, sir.\" And I said, \"Why didn\\'t my other generals tell me that? Why didn\\'t they tell me that?\" I said, \"Did you tell them that?\" \"Not our place to say it, sir. They come in from Washington, sir. We have to take orders. You\\'re the first one to ask us our opinion.\" It\\'s true. It\\'s true. True. True. So I went back and I said, \"I\\'m going to get back to you soon, Raisin. I think you\\'re great.\" [Laughter] \"I like you, Raisin Caine.\" But I did say -- I said, \"Well, hey, listen, we\\'re in Iraq. Isn\\'t that very far away from...\" \"I was here in a very short time, sir. I flew right in.\" Of course, he\\'s taking a plane that goes 2,000 miles an hour, you know. But incredible. What you learn from being on the site -- my father was a builder. He always used to say, \"Nobody ever got rich by sitting behind their desk.\" It\\'s true. It\\'s true. He\\'d say, \"You got to be on this site. You got to be with the contractors. You got to see if they\\'re ripping you off. You\\'ve got to collect every nail that\\'s dropped, every piece of wood. You can sell it. You got to be on the site. You got to see while they\\'re building, while they\\'re under construction, is that wall straight or if it\\'s crooked. And you have to fix it before they build it, not after they build it, when you rip everything down.\" True. You don’t get rich by sitting behind a desk. So I didn\\'t want to do that. And I\\'m in the White House and I was lonely. I said, \"Let\\'s go to Iraq.\" [Laughter] And I had a hell of a meeting in Iraq. And I\\'ll tell you, those generals -- not just Raisin Caine, General Caine. Those generals were great. They were great. They knew their stuff. They were gung-ho. And it is true -- I mean, you talk central casting. These guys -- you couldn’t -- I mean, it\\'s incredible. They had a master sergeant. I could take him right now, bring him to Hollywood, make a military movie, and he\\'s the star of the movie. That happened once before, you know. That did happen once before. Remember? They brought a man in -- a sergeant, a drill sergeant -- to teach some actor how to be a drill sergeant. The drill sergeant was so incredible that he ended up starring in the movie, and he should have gotten the Academy Award, by the way, but he didn\\'t. That\\'s because Hollywood discriminates against our people. You know the movie I\\'m talking about, right? What was that movie? You know the movie. But while we\\'re making great strides, and our country is doing as well -- and maybe, in many ways, better than it\\'s ever done before -- Democrat lawmakers are now embracing socialism. They want to replace individual rights with total government domination. [Audience Boos] Just this week, more than 100 Democrats in Congress signed up for a socialist takeover of American healthcare. Their radical government-run plan -- if you call it that -- would lead to colossal tax increases -- increases like you\\'ve never seen before -- and take away private coverage from over 180 million Americans. [Audience calls out No] And we have some great private coverage, and we\\'ve initiated some incredible plans, like the new cooperative plan, where you get better insurance than Obamacare for a fraction of the cost. But perhaps nothing is more extreme than the Democrats\\' plan to completely takeover American energy and completely destroy America\\'s economy through their new $100 trillion Green New Deal. [Audience Boos] Under the Green New Deal -- which somebody described as a high school term paper written by a poor student -- [Laughter] -- it\\'s true. It\\'s true. Who would believe it? It so -- it\\'s so bad. But I don\\'t -- I\\'ll be honest with you, folks. I said -- you know, it\\'s Saturday morning, and I said, \"Matt, should we do a little more, like, spend time?\" He said, \"Yeah, would you do that?\" By the way, everybody okay? I haven\\'t seen anybody leaving. I haven\\'t seen anybody. I know one thing: If Mark Levin gets up and leaves, I\\'ll finish very quickly, because then I know. [Laughter] But I haven\\'t seen anyone leaving. Nobody has left. I watch those doors. Because a lot of times -- a lot of times -- well, one time, the press said people left. Yeah, you know where they went? To the bathroom. And then they came back. [Laughter] Two people. They showed two empty seats in a stadium of 19,000. They showed two empty seats. The people left right in front of me, and I said, \"Oh, man, maybe this isn\\'t a good job I\\'m doing.\" Then they came back. They went to the bathroom. [Laughter] And a certain fake news deal showed a picture on the front page of these two empty seats. They said Trump had empty seats. We never have empty seats. The Green New Deal would completely abolish the American oil, natural gas, coal, and nuclear power industries, of which we\\'re now the leader in the world. We\\'re the biggest now in the world because of moves that I\\'ve made. Happened over the last two years, by the way. And we\\'re trying to speed up pipelines in Texas, which would have taken 15 years. We think we\\'re almost very close to getting them approved. When that happens, we\\'ll go probably another 30 to 40 percent. We need pipeline approval. We\\'re going to have it very quickly. It would have taken -- it was going to be a 14- to 15-year process. We should have it done. We\\'ll pick up 30 to 40 percent more. Their plan would remove every gas-powered car from American roads. Oh, that\\'s not so bad. They want you to have one car instead of two, and it should be electric, okay? So tell people, no more cars. No more cars. I think the auto industry is not going to do too well under this plan. What do you think, Meadows? How is this? Will the auto industry be good? I don’t think so. It\\'s not looking good. I think maybe -- maybe you\\'re going to see some bad stock prices if that passes. It would end air travel. But you\\'ll get on a train, don\\'t worry about it. You just have to cross off about 95 percent of the world. And it would force the destruction or renovation of virtually every existing structure in the United States. New York City would have to rip down buildings and rebuild them again. I don\\'t think so. This is the craziest plan, and yet I see senators that are there for 20 years -- white hair. See, I don\\'t have white hair. [Laughter] I don’t have white hair. No, I see these white-haired, longtime senators standing behind this young woman, and she\\'s ranting and raving like a lunatic. [Laughter] And these senators -- these senators: \"Yes, I agree with this. Yes, I agree.\" The crazy female senator from the state of Ohio, the state of Hawaii. Right? She\\'s like -- she\\'s like a crazed person. What she said about men is so bad. What she said about men is so bad. But she\\'s standing in the hallway. And she didn\\'t know too much about the plan because she\\'s -- you know, she can\\'t understand that plan. [Laughter] Which probably makes her smart, actually. Now, this is the senator from Hawaii, and they\\'re saying to her, \"What do you think? Well, I don\\'t know how people are going to get to Hawaii, but I\\'m in favor of the plan.\" [Laughter] I don\\'t get it. I don\\'t get it. I don\\'t get it. So she\\'s in favor of the plan, but you won\\'t be able to get to -- well, we can take boats, I guess. We\\'ll go back to boats. This is the new Democrat platform for the -- and I don\\'t want to talk them out of it. I don\\'t. I don\\'t. I swear I don\\'t. This is a killer. I got to get off this subject. I want them to embrace this plan. I want them to go and sell this plan. I just want to be the Republican that runs against them for that. I\\'m going to regret this speech. This speech should have been delivered one year from now, not now, damn it. [Laughter] Because they\\'re going to grab out together, and they\\'re going to say, \"You know, this guy is really laying for us.\" I should\\'ve saved the Pocahontas thing for another year. [Laughter] Because I\\'ve destroyed her political career, and now I won\\'t get a chance to run against her, and I would’ve loved it. [Laughter] We got to -- you know, I don\\'t want to knock out all of the good stuff and end up with somebody that\\'s actually got talent. That would be terrible. [Laughter] So I do like the Green New Deal. [Laughter] I respect it greatly. It should be part of the dialogue of the next election. [Laughter] And I think it has tremendous promise and tremendous potential for the future of our country. Socialism is not about the environment. It\\'s not about justice. It\\'s not about virtue. Socialism is about only one thing. It\\'s called \"power for the ruling class.\" That\\'s what it is. Look at what\\'s happening in Venezuela and so many other places. All of us are here today because we know that the future does not belong to those who believe in socialism. And I heard, yesterday, a great speech from our Vice President Mike Pence, talking about this very subject -- -- and talking about it beautifully. The future belongs to those who believe in freedom. I have said it before and I\\'ll say it again: America will never be a socialist country -- ever. [Audience Chants USA] Young Americans -- I love young Americans. Speaking of young Americans -- Candace, stand up. Candace is getting married. Stand up. You\\'ve been incredible. Thank you. Your whole group has been great. You\\'re getting married. Seems like a nice guy to me. [Laughter] Congratulations. You\\'ve been so great. Thank you very much, Candace. Thanks. And, Charlie, what a job you\\'re doing. Where\\'s Charlie? Where\\'s Charlie? Where is Charlie Kirk? Because he has done an incredible job. Thank you very much, Charlie. But young Americans like you are leading the revival of American liberty, sovereignty, and self-determination in the face of left-wing intolerance. The anger -- the unbelievable anger -- I see it every day. Fortunately, for you, it\\'s mostly pointed at me. [Laughter] You have the courage to speak the truth, to do what is right, and to fight for what you believe, and keep doing it. We reject oppressive speech codes, censorship, political correctness, and every other attempt by the hard left to stop people from challenging ridiculous and dangerous ideas. These ideas are dangerous. Instead, we believe in free speech, including online and including on campus. And, by the way, there\\'s a young gentleman with us today. There\\'s a young gentleman. I turned on my television the other day, and I saw somebody that was violently punched in the face. Violently punched. And I said that\\'s disgusting. By a bully I\\'d like to do a lot of things. But, of course, we would never do that. Because if I ever said violence, they would say, \"Donald Trump attacked.\" No, no, no. Just for the media: I\\'m sure he\\'s a lovely young man; just had a little temper tantrum. [Laughter] I\\'ve been there before with those people. I don’t want to do it again. So, the man\\'s name is Hayden Williams. Where\\'s Hayden? Where is he? Where is he? Hayden, come up here. Come up here. Thank you. Thank you. So, at the Leadership Institute, we\\'re committed to making campuses great again. And I thank you so much for bringing me up here to let me speak. It\\'s great -- it\\'s great that I\\'m being recognized, and -- but there\\'s so many conservative students across the country who are facing discrimination, harassment, and worse, if they dare to speak up on campus. So I\\'m glad that we could -- we could, you know, bring this to the forefront. And I\\'d just like to say, you know, if these socialist progressives had their way, they would put our Constitution through the paper shredder in a heartbeat. So, you know, it\\'s as important now than ever the work at Leadership Institute and Campus Reform -- you know, exposing these liberal abuses to the public -- -- it\\'s as important now as ever. And these students -- these students do it because they have a love of our nation and freedom, and frankly, a love for you, Mr. President. So if you keep defending us, we\\'ll keep defending you. Thank you. Thank you. Stay here for a second. So, here\\'s the one thing. I was going to call him, but I don\\'t have to now. I see him here. But here\\'s the one thing: I learned a number of things. First of all, he can take a punch. If Muhammad Ali could take a punch, he can take a punch. [Laughter] Because you weren’t going to go down no matter how -- that was a hell of a hard punch. He was a strong guy. But you know what? You\\'ve got yourself a great lawyer. I know your lawyer. She is a great lawyer. Just tell her to do me a favor: Sue him. But he\\'s probably got nothing, but sue him forever. But sue the college, the university. And maybe sue the state. Ladies and gentlemen, he took a hard punch in the face for all of us. Remember that. He took a punch for all of us. And we can never allow that to happen. And here is, in closing with Hayden -- here\\'s the good news: He is going to be a very wealthy young man. That\\'s okay. [Laughter] Go get \\'em, Hayden. Today I\\'m proud to announce that I will be very soon signing an executive order requiring colleges and universities to support free speech -- -- if they want federal research dollars. [Audience Chants USA] If they want our dollars, and we give it to them by the billions, they\\'ve got to allow people like Hayden and many other great young people, and old people, to speak. Free speech. And if they don\\'t, it will be very costly. That\\'ll be signed very soon. Every day, we\\'re restoring common sense and the timeless values that unite us all. We believe in the Constitution and the rule of law. We believe in the First Amendment right. And we believe in religious liberty. And we believe strongly in the Second Amendment and the right to keep and bear arms -- -- which is under siege, folks. They have a lot of plans. It\\'s under siege. Be careful. But I\\'ll protect you, I promise you that. I\\'ll protect you. Because it all has to come through my office. And we hopefully are going to be here for six more years, so you\\'re in good shape. We believe in the American Dream, not in the socialist nightmare. And we believe in the words of our national motto: In God We Trust. Every day, my presidency will defend American families. We will defend America\\'s workers -- our great, great cherished workers -- that now we\\'re taking care of. They\\'re not losing their jobs. We\\'re creating those jobs. We\\'re not letting those companies destroy their lives anymore. We will defend the American way of life, and we will always defend America\\'s borders. Because without borders, as I\\'ve said many times before, we don\\'t have a country. The lawless chaos on our southern border provides a lucrative cash flow to some of the most dangerous criminal organizations on the planet. Deadly cartels constantly -- daily, hourly -- violate our borders to flood our cities with drugs that kill thousands and thousands of our citizens violently. What are these people talking about when they talk about the border? \"Keep it open.\" Keep what open? Have you been there? Have you seen? I just got back. I\\'ve been there many times. I see what\\'s happening. I don\\'t like it. But I have to tell you, our Border Patrol, our ICE agents, our law enforcement, the job they do -- -- and they don\\'t have the backup of a wall, in many cases -- the job they do is incredible. These ruthless cartels terrorize innocent communities on both sides of the border and spread instability throughout our hemisphere. When I was there two weeks ago, 26 people were killed very close to where I was, on the Rio Grande. Sounds nice, right? The Rio Grande. Rough. Rough stuff. Twenty-six people were killed, and they were buried right near where I was standing. And the paper doesn\\'t write about it. The news doesn\\'t write about it. In the last two years alone, ICE officers made 266,000 arrests. Think of what that means. Think of that -- arrests. I\\'m not talking about people coming in. I\\'m talking they went out and arrested 266,000 people who have criminal records and, in some cases, for murder. Who the hell wants to do that? Thank God they\\'re doing it because I don\\'t want to do it. It\\'s dangerous. It\\'s hard. But they love our country, and they\\'re tough people, but they love our country. Including those charged or convicted of approximately 100,000 assaults, 30,000 sex crimes, 25,000 burglaries, 4,000 kidnappings, and 4,000 violent murders. These are people that ICE is going in and getting, and either putting in jail or ideally bringing them back to other countries and letting them put in jail, because we don’t want them. We don\\'t want to have to pay for them for 50 years. You want them to pay a price, but we don\\'t want to have to pay for them for 50 years. And all the nonsense you hear about \"the people that come in illegally are far better than the people we have\" -- it\\'s not true, folks. Okay? It\\'s false. It\\'s false propaganda. Right? One recent study from FAIR -- F-A-I-R -- found that illegal aliens are incarcerated at three times the rate of legal residents. Those are the numbers. And if you look at prison population in federal prisons, these federal prisons are -- the number is staggering. The number of illegals -- far, far, far greater than any proportion of our population. But you don\\'t hear that; you hear like these people are the greatest people in the world. Just ask the Angel Moms how good are there. Those great Angel Moms who were treated so badly -- so badly. Incredible people. But the simple reality is that every crime committed by an illegal immigrant is a crime that should never have happened in the first place. The border crisis is also a heartbreaking humanitarian tragedy. Vicious coyotes, smugglers, and human traffickers prey upon innocent women and children. One in three women is sexually assaulted on the dangerous journey north. When I ran for president, my first speech, I mentioned the word \"rape.\" The press went after me; I couldn\\'t believe it. I said, \"Will it be like this always?\" The answer was yes. It even got worse. From day one, I mention the word \"rape.\" If you look at that speech, that was so innocent compared to what\\'s really happening. That was a very innocent speech compared to the real facts. Illegal immigration is not compassionate. It\\'s inhumane, unjust, and cruel. The media fights me on this, but I say it: Mothers who love their daughters, when their daughters are getting ready to make that 2,000-mile trek up through Mexico -- and frankly, I wish Mexico would stop them at their northern border, at our -- -- I wish Mexico would stop them. Because you know, they have a border. They call it their southern border. It\\'s 2,000 miles down from our southern border. I wish Mexico would stop them. But they have their own difficulties. Frankly, I understand that. We\\'re working along well with them. And they are doing a lot of things to help us with asylum and other elements of what we\\'re doing. But mothers, who love their daughters, give them massive amounts of birth control pills because they know their daughters are going to be raped on the way up to our southern border. Think of that. True story, told to me by the Border Patrol. So true and so sad. Think of how evil that is. Think of how bad it is. Those caravans -- you look at those caravans, and some are phenomenal people. But in those caravans you have stone-cold killers. You had the interview done by some innocent person who I think is actually back there now. \"And what is it that you want asylum for? Why are you coming to America?\" \"Uh, murder.\" She goes, \"What?\" \"Murder.\" I mean, what\\'s going on is incredible. And when those caravans are formed, do you think those countries that we used to give a lot of money to -- I\\'ve cut it way back. I\\'ve cut it way back. Guatemala, Honduras, El Salvador. Do you think they\\'re giving us, as we say, their best and their finest? \"Oh, let\\'s send our best people up to America. Let\\'s have our best people go in the caravan so we can give America our greatest people.\" No, no, no, no. They give us some very bad people. People with big, long crime records. People with tremendous violence in their past. Murderers, killers, drug dealers, human traffickers. They want to keep their good people because they\\'re smart. It\\'s so sad to see how stupid we\\'ve been. Border Patrol recently reported apprehending 7,000 unlawful migrants in a single week on just one part of the Texas border, a couple of weeks ago. Our immigration system is stretched far beyond the breaking point. To confront this national security crisis, last month I declared a national emergency. A national emergency. And when I see these people -- and they\\'re good people -- some senators, mostly -- I tell you, the House has been fantastic. The House -- you know, backing we\\'ve had from the House has really been -- I\\'m talking about in the last short period of time. There\\'s a lot of spirit in the House, and I think in the Senate too, but we\\'re going to have to see because we have a vote coming up. And a lot of people talk about precedent. Precedent. That if we do this, the Democrats will use national emergency powers for something that we don\\'t want. They\\'re going to do that anyway, folks. The best way to stop that is to make sure that I win the election. That\\'s the best way to stop that. They\\'re going to do it anyway. They\\'ll do it anyway. I watch -- good people, they\\'re friends of mine, \"We\\'re very concerned with setting precedent.\" That\\'s \"precedent\" not \"president.\" [Laughter] Precedent. \"We\\'re very concerned about setting precedent.\" I\\'m very concerned with having murderers and drug traffickers, and drugs and drug cartels, pouring into our country. That\\'s what I\\'m concerned about. And the Democrats, they\\'re going to do whatever they do if they get into power, and it won\\'t have a damn thing to do with whether or not we approve our national emergency. Because let me tell you -- they don\\'t like it when I say it -- but we are being invaded. We\\'re being invaded by drugs, by people, by criminals. And we have to stop it. And we want people to come in, as I said before, but they have to come in legally and with merit. Previous presidents have used their national emergency power to promote democratic elections in Belarus, to ensure political stability in Burundi, and to defend the sovereignty of Lebanon. And you know what? That\\'s okay. In Lebanon -- it\\'s good. Fine. Use it. But we need it right here in our country. We have to use it for our country. Many emergency declarations have been used to protect people in faraway nations and distant lands. Now we are protecting, finally, our people. You. Our people. And we are proudly standing with the heroes of ICE and Border Patrol and law enforcement. Illegal immigration is also deeply unfair to American workers and taxpayers, including millions and millions of hardworking legal immigrants. If you care about helping immigrants and care about their success, if you care about reducing poverty and raising living standards, then you must support a safe, strong, and very, very secure border. We need an immigration policy that helps all Americans thrive, flourish, prosper. We need an immigration policy that\\'s going to be great for our corporations and our great companies. We need an immigration policy where people coming into our country can love our country and love our fellow citizens. And this includes shutting down sanctuary cities. And we want to end catch-and-release. We catch them, we realize they\\'re a criminal, and we have to release them. Think of this: They come onto our land, they put one foot on our land. We now have to take them through a massive court trial. Who does this? Other countries say, \"Get the hell out of here.\" We have to take them through court. So we catch them. We talk to them. If they\\'re criminals, or if they\\'re not, we release them. We say, \"Come back for a hearing in front of a judge.\" You know how many judges you need to do this? We have 900,000 people backlogged. That\\'s the good news. The bad news? Nobody shows up. Three percent of the people come back for a trial. It\\'s insane. Not my fault I inherited this mess, but we\\'re fixing it. We have to end chain migration, and we have to cancel the visa lottery. Every American, no matter where they\\'re born, will benefit from the creation of a lawful immigration system. It is such -- you talk about an emergency. Our immigration system is so broken, folks. It\\'s so broken. It\\'s so sad to see. It\\'s incompetent. It\\'s laughed at all over the world. We have people pouring in from not just the southern border in Mexico. From China. They have a baby on our land. The baby becomes a citizen. \"Welcome to the United States\" for hopefully 90 years. Okay? And then the parents come in with the baby because the baby is a citizen. This is like crazy. They used to call it \"anchor babies\" but they don\\'t use that term anymore because it doesn\\'t sound nice. Our laws are so crazy. But one by one, we\\'re finding ways. You know, they call them loopholes. A lot of our laws -- loopholes. Well, I\\'m finding loopholes to get around the loophole. Okay? [Laughter] Because our Congress can\\'t act. They can\\'t act. They just can\\'t act. The Democrats in Congress don\\'t want to touch any of it. Visa lottery -- that\\'s where they put in the names; they put it in a lottery, and you pick, \"Oh, here\\'s a wonderful person. Wonderful.\" You know, he killed four people. Here\\'s -- here\\'s another wonderful. [Laughter] And then they get in and we say, \"Gee, that person just came into our country. He just robbed a store and killed somebody.\" How is that possible? Because they send us the people they don\\'t want. The biggest form of subsidy we give to other nations. Immigration systems that prioritize the admission of those who can support themselves financially and contribute. We want people that can help themselves, that can support themselves. We have people coming in. We support them from the day they come in until the day they die. We can\\'t do that as a country. We can\\'t afford to do that as a country. Sadly, on immigration and so many other issues, Democrat lawmakers have totally abandoned the American mainstream. But that\\'s going to be good for us in 2020. They\\'re embracing open borders, socialism, and extreme late-term abortion. [Audience Boos] Weeks ago, lawmakers in New York cheered as they passed legislation to allow babies to be ripped from the womb of their mother right up to the very moment of death. Then, in an act and a statement, the likes of which I don\\'t think I\\'ve ever heard, in Virginia, the governor -- a Democrat -- stated that he would allow babies to be born, to be born outside. He would wrap them. He would take care of them. And then he\\'ll talk to the mother and the father as to what to be done. And if they didn\\'t want the child, who is now outside of the womb -- long outside of the womb -- they will execute the baby after birth. [Audience Boos] They will execute the baby after birth. And that\\'s one many people have never even heard of or thought about. This is a radical agenda by the Democrats. And when you put something up, as was just put up before the Senate, everybody on the Democrat side votes for it. By the way, I have to say one thing: They\\'re lousy politicians and they have lousy policy. They have policy I could never sell if I wanted to. But -- but -- big but -- they always stick together. And the Republicans don\\'t remember that. Remember that. They always stick together. They vote in blocs. They have 47. We had a tremendous victory. We were given no credit. I can\\'t go and campaign for all of the people in the House. Too many. And guys like Meadows wins by so many points he doesn\\'t need any help. He doesn\\'t need it. I say, \"Mark, do you need any help?\" \"No, I\\'m okay.\" [Laughter] He\\'ll win by 30, 35. They\\'re okay. These guys -- you know a funny thing? The ones that love Trump, the ones that are really the Trumpers -- like Meadows, Jordan, Gates, so many of them. I don’t want to -- I could just name so many. They\\'re the ones that win with that. I mean, it\\'s like they don\\'t even have an election. It\\'s the ones that sort of -- they\\'re a little shy about embracing what we\\'re all about, they get clobbered. They get clobbered. Take a look. Those are the ones that get clobbered. But the good news is they\\'re all starting to find that out. Just this week, Senate Democrats opposed legislation to prevent the killing of newborn infant children who survive abortions. Virtually every Democrat voted against protecting these precious babies. Every one. They vote in groups. And we did have that great victory. We won for 51. And two that we didn\\'t like got out. They said they retired. They didn\\'t retire. They were retired. They said, \"These two senators have decided to retire.\" No, no, no. They retired because they had like very little support. Like how about 5 percent? Any percent. No, we did great. We had 53 we picked up in the Senate. They were going to win the Senate, remember? And I\\'ll tell you, folks, I worked hard. I did 32 big, fat rallies. And those rallies brought us to a tremendous Senate victory so that we can continue onward with our judges and our approvals. And the fake news back there, they love to say \"Donald Trump suffered a big defeat.\" First of all, we won the Senate, which, frankly, judges -- you know, I hate to say it: In all due respect for us, the Senate, far more important. I really worked hard. But think of it. We won the Senate and we had this, like, tremendous victory. We get no credit at all. Wait until you see what happens. They say, \"Donald Trump suffered a humiliating defeat.\" I said, \"I wasn\\'t running.\" [Laughter] And one of the commentators -- and I appreciate it -- one of the shows where they were saying how I suffered a defeat, this commentator said, \"Excuse me, he didn\\'t run.\" You know, not all our candidates were exactly great. Let\\'s face it. You know, you can only do so much. But wait until you see what\\'s happening when I do run. And what they don\\'t say is -- governor of Ohio, great guy. Mike. Mike. Mike was down six. He won by seven with one day. Right? He was down by six. One day into the election, I went out, I campaigned, worked hard, made a speech. Jim Jordan was there. Everybody was there. It was a fantastic crowd like this. Like this. And all the people in the other ballrooms that are waiting for us. And he ended up winning. He was down by six; he won by seven. One day. Then we have Georgia -- the governor of Georgia. Great guy. Where\\'s Georgia? Great guy. He was losing in the primary by 10. I got a call from David Perdue and Sonny Perdue -- two great guys. \"Could you endorse him?\" I said, \"Let me check.\" And I checked him. He was a Trumper before Trump was a Trumper. [Laughter] And I said, \"I love this guy.\" He\\'s down by 10. He won by 40. Can you believe that? I endorsed him, Mark. He won by 40. Then he had a tough race against the new star of the Democrat Party -- not Democratic. It\\'s Democrat. We have to do that. You know, it sounds prettier when we use \"Democratic.\" I even like -- I hate to say in the speech, the \"Democrat Party\" because it doesn\\'t sound good. But that\\'s all the more reason I use it, because it doesn\\'t. [Laughter] They should change it because it sounds much better. Rhetorically, it\\'s much better. Much better. But then, he had an election against their star who followed me after the State of the Union Address. I didn\\'t think she was great. But she\\'s their star. And who showed up? Oprah Winfrey, Michelle Obama, and President Obama. [Audience Boos] And they campaigned for her, and they worked so hard. And all our man had was Trump. [Laughter] And we kicked their ass. True. We had a rally at the airport, where 55,000 people showed up to the airport. It was one hangar. They had three other hangars that were full. They went so far back. The problem was they gave the press, like these guys -- they gave the press too good a location because the people behind them couldn\\'t see properly. I was so angry. But we had 55,000 people show up. I said, \"You\\'re going to win the election.\" He won the election. He won it fairly easily, against their star. And now David Perdue is going to win for senator in 2020. And then -- and then we had Florida, and many others. And we have a candidate, Ron DeSantis -- -- a friend. A friend of many of us in this room. But nobody knew he was running. He was running against, in the primary, somebody that was easily going to win. He was scheduled to be the next governor of Florida. But Ron has been great to me on the witch hunt. He\\'s been a defender of me against these phony charges of Russia. Russia, Russia, Russia, Russia. My wife said, \"You never spoke to anybody from Russia, darling.\" I said, \"That\\'s right.\" [Laughter] But Ron DeSantis -- I like people that defend me. You know, when people defend me, I defend them. So he came. That\\'s why I like Mark. That\\'s why I like Mark Levin. And I\\'m not sure a lot of people like him. He\\'s tough as hell. But I like him. I love him. But then we have Florida. So, Ron DeSantis is at three. Three. He calls up, \"Sir, can I have your endorsement?\" I said, \"Ron, you\\'re at three. Your opponent is, I guess, agriculture commissioner -- has 22 million in the bank. His poll numbers are very good. He\\'s up in the 20s or 30s.\" I said, \"Ron, don\\'t make me do this, Ron.\" [Laughter] \"Sir, I can win.\" \"All right, Ron. Here we go.\" Because I know if he loses -- which almost never happens when I endorse somebody. Almost never. Only one time, and that was because it was done in the middle of the day of the election. Nobody knew I did it. They got home, they said, \"I didn\\'t know Trump endorsed him.\" But we rarely, rarely lose. But I said, \"Ron, don\\'t do it.\" I said, \"All right, I\\'ll do it.\" He went from 3 to 60. To 60. And then he ran against a guy who had unbelievable support. He had every celebrity go into Florida. He had money all over the place. And Ron was in there pitching, and I was in there pitching with him. And we now have a great governor in the state of Florida. And I could mention many others -- other governors, many other states. But I\\'m not going to bore you with it. And I think -- I really think that it\\'s incredible what we did in the midterms. I think it\\'s incredible. Governor of Florida. Governor of Ohio. Remember, \"You can\\'t win unless you win the state of Ohio.\" We got the governor of Ohio, and he\\'s great. Mike. We love you, Mike. As we defend American values at home, we are also defending. American security abroad. We have secured all sorts of funding, all sorts of record everything. And we will never forget our military. We will never forget our veterans. We are taking care of our veterans like they\\'ve never been taken care of before. We just got them Choice, so now they can go see a doctor. Now they can go and see a doctor instead of waiting on line for weeks and weeks and weeks. And we got them Accountability. You couldn\\'t fire anybody in the VA. You had sadists. You had people that took advantage of our veterans. They\\'ve hit them. They were sadists. They were sick people. You couldn’t fire them. You had thieves that were stealing -- openly stealing. You couldn\\'t fire them. I got a bill passed: VA Accountability. Now you look at the guy, you say, \"Get the hell out of here. You\\'re fired. Get out.\" Nobody thought we could get it. For 40 years they tried to get it. For 40 years they tried to get it; they couldn\\'t get it. And VA Choice, they thought -- for many, many decades they\\'d been trying to get VA Choice. You couldn’t get it. Now, instead of waiting on line for two days, nine days, three weeks -- people were dying. People that weren\\'t very sick would be dead by the time they saw a doctor, six weeks later. Now these great veterans, if there\\'s a big wait, they go outside, they go to a local doctor. We pay the bills. They get better. Everybody is happy. And we actually save a lot of money, if you can believe it. And I got that approved after 44 years of being unable to get it approved -- for our veterans. We love our veterans. And just in finishing up, as you know, I just returned from Vietnam, where I had very productive meetings with Chairman Kim Jong Un. Very productive. We get along. We\\'ve developed a good relationship -- very good -- and made great historic progress. And I do get a kick out of all these people in previous administrations: \"Donald Trump should not, under any circumstances, be doing this or that.\" You know, they\\'re telling me how to negotiate. These guys died. One administration gave billions of dollars to him and got nothing. And we haven\\'t given him anything yet. I look forward to maybe doing something at some point. But I know one thing: I\\'m going to get other countries to give. Maybe not us, but I\\'m going to get other countries to give, and if it all works out. If it all works out. But I had to walk. Because every once in a while, you have to walk, because the deal wasn\\'t a deal that was acceptable to me. I don\\'t like these deals that politicians make. They make a deal just for the sake of doing it. I don\\'t want to do that. I want to make a deal that either works, or let\\'s not make it. But the one thing we have, though, is we have no testing, no missiles going up, no rockets going up. No nuclear testing. We got our great people back. We get our great, great people. And that includes our beautiful, beautiful Otto -- Otto Warmbier -- whose parents I\\'ve gotten to know, who\\'s incredible. And I\\'m in such a horrible position, because in one way I have to negotiate. In the other way, I love Mr. and Mrs. Warmbier, and I love Otto. And it\\'s a very, very delicate balance. He was a special young man. And to see what happened was so bad. It was so bad. And a lot of what I do with respect to North Korea, and any success that we hopefully have -- and we\\'ve had a lot. We\\'re given no credit. They don\\'t remember that, in the last days of the Obama administration, rockets were flying all over the place, nuclear testing was going on. Mountains were being -- these are big mountains. They were being shoved over three, four inches. People thought it was massive earthquakes, then they found out, no, that was nuclear weapons -- nuclear testing. So much. We\\'re getting the remains back of a lot of our soldiers from many, many years ago. Mike Pence was in Hawaii. It was one of the most beautiful ceremonies. We\\'ve made a lot of progress, and we\\'ll continue to make progress. And I really think what we\\'re doing there is very important. But we actually had to walk, but I think we had a very good meeting. In fact, when I came home, they put out a statement that, actually, they were willing to do much less on the sanction front. But you see, that\\'s not what happened there. So already, I think we\\'re negotiating. And I\\'ll tell you this: North Korea has an incredible, brilliant economic future, if they make a deal. But they don\\'t have any economic future if they have nuclear weapons. It\\'s really a bad thing for them. So we\\'ll see how it all goes. But I think it\\'s going well. I think we learned a lot over the last couple of days. And again, the relationship seems to be very, very strong. And that\\'s an important thing, especially when we\\'re dealing with this kind of a situation. For years, you watched as your leaders apologized for America. You saw that. Would you like to apologize? No. I\\'m not apologizing. Now you have a President who is standing up for America. After decades of building up foreign nations, we are finally building up our nation, and we are doing it with American hands, American grit, and with beautiful, beautiful American steel. We are fighting to ensure that every young American inherits the same blessings and the same boundless opportunity that our ancestors fought to secure with all of their heart, might, and soul. Now more than ever, we need the proud men and women of CPAC. And I want to thank everybody here, because it is incredible. Your organization is incredible. Matt and Mercedes, incredible. You\\'re energized, you\\'re mobilized, and you\\'re engaged. We need your voice. We need your patriotism. We need your commitment. We need your incredible spirit on the Fourth of July. We are having, in Washington, D.C., a great tribute to America. I hope you can all come. Fourth of July -- keep it open. We want to bring millions of people into the city, and we want people to come who love our country. Those are the people we want. The Fourth of July. A salute to America. Now is the time to embrace the promise of our history. Now is the time to defend our American legacy. And now is the time to seize our glorious destiny. And, by the way, I\\'m watching those doors. Not one person has left, and I\\'ve been up here a long time. [Laughter] I said, \"Matt, is that okay?\" He said, \"I love it. Don\\'t leave.\" But not one person. So if you hear tomorrow, when they read \"people left\" -- nobody left early. There hasn\\'t been one person that\\'s left. But when you read it, you just say \"fake news.\" This magnificent nation will always be the home of those who cherish life, who love liberty, and who defend the sacred rights given to us by Almighty God. Together, we are one people, one family, and one nation, forever united behind one great American flag. Thank you to everybody in this room and to all of the other rooms, all over the campus and all over the country. We\\'re hooked in all over the country. Thank you very much. I want to thank CPAC. What a job they\\'ve done. What a job Matt Schlapp and his family have done in such a short period of time, in bringing this to a level like it\\'s never been before. God bless you. God bless the United States of America. Thank you very much. '"
      ]
     },
     "execution_count": 5,
     "metadata": {},
     "output_type": "execute_result"
    }
   ],
   "source": [
    "df['transcript'][0]"
   ]
  },
  {
   "cell_type": "markdown",
   "metadata": {},
   "source": [
    "Perhaps we should we remove tokens such as [applause], [music], etc. Let's roll with them for now, it could be fun."
   ]
  },
  {
   "cell_type": "markdown",
   "metadata": {},
   "source": [
    "## Read whole file to create a language model"
   ]
  },
  {
   "cell_type": "code",
   "execution_count": 6,
   "metadata": {},
   "outputs": [],
   "source": [
    "dataframe = pd.read_csv(trump_path/'factbase.csv')"
   ]
  },
  {
   "cell_type": "code",
   "execution_count": 7,
   "metadata": {},
   "outputs": [
    {
     "name": "stdout",
     "output_type": "stream",
     "text": [
      "(493, 2)\n",
      "Index(['Unnamed: 0', 'transcript'], dtype='object')\n",
      "   Unnamed: 0                                         transcript\n",
      "0           0  Oh, thank you very much. Thank you very much. ...\n",
      "1           1  Thank you very much, El Paso. Thank you very m...\n",
      "2           2  Madam Speaker, Mr. Vice President, Members of ...\n",
      "3           3  That's such a great song. We should just let i...\n",
      "4           4  My fellow Americans. Tonight, I am speaking to...\n"
     ]
    }
   ],
   "source": [
    "print(dataframe.shape)\n",
    "print(dataframe.columns)\n",
    "print(dataframe.head())"
   ]
  },
  {
   "cell_type": "code",
   "execution_count": 8,
   "metadata": {},
   "outputs": [],
   "source": [
    "bs=50"
   ]
  },
  {
   "cell_type": "code",
   "execution_count": 9,
   "metadata": {},
   "outputs": [],
   "source": [
    "data_lm = (TextList.from_df(dataframe, path=trump_path, cols='transcript')\n",
    "              .random_split_by_pct(0.1)\n",
    "              .label_for_lm()\n",
    "               .databunch(bs=bs))"
   ]
  },
  {
   "cell_type": "code",
   "execution_count": 10,
   "metadata": {},
   "outputs": [],
   "source": [
    "# Save for later\n",
    "data_lm.save('data_lm_factbase.pkl')"
   ]
  },
  {
   "cell_type": "code",
   "execution_count": 11,
   "metadata": {},
   "outputs": [
    {
     "data": {
      "text/html": [
       "<table>  <col width='5%'>  <col width='95%'>  <tr>\n",
       "    <th>idx</th>\n",
       "    <th>text</th>\n",
       "  </tr>\n",
       "  <tr>\n",
       "    <th>0</th>\n",
       "    <th>i enjoyed it so much that i came back for a second one , then a third . xxmaj then i said , what the hell , let 's run for xxmaj president . xxmaj right ? xxmaj but it 's wonderful to be back with so many great patriots , old friends , and brave young conservatives . xxmaj what a future you have . xxmaj our movement and</th>\n",
       "  </tr>\n",
       "  <tr>\n",
       "    <th>1</th>\n",
       "    <th>for all the wrong reasons , but i like xxmaj kentucky . i liked it . i had a good time in xxmaj cincinnati , xxmaj ohio . i learned a lot . i learned a lot in xxmaj cincinnati , xxmaj ohio , and i love xxmaj ohio . xxmaj maybe that 's why we won it by so much , remember ? xxmaj everything goes through xxmaj ohio</th>\n",
       "  </tr>\n",
       "  <tr>\n",
       "    <th>2</th>\n",
       "    <th>'m going to build the wall . xxmaj and it 's only one of many things that i promised . i mean , if you look at -- [ xxmaj applause ] -- i got you the biggest tax cut -- beyond the xxmaj ronald xxmaj reagan tax cuts . xxup anwr , getting rid of the individual mandate , the biggest cuts in regulations in the history of our</th>\n",
       "  </tr>\n",
       "  <tr>\n",
       "    <th>3</th>\n",
       "    <th>with xxmaj judge xxmaj kavanaugh , they stick together -- or the xxmaj russian hoax with the election . xxmaj they use that as an excuse , because xxmaj hillary xxmaj clinton lost . xxmaj next time , they 'll learn . xxmaj you 've got to go , and you 've got to campaign in xxmaj wisconsin . xxmaj you 've got to campaign harder in xxmaj pennsylvania .</th>\n",
       "  </tr>\n",
       "  <tr>\n",
       "    <th>4</th>\n",
       "    <th>and xxup xxunk -- you see the xxup ms-13 predators . xxmaj some people do n't like it when i use that name . xxmaj these are predators . [ xxmaj audience members calls out ] xxmaj only in xxmaj wisconsin , right . xxmaj only . xxmaj she 's screaming . xxmaj screaming . xxmaj she 's screaming . i wo n't say what you xxunk . [ xxmaj</th>\n",
       "  </tr>\n",
       "</table>\n"
      ],
      "text/plain": [
       "<IPython.core.display.HTML object>"
      ]
     },
     "metadata": {},
     "output_type": "display_data"
    }
   ],
   "source": [
    "data_lm.show_batch()"
   ]
  },
  {
   "cell_type": "code",
   "execution_count": 12,
   "metadata": {},
   "outputs": [
    {
     "data": {
      "text/plain": [
       "14200"
      ]
     },
     "execution_count": 12,
     "metadata": {},
     "output_type": "execute_result"
    }
   ],
   "source": [
    "len(data_lm.vocab.itos)"
   ]
  },
  {
   "cell_type": "markdown",
   "metadata": {},
   "source": [
    "## Load pretrained language model"
   ]
  },
  {
   "cell_type": "code",
   "execution_count": 13,
   "metadata": {},
   "outputs": [],
   "source": [
    "learn = language_model_learner(data_lm, AWD_LSTM, drop_mult=0.3)"
   ]
  },
  {
   "cell_type": "code",
   "execution_count": 14,
   "metadata": {},
   "outputs": [],
   "source": [
    "AWD_LSTM??"
   ]
  },
  {
   "cell_type": "code",
   "execution_count": 15,
   "metadata": {},
   "outputs": [
    {
     "data": {
      "text/html": [],
      "text/plain": [
       "<IPython.core.display.HTML object>"
      ]
     },
     "metadata": {},
     "output_type": "display_data"
    },
    {
     "name": "stdout",
     "output_type": "stream",
     "text": [
      "LR Finder is complete, type {learner_name}.recorder.plot() to see the graph.\n"
     ]
    }
   ],
   "source": [
    "learn.lr_find()"
   ]
  },
  {
   "cell_type": "code",
   "execution_count": 16,
   "metadata": {},
   "outputs": [
    {
     "name": "stdout",
     "output_type": "stream",
     "text": [
      "Min numerical gradient: 5.75E-02\n"
     ]
    },
    {
     "data": {
      "image/png": "[encoded data removed]",
      "text/plain": [
       "<Figure size 432x288 with 1 Axes>"
      ]
     },
     "metadata": {
      "needs_background": "light"
     },
     "output_type": "display_data"
    }
   ],
   "source": [
    "learn.recorder.plot()"
   ]
  },
  {
   "cell_type": "code",
   "execution_count": 17,
   "metadata": {},
   "outputs": [
    {
     "name": "stdout",
     "output_type": "stream",
     "text": [
      "Min numerical gradient: 5.75E-02\n"
     ]
    },
    {
     "data": {
      "image/png": "[encoded data removed]",
      "text/plain": [
       "<Figure size 432x288 with 1 Axes>"
      ]
     },
     "metadata": {
      "needs_background": "light"
     },
     "output_type": "display_data"
    }
   ],
   "source": [
    "learn.recorder.plot(skip_end=15)"
   ]
  },
  {
   "cell_type": "code",
   "execution_count": 18,
   "metadata": {},
   "outputs": [
    {
     "data": {
      "text/html": [
       "Total time: 02:44 <p><table style='width:300px; margin-bottom:10px'>\n",
       "  <tr>\n",
       "    <th>epoch</th>\n",
       "    <th>train_loss</th>\n",
       "    <th>valid_loss</th>\n",
       "    <th>accuracy</th>\n",
       "  </tr>\n",
       "  <tr>\n",
       "    <th>1</th>\n",
       "    <th>3.331311</th>\n",
       "    <th>3.154359</th>\n",
       "    <th>0.365432</th>\n",
       "  </tr>\n",
       "</table>\n"
      ],
      "text/plain": [
       "<IPython.core.display.HTML object>"
      ]
     },
     "metadata": {},
     "output_type": "display_data"
    }
   ],
   "source": [
    "learn.fit_one_cycle(1, 1e-2, moms=(0.8, 0.7))"
   ]
  },
  {
   "cell_type": "code",
   "execution_count": 19,
   "metadata": {},
   "outputs": [],
   "source": [
    "learn.save('fit_head_factbase')"
   ]
  },
  {
   "cell_type": "markdown",
   "metadata": {},
   "source": [
    "## Unfreeze to fine-tune"
   ]
  },
  {
   "cell_type": "code",
   "execution_count": 20,
   "metadata": {},
   "outputs": [],
   "source": [
    "learn.unfreeze()"
   ]
  },
  {
   "cell_type": "code",
   "execution_count": 21,
   "metadata": {},
   "outputs": [],
   "source": [
    "torch.cuda.empty_cache()"
   ]
  },
  {
   "cell_type": "code",
   "execution_count": 22,
   "metadata": {},
   "outputs": [
    {
     "data": {
      "text/html": [
       "Total time: 31:02 <p><table style='width:300px; margin-bottom:10px'>\n",
       "  <tr>\n",
       "    <th>epoch</th>\n",
       "    <th>train_loss</th>\n",
       "    <th>valid_loss</th>\n",
       "    <th>accuracy</th>\n",
       "  </tr>\n",
       "  <tr>\n",
       "    <th>1</th>\n",
       "    <th>2.640940</th>\n",
       "    <th>2.622111</th>\n",
       "    <th>0.461781</th>\n",
       "  </tr>\n",
       "  <tr>\n",
       "    <th>2</th>\n",
       "    <th>2.416591</th>\n",
       "    <th>2.480331</th>\n",
       "    <th>0.497998</th>\n",
       "  </tr>\n",
       "  <tr>\n",
       "    <th>3</th>\n",
       "    <th>2.350334</th>\n",
       "    <th>2.425684</th>\n",
       "    <th>0.510910</th>\n",
       "  </tr>\n",
       "  <tr>\n",
       "    <th>4</th>\n",
       "    <th>2.247326</th>\n",
       "    <th>2.327184</th>\n",
       "    <th>0.526527</th>\n",
       "  </tr>\n",
       "  <tr>\n",
       "    <th>5</th>\n",
       "    <th>2.137615</th>\n",
       "    <th>2.388789</th>\n",
       "    <th>0.511832</th>\n",
       "  </tr>\n",
       "  <tr>\n",
       "    <th>6</th>\n",
       "    <th>2.041864</th>\n",
       "    <th>2.221417</th>\n",
       "    <th>0.541740</th>\n",
       "  </tr>\n",
       "  <tr>\n",
       "    <th>7</th>\n",
       "    <th>1.867689</th>\n",
       "    <th>2.071336</th>\n",
       "    <th>0.568557</th>\n",
       "  </tr>\n",
       "  <tr>\n",
       "    <th>8</th>\n",
       "    <th>1.654204</th>\n",
       "    <th>2.021322</th>\n",
       "    <th>0.578129</th>\n",
       "  </tr>\n",
       "  <tr>\n",
       "    <th>9</th>\n",
       "    <th>1.527899</th>\n",
       "    <th>1.988680</th>\n",
       "    <th>0.585818</th>\n",
       "  </tr>\n",
       "  <tr>\n",
       "    <th>10</th>\n",
       "    <th>1.375008</th>\n",
       "    <th>2.010836</th>\n",
       "    <th>0.583650</th>\n",
       "  </tr>\n",
       "</table>\n"
      ],
      "text/plain": [
       "<IPython.core.display.HTML object>"
      ]
     },
     "metadata": {},
     "output_type": "display_data"
    }
   ],
   "source": [
    "learn.fit_one_cycle(10, 1e-2, moms=(0.8, 0.7))"
   ]
  },
  {
   "cell_type": "code",
   "execution_count": 23,
   "metadata": {},
   "outputs": [],
   "source": [
    "learn.save('fine_tuned_factbase')"
   ]
  },
  {
   "cell_type": "code",
   "execution_count": 24,
   "metadata": {},
   "outputs": [],
   "source": [
    "learn.save_encoder('fine_tuned_encoder_factbase')"
   ]
  },
  {
   "cell_type": "code",
   "execution_count": 25,
   "metadata": {},
   "outputs": [],
   "source": [
    "TEXT = 'We need to build a wall'\n",
    "N_WORDS = 100\n",
    "N_SENTENCES = 1"
   ]
  },
  {
   "cell_type": "code",
   "execution_count": 26,
   "metadata": {},
   "outputs": [
    {
     "name": "stdout",
     "output_type": "stream",
     "text": [
      "We need to build a wall , do n't worry about it . i 'm not sure we have a wall , but we need it . It 's going to be a beautiful first . And i want to say , here , we are going to have a wall . We 're going to have a wall . [ Applause ] And we will build a wall . We have the wall . We have the best wall . We have the best wall . We have the best military in the world , we\n"
     ]
    }
   ],
   "source": [
    "print(\"\\n\".join(learn.predict(TEXT, N_WORDS, temperature=0.75) for _ in range(N_SENTENCES)))"
   ]
  },
  {
   "cell_type": "code",
   "execution_count": 27,
   "metadata": {},
   "outputs": [
    {
     "name": "stdout",
     "output_type": "stream",
     "text": [
      "We need to build a wall . We need the wall ! We need the wall ! We need the wall ! We need the wall ! We need the wall . We did n't have the wall . We do n't have a wall . We do n't have a wall , folks . We do n't have a wall . We have a wall . And if i did n't have the wall , i would n't have a wall like that . When we build a wall , we have to\n"
     ]
    }
   ],
   "source": [
    "print(\"\\n\".join(learn.predict(TEXT, N_WORDS, temperature=0.75) for _ in range(N_SENTENCES)))"
   ]
  },
  {
   "cell_type": "code",
   "execution_count": 28,
   "metadata": {},
   "outputs": [],
   "source": [
    "TEXT = 'Hillary Clinton'\n",
    "N_WORDS = 100\n",
    "N_SENTENCES = 1"
   ]
  },
  {
   "cell_type": "code",
   "execution_count": 29,
   "metadata": {},
   "outputs": [
    {
     "name": "stdout",
     "output_type": "stream",
     "text": [
      "Hillary Clinton is the most corrupt person ever to seek the office of the presidency . [ Applause ] She 's the one who created it with a rigged system . Now , in fact , the FBI , as many as these people -- can not be allowed to run for the presidency . [ Applause ] And then what happens is we see a very highly respected congressional record , and i want to thank Secretary John Podesta . And i want to thank Podesta for being here ,\n"
     ]
    }
   ],
   "source": [
    "print(\"\\n\".join(learn.predict(TEXT, N_WORDS, temperature=0.75) for _ in range(N_SENTENCES)))"
   ]
  },
  {
   "cell_type": "code",
   "execution_count": 30,
   "metadata": {},
   "outputs": [],
   "source": [
    "def generate_phrase(seed, nwords=100):\n",
    "    return learn.predict(seed, nwords, temperature=0.75)"
   ]
  },
  {
   "cell_type": "code",
   "execution_count": 31,
   "metadata": {},
   "outputs": [
    {
     "data": {
      "text/plain": [
       "\"Steve Bannon , President Trump , i am here for Matt Schlapp by the way , who 's so here , i think , is going to be here . [ Applause ] If Matt Stands does not support our military , i 'd like to thank Matt Rosendale and his wife Matt . And i 'll tell you what , he loves this state , and i can tell you , he has been fantastic . He 's been an incredible leader . i want to thank you\""
      ]
     },
     "execution_count": 31,
     "metadata": {},
     "output_type": "execute_result"
    }
   ],
   "source": [
    "generate_phrase('Steve Bannon')"
   ]
  },
  {
   "cell_type": "code",
   "execution_count": 32,
   "metadata": {},
   "outputs": [
    {
     "data": {
      "text/plain": [
       "\"Hillary Clinton does not know that . She does n't know what she 's going to do . But Hillary Clinton 's policies in Iraq have cost less money in order to help those suffering and suffering in the Middle East . This will also be a total and complete disaster . Hillary Clinton is the candidate of yesterday . We 're the movement of the future . We are the movement of the future . The future belongs to you . It 's the future .\""
      ]
     },
     "execution_count": 32,
     "metadata": {},
     "output_type": "execute_result"
    }
   ],
   "source": [
    "generate_phrase('Hillary Clinton')"
   ]
  },
  {
   "cell_type": "code",
   "execution_count": 33,
   "metadata": {},
   "outputs": [
    {
     "data": {
      "text/plain": [
       "'Make America great again . [ Applause ] Thank you . Thank you . Thank you . Thank you . Thank you . [ Applause ] Thank you very much . [ Applause ] Thank you . Thank you . Thank you . Thank you very much . Thank you very much , everybody . Great job . Great job . Thank you very much . Thank you . Thank you . Go home . [ Applause ] xxbos [ This was'"
      ]
     },
     "execution_count": 33,
     "metadata": {},
     "output_type": "execute_result"
    }
   ],
   "source": [
    "generate_phrase('Make America great again')"
   ]
  },
  {
   "cell_type": "code",
   "execution_count": 35,
   "metadata": {},
   "outputs": [
    {
     "data": {
      "text/plain": [
       "\"Obama , Clinton , Clinton , Pence , Trump , Clinton , Pence , Girl , Dunford , Congresswoman All of the Democrats , i think they 're going to be very , very happy , but they 're going to be very happy . They 're going to be happy to be happy . You know , Bernie Sanders got a little bit of a endorsement . He got some care . He did n't know anything about it . [ Applause\""
      ]
     },
     "execution_count": 35,
     "metadata": {},
     "output_type": "execute_result"
    }
   ],
   "source": [
    "generate_phrase('Obama')"
   ]
  }
 ],
 "metadata": {
  "kernelspec": {
   "display_name": "Python 3",
   "language": "python",
   "name": "python3"
  },
  "language_info": {
   "codemirror_mode": {
    "name": "ipython",
    "version": 3
   },
   "file_extension": ".py",
   "mimetype": "text/x-python",
   "name": "python",
   "nbconvert_exporter": "python",
   "pygments_lexer": "ipython3",
   "version": "3.7.2"
  }
 },
 "nbformat": 4,
 "nbformat_minor": 2
}
