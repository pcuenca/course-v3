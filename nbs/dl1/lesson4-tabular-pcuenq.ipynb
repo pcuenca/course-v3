{
 "cells": [
  {
   "cell_type": "markdown",
   "metadata": {},
   "source": [
    "# Tabular models"
   ]
  },
  {
   "cell_type": "code",
   "execution_count": 1,
   "metadata": {},
   "outputs": [],
   "source": [
    "from fastai.tabular import *"
   ]
  },
  {
   "cell_type": "markdown",
   "metadata": {},
   "source": [
    "Tabular data should be in a Pandas `DataFrame`."
   ]
  },
  {
   "cell_type": "code",
   "execution_count": 2,
   "metadata": {},
   "outputs": [],
   "source": [
    "path = untar_data(URLs.ADULT_SAMPLE)\n",
    "df = pd.read_csv(path/'adult.csv')"
   ]
  },
  {
   "cell_type": "code",
   "execution_count": 3,
   "metadata": {},
   "outputs": [],
   "source": [
    "dep_var = 'salary'\n",
    "cat_names = ['workclass', 'education', 'marital-status', 'occupation', 'relationship', 'race']\n",
    "cont_names = ['age', 'fnlwgt', 'education-num']\n",
    "procs = [FillMissing, Categorify, Normalize]"
   ]
  },
  {
   "cell_type": "code",
   "execution_count": 4,
   "metadata": {},
   "outputs": [],
   "source": [
    "test = TabularList.from_df(df.iloc[800:1000].copy(), path=path, cat_names=cat_names, cont_names=cont_names)"
   ]
  },
  {
   "cell_type": "code",
   "execution_count": 5,
   "metadata": {},
   "outputs": [],
   "source": [
    "data = (TabularList.from_df(df, path=path, cat_names=cat_names, cont_names=cont_names, procs=procs)\n",
    "                           .split_by_idx(list(range(800,1000)))\n",
    "                           .label_from_df(cols=dep_var)\n",
    "                           .add_test(test)\n",
    "                           .databunch())"
   ]
  },
  {
   "cell_type": "code",
   "execution_count": 6,
   "metadata": {},
   "outputs": [
    {
     "data": {
      "text/html": [
       "<table>  <col width='10%'>  <col width='10%'>  <col width='10%'>  <col width='10%'>  <col width='10%'>  <col width='10%'>  <col width='10%'>  <col width='10%'>  <col width='10%'>  <col width='10%'>  <col width='10%'>  <tr>\n",
       "    <th>workclass</th>\n",
       "    <th>education</th>\n",
       "    <th>marital-status</th>\n",
       "    <th>occupation</th>\n",
       "    <th>relationship</th>\n",
       "    <th>race</th>\n",
       "    <th>education-num_na</th>\n",
       "    <th>age</th>\n",
       "    <th>fnlwgt</th>\n",
       "    <th>education-num</th>\n",
       "    <th>target</th>\n",
       "  </tr>\n",
       "  <tr>\n",
       "    <th> State-gov</th>\n",
       "    <th> HS-grad</th>\n",
       "    <th> Married-civ-spouse</th>\n",
       "    <th> Craft-repair</th>\n",
       "    <th> Husband</th>\n",
       "    <th> White</th>\n",
       "    <th>False</th>\n",
       "    <th>0.4701</th>\n",
       "    <th>0.7047</th>\n",
       "    <th>-0.4224</th>\n",
       "    <th><50k</th>\n",
       "  </tr>\n",
       "  <tr>\n",
       "    <th> Private</th>\n",
       "    <th> HS-grad</th>\n",
       "    <th> Never-married</th>\n",
       "    <th> Other-service</th>\n",
       "    <th> Not-in-family</th>\n",
       "    <th> White</th>\n",
       "    <th>False</th>\n",
       "    <th>-0.7760</th>\n",
       "    <th>-0.2596</th>\n",
       "    <th>-0.4224</th>\n",
       "    <th><50k</th>\n",
       "  </tr>\n",
       "  <tr>\n",
       "    <th> Local-gov</th>\n",
       "    <th> Doctorate</th>\n",
       "    <th> Never-married</th>\n",
       "    <th> Prof-specialty</th>\n",
       "    <th> Not-in-family</th>\n",
       "    <th> White</th>\n",
       "    <th>False</th>\n",
       "    <th>-0.5561</th>\n",
       "    <th>2.4332</th>\n",
       "    <th>2.3157</th>\n",
       "    <th>>=50k</th>\n",
       "  </tr>\n",
       "  <tr>\n",
       "    <th> Private</th>\n",
       "    <th> Some-college</th>\n",
       "    <th> Never-married</th>\n",
       "    <th> Adm-clerical</th>\n",
       "    <th> Other-relative</th>\n",
       "    <th> White</th>\n",
       "    <th>False</th>\n",
       "    <th>-1.2158</th>\n",
       "    <th>-0.4917</th>\n",
       "    <th>-0.0312</th>\n",
       "    <th><50k</th>\n",
       "  </tr>\n",
       "  <tr>\n",
       "    <th> Self-emp-inc</th>\n",
       "    <th> HS-grad</th>\n",
       "    <th> Married-civ-spouse</th>\n",
       "    <th> Other-service</th>\n",
       "    <th> Husband</th>\n",
       "    <th> White</th>\n",
       "    <th>False</th>\n",
       "    <th>2.2292</th>\n",
       "    <th>-0.7900</th>\n",
       "    <th>-0.4224</th>\n",
       "    <th>>=50k</th>\n",
       "  </tr>\n",
       "  <tr>\n",
       "    <th> Private</th>\n",
       "    <th> HS-grad</th>\n",
       "    <th> Widowed</th>\n",
       "    <th> Other-service</th>\n",
       "    <th> Not-in-family</th>\n",
       "    <th> White</th>\n",
       "    <th>False</th>\n",
       "    <th>1.4962</th>\n",
       "    <th>-1.5921</th>\n",
       "    <th>-0.4224</th>\n",
       "    <th><50k</th>\n",
       "  </tr>\n",
       "  <tr>\n",
       "    <th> Private</th>\n",
       "    <th> HS-grad</th>\n",
       "    <th> Never-married</th>\n",
       "    <th> Handlers-cleaners</th>\n",
       "    <th> Not-in-family</th>\n",
       "    <th> White</th>\n",
       "    <th>False</th>\n",
       "    <th>-1.1425</th>\n",
       "    <th>0.1416</th>\n",
       "    <th>-0.4224</th>\n",
       "    <th><50k</th>\n",
       "  </tr>\n",
       "  <tr>\n",
       "    <th> Self-emp-not-inc</th>\n",
       "    <th> HS-grad</th>\n",
       "    <th> Married-civ-spouse</th>\n",
       "    <th> Tech-support</th>\n",
       "    <th> Husband</th>\n",
       "    <th> White</th>\n",
       "    <th>False</th>\n",
       "    <th>-0.1163</th>\n",
       "    <th>-1.5702</th>\n",
       "    <th>-0.4224</th>\n",
       "    <th><50k</th>\n",
       "  </tr>\n",
       "  <tr>\n",
       "    <th> Private</th>\n",
       "    <th> Some-college</th>\n",
       "    <th> Never-married</th>\n",
       "    <th> Adm-clerical</th>\n",
       "    <th> Not-in-family</th>\n",
       "    <th> White</th>\n",
       "    <th>False</th>\n",
       "    <th>2.1559</th>\n",
       "    <th>-0.2894</th>\n",
       "    <th>-0.0312</th>\n",
       "    <th><50k</th>\n",
       "  </tr>\n",
       "  <tr>\n",
       "    <th> Private</th>\n",
       "    <th> Bachelors</th>\n",
       "    <th> Never-married</th>\n",
       "    <th> Tech-support</th>\n",
       "    <th> Own-child</th>\n",
       "    <th> White</th>\n",
       "    <th>False</th>\n",
       "    <th>-0.9959</th>\n",
       "    <th>-0.1066</th>\n",
       "    <th>1.1422</th>\n",
       "    <th><50k</th>\n",
       "  </tr>\n",
       "</table>\n"
      ],
      "text/plain": [
       "<IPython.core.display.HTML object>"
      ]
     },
     "metadata": {},
     "output_type": "display_data"
    }
   ],
   "source": [
    "data.show_batch(rows=10)"
   ]
  },
  {
   "cell_type": "code",
   "execution_count": 7,
   "metadata": {},
   "outputs": [],
   "source": [
    "learn = tabular_learner(data, layers=[200,100], metrics=accuracy)"
   ]
  },
  {
   "cell_type": "code",
   "execution_count": 8,
   "metadata": {},
   "outputs": [
    {
     "data": {
      "text/html": [
       "Total time: 00:04 <p><table style='width:300px; margin-bottom:10px'>\n",
       "  <tr>\n",
       "    <th>epoch</th>\n",
       "    <th>train_loss</th>\n",
       "    <th>valid_loss</th>\n",
       "    <th>accuracy</th>\n",
       "  </tr>\n",
       "  <tr>\n",
       "    <th>1</th>\n",
       "    <th>0.374315</th>\n",
       "    <th>0.387498</th>\n",
       "    <th>0.825000</th>\n",
       "  </tr>\n",
       "</table>\n"
      ],
      "text/plain": [
       "<IPython.core.display.HTML object>"
      ]
     },
     "metadata": {},
     "output_type": "display_data"
    }
   ],
   "source": [
    "learn.fit(1, 1e-2)"
   ]
  },
  {
   "cell_type": "markdown",
   "metadata": {},
   "source": [
    "## Inference"
   ]
  },
  {
   "cell_type": "code",
   "execution_count": 9,
   "metadata": {},
   "outputs": [],
   "source": [
    "row = df.iloc[0]"
   ]
  },
  {
   "cell_type": "code",
   "execution_count": 10,
   "metadata": {},
   "outputs": [
    {
     "data": {
      "text/plain": [
       "(Category >=50k, tensor(1), tensor([0.3963, 0.6037]))"
      ]
     },
     "execution_count": 10,
     "metadata": {},
     "output_type": "execute_result"
    }
   ],
   "source": [
    "learn.predict(row)"
   ]
  },
  {
   "cell_type": "code",
   "execution_count": 14,
   "metadata": {},
   "outputs": [
    {
     "data": {
      "text/plain": [
       "(Category <50k, tensor(0), tensor([0.9273, 0.0727]))"
      ]
     },
     "execution_count": 14,
     "metadata": {},
     "output_type": "execute_result"
    }
   ],
   "source": [
    "learn.predict(df.iloc[2])"
   ]
  }
 ],
 "metadata": {
  "kernelspec": {
   "display_name": "Python 3",
   "language": "python",
   "name": "python3"
  },
  "language_info": {
   "codemirror_mode": {
    "name": "ipython",
    "version": 3
   },
   "file_extension": ".py",
   "mimetype": "text/x-python",
   "name": "python",
   "nbconvert_exporter": "python",
   "pygments_lexer": "ipython3",
   "version": "3.7.2"
  }
 },
 "nbformat": 4,
 "nbformat_minor": 2
}
