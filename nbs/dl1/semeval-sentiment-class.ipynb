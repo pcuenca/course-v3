{
 "cells": [
  {
   "cell_type": "code",
   "execution_count": 1,
   "metadata": {},
   "outputs": [],
   "source": [
    "%reload_ext autoreload\n",
    "%autoreload 2\n",
    "%matplotlib inline"
   ]
  },
  {
   "cell_type": "code",
   "execution_count": 2,
   "metadata": {},
   "outputs": [],
   "source": [
    "from fastai.text import *"
   ]
  },
  {
   "cell_type": "markdown",
   "metadata": {},
   "source": [
    "## Look at the Sentiment140 data"
   ]
  },
  {
   "cell_type": "code",
   "execution_count": 3,
   "metadata": {},
   "outputs": [
    {
     "data": {
      "text/plain": [
       "[PosixPath('data/sentiment140/models'),\n",
       " PosixPath('data/sentiment140/training.1600000.processed.noemoticon.csv'),\n",
       " PosixPath('data/sentiment140/data_sent140_lm.pkl')]"
      ]
     },
     "execution_count": 3,
     "metadata": {},
     "output_type": "execute_result"
    }
   ],
   "source": [
    "sent140_path = Path('data/sentiment140')\n",
    "sent140_path.ls()"
   ]
  },
  {
   "cell_type": "code",
   "execution_count": 4,
   "metadata": {},
   "outputs": [],
   "source": [
    "df_sent140 = pd.read_csv(sent140_path/'training.1600000.processed.noemoticon.csv', encoding='latin_1', header=None)"
   ]
  },
  {
   "cell_type": "code",
   "execution_count": 5,
   "metadata": {},
   "outputs": [
    {
     "data": {
      "text/html": [
       "<div>\n",
       "<style scoped>\n",
       "    .dataframe tbody tr th:only-of-type {\n",
       "        vertical-align: middle;\n",
       "    }\n",
       "\n",
       "    .dataframe tbody tr th {\n",
       "        vertical-align: top;\n",
       "    }\n",
       "\n",
       "    .dataframe thead th {\n",
       "        text-align: right;\n",
       "    }\n",
       "</style>\n",
       "<table border=\"1\" class=\"dataframe\">\n",
       "  <thead>\n",
       "    <tr style=\"text-align: right;\">\n",
       "      <th></th>\n",
       "      <th>sentiment</th>\n",
       "      <th>id</th>\n",
       "      <th>date</th>\n",
       "      <th>query</th>\n",
       "      <th>user</th>\n",
       "      <th>tweet</th>\n",
       "    </tr>\n",
       "  </thead>\n",
       "  <tbody>\n",
       "    <tr>\n",
       "      <th>0</th>\n",
       "      <td>0</td>\n",
       "      <td>1467810369</td>\n",
       "      <td>Mon Apr 06 22:19:45 PDT 2009</td>\n",
       "      <td>NO_QUERY</td>\n",
       "      <td>_TheSpecialOne_</td>\n",
       "      <td>@switchfoot http://twitpic.com/2y1zl - Awww, t...</td>\n",
       "    </tr>\n",
       "    <tr>\n",
       "      <th>1</th>\n",
       "      <td>0</td>\n",
       "      <td>1467810672</td>\n",
       "      <td>Mon Apr 06 22:19:49 PDT 2009</td>\n",
       "      <td>NO_QUERY</td>\n",
       "      <td>scotthamilton</td>\n",
       "      <td>is upset that he can't update his Facebook by ...</td>\n",
       "    </tr>\n",
       "    <tr>\n",
       "      <th>2</th>\n",
       "      <td>0</td>\n",
       "      <td>1467810917</td>\n",
       "      <td>Mon Apr 06 22:19:53 PDT 2009</td>\n",
       "      <td>NO_QUERY</td>\n",
       "      <td>mattycus</td>\n",
       "      <td>@Kenichan I dived many times for the ball. Man...</td>\n",
       "    </tr>\n",
       "    <tr>\n",
       "      <th>3</th>\n",
       "      <td>0</td>\n",
       "      <td>1467811184</td>\n",
       "      <td>Mon Apr 06 22:19:57 PDT 2009</td>\n",
       "      <td>NO_QUERY</td>\n",
       "      <td>ElleCTF</td>\n",
       "      <td>my whole body feels itchy and like its on fire</td>\n",
       "    </tr>\n",
       "    <tr>\n",
       "      <th>4</th>\n",
       "      <td>0</td>\n",
       "      <td>1467811193</td>\n",
       "      <td>Mon Apr 06 22:19:57 PDT 2009</td>\n",
       "      <td>NO_QUERY</td>\n",
       "      <td>Karoli</td>\n",
       "      <td>@nationwideclass no, it's not behaving at all....</td>\n",
       "    </tr>\n",
       "  </tbody>\n",
       "</table>\n",
       "</div>"
      ],
      "text/plain": [
       "   sentiment          id                          date     query  \\\n",
       "0          0  1467810369  Mon Apr 06 22:19:45 PDT 2009  NO_QUERY   \n",
       "1          0  1467810672  Mon Apr 06 22:19:49 PDT 2009  NO_QUERY   \n",
       "2          0  1467810917  Mon Apr 06 22:19:53 PDT 2009  NO_QUERY   \n",
       "3          0  1467811184  Mon Apr 06 22:19:57 PDT 2009  NO_QUERY   \n",
       "4          0  1467811193  Mon Apr 06 22:19:57 PDT 2009  NO_QUERY   \n",
       "\n",
       "              user                                              tweet  \n",
       "0  _TheSpecialOne_  @switchfoot http://twitpic.com/2y1zl - Awww, t...  \n",
       "1    scotthamilton  is upset that he can't update his Facebook by ...  \n",
       "2         mattycus  @Kenichan I dived many times for the ball. Man...  \n",
       "3          ElleCTF    my whole body feels itchy and like its on fire   \n",
       "4           Karoli  @nationwideclass no, it's not behaving at all....  "
      ]
     },
     "execution_count": 5,
     "metadata": {},
     "output_type": "execute_result"
    }
   ],
   "source": [
    "df_sent140.columns = ['sentiment', 'id', 'date', 'query', 'user', 'tweet']\n",
    "df_sent140.head()"
   ]
  },
  {
   "cell_type": "markdown",
   "metadata": {},
   "source": [
    "## Pre-processing, filtering and deduplication"
   ]
  },
  {
   "cell_type": "code",
   "execution_count": 6,
   "metadata": {},
   "outputs": [
    {
     "name": "stdout",
     "output_type": "stream",
     "text": [
      " this is to #test a loong link: <url>  <email>\n",
      "more things after the url: <url> and a lot of words go here\n",
      " <url> - awww, that's a bummer.  you shoulda got david carr of third day to do it. ;d\n",
      "<email> and some words.\n"
     ]
    }
   ],
   "source": [
    "import re\n",
    "\n",
    "url_re = re.compile(r'(https?:\\/\\/www\\.|https?:\\/\\/)?[a-z0-9]+([\\-\\.]{1}[a-z0-9]+)*\\.[a-z]{2,5}(:[0-9]{1,5})?(\\/\\w*)?')\n",
    "rep_re = re.compile(r'(.)\\1{3,}')\n",
    "mention_re = re.compile(r'(@[\\w_-]+)')\n",
    "hashtag_re = re.compile(r'(#[\\w_-]+)')\n",
    "email_re = re.compile(r'[a-zA-Z0-9.!#$%&\\'*+/=?^_`{|}~-]+@[a-zA-Z0-9](?:[a-zA-Z0-9-]{0,61}[a-zA-Z0-9])?(?:\\.[a-zA-Z0-9](?:[a-zA-Z0-9-]{0,61}[a-zA-Z0-9])?)*')\n",
    "\n",
    "def preprocess(text):\n",
    "    text = text.lower()   # ToDo: preserve case of emoticons such as :D\n",
    "    text = email_re.sub('<email>', text)\n",
    "    text = url_re.sub('<url>', text)\n",
    "    text = rep_re.sub(r'\\1\\1', text)\n",
    "    # Remove mentions but keep hashtags\n",
    "    text = mention_re.sub('', text)\n",
    "\n",
    "    return text\n",
    "\n",
    "print(preprocess('@mention This is to #test a looooong link: http://www.google.com @apple pedro@latenitesoft.com'))\n",
    "print(preprocess('More things after the URL: http://twitpic.com/2y1zl and a lot of words go here'))\n",
    "print(preprocess('@switchfoot http://twitpic.com/2y1zl - Awww, that\\'s a bummer.  You shoulda got David Carr of Third Day to do it. ;D'))\n",
    "print(preprocess('email@domain.com and some words.'))"
   ]
  },
  {
   "cell_type": "code",
   "execution_count": 7,
   "metadata": {},
   "outputs": [],
   "source": [
    "# Deduplication: ToDo"
   ]
  },
  {
   "cell_type": "code",
   "execution_count": 8,
   "metadata": {},
   "outputs": [
    {
     "data": {
      "text/html": [
       "<div>\n",
       "<style scoped>\n",
       "    .dataframe tbody tr th:only-of-type {\n",
       "        vertical-align: middle;\n",
       "    }\n",
       "\n",
       "    .dataframe tbody tr th {\n",
       "        vertical-align: top;\n",
       "    }\n",
       "\n",
       "    .dataframe thead th {\n",
       "        text-align: right;\n",
       "    }\n",
       "</style>\n",
       "<table border=\"1\" class=\"dataframe\">\n",
       "  <thead>\n",
       "    <tr style=\"text-align: right;\">\n",
       "      <th></th>\n",
       "      <th>sentiment</th>\n",
       "      <th>id</th>\n",
       "      <th>date</th>\n",
       "      <th>query</th>\n",
       "      <th>user</th>\n",
       "      <th>tweet</th>\n",
       "    </tr>\n",
       "  </thead>\n",
       "  <tbody>\n",
       "    <tr>\n",
       "      <th>0</th>\n",
       "      <td>0</td>\n",
       "      <td>1467810369</td>\n",
       "      <td>Mon Apr 06 22:19:45 PDT 2009</td>\n",
       "      <td>NO_QUERY</td>\n",
       "      <td>_TheSpecialOne_</td>\n",
       "      <td>&lt;url&gt; - awww, that's a bummer.  you shoulda g...</td>\n",
       "    </tr>\n",
       "    <tr>\n",
       "      <th>1</th>\n",
       "      <td>0</td>\n",
       "      <td>1467810672</td>\n",
       "      <td>Mon Apr 06 22:19:49 PDT 2009</td>\n",
       "      <td>NO_QUERY</td>\n",
       "      <td>scotthamilton</td>\n",
       "      <td>is upset that he can't update his facebook by ...</td>\n",
       "    </tr>\n",
       "    <tr>\n",
       "      <th>2</th>\n",
       "      <td>0</td>\n",
       "      <td>1467810917</td>\n",
       "      <td>Mon Apr 06 22:19:53 PDT 2009</td>\n",
       "      <td>NO_QUERY</td>\n",
       "      <td>mattycus</td>\n",
       "      <td>i dived many times for the ball. managed to s...</td>\n",
       "    </tr>\n",
       "    <tr>\n",
       "      <th>3</th>\n",
       "      <td>0</td>\n",
       "      <td>1467811184</td>\n",
       "      <td>Mon Apr 06 22:19:57 PDT 2009</td>\n",
       "      <td>NO_QUERY</td>\n",
       "      <td>ElleCTF</td>\n",
       "      <td>my whole body feels itchy and like its on fire</td>\n",
       "    </tr>\n",
       "    <tr>\n",
       "      <th>4</th>\n",
       "      <td>0</td>\n",
       "      <td>1467811193</td>\n",
       "      <td>Mon Apr 06 22:19:57 PDT 2009</td>\n",
       "      <td>NO_QUERY</td>\n",
       "      <td>Karoli</td>\n",
       "      <td>no, it's not behaving at all. i'm mad. why am...</td>\n",
       "    </tr>\n",
       "  </tbody>\n",
       "</table>\n",
       "</div>"
      ],
      "text/plain": [
       "   sentiment          id                          date     query  \\\n",
       "0          0  1467810369  Mon Apr 06 22:19:45 PDT 2009  NO_QUERY   \n",
       "1          0  1467810672  Mon Apr 06 22:19:49 PDT 2009  NO_QUERY   \n",
       "2          0  1467810917  Mon Apr 06 22:19:53 PDT 2009  NO_QUERY   \n",
       "3          0  1467811184  Mon Apr 06 22:19:57 PDT 2009  NO_QUERY   \n",
       "4          0  1467811193  Mon Apr 06 22:19:57 PDT 2009  NO_QUERY   \n",
       "\n",
       "              user                                              tweet  \n",
       "0  _TheSpecialOne_   <url> - awww, that's a bummer.  you shoulda g...  \n",
       "1    scotthamilton  is upset that he can't update his facebook by ...  \n",
       "2         mattycus   i dived many times for the ball. managed to s...  \n",
       "3          ElleCTF    my whole body feels itchy and like its on fire   \n",
       "4           Karoli   no, it's not behaving at all. i'm mad. why am...  "
      ]
     },
     "execution_count": 8,
     "metadata": {},
     "output_type": "execute_result"
    }
   ],
   "source": [
    "df_sent140['tweet'] = df_sent140['tweet'].apply(preprocess)\n",
    "df_sent140.head()"
   ]
  },
  {
   "cell_type": "markdown",
   "metadata": {},
   "source": [
    "### Look at tweets with very few words"
   ]
  },
  {
   "cell_type": "code",
   "execution_count": 9,
   "metadata": {},
   "outputs": [
    {
     "data": {
      "text/plain": [
       "(53799, 110402, 1600000)"
      ]
     },
     "execution_count": 9,
     "metadata": {},
     "output_type": "execute_result"
    }
   ],
   "source": [
    "counts = df_sent140['tweet'].str.split().apply(len)\n",
    "len(counts[counts<3]), len(counts[counts<4]), len(counts)"
   ]
  },
  {
   "cell_type": "code",
   "execution_count": 10,
   "metadata": {},
   "outputs": [
    {
     "data": {
      "text/html": [
       "<div>\n",
       "<style scoped>\n",
       "    .dataframe tbody tr th:only-of-type {\n",
       "        vertical-align: middle;\n",
       "    }\n",
       "\n",
       "    .dataframe tbody tr th {\n",
       "        vertical-align: top;\n",
       "    }\n",
       "\n",
       "    .dataframe thead th {\n",
       "        text-align: right;\n",
       "    }\n",
       "</style>\n",
       "<table border=\"1\" class=\"dataframe\">\n",
       "  <thead>\n",
       "    <tr style=\"text-align: right;\">\n",
       "      <th></th>\n",
       "      <th>sentiment</th>\n",
       "      <th>id</th>\n",
       "      <th>date</th>\n",
       "      <th>query</th>\n",
       "      <th>user</th>\n",
       "      <th>tweet</th>\n",
       "    </tr>\n",
       "  </thead>\n",
       "  <tbody>\n",
       "    <tr>\n",
       "      <th>103</th>\n",
       "      <td>0</td>\n",
       "      <td>1467837470</td>\n",
       "      <td>Mon Apr 06 22:26:43 PDT 2009</td>\n",
       "      <td>NO_QUERY</td>\n",
       "      <td>annette414</td>\n",
       "      <td>watching &amp;quot;house&amp;quot;</td>\n",
       "    </tr>\n",
       "    <tr>\n",
       "      <th>108</th>\n",
       "      <td>0</td>\n",
       "      <td>1467837888</td>\n",
       "      <td>Mon Apr 06 22:26:52 PDT 2009</td>\n",
       "      <td>NO_QUERY</td>\n",
       "      <td>wireandroses</td>\n",
       "      <td>it's overrated</td>\n",
       "    </tr>\n",
       "    <tr>\n",
       "      <th>133</th>\n",
       "      <td>0</td>\n",
       "      <td>1467842299</td>\n",
       "      <td>Mon Apr 06 22:28:03 PDT 2009</td>\n",
       "      <td>NO_QUERY</td>\n",
       "      <td>HiKeri</td>\n",
       "      <td>almost bedtime</td>\n",
       "    </tr>\n",
       "    <tr>\n",
       "      <th>191</th>\n",
       "      <td>0</td>\n",
       "      <td>1467859666</td>\n",
       "      <td>Mon Apr 06 22:32:31 PDT 2009</td>\n",
       "      <td>NO_QUERY</td>\n",
       "      <td>DreamActivist23</td>\n",
       "      <td>oh no</td>\n",
       "    </tr>\n",
       "    <tr>\n",
       "      <th>364</th>\n",
       "      <td>0</td>\n",
       "      <td>1467901500</td>\n",
       "      <td>Mon Apr 06 22:43:49 PDT 2009</td>\n",
       "      <td>NO_QUERY</td>\n",
       "      <td>thegeach</td>\n",
       "      <td>feeling down</td>\n",
       "    </tr>\n",
       "    <tr>\n",
       "      <th>447</th>\n",
       "      <td>0</td>\n",
       "      <td>1467926546</td>\n",
       "      <td>Mon Apr 06 22:50:49 PDT 2009</td>\n",
       "      <td>NO_QUERY</td>\n",
       "      <td>aragorn_elessar</td>\n",
       "      <td>thatï¿½s bad</td>\n",
       "    </tr>\n",
       "    <tr>\n",
       "      <th>472</th>\n",
       "      <td>0</td>\n",
       "      <td>1467931027</td>\n",
       "      <td>Mon Apr 06 22:52:07 PDT 2009</td>\n",
       "      <td>NO_QUERY</td>\n",
       "      <td>enfox</td>\n",
       "      <td>what happened?</td>\n",
       "    </tr>\n",
       "    <tr>\n",
       "      <th>503</th>\n",
       "      <td>0</td>\n",
       "      <td>1467937038</td>\n",
       "      <td>Mon Apr 06 22:53:49 PDT 2009</td>\n",
       "      <td>NO_QUERY</td>\n",
       "      <td>shockboard</td>\n",
       "      <td>i see.</td>\n",
       "    </tr>\n",
       "    <tr>\n",
       "      <th>545</th>\n",
       "      <td>0</td>\n",
       "      <td>1467949746</td>\n",
       "      <td>Mon Apr 06 22:57:28 PDT 2009</td>\n",
       "      <td>NO_QUERY</td>\n",
       "      <td>xShyGirlx</td>\n",
       "      <td>at work</td>\n",
       "    </tr>\n",
       "    <tr>\n",
       "      <th>563</th>\n",
       "      <td>0</td>\n",
       "      <td>1467951850</td>\n",
       "      <td>Mon Apr 06 22:58:04 PDT 2009</td>\n",
       "      <td>NO_QUERY</td>\n",
       "      <td>MissT09</td>\n",
       "      <td>absolutely not!!</td>\n",
       "    </tr>\n",
       "    <tr>\n",
       "      <th>610</th>\n",
       "      <td>0</td>\n",
       "      <td>1467966260</td>\n",
       "      <td>Mon Apr 06 23:02:00 PDT 2009</td>\n",
       "      <td>NO_QUERY</td>\n",
       "      <td>bluntmag</td>\n",
       "      <td>i reckon</td>\n",
       "    </tr>\n",
       "    <tr>\n",
       "      <th>841</th>\n",
       "      <td>0</td>\n",
       "      <td>1468019679</td>\n",
       "      <td>Mon Apr 06 23:17:29 PDT 2009</td>\n",
       "      <td>NO_QUERY</td>\n",
       "      <td>gravitybomb</td>\n",
       "      <td>that's sad.</td>\n",
       "    </tr>\n",
       "    <tr>\n",
       "      <th>870</th>\n",
       "      <td>0</td>\n",
       "      <td>1468031172</td>\n",
       "      <td>Mon Apr 06 23:21:02 PDT 2009</td>\n",
       "      <td>NO_QUERY</td>\n",
       "      <td>flashbrother</td>\n",
       "      <td>work again</td>\n",
       "    </tr>\n",
       "    <tr>\n",
       "      <th>871</th>\n",
       "      <td>0</td>\n",
       "      <td>1468031217</td>\n",
       "      <td>Mon Apr 06 23:21:03 PDT 2009</td>\n",
       "      <td>NO_QUERY</td>\n",
       "      <td>Jallenwhit</td>\n",
       "      <td>essay time..</td>\n",
       "    </tr>\n",
       "    <tr>\n",
       "      <th>890</th>\n",
       "      <td>0</td>\n",
       "      <td>1468033152</td>\n",
       "      <td>Mon Apr 06 23:21:41 PDT 2009</td>\n",
       "      <td>NO_QUERY</td>\n",
       "      <td>xGabii</td>\n",
       "      <td>miss you</td>\n",
       "    </tr>\n",
       "    <tr>\n",
       "      <th>1065</th>\n",
       "      <td>0</td>\n",
       "      <td>1468072550</td>\n",
       "      <td>Mon Apr 06 23:33:55 PDT 2009</td>\n",
       "      <td>NO_QUERY</td>\n",
       "      <td>Lizzibear</td>\n",
       "      <td>needs hugs/snuggles...</td>\n",
       "    </tr>\n",
       "    <tr>\n",
       "      <th>1120</th>\n",
       "      <td>0</td>\n",
       "      <td>1468085048</td>\n",
       "      <td>Mon Apr 06 23:37:52 PDT 2009</td>\n",
       "      <td>NO_QUERY</td>\n",
       "      <td>policano</td>\n",
       "      <td>everything alright?</td>\n",
       "    </tr>\n",
       "    <tr>\n",
       "      <th>1136</th>\n",
       "      <td>0</td>\n",
       "      <td>1468093070</td>\n",
       "      <td>Mon Apr 06 23:40:31 PDT 2009</td>\n",
       "      <td>NO_QUERY</td>\n",
       "      <td>Lexi_83</td>\n",
       "      <td>extremely jealous...</td>\n",
       "    </tr>\n",
       "    <tr>\n",
       "      <th>1142</th>\n",
       "      <td>0</td>\n",
       "      <td>1468093942</td>\n",
       "      <td>Mon Apr 06 23:40:47 PDT 2009</td>\n",
       "      <td>NO_QUERY</td>\n",
       "      <td>Cynxster</td>\n",
       "      <td>congested nose</td>\n",
       "    </tr>\n",
       "    <tr>\n",
       "      <th>1201</th>\n",
       "      <td>0</td>\n",
       "      <td>1468106999</td>\n",
       "      <td>Mon Apr 06 23:45:07 PDT 2009</td>\n",
       "      <td>NO_QUERY</td>\n",
       "      <td>stuartheron</td>\n",
       "      <td>shockingly not!</td>\n",
       "    </tr>\n",
       "    <tr>\n",
       "      <th>1205</th>\n",
       "      <td>0</td>\n",
       "      <td>1468107426</td>\n",
       "      <td>Mon Apr 06 23:45:15 PDT 2009</td>\n",
       "      <td>NO_QUERY</td>\n",
       "      <td>iain20</td>\n",
       "      <td>up early</td>\n",
       "    </tr>\n",
       "    <tr>\n",
       "      <th>1304</th>\n",
       "      <td>0</td>\n",
       "      <td>1468126027</td>\n",
       "      <td>Mon Apr 06 23:51:22 PDT 2009</td>\n",
       "      <td>NO_QUERY</td>\n",
       "      <td>rodarte</td>\n",
       "      <td>whats wrong!</td>\n",
       "    </tr>\n",
       "    <tr>\n",
       "      <th>1325</th>\n",
       "      <td>0</td>\n",
       "      <td>1468130348</td>\n",
       "      <td>Mon Apr 06 23:52:52 PDT 2009</td>\n",
       "      <td>NO_QUERY</td>\n",
       "      <td>chikalicia</td>\n",
       "      <td>hot deadline...</td>\n",
       "    </tr>\n",
       "    <tr>\n",
       "      <th>1330</th>\n",
       "      <td>0</td>\n",
       "      <td>1468131389</td>\n",
       "      <td>Mon Apr 06 23:53:14 PDT 2009</td>\n",
       "      <td>NO_QUERY</td>\n",
       "      <td>johnholdun</td>\n",
       "      <td>michael crichton</td>\n",
       "    </tr>\n",
       "    <tr>\n",
       "      <th>1338</th>\n",
       "      <td>0</td>\n",
       "      <td>1468132343</td>\n",
       "      <td>Mon Apr 06 23:53:34 PDT 2009</td>\n",
       "      <td>NO_QUERY</td>\n",
       "      <td>kimmiecubaby</td>\n",
       "      <td>is cold</td>\n",
       "    </tr>\n",
       "    <tr>\n",
       "      <th>1343</th>\n",
       "      <td>0</td>\n",
       "      <td>1468133161</td>\n",
       "      <td>Mon Apr 06 23:53:52 PDT 2009</td>\n",
       "      <td>NO_QUERY</td>\n",
       "      <td>Laiinieee</td>\n",
       "      <td>is coldd</td>\n",
       "    </tr>\n",
       "    <tr>\n",
       "      <th>1383</th>\n",
       "      <td>0</td>\n",
       "      <td>1468141233</td>\n",
       "      <td>Mon Apr 06 23:56:29 PDT 2009</td>\n",
       "      <td>NO_QUERY</td>\n",
       "      <td>lindale41</td>\n",
       "      <td>me...i'm up.</td>\n",
       "    </tr>\n",
       "    <tr>\n",
       "      <th>1595</th>\n",
       "      <td>0</td>\n",
       "      <td>1468191906</td>\n",
       "      <td>Tue Apr 07 00:12:49 PDT 2009</td>\n",
       "      <td>NO_QUERY</td>\n",
       "      <td>urkinduhsexy</td>\n",
       "      <td>i agree!</td>\n",
       "    </tr>\n",
       "    <tr>\n",
       "      <th>1649</th>\n",
       "      <td>0</td>\n",
       "      <td>1468204359</td>\n",
       "      <td>Tue Apr 07 00:16:59 PDT 2009</td>\n",
       "      <td>NO_QUERY</td>\n",
       "      <td>HoLLyWooDAiNTi</td>\n",
       "      <td>lol   goodnight</td>\n",
       "    </tr>\n",
       "    <tr>\n",
       "      <th>1669</th>\n",
       "      <td>0</td>\n",
       "      <td>1468206822</td>\n",
       "      <td>Tue Apr 07 00:17:48 PDT 2009</td>\n",
       "      <td>NO_QUERY</td>\n",
       "      <td>88claytions</td>\n",
       "      <td>doing homework...</td>\n",
       "    </tr>\n",
       "    <tr>\n",
       "      <th>...</th>\n",
       "      <td>...</td>\n",
       "      <td>...</td>\n",
       "      <td>...</td>\n",
       "      <td>...</td>\n",
       "      <td>...</td>\n",
       "      <td>...</td>\n",
       "    </tr>\n",
       "    <tr>\n",
       "      <th>1599247</th>\n",
       "      <td>4</td>\n",
       "      <td>2193401298</td>\n",
       "      <td>Tue Jun 16 08:24:31 PDT 2009</td>\n",
       "      <td>NO_QUERY</td>\n",
       "      <td>cryswil</td>\n",
       "      <td>awww congrats!</td>\n",
       "    </tr>\n",
       "    <tr>\n",
       "      <th>1599269</th>\n",
       "      <td>4</td>\n",
       "      <td>2193402524</td>\n",
       "      <td>Tue Jun 16 08:24:37 PDT 2009</td>\n",
       "      <td>NO_QUERY</td>\n",
       "      <td>Taji87</td>\n",
       "      <td>ur welcome</td>\n",
       "    </tr>\n",
       "    <tr>\n",
       "      <th>1599326</th>\n",
       "      <td>4</td>\n",
       "      <td>2193404782</td>\n",
       "      <td>Tue Jun 16 08:24:49 PDT 2009</td>\n",
       "      <td>NO_QUERY</td>\n",
       "      <td>Xplizzit</td>\n",
       "      <td>good morning!!</td>\n",
       "    </tr>\n",
       "    <tr>\n",
       "      <th>1599338</th>\n",
       "      <td>4</td>\n",
       "      <td>2193426690</td>\n",
       "      <td>Tue Jun 16 08:26:36 PDT 2009</td>\n",
       "      <td>NO_QUERY</td>\n",
       "      <td>rooster3310</td>\n",
       "      <td>good morning!!</td>\n",
       "    </tr>\n",
       "    <tr>\n",
       "      <th>1599355</th>\n",
       "      <td>4</td>\n",
       "      <td>2193427163</td>\n",
       "      <td>Tue Jun 16 08:26:39 PDT 2009</td>\n",
       "      <td>NO_QUERY</td>\n",
       "      <td>CrazySlutty</td>\n",
       "      <td>awh, cool!</td>\n",
       "    </tr>\n",
       "    <tr>\n",
       "      <th>1599371</th>\n",
       "      <td>4</td>\n",
       "      <td>2193427732</td>\n",
       "      <td>Tue Jun 16 08:26:42 PDT 2009</td>\n",
       "      <td>NO_QUERY</td>\n",
       "      <td>utopianempires</td>\n",
       "      <td>hey you</td>\n",
       "    </tr>\n",
       "    <tr>\n",
       "      <th>1599386</th>\n",
       "      <td>4</td>\n",
       "      <td>2193428145</td>\n",
       "      <td>Tue Jun 16 08:26:44 PDT 2009</td>\n",
       "      <td>NO_QUERY</td>\n",
       "      <td>Belle31</td>\n",
       "      <td>shower power</td>\n",
       "    </tr>\n",
       "    <tr>\n",
       "      <th>1599389</th>\n",
       "      <td>4</td>\n",
       "      <td>2193428172</td>\n",
       "      <td>Tue Jun 16 08:26:44 PDT 2009</td>\n",
       "      <td>NO_QUERY</td>\n",
       "      <td>zuckermaus</td>\n",
       "      <td>welcome back!</td>\n",
       "    </tr>\n",
       "    <tr>\n",
       "      <th>1599405</th>\n",
       "      <td>4</td>\n",
       "      <td>2193428783</td>\n",
       "      <td>Tue Jun 16 08:26:47 PDT 2009</td>\n",
       "      <td>NO_QUERY</td>\n",
       "      <td>witnessamiracle</td>\n",
       "      <td>sure thing!</td>\n",
       "    </tr>\n",
       "    <tr>\n",
       "      <th>1599416</th>\n",
       "      <td>4</td>\n",
       "      <td>2193429097</td>\n",
       "      <td>Tue Jun 16 08:26:49 PDT 2009</td>\n",
       "      <td>NO_QUERY</td>\n",
       "      <td>IsabellesTravel</td>\n",
       "      <td>my pleasure</td>\n",
       "    </tr>\n",
       "    <tr>\n",
       "      <th>1599450</th>\n",
       "      <td>4</td>\n",
       "      <td>2193451876</td>\n",
       "      <td>Tue Jun 16 08:28:39 PDT 2009</td>\n",
       "      <td>NO_QUERY</td>\n",
       "      <td>asiatikah</td>\n",
       "      <td>good morning!</td>\n",
       "    </tr>\n",
       "    <tr>\n",
       "      <th>1599490</th>\n",
       "      <td>4</td>\n",
       "      <td>2193453527</td>\n",
       "      <td>Tue Jun 16 08:28:47 PDT 2009</td>\n",
       "      <td>NO_QUERY</td>\n",
       "      <td>situsinversvs</td>\n",
       "      <td>visabeira rulzz</td>\n",
       "    </tr>\n",
       "    <tr>\n",
       "      <th>1599512</th>\n",
       "      <td>4</td>\n",
       "      <td>2193454262</td>\n",
       "      <td>Tue Jun 16 08:28:51 PDT 2009</td>\n",
       "      <td>NO_QUERY</td>\n",
       "      <td>joemehl</td>\n",
       "      <td>being enamoured</td>\n",
       "    </tr>\n",
       "    <tr>\n",
       "      <th>1599530</th>\n",
       "      <td>4</td>\n",
       "      <td>2193474412</td>\n",
       "      <td>Tue Jun 16 08:30:27 PDT 2009</td>\n",
       "      <td>NO_QUERY</td>\n",
       "      <td>XPabliX</td>\n",
       "      <td>happy birthday!!</td>\n",
       "    </tr>\n",
       "    <tr>\n",
       "      <th>1599547</th>\n",
       "      <td>4</td>\n",
       "      <td>2193475059</td>\n",
       "      <td>Tue Jun 16 08:30:30 PDT 2009</td>\n",
       "      <td>NO_QUERY</td>\n",
       "      <td>clo_clubland</td>\n",
       "      <td>drinkin coke</td>\n",
       "    </tr>\n",
       "    <tr>\n",
       "      <th>1599552</th>\n",
       "      <td>4</td>\n",
       "      <td>2193475408</td>\n",
       "      <td>Tue Jun 16 08:30:32 PDT 2009</td>\n",
       "      <td>NO_QUERY</td>\n",
       "      <td>SamNiley11</td>\n",
       "      <td>me too</td>\n",
       "    </tr>\n",
       "    <tr>\n",
       "      <th>1599589</th>\n",
       "      <td>4</td>\n",
       "      <td>2193477152</td>\n",
       "      <td>Tue Jun 16 08:30:40 PDT 2009</td>\n",
       "      <td>NO_QUERY</td>\n",
       "      <td>jhollenbach</td>\n",
       "      <td>good luck</td>\n",
       "    </tr>\n",
       "    <tr>\n",
       "      <th>1599625</th>\n",
       "      <td>4</td>\n",
       "      <td>2193501247</td>\n",
       "      <td>Tue Jun 16 08:32:37 PDT 2009</td>\n",
       "      <td>NO_QUERY</td>\n",
       "      <td>chloevincent</td>\n",
       "      <td>aha, thankyou</td>\n",
       "    </tr>\n",
       "    <tr>\n",
       "      <th>1599632</th>\n",
       "      <td>4</td>\n",
       "      <td>2193501460</td>\n",
       "      <td>Tue Jun 16 08:32:38 PDT 2009</td>\n",
       "      <td>NO_QUERY</td>\n",
       "      <td>chloethelwell</td>\n",
       "      <td>103 followers!!</td>\n",
       "    </tr>\n",
       "    <tr>\n",
       "      <th>1599633</th>\n",
       "      <td>4</td>\n",
       "      <td>2193501461</td>\n",
       "      <td>Tue Jun 16 08:32:38 PDT 2009</td>\n",
       "      <td>NO_QUERY</td>\n",
       "      <td>boogymonster</td>\n",
       "      <td>your right...</td>\n",
       "    </tr>\n",
       "    <tr>\n",
       "      <th>1599681</th>\n",
       "      <td>4</td>\n",
       "      <td>2193503493</td>\n",
       "      <td>Tue Jun 16 08:32:48 PDT 2009</td>\n",
       "      <td>NO_QUERY</td>\n",
       "      <td>laname</td>\n",
       "      <td>me either</td>\n",
       "    </tr>\n",
       "    <tr>\n",
       "      <th>1599707</th>\n",
       "      <td>4</td>\n",
       "      <td>2193504483</td>\n",
       "      <td>Tue Jun 16 08:32:53 PDT 2009</td>\n",
       "      <td>NO_QUERY</td>\n",
       "      <td>Craig_D</td>\n",
       "      <td>yes please</td>\n",
       "    </tr>\n",
       "    <tr>\n",
       "      <th>1599718</th>\n",
       "      <td>4</td>\n",
       "      <td>2193525663</td>\n",
       "      <td>Tue Jun 16 08:34:36 PDT 2009</td>\n",
       "      <td>NO_QUERY</td>\n",
       "      <td>DL_Christine</td>\n",
       "      <td>love you!</td>\n",
       "    </tr>\n",
       "    <tr>\n",
       "      <th>1599742</th>\n",
       "      <td>4</td>\n",
       "      <td>2193526890</td>\n",
       "      <td>Tue Jun 16 08:34:42 PDT 2009</td>\n",
       "      <td>NO_QUERY</td>\n",
       "      <td>MSB7</td>\n",
       "      <td>happy bday!</td>\n",
       "    </tr>\n",
       "    <tr>\n",
       "      <th>1599772</th>\n",
       "      <td>4</td>\n",
       "      <td>2193528213</td>\n",
       "      <td>Tue Jun 16 08:34:48 PDT 2009</td>\n",
       "      <td>NO_QUERY</td>\n",
       "      <td>crazy_moon</td>\n",
       "      <td>thank you</td>\n",
       "    </tr>\n",
       "    <tr>\n",
       "      <th>1599776</th>\n",
       "      <td>4</td>\n",
       "      <td>2193528475</td>\n",
       "      <td>Tue Jun 16 08:34:50 PDT 2009</td>\n",
       "      <td>NO_QUERY</td>\n",
       "      <td>Shash</td>\n",
       "      <td>you betcha!!</td>\n",
       "    </tr>\n",
       "    <tr>\n",
       "      <th>1599803</th>\n",
       "      <td>4</td>\n",
       "      <td>2193530019</td>\n",
       "      <td>Tue Jun 16 08:34:58 PDT 2009</td>\n",
       "      <td>NO_QUERY</td>\n",
       "      <td>friskygeek</td>\n",
       "      <td>right-click, repost.</td>\n",
       "    </tr>\n",
       "    <tr>\n",
       "      <th>1599817</th>\n",
       "      <td>4</td>\n",
       "      <td>2193551123</td>\n",
       "      <td>Tue Jun 16 08:36:40 PDT 2009</td>\n",
       "      <td>NO_QUERY</td>\n",
       "      <td>Lilddd</td>\n",
       "      <td>sure.. bighead</td>\n",
       "    </tr>\n",
       "    <tr>\n",
       "      <th>1599963</th>\n",
       "      <td>4</td>\n",
       "      <td>2193577870</td>\n",
       "      <td>Tue Jun 16 08:38:52 PDT 2009</td>\n",
       "      <td>NO_QUERY</td>\n",
       "      <td>stephmartinez</td>\n",
       "      <td>it's sunoudy</td>\n",
       "    </tr>\n",
       "    <tr>\n",
       "      <th>1599999</th>\n",
       "      <td>4</td>\n",
       "      <td>2193602129</td>\n",
       "      <td>Tue Jun 16 08:40:50 PDT 2009</td>\n",
       "      <td>NO_QUERY</td>\n",
       "      <td>RyanTrevMorris</td>\n",
       "      <td>happy #charitytuesday</td>\n",
       "    </tr>\n",
       "  </tbody>\n",
       "</table>\n",
       "<p>37017 rows × 6 columns</p>\n",
       "</div>"
      ],
      "text/plain": [
       "         sentiment          id                          date     query  \\\n",
       "103              0  1467837470  Mon Apr 06 22:26:43 PDT 2009  NO_QUERY   \n",
       "108              0  1467837888  Mon Apr 06 22:26:52 PDT 2009  NO_QUERY   \n",
       "133              0  1467842299  Mon Apr 06 22:28:03 PDT 2009  NO_QUERY   \n",
       "191              0  1467859666  Mon Apr 06 22:32:31 PDT 2009  NO_QUERY   \n",
       "364              0  1467901500  Mon Apr 06 22:43:49 PDT 2009  NO_QUERY   \n",
       "447              0  1467926546  Mon Apr 06 22:50:49 PDT 2009  NO_QUERY   \n",
       "472              0  1467931027  Mon Apr 06 22:52:07 PDT 2009  NO_QUERY   \n",
       "503              0  1467937038  Mon Apr 06 22:53:49 PDT 2009  NO_QUERY   \n",
       "545              0  1467949746  Mon Apr 06 22:57:28 PDT 2009  NO_QUERY   \n",
       "563              0  1467951850  Mon Apr 06 22:58:04 PDT 2009  NO_QUERY   \n",
       "610              0  1467966260  Mon Apr 06 23:02:00 PDT 2009  NO_QUERY   \n",
       "841              0  1468019679  Mon Apr 06 23:17:29 PDT 2009  NO_QUERY   \n",
       "870              0  1468031172  Mon Apr 06 23:21:02 PDT 2009  NO_QUERY   \n",
       "871              0  1468031217  Mon Apr 06 23:21:03 PDT 2009  NO_QUERY   \n",
       "890              0  1468033152  Mon Apr 06 23:21:41 PDT 2009  NO_QUERY   \n",
       "1065             0  1468072550  Mon Apr 06 23:33:55 PDT 2009  NO_QUERY   \n",
       "1120             0  1468085048  Mon Apr 06 23:37:52 PDT 2009  NO_QUERY   \n",
       "1136             0  1468093070  Mon Apr 06 23:40:31 PDT 2009  NO_QUERY   \n",
       "1142             0  1468093942  Mon Apr 06 23:40:47 PDT 2009  NO_QUERY   \n",
       "1201             0  1468106999  Mon Apr 06 23:45:07 PDT 2009  NO_QUERY   \n",
       "1205             0  1468107426  Mon Apr 06 23:45:15 PDT 2009  NO_QUERY   \n",
       "1304             0  1468126027  Mon Apr 06 23:51:22 PDT 2009  NO_QUERY   \n",
       "1325             0  1468130348  Mon Apr 06 23:52:52 PDT 2009  NO_QUERY   \n",
       "1330             0  1468131389  Mon Apr 06 23:53:14 PDT 2009  NO_QUERY   \n",
       "1338             0  1468132343  Mon Apr 06 23:53:34 PDT 2009  NO_QUERY   \n",
       "1343             0  1468133161  Mon Apr 06 23:53:52 PDT 2009  NO_QUERY   \n",
       "1383             0  1468141233  Mon Apr 06 23:56:29 PDT 2009  NO_QUERY   \n",
       "1595             0  1468191906  Tue Apr 07 00:12:49 PDT 2009  NO_QUERY   \n",
       "1649             0  1468204359  Tue Apr 07 00:16:59 PDT 2009  NO_QUERY   \n",
       "1669             0  1468206822  Tue Apr 07 00:17:48 PDT 2009  NO_QUERY   \n",
       "...            ...         ...                           ...       ...   \n",
       "1599247          4  2193401298  Tue Jun 16 08:24:31 PDT 2009  NO_QUERY   \n",
       "1599269          4  2193402524  Tue Jun 16 08:24:37 PDT 2009  NO_QUERY   \n",
       "1599326          4  2193404782  Tue Jun 16 08:24:49 PDT 2009  NO_QUERY   \n",
       "1599338          4  2193426690  Tue Jun 16 08:26:36 PDT 2009  NO_QUERY   \n",
       "1599355          4  2193427163  Tue Jun 16 08:26:39 PDT 2009  NO_QUERY   \n",
       "1599371          4  2193427732  Tue Jun 16 08:26:42 PDT 2009  NO_QUERY   \n",
       "1599386          4  2193428145  Tue Jun 16 08:26:44 PDT 2009  NO_QUERY   \n",
       "1599389          4  2193428172  Tue Jun 16 08:26:44 PDT 2009  NO_QUERY   \n",
       "1599405          4  2193428783  Tue Jun 16 08:26:47 PDT 2009  NO_QUERY   \n",
       "1599416          4  2193429097  Tue Jun 16 08:26:49 PDT 2009  NO_QUERY   \n",
       "1599450          4  2193451876  Tue Jun 16 08:28:39 PDT 2009  NO_QUERY   \n",
       "1599490          4  2193453527  Tue Jun 16 08:28:47 PDT 2009  NO_QUERY   \n",
       "1599512          4  2193454262  Tue Jun 16 08:28:51 PDT 2009  NO_QUERY   \n",
       "1599530          4  2193474412  Tue Jun 16 08:30:27 PDT 2009  NO_QUERY   \n",
       "1599547          4  2193475059  Tue Jun 16 08:30:30 PDT 2009  NO_QUERY   \n",
       "1599552          4  2193475408  Tue Jun 16 08:30:32 PDT 2009  NO_QUERY   \n",
       "1599589          4  2193477152  Tue Jun 16 08:30:40 PDT 2009  NO_QUERY   \n",
       "1599625          4  2193501247  Tue Jun 16 08:32:37 PDT 2009  NO_QUERY   \n",
       "1599632          4  2193501460  Tue Jun 16 08:32:38 PDT 2009  NO_QUERY   \n",
       "1599633          4  2193501461  Tue Jun 16 08:32:38 PDT 2009  NO_QUERY   \n",
       "1599681          4  2193503493  Tue Jun 16 08:32:48 PDT 2009  NO_QUERY   \n",
       "1599707          4  2193504483  Tue Jun 16 08:32:53 PDT 2009  NO_QUERY   \n",
       "1599718          4  2193525663  Tue Jun 16 08:34:36 PDT 2009  NO_QUERY   \n",
       "1599742          4  2193526890  Tue Jun 16 08:34:42 PDT 2009  NO_QUERY   \n",
       "1599772          4  2193528213  Tue Jun 16 08:34:48 PDT 2009  NO_QUERY   \n",
       "1599776          4  2193528475  Tue Jun 16 08:34:50 PDT 2009  NO_QUERY   \n",
       "1599803          4  2193530019  Tue Jun 16 08:34:58 PDT 2009  NO_QUERY   \n",
       "1599817          4  2193551123  Tue Jun 16 08:36:40 PDT 2009  NO_QUERY   \n",
       "1599963          4  2193577870  Tue Jun 16 08:38:52 PDT 2009  NO_QUERY   \n",
       "1599999          4  2193602129  Tue Jun 16 08:40:50 PDT 2009  NO_QUERY   \n",
       "\n",
       "                    user                        tweet  \n",
       "103           annette414  watching &quot;house&quot;   \n",
       "108         wireandroses              it's overrated   \n",
       "133               HiKeri              almost bedtime   \n",
       "191      DreamActivist23                        oh no  \n",
       "364             thegeach                feeling down   \n",
       "447      aragorn_elessar                thatï¿½s bad   \n",
       "472                enfox               what happened?  \n",
       "503           shockboard                       i see.  \n",
       "545            xShyGirlx                     at work   \n",
       "563              MissT09            absolutely not!!   \n",
       "610             bluntmag                    i reckon   \n",
       "841          gravitybomb                  that's sad.  \n",
       "870         flashbrother                  work again   \n",
       "871           Jallenwhit                essay time..   \n",
       "890               xGabii                    miss you   \n",
       "1065           Lizzibear      needs hugs/snuggles...   \n",
       "1120            policano          everything alright?  \n",
       "1136             Lexi_83        extremely jealous...   \n",
       "1142            Cynxster              congested nose   \n",
       "1201         stuartheron             shockingly not!   \n",
       "1205              iain20                    up early   \n",
       "1304             rodarte                whats wrong!   \n",
       "1325          chikalicia             hot deadline...   \n",
       "1330          johnholdun            michael crichton   \n",
       "1338        kimmiecubaby                      is cold  \n",
       "1343           Laiinieee                    is coldd   \n",
       "1383           lindale41               me...i'm up.    \n",
       "1595        urkinduhsexy                    i agree!   \n",
       "1649      HoLLyWooDAiNTi              lol   goodnight  \n",
       "1669         88claytions          doing homework...    \n",
       "...                  ...                          ...  \n",
       "1599247          cryswil              awww congrats!   \n",
       "1599269           Taji87                  ur welcome   \n",
       "1599326         Xplizzit              good morning!!   \n",
       "1599338      rooster3310             good morning!!    \n",
       "1599355      CrazySlutty                  awh, cool!   \n",
       "1599371   utopianempires                     hey you   \n",
       "1599386          Belle31                shower power   \n",
       "1599389       zuckermaus               welcome back!   \n",
       "1599405  witnessamiracle                 sure thing!   \n",
       "1599416  IsabellesTravel                 my pleasure   \n",
       "1599450        asiatikah               good morning!   \n",
       "1599490    situsinversvs             visabeira rulzz   \n",
       "1599512          joemehl             being enamoured   \n",
       "1599530          XPabliX            happy birthday!!   \n",
       "1599547     clo_clubland                drinkin coke   \n",
       "1599552       SamNiley11                      me too   \n",
       "1599589      jhollenbach                   good luck   \n",
       "1599625     chloevincent               aha, thankyou   \n",
       "1599632    chloethelwell             103 followers!!   \n",
       "1599633     boogymonster               your right...   \n",
       "1599681           laname                   me either   \n",
       "1599707          Craig_D                 yes please    \n",
       "1599718     DL_Christine                    love you!  \n",
       "1599742             MSB7                 happy bday!   \n",
       "1599772       crazy_moon                   thank you   \n",
       "1599776            Shash                you betcha!!   \n",
       "1599803       friskygeek        right-click, repost.   \n",
       "1599817           Lilddd              sure.. bighead   \n",
       "1599963    stephmartinez                it's sunoudy   \n",
       "1599999   RyanTrevMorris    happy #charitytuesday      \n",
       "\n",
       "[37017 rows x 6 columns]"
      ]
     },
     "execution_count": 10,
     "metadata": {},
     "output_type": "execute_result"
    }
   ],
   "source": [
    "df_sent140.loc[ counts == 2, : ]"
   ]
  },
  {
   "cell_type": "markdown",
   "metadata": {},
   "source": [
    "### Sentiment polarities"
   ]
  },
  {
   "cell_type": "code",
   "execution_count": 16,
   "metadata": {},
   "outputs": [
    {
     "data": {
      "text/plain": [
       "{0: 800000, 1: 0, 2: 0, 3: 0, 4: 800000}"
      ]
     },
     "execution_count": 16,
     "metadata": {},
     "output_type": "execute_result"
    }
   ],
   "source": [
    "{ v: (df_sent140['sentiment'] == v).sum() for v in range(5)}"
   ]
  },
  {
   "cell_type": "markdown",
   "metadata": {},
   "source": [
    "### There are no `neutral` tweets!\n",
    "\n",
    "We **can't** easily use this data to train a 3-point classifier."
   ]
  },
  {
   "cell_type": "markdown",
   "metadata": {},
   "source": [
    "## Look at the data for SemEval 2017"
   ]
  },
  {
   "cell_type": "code",
   "execution_count": 11,
   "metadata": {},
   "outputs": [
    {
     "data": {
      "text/plain": [
       "[PosixPath('data/SemEval2017-4A-English/readme.txt'),\n",
       " PosixPath('data/SemEval2017-4A-English/models'),\n",
       " PosixPath('data/SemEval2017-4A-English/test.csv'),\n",
       " PosixPath('data/SemEval2017-4A-English/data_lm.pkl'),\n",
       " PosixPath('data/SemEval2017-4A-English/train.csv')]"
      ]
     },
     "execution_count": 11,
     "metadata": {},
     "output_type": "execute_result"
    }
   ],
   "source": [
    "semeval_path = Path('data/SemEval2017-4A-English')\n",
    "semeval_path.ls()"
   ]
  },
  {
   "cell_type": "code",
   "execution_count": 12,
   "metadata": {},
   "outputs": [
    {
     "data": {
      "text/html": [
       "<div>\n",
       "<style scoped>\n",
       "    .dataframe tbody tr th:only-of-type {\n",
       "        vertical-align: middle;\n",
       "    }\n",
       "\n",
       "    .dataframe tbody tr th {\n",
       "        vertical-align: top;\n",
       "    }\n",
       "\n",
       "    .dataframe thead th {\n",
       "        text-align: right;\n",
       "    }\n",
       "</style>\n",
       "<table border=\"1\" class=\"dataframe\">\n",
       "  <thead>\n",
       "    <tr style=\"text-align: right;\">\n",
       "      <th></th>\n",
       "      <th>0</th>\n",
       "      <th>1</th>\n",
       "      <th>2</th>\n",
       "    </tr>\n",
       "  </thead>\n",
       "  <tbody>\n",
       "    <tr>\n",
       "      <th>0</th>\n",
       "      <td>801989080477154944</td>\n",
       "      <td>neutral</td>\n",
       "      <td>#ArianaGrande Ari By Ariana Grande 80% Full ht...</td>\n",
       "    </tr>\n",
       "    <tr>\n",
       "      <th>1</th>\n",
       "      <td>801989272341453952</td>\n",
       "      <td>positive</td>\n",
       "      <td>Ariana Grande KIIS FM Yours Truly CD listening...</td>\n",
       "    </tr>\n",
       "    <tr>\n",
       "      <th>2</th>\n",
       "      <td>801990978424962944</td>\n",
       "      <td>positive</td>\n",
       "      <td>Ariana Grande White House Easter Egg Roll in W...</td>\n",
       "    </tr>\n",
       "    <tr>\n",
       "      <th>3</th>\n",
       "      <td>801996232553963008</td>\n",
       "      <td>positive</td>\n",
       "      <td>#CD #Musics Ariana Grande Sweet Like Candy 3.4...</td>\n",
       "    </tr>\n",
       "    <tr>\n",
       "      <th>4</th>\n",
       "      <td>801998343442407040</td>\n",
       "      <td>neutral</td>\n",
       "      <td>SIDE TO SIDE 😘 @arianagrande #sidetoside #aria...</td>\n",
       "    </tr>\n",
       "  </tbody>\n",
       "</table>\n",
       "</div>"
      ],
      "text/plain": [
       "                    0         1  \\\n",
       "0  801989080477154944   neutral   \n",
       "1  801989272341453952  positive   \n",
       "2  801990978424962944  positive   \n",
       "3  801996232553963008  positive   \n",
       "4  801998343442407040   neutral   \n",
       "\n",
       "                                                   2  \n",
       "0  #ArianaGrande Ari By Ariana Grande 80% Full ht...  \n",
       "1  Ariana Grande KIIS FM Yours Truly CD listening...  \n",
       "2  Ariana Grande White House Easter Egg Roll in W...  \n",
       "3  #CD #Musics Ariana Grande Sweet Like Candy 3.4...  \n",
       "4  SIDE TO SIDE 😘 @arianagrande #sidetoside #aria...  "
      ]
     },
     "execution_count": 12,
     "metadata": {},
     "output_type": "execute_result"
    }
   ],
   "source": [
    "df_test = pd.read_csv(semeval_path/'test.csv', header=None, delimiter=\"\\t\")\n",
    "df_test.head()"
   ]
  },
  {
   "cell_type": "code",
   "execution_count": 13,
   "metadata": {},
   "outputs": [
    {
     "data": {
      "text/html": [
       "<div>\n",
       "<style scoped>\n",
       "    .dataframe tbody tr th:only-of-type {\n",
       "        vertical-align: middle;\n",
       "    }\n",
       "\n",
       "    .dataframe tbody tr th {\n",
       "        vertical-align: top;\n",
       "    }\n",
       "\n",
       "    .dataframe thead th {\n",
       "        text-align: right;\n",
       "    }\n",
       "</style>\n",
       "<table border=\"1\" class=\"dataframe\">\n",
       "  <thead>\n",
       "    <tr style=\"text-align: right;\">\n",
       "      <th></th>\n",
       "      <th>0</th>\n",
       "      <th>1</th>\n",
       "      <th>2</th>\n",
       "    </tr>\n",
       "  </thead>\n",
       "  <tbody>\n",
       "    <tr>\n",
       "      <th>0</th>\n",
       "      <td>260097528899452929</td>\n",
       "      <td>neutral</td>\n",
       "      <td>Won the match #getin . Plus\\u002c tomorrow is ...</td>\n",
       "    </tr>\n",
       "    <tr>\n",
       "      <th>1</th>\n",
       "      <td>263791921753882624</td>\n",
       "      <td>neutral</td>\n",
       "      <td>Some areas of New England could see the first ...</td>\n",
       "    </tr>\n",
       "    <tr>\n",
       "      <th>2</th>\n",
       "      <td>264194578381410304</td>\n",
       "      <td>negative</td>\n",
       "      <td>@francesco_con40 2nd worst QB. DEFINITELY Tony...</td>\n",
       "    </tr>\n",
       "    <tr>\n",
       "      <th>3</th>\n",
       "      <td>264041328420204544</td>\n",
       "      <td>neutral</td>\n",
       "      <td>#Thailand Washington - US President Barack Oba...</td>\n",
       "    </tr>\n",
       "    <tr>\n",
       "      <th>4</th>\n",
       "      <td>263816256640126976</td>\n",
       "      <td>neutral</td>\n",
       "      <td>Did y\\u2019all hear what Tony Romo dressed up ...</td>\n",
       "    </tr>\n",
       "  </tbody>\n",
       "</table>\n",
       "</div>"
      ],
      "text/plain": [
       "                    0         1  \\\n",
       "0  260097528899452929   neutral   \n",
       "1  263791921753882624   neutral   \n",
       "2  264194578381410304  negative   \n",
       "3  264041328420204544   neutral   \n",
       "4  263816256640126976   neutral   \n",
       "\n",
       "                                                   2  \n",
       "0  Won the match #getin . Plus\\u002c tomorrow is ...  \n",
       "1  Some areas of New England could see the first ...  \n",
       "2  @francesco_con40 2nd worst QB. DEFINITELY Tony...  \n",
       "3  #Thailand Washington - US President Barack Oba...  \n",
       "4  Did y\\u2019all hear what Tony Romo dressed up ...  "
      ]
     },
     "execution_count": 13,
     "metadata": {},
     "output_type": "execute_result"
    }
   ],
   "source": [
    "df_train = pd.read_csv(semeval_path/'train.csv', header=None, delimiter=\"\\t\")\n",
    "df_train.head()"
   ]
  },
  {
   "cell_type": "code",
   "execution_count": 14,
   "metadata": {},
   "outputs": [
    {
     "name": "stdout",
     "output_type": "stream",
     "text": [
      "(11906, 3) (50083, 3)\n"
     ]
    }
   ],
   "source": [
    "print(df_test.shape, df_train.shape)"
   ]
  },
  {
   "cell_type": "code",
   "execution_count": 15,
   "metadata": {},
   "outputs": [
    {
     "data": {
      "text/html": [
       "<div>\n",
       "<style scoped>\n",
       "    .dataframe tbody tr th:only-of-type {\n",
       "        vertical-align: middle;\n",
       "    }\n",
       "\n",
       "    .dataframe tbody tr th {\n",
       "        vertical-align: top;\n",
       "    }\n",
       "\n",
       "    .dataframe thead th {\n",
       "        text-align: right;\n",
       "    }\n",
       "</style>\n",
       "<table border=\"1\" class=\"dataframe\">\n",
       "  <thead>\n",
       "    <tr style=\"text-align: right;\">\n",
       "      <th></th>\n",
       "      <th>id</th>\n",
       "      <th>label</th>\n",
       "      <th>tweet</th>\n",
       "    </tr>\n",
       "  </thead>\n",
       "  <tbody>\n",
       "    <tr>\n",
       "      <th>0</th>\n",
       "      <td>260097528899452929</td>\n",
       "      <td>neutral</td>\n",
       "      <td>Won the match #getin . Plus\\u002c tomorrow is ...</td>\n",
       "    </tr>\n",
       "    <tr>\n",
       "      <th>1</th>\n",
       "      <td>263791921753882624</td>\n",
       "      <td>neutral</td>\n",
       "      <td>Some areas of New England could see the first ...</td>\n",
       "    </tr>\n",
       "    <tr>\n",
       "      <th>2</th>\n",
       "      <td>264194578381410304</td>\n",
       "      <td>negative</td>\n",
       "      <td>@francesco_con40 2nd worst QB. DEFINITELY Tony...</td>\n",
       "    </tr>\n",
       "    <tr>\n",
       "      <th>3</th>\n",
       "      <td>264041328420204544</td>\n",
       "      <td>neutral</td>\n",
       "      <td>#Thailand Washington - US President Barack Oba...</td>\n",
       "    </tr>\n",
       "    <tr>\n",
       "      <th>4</th>\n",
       "      <td>263816256640126976</td>\n",
       "      <td>neutral</td>\n",
       "      <td>Did y\\u2019all hear what Tony Romo dressed up ...</td>\n",
       "    </tr>\n",
       "  </tbody>\n",
       "</table>\n",
       "</div>"
      ],
      "text/plain": [
       "                   id     label  \\\n",
       "0  260097528899452929   neutral   \n",
       "1  263791921753882624   neutral   \n",
       "2  264194578381410304  negative   \n",
       "3  264041328420204544   neutral   \n",
       "4  263816256640126976   neutral   \n",
       "\n",
       "                                               tweet  \n",
       "0  Won the match #getin . Plus\\u002c tomorrow is ...  \n",
       "1  Some areas of New England could see the first ...  \n",
       "2  @francesco_con40 2nd worst QB. DEFINITELY Tony...  \n",
       "3  #Thailand Washington - US President Barack Oba...  \n",
       "4  Did y\\u2019all hear what Tony Romo dressed up ...  "
      ]
     },
     "execution_count": 15,
     "metadata": {},
     "output_type": "execute_result"
    }
   ],
   "source": [
    "df_test.columns = ['id', 'label', 'tweet']\n",
    "df_train.columns = ['id', 'label', 'tweet']\n",
    "df_train.head()"
   ]
  },
  {
   "cell_type": "code",
   "execution_count": 16,
   "metadata": {},
   "outputs": [
    {
     "data": {
      "text/plain": [
       "array(['neutral', 'positive', 'negative'], dtype=object)"
      ]
     },
     "execution_count": 16,
     "metadata": {},
     "output_type": "execute_result"
    }
   ],
   "source": [
    "df_test['label'].unique()"
   ]
  },
  {
   "cell_type": "code",
   "execution_count": 17,
   "metadata": {},
   "outputs": [
    {
     "data": {
      "text/plain": [
       "array(['neutral', 'negative', 'positive'], dtype=object)"
      ]
     },
     "execution_count": 17,
     "metadata": {},
     "output_type": "execute_result"
    }
   ],
   "source": [
    "df_train['label'].unique()"
   ]
  },
  {
   "cell_type": "code",
   "execution_count": 18,
   "metadata": {},
   "outputs": [
    {
     "data": {
      "text/html": [
       "<div>\n",
       "<style scoped>\n",
       "    .dataframe tbody tr th:only-of-type {\n",
       "        vertical-align: middle;\n",
       "    }\n",
       "\n",
       "    .dataframe tbody tr th {\n",
       "        vertical-align: top;\n",
       "    }\n",
       "\n",
       "    .dataframe thead th {\n",
       "        text-align: right;\n",
       "    }\n",
       "</style>\n",
       "<table border=\"1\" class=\"dataframe\">\n",
       "  <thead>\n",
       "    <tr style=\"text-align: right;\">\n",
       "      <th></th>\n",
       "      <th>id</th>\n",
       "      <th>label</th>\n",
       "      <th>tweet</th>\n",
       "    </tr>\n",
       "  </thead>\n",
       "  <tbody>\n",
       "    <tr>\n",
       "      <th>0</th>\n",
       "      <td>801989080477154944</td>\n",
       "      <td>neutral</td>\n",
       "      <td>#arianagrande ari by ariana grande 80% full &lt;u...</td>\n",
       "    </tr>\n",
       "    <tr>\n",
       "      <th>1</th>\n",
       "      <td>801989272341453952</td>\n",
       "      <td>positive</td>\n",
       "      <td>ariana grande kiis fm yours truly cd listening...</td>\n",
       "    </tr>\n",
       "    <tr>\n",
       "      <th>2</th>\n",
       "      <td>801990978424962944</td>\n",
       "      <td>positive</td>\n",
       "      <td>ariana grande white house easter egg roll in w...</td>\n",
       "    </tr>\n",
       "    <tr>\n",
       "      <th>3</th>\n",
       "      <td>801996232553963008</td>\n",
       "      <td>positive</td>\n",
       "      <td>#cd #musics ariana grande sweet like candy 3.4...</td>\n",
       "    </tr>\n",
       "    <tr>\n",
       "      <th>4</th>\n",
       "      <td>801998343442407040</td>\n",
       "      <td>neutral</td>\n",
       "      <td>side to side 😘  #sidetoside #arianagrande #mus...</td>\n",
       "    </tr>\n",
       "    <tr>\n",
       "      <th>5</th>\n",
       "      <td>802001659970744064</td>\n",
       "      <td>positive</td>\n",
       "      <td>hairspray live! previews at the macy's thanksg...</td>\n",
       "    </tr>\n",
       "    <tr>\n",
       "      <th>6</th>\n",
       "      <td>802003380973568000</td>\n",
       "      <td>positive</td>\n",
       "      <td>#lindsaylohan is ‘feeling thankful’ after blas...</td>\n",
       "    </tr>\n",
       "    <tr>\n",
       "      <th>7</th>\n",
       "      <td>802014830467174016</td>\n",
       "      <td>neutral</td>\n",
       "      <td>i hate her but... i love her songs dammit ._.#...</td>\n",
       "    </tr>\n",
       "    <tr>\n",
       "      <th>8</th>\n",
       "      <td>802020578609623040</td>\n",
       "      <td>neutral</td>\n",
       "      <td>ariana grande 【right there ft. big sean】#アリアナ ...</td>\n",
       "    </tr>\n",
       "    <tr>\n",
       "      <th>9</th>\n",
       "      <td>802021059490934016</td>\n",
       "      <td>positive</td>\n",
       "      <td>which one would you prefer to listen to for a ...</td>\n",
       "    </tr>\n",
       "    <tr>\n",
       "      <th>10</th>\n",
       "      <td>802021122384523008</td>\n",
       "      <td>neutral</td>\n",
       "      <td>booty baby ari#arianagrande #princessari #boot...</td>\n",
       "    </tr>\n",
       "    <tr>\n",
       "      <th>11</th>\n",
       "      <td>802022296818880000</td>\n",
       "      <td>neutral</td>\n",
       "      <td>#lindsaylohan backs out of a #kettering holida...</td>\n",
       "    </tr>\n",
       "    <tr>\n",
       "      <th>12</th>\n",
       "      <td>802022559520673024</td>\n",
       "      <td>positive</td>\n",
       "      <td>my idols are #littlemix #justinbieber #arianag...</td>\n",
       "    </tr>\n",
       "    <tr>\n",
       "      <th>13</th>\n",
       "      <td>802022965743415040</td>\n",
       "      <td>neutral</td>\n",
       "      <td>ariana grande - the sims 3 - simsdomination #a...</td>\n",
       "    </tr>\n",
       "    <tr>\n",
       "      <th>14</th>\n",
       "      <td>802024079851069056</td>\n",
       "      <td>neutral</td>\n",
       "      <td>#music #arianagrande-the remix-japan only #cd ...</td>\n",
       "    </tr>\n",
       "    <tr>\n",
       "      <th>15</th>\n",
       "      <td>802024085777629056</td>\n",
       "      <td>positive</td>\n",
       "      <td>#beauty #arianagrande-christmas &amp; chill-japan ...</td>\n",
       "    </tr>\n",
       "    <tr>\n",
       "      <th>16</th>\n",
       "      <td>802024981638958976</td>\n",
       "      <td>neutral</td>\n",
       "      <td>【popular song】ahh, i said i'm putting down my ...</td>\n",
       "    </tr>\n",
       "    <tr>\n",
       "      <th>17</th>\n",
       "      <td>802026442687217024</td>\n",
       "      <td>neutral</td>\n",
       "      <td>ariana grande private event for coach in japan...</td>\n",
       "    </tr>\n",
       "    <tr>\n",
       "      <th>18</th>\n",
       "      <td>802028835013206016</td>\n",
       "      <td>positive</td>\n",
       "      <td>#beauty #arianagrande-the remix-japan only #cd...</td>\n",
       "    </tr>\n",
       "    <tr>\n",
       "      <th>19</th>\n",
       "      <td>802028852180462976</td>\n",
       "      <td>positive</td>\n",
       "      <td>4. one last time - #arianagrande&lt;url&gt;</td>\n",
       "    </tr>\n",
       "    <tr>\n",
       "      <th>20</th>\n",
       "      <td>802030814246489984</td>\n",
       "      <td>positive</td>\n",
       "      <td>more #newarrivals #pentatonix #christmasalbum ...</td>\n",
       "    </tr>\n",
       "    <tr>\n",
       "      <th>21</th>\n",
       "      <td>802032149885026048</td>\n",
       "      <td>positive</td>\n",
       "      <td>so much love for this woman, ughh 💍💍 #arianagr...</td>\n",
       "    </tr>\n",
       "    <tr>\n",
       "      <th>22</th>\n",
       "      <td>802032523152718976</td>\n",
       "      <td>neutral</td>\n",
       "      <td>ariana lips💄#mac #ariana #arianagrande &lt;url&gt;</td>\n",
       "    </tr>\n",
       "    <tr>\n",
       "      <th>23</th>\n",
       "      <td>802041485948555008</td>\n",
       "      <td>neutral</td>\n",
       "      <td>ariana grande - 2015 nyc pride dance on the pi...</td>\n",
       "    </tr>\n",
       "    <tr>\n",
       "      <th>24</th>\n",
       "      <td>802042842096902016</td>\n",
       "      <td>positive</td>\n",
       "      <td>thanks god it's friday. #thanksgiving #arianag...</td>\n",
       "    </tr>\n",
       "    <tr>\n",
       "      <th>25</th>\n",
       "      <td>802045545992723968</td>\n",
       "      <td>neutral</td>\n",
       "      <td>#music &lt;email&gt; pm16:00ariana grande - baby i &lt;...</td>\n",
       "    </tr>\n",
       "    <tr>\n",
       "      <th>26</th>\n",
       "      <td>802045726318587008</td>\n",
       "      <td>positive</td>\n",
       "      <td>new on  . big fan of  and  #arianagrande #nick...</td>\n",
       "    </tr>\n",
       "    <tr>\n",
       "      <th>27</th>\n",
       "      <td>802198774114385024</td>\n",
       "      <td>negative</td>\n",
       "      <td>soros brainwashes &amp; enslaves u #blacklivesmatt...</td>\n",
       "    </tr>\n",
       "    <tr>\n",
       "      <th>28</th>\n",
       "      <td>802198896474803968</td>\n",
       "      <td>neutral</td>\n",
       "      <td>obama's latest #blacklivesmatter recruiting vi...</td>\n",
       "    </tr>\n",
       "    <tr>\n",
       "      <th>29</th>\n",
       "      <td>802198916489874944</td>\n",
       "      <td>negative</td>\n",
       "      <td>iggy from the\"revolution club\" mad that trump ...</td>\n",
       "    </tr>\n",
       "    <tr>\n",
       "      <th>...</th>\n",
       "      <td>...</td>\n",
       "      <td>...</td>\n",
       "      <td>...</td>\n",
       "    </tr>\n",
       "    <tr>\n",
       "      <th>11876</th>\n",
       "      <td>805668577621618688</td>\n",
       "      <td>neutral</td>\n",
       "      <td>zac efron flaunts fit abs in new ‘dirty grandp...</td>\n",
       "    </tr>\n",
       "    <tr>\n",
       "      <th>11877</th>\n",
       "      <td>805672672784883712</td>\n",
       "      <td>negative</td>\n",
       "      <td>it makes me so mad that i didn't realize it wa...</td>\n",
       "    </tr>\n",
       "    <tr>\n",
       "      <th>11878</th>\n",
       "      <td>805672855912398848</td>\n",
       "      <td>positive</td>\n",
       "      <td>zac efron &amp; seth rogen both have abs -- kinda ...</td>\n",
       "    </tr>\n",
       "    <tr>\n",
       "      <th>11879</th>\n",
       "      <td>805673812415090692</td>\n",
       "      <td>neutral</td>\n",
       "      <td>how to be fierce with zac efron #part6 (thank ...</td>\n",
       "    </tr>\n",
       "    <tr>\n",
       "      <th>11880</th>\n",
       "      <td>805675109524467712</td>\n",
       "      <td>positive</td>\n",
       "      <td>just realised i've loved zac efron since i was...</td>\n",
       "    </tr>\n",
       "    <tr>\n",
       "      <th>11881</th>\n",
       "      <td>805676316317995009</td>\n",
       "      <td>neutral</td>\n",
       "      <td>the one with zac efron?</td>\n",
       "    </tr>\n",
       "    <tr>\n",
       "      <th>11882</th>\n",
       "      <td>805678408315371520</td>\n",
       "      <td>neutral</td>\n",
       "      <td>#nowplaying scream by zac efron ♫ &lt;url&gt;</td>\n",
       "    </tr>\n",
       "    <tr>\n",
       "      <th>11883</th>\n",
       "      <td>805678892350640128</td>\n",
       "      <td>neutral</td>\n",
       "      <td>#sexy girls get fucked for first time zac efro...</td>\n",
       "    </tr>\n",
       "    <tr>\n",
       "      <th>11884</th>\n",
       "      <td>805680445891354626</td>\n",
       "      <td>neutral</td>\n",
       "      <td>zac efron goes shirtless in new pic with girlf...</td>\n",
       "    </tr>\n",
       "    <tr>\n",
       "      <th>11885</th>\n",
       "      <td>805681653628751873</td>\n",
       "      <td>neutral</td>\n",
       "      <td>zac efron completely naked &lt;url&gt;</td>\n",
       "    </tr>\n",
       "    <tr>\n",
       "      <th>11886</th>\n",
       "      <td>805683427026444288</td>\n",
       "      <td>positive</td>\n",
       "      <td>l l #zacefron #fashion the lucky one blu-ray d...</td>\n",
       "    </tr>\n",
       "    <tr>\n",
       "      <th>11887</th>\n",
       "      <td>805684107955019776</td>\n",
       "      <td>neutral</td>\n",
       "      <td>kelly brook reveals baywatch role with zac efr...</td>\n",
       "    </tr>\n",
       "    <tr>\n",
       "      <th>11888</th>\n",
       "      <td>805685999175159808</td>\n",
       "      <td>negative</td>\n",
       "      <td>5. i'm still not mad i'm not dating zac efron</td>\n",
       "    </tr>\n",
       "    <tr>\n",
       "      <th>11889</th>\n",
       "      <td>805686675951128576</td>\n",
       "      <td>neutral</td>\n",
       "      <td>zac efron and sami miró coordinate for their w...</td>\n",
       "    </tr>\n",
       "    <tr>\n",
       "      <th>11890</th>\n",
       "      <td>805686702966591488</td>\n",
       "      <td>positive</td>\n",
       "      <td>zac efron &amp; seth rogen flex their muscles in s...</td>\n",
       "    </tr>\n",
       "    <tr>\n",
       "      <th>11891</th>\n",
       "      <td>805687944241516544</td>\n",
       "      <td>neutral</td>\n",
       "      <td>#zacefron and seth rogen are shirtless and wea...</td>\n",
       "    </tr>\n",
       "    <tr>\n",
       "      <th>11892</th>\n",
       "      <td>805687959026601984</td>\n",
       "      <td>neutral</td>\n",
       "      <td>5 incidents of how zac efron is inspirational ...</td>\n",
       "    </tr>\n",
       "    <tr>\n",
       "      <th>11893</th>\n",
       "      <td>805689537024274434</td>\n",
       "      <td>neutral</td>\n",
       "      <td>alexandra daddario on working with zac efron a...</td>\n",
       "    </tr>\n",
       "    <tr>\n",
       "      <th>11894</th>\n",
       "      <td>805692823752146944</td>\n",
       "      <td>positive</td>\n",
       "      <td>there could be a thousand more hairspray remak...</td>\n",
       "    </tr>\n",
       "    <tr>\n",
       "      <th>11895</th>\n",
       "      <td>805693136785678336</td>\n",
       "      <td>neutral</td>\n",
       "      <td>to name a few: james marsden, nikki blonksy, ...</td>\n",
       "    </tr>\n",
       "    <tr>\n",
       "      <th>11896</th>\n",
       "      <td>805695924030894080</td>\n",
       "      <td>positive</td>\n",
       "      <td>imagine a film with zac efron in it, actually ...</td>\n",
       "    </tr>\n",
       "    <tr>\n",
       "      <th>11897</th>\n",
       "      <td>805696053760532482</td>\n",
       "      <td>neutral</td>\n",
       "      <td>✨✔😘😘defeat the ghost for me! 👻 🔥🐠john smith🔱🇨🇦...</td>\n",
       "    </tr>\n",
       "    <tr>\n",
       "      <th>11898</th>\n",
       "      <td>805696221092478976</td>\n",
       "      <td>neutral</td>\n",
       "      <td>zac efron &amp; bear grylls lol#liveme 🔥🐠john smit...</td>\n",
       "    </tr>\n",
       "    <tr>\n",
       "      <th>11899</th>\n",
       "      <td>805696468959002624</td>\n",
       "      <td>positive</td>\n",
       "      <td>abby *talking about the hamilton soundtrack\": ...</td>\n",
       "    </tr>\n",
       "    <tr>\n",
       "      <th>11900</th>\n",
       "      <td>805699412257181697</td>\n",
       "      <td>positive</td>\n",
       "      <td>can we like get zac efron or justin bieber for...</td>\n",
       "    </tr>\n",
       "    <tr>\n",
       "      <th>11901</th>\n",
       "      <td>805699615781625856</td>\n",
       "      <td>positive</td>\n",
       "      <td>update: zac efron kissing a puppy &lt;url&gt;</td>\n",
       "    </tr>\n",
       "    <tr>\n",
       "      <th>11902</th>\n",
       "      <td>805701709356003328</td>\n",
       "      <td>neutral</td>\n",
       "      <td>#zac efron sex pic skins michelle sex &lt;url&gt;</td>\n",
       "    </tr>\n",
       "    <tr>\n",
       "      <th>11903</th>\n",
       "      <td>805701818357579776</td>\n",
       "      <td>neutral</td>\n",
       "      <td>first look at neighbors 2 with zac efron shirt...</td>\n",
       "    </tr>\n",
       "    <tr>\n",
       "      <th>11904</th>\n",
       "      <td>805703557081075712</td>\n",
       "      <td>neutral</td>\n",
       "      <td>zac efron poses nude #lovely libra porn &lt;url&gt;</td>\n",
       "    </tr>\n",
       "    <tr>\n",
       "      <th>11905</th>\n",
       "      <td>805704324105940992</td>\n",
       "      <td>neutral</td>\n",
       "      <td>#fashion #style the paperboy (new blu-ray disc...</td>\n",
       "    </tr>\n",
       "  </tbody>\n",
       "</table>\n",
       "<p>11906 rows × 3 columns</p>\n",
       "</div>"
      ],
      "text/plain": [
       "                       id     label  \\\n",
       "0      801989080477154944   neutral   \n",
       "1      801989272341453952  positive   \n",
       "2      801990978424962944  positive   \n",
       "3      801996232553963008  positive   \n",
       "4      801998343442407040   neutral   \n",
       "5      802001659970744064  positive   \n",
       "6      802003380973568000  positive   \n",
       "7      802014830467174016   neutral   \n",
       "8      802020578609623040   neutral   \n",
       "9      802021059490934016  positive   \n",
       "10     802021122384523008   neutral   \n",
       "11     802022296818880000   neutral   \n",
       "12     802022559520673024  positive   \n",
       "13     802022965743415040   neutral   \n",
       "14     802024079851069056   neutral   \n",
       "15     802024085777629056  positive   \n",
       "16     802024981638958976   neutral   \n",
       "17     802026442687217024   neutral   \n",
       "18     802028835013206016  positive   \n",
       "19     802028852180462976  positive   \n",
       "20     802030814246489984  positive   \n",
       "21     802032149885026048  positive   \n",
       "22     802032523152718976   neutral   \n",
       "23     802041485948555008   neutral   \n",
       "24     802042842096902016  positive   \n",
       "25     802045545992723968   neutral   \n",
       "26     802045726318587008  positive   \n",
       "27     802198774114385024  negative   \n",
       "28     802198896474803968   neutral   \n",
       "29     802198916489874944  negative   \n",
       "...                   ...       ...   \n",
       "11876  805668577621618688   neutral   \n",
       "11877  805672672784883712  negative   \n",
       "11878  805672855912398848  positive   \n",
       "11879  805673812415090692   neutral   \n",
       "11880  805675109524467712  positive   \n",
       "11881  805676316317995009   neutral   \n",
       "11882  805678408315371520   neutral   \n",
       "11883  805678892350640128   neutral   \n",
       "11884  805680445891354626   neutral   \n",
       "11885  805681653628751873   neutral   \n",
       "11886  805683427026444288  positive   \n",
       "11887  805684107955019776   neutral   \n",
       "11888  805685999175159808  negative   \n",
       "11889  805686675951128576   neutral   \n",
       "11890  805686702966591488  positive   \n",
       "11891  805687944241516544   neutral   \n",
       "11892  805687959026601984   neutral   \n",
       "11893  805689537024274434   neutral   \n",
       "11894  805692823752146944  positive   \n",
       "11895  805693136785678336   neutral   \n",
       "11896  805695924030894080  positive   \n",
       "11897  805696053760532482   neutral   \n",
       "11898  805696221092478976   neutral   \n",
       "11899  805696468959002624  positive   \n",
       "11900  805699412257181697  positive   \n",
       "11901  805699615781625856  positive   \n",
       "11902  805701709356003328   neutral   \n",
       "11903  805701818357579776   neutral   \n",
       "11904  805703557081075712   neutral   \n",
       "11905  805704324105940992   neutral   \n",
       "\n",
       "                                                   tweet  \n",
       "0      #arianagrande ari by ariana grande 80% full <u...  \n",
       "1      ariana grande kiis fm yours truly cd listening...  \n",
       "2      ariana grande white house easter egg roll in w...  \n",
       "3      #cd #musics ariana grande sweet like candy 3.4...  \n",
       "4      side to side 😘  #sidetoside #arianagrande #mus...  \n",
       "5      hairspray live! previews at the macy's thanksg...  \n",
       "6      #lindsaylohan is ‘feeling thankful’ after blas...  \n",
       "7      i hate her but... i love her songs dammit ._.#...  \n",
       "8      ariana grande 【right there ft. big sean】#アリアナ ...  \n",
       "9      which one would you prefer to listen to for a ...  \n",
       "10     booty baby ari#arianagrande #princessari #boot...  \n",
       "11     #lindsaylohan backs out of a #kettering holida...  \n",
       "12     my idols are #littlemix #justinbieber #arianag...  \n",
       "13     ariana grande - the sims 3 - simsdomination #a...  \n",
       "14     #music #arianagrande-the remix-japan only #cd ...  \n",
       "15     #beauty #arianagrande-christmas & chill-japan ...  \n",
       "16     【popular song】ahh, i said i'm putting down my ...  \n",
       "17     ariana grande private event for coach in japan...  \n",
       "18     #beauty #arianagrande-the remix-japan only #cd...  \n",
       "19                 4. one last time - #arianagrande<url>  \n",
       "20     more #newarrivals #pentatonix #christmasalbum ...  \n",
       "21     so much love for this woman, ughh 💍💍 #arianagr...  \n",
       "22          ariana lips💄#mac #ariana #arianagrande <url>  \n",
       "23     ariana grande - 2015 nyc pride dance on the pi...  \n",
       "24     thanks god it's friday. #thanksgiving #arianag...  \n",
       "25     #music <email> pm16:00ariana grande - baby i <...  \n",
       "26     new on  . big fan of  and  #arianagrande #nick...  \n",
       "27     soros brainwashes & enslaves u #blacklivesmatt...  \n",
       "28     obama's latest #blacklivesmatter recruiting vi...  \n",
       "29     iggy from the\"revolution club\" mad that trump ...  \n",
       "...                                                  ...  \n",
       "11876  zac efron flaunts fit abs in new ‘dirty grandp...  \n",
       "11877  it makes me so mad that i didn't realize it wa...  \n",
       "11878  zac efron & seth rogen both have abs -- kinda ...  \n",
       "11879  how to be fierce with zac efron #part6 (thank ...  \n",
       "11880  just realised i've loved zac efron since i was...  \n",
       "11881                            the one with zac efron?  \n",
       "11882            #nowplaying scream by zac efron ♫ <url>  \n",
       "11883  #sexy girls get fucked for first time zac efro...  \n",
       "11884  zac efron goes shirtless in new pic with girlf...  \n",
       "11885                   zac efron completely naked <url>  \n",
       "11886  l l #zacefron #fashion the lucky one blu-ray d...  \n",
       "11887  kelly brook reveals baywatch role with zac efr...  \n",
       "11888      5. i'm still not mad i'm not dating zac efron  \n",
       "11889  zac efron and sami miró coordinate for their w...  \n",
       "11890  zac efron & seth rogen flex their muscles in s...  \n",
       "11891  #zacefron and seth rogen are shirtless and wea...  \n",
       "11892  5 incidents of how zac efron is inspirational ...  \n",
       "11893  alexandra daddario on working with zac efron a...  \n",
       "11894  there could be a thousand more hairspray remak...  \n",
       "11895   to name a few: james marsden, nikki blonksy, ...  \n",
       "11896  imagine a film with zac efron in it, actually ...  \n",
       "11897  ✨✔😘😘defeat the ghost for me! 👻 🔥🐠john smith🔱🇨🇦...  \n",
       "11898  zac efron & bear grylls lol#liveme 🔥🐠john smit...  \n",
       "11899  abby *talking about the hamilton soundtrack\": ...  \n",
       "11900  can we like get zac efron or justin bieber for...  \n",
       "11901            update: zac efron kissing a puppy <url>  \n",
       "11902        #zac efron sex pic skins michelle sex <url>  \n",
       "11903  first look at neighbors 2 with zac efron shirt...  \n",
       "11904      zac efron poses nude #lovely libra porn <url>  \n",
       "11905  #fashion #style the paperboy (new blu-ray disc...  \n",
       "\n",
       "[11906 rows x 3 columns]"
      ]
     },
     "execution_count": 18,
     "metadata": {},
     "output_type": "execute_result"
    }
   ],
   "source": [
    "df_test['tweet'] = df_test['tweet'].apply(preprocess)\n",
    "df_train['tweet'] = df_train['tweet'].apply(preprocess)\n",
    "df_test"
   ]
  },
  {
   "cell_type": "markdown",
   "metadata": {},
   "source": [
    "## Use Sentiment140 text to create a language model\n",
    "But do __not__ use sentiment labels."
   ]
  },
  {
   "cell_type": "code",
   "execution_count": 25,
   "metadata": {},
   "outputs": [
    {
     "name": "stdout",
     "output_type": "stream",
     "text": [
      "(1600000,)\n"
     ]
    },
    {
     "data": {
      "text/plain": [
       "0     <url> - awww, that's a bummer.  you shoulda g...\n",
       "1    is upset that he can't update his facebook by ...\n",
       "2     i dived many times for the ball. managed to s...\n",
       "3      my whole body feels itchy and like its on fire \n",
       "4     no, it's not behaving at all. i'm mad. why am...\n",
       "Name: tweet, dtype: object"
      ]
     },
     "execution_count": 25,
     "metadata": {},
     "output_type": "execute_result"
    }
   ],
   "source": [
    "text_df = df_sent140['tweet']\n",
    "text_df.columns = ['tweet']\n",
    "print(text_df.shape)\n",
    "text_df.head()"
   ]
  },
  {
   "cell_type": "code",
   "execution_count": 26,
   "metadata": {},
   "outputs": [
    {
     "data": {
      "text/html": [
       "<div>\n",
       "<style scoped>\n",
       "    .dataframe tbody tr th:only-of-type {\n",
       "        vertical-align: middle;\n",
       "    }\n",
       "\n",
       "    .dataframe tbody tr th {\n",
       "        vertical-align: top;\n",
       "    }\n",
       "\n",
       "    .dataframe thead th {\n",
       "        text-align: right;\n",
       "    }\n",
       "</style>\n",
       "<table border=\"1\" class=\"dataframe\">\n",
       "  <thead>\n",
       "    <tr style=\"text-align: right;\">\n",
       "      <th></th>\n",
       "      <th>tweet</th>\n",
       "    </tr>\n",
       "  </thead>\n",
       "  <tbody>\n",
       "    <tr>\n",
       "      <th>0</th>\n",
       "      <td>&lt;url&gt; - awww, that's a bummer.  you shoulda g...</td>\n",
       "    </tr>\n",
       "    <tr>\n",
       "      <th>1</th>\n",
       "      <td>is upset that he can't update his facebook by ...</td>\n",
       "    </tr>\n",
       "    <tr>\n",
       "      <th>2</th>\n",
       "      <td>i dived many times for the ball. managed to s...</td>\n",
       "    </tr>\n",
       "    <tr>\n",
       "      <th>3</th>\n",
       "      <td>my whole body feels itchy and like its on fire</td>\n",
       "    </tr>\n",
       "    <tr>\n",
       "      <th>4</th>\n",
       "      <td>no, it's not behaving at all. i'm mad. why am...</td>\n",
       "    </tr>\n",
       "  </tbody>\n",
       "</table>\n",
       "</div>"
      ],
      "text/plain": [
       "                                               tweet\n",
       "0   <url> - awww, that's a bummer.  you shoulda g...\n",
       "1  is upset that he can't update his facebook by ...\n",
       "2   i dived many times for the ball. managed to s...\n",
       "3    my whole body feels itchy and like its on fire \n",
       "4   no, it's not behaving at all. i'm mad. why am..."
      ]
     },
     "execution_count": 26,
     "metadata": {},
     "output_type": "execute_result"
    }
   ],
   "source": [
    "# Convert Series to DataFrame\n",
    "text_df = DataFrame(text_df)\n",
    "text_df.head()"
   ]
  },
  {
   "cell_type": "code",
   "execution_count": 25,
   "metadata": {},
   "outputs": [],
   "source": [
    "bs = 100"
   ]
  },
  {
   "cell_type": "code",
   "execution_count": 26,
   "metadata": {},
   "outputs": [],
   "source": [
    "data_lm = load_data(path=sent140_path, fname='data_sent140_lm.pkl', bs=bs)"
   ]
  },
  {
   "cell_type": "code",
   "execution_count": 27,
   "metadata": {},
   "outputs": [
    {
     "data": {
      "text/html": [
       "<table border=\"1\" class=\"dataframe\">\n",
       "  <thead>\n",
       "    <tr style=\"text-align: right;\">\n",
       "      <th>idx</th>\n",
       "      <th>text</th>\n",
       "    </tr>\n",
       "  </thead>\n",
       "  <tbody>\n",
       "    <tr>\n",
       "      <td>0</td>\n",
       "      <td>of bounds xxbos my whole body feels itchy and like its on fire xxbos no , it 's not behaving at all . i 'm mad . why am i here ? because i ca n't see you all over there . xxbos not the whole crew xxbos need a hug xxbos hey long time no see ! yes .. rains a bit , only a bit lol , i</td>\n",
       "    </tr>\n",
       "    <tr>\n",
       "      <td>1</td>\n",
       "      <td>of them ... so sad xxbos you mean africans coming to american getting married and living happily ever after with a green card is nt true ? xxbos exhausted xxbos i remember now ! but i have horrible memory . plain out horrible . i do n't even know what to say , completely my fault . again xxbos xxunk ! i lost my phone and we need some play</td>\n",
       "    </tr>\n",
       "    <tr>\n",
       "      <td>2</td>\n",
       "      <td>xxbos ahaha karaoke would be awesome ! dunno about sat though , i have a 21st ... i guess i could leave early , but driving = no drinking xxbos it would go cold too quickly xxbos morning everyone . my weekend was too short what about yours ? xxbos ugh do not feel well xxbos is off to have her face electrocuted in order not to look like dr</td>\n",
       "    </tr>\n",
       "    <tr>\n",
       "      <td>3</td>\n",
       "      <td>down , and still ca n't find what i 'm looking for . where did i leave my .. ? xxbos just finished the months grocery shop . at xxunk 's for brunch , only 1 flavour of # vitaminwater - now handbag shopping for xxbos it 's incredible ! and i 'm gon na be stuck serving pizzas all day ! xxbos zebra mussels ? i don evn kno</td>\n",
       "    </tr>\n",
       "    <tr>\n",
       "      <td>4</td>\n",
       "      <td>disappointed with anaconda installer , failed on me bunch of times # fedora # linux xxbos oooh ! .. ur soo mean to me i wanna come with u xd .. xxbos could n't shout much about the firefox party coz of my exam . could n't get the news in to non lug tweets . really sorry xxbos my ipod seems to be a bit xxunk do i get</td>\n",
       "    </tr>\n",
       "  </tbody>\n",
       "</table>"
      ],
      "text/plain": [
       "<IPython.core.display.HTML object>"
      ]
     },
     "metadata": {},
     "output_type": "display_data"
    }
   ],
   "source": [
    "data_lm.show_batch()"
   ]
  },
  {
   "cell_type": "code",
   "execution_count": 28,
   "metadata": {},
   "outputs": [
    {
     "data": {
      "text/plain": [
       "60005"
      ]
     },
     "execution_count": 28,
     "metadata": {},
     "output_type": "execute_result"
    }
   ],
   "source": [
    "len(data_lm.vocab.itos)"
   ]
  },
  {
   "cell_type": "markdown",
   "metadata": {},
   "source": [
    "We have reached a much better vocabulary than when we used SemEval for the language model."
   ]
  },
  {
   "cell_type": "markdown",
   "metadata": {},
   "source": [
    "## Load pretrained language model from previous notebook"
   ]
  },
  {
   "cell_type": "code",
   "execution_count": 30,
   "metadata": {},
   "outputs": [],
   "source": [
    "learn = language_model_learner(data_lm, AWD_LSTM, drop_mult=0.3)"
   ]
  },
  {
   "cell_type": "code",
   "execution_count": 31,
   "metadata": {},
   "outputs": [
    {
     "data": {
      "text/plain": [
       "LanguageLearner(data=TextLMDataBunch;\n",
       "\n",
       "Train: LabelList (1440000 items)\n",
       "x: LMTextList\n",
       "xxbos < url > - awww , that 's a bummer . you shoulda got david carr of third day to do it . ; d,xxbos is upset that he ca n't update his facebook by texting it ... and might cry as a result school today also . blah !,xxbos i dived many times for the ball . managed to save 50 % the rest go out of bounds,xxbos my whole body feels itchy and like its on fire,xxbos no , it 's not behaving at all . i 'm mad . why am i here ? because i ca n't see you all over there .\n",
       "y: LMLabelList\n",
       ",,,,\n",
       "Path: data/sentiment140;\n",
       "\n",
       "Valid: LabelList (160000 items)\n",
       "x: LMTextList\n",
       "xxbos listening to friends talk politics . should n't be this bored on my birthday , but i am,xxbos visiting with my baby nephew than my dads house ? idkk ! !,xxbos wow you have a blog na ) will link you up !,xxbos allies not coming over,xxbos yeah , it 's a bit daft - bing it ... hmm ... did m$ use a bunch of 5 year olds as their focus group ? < url >\n",
       "y: LMLabelList\n",
       ",,,,\n",
       "Path: data/sentiment140;\n",
       "\n",
       "Test: None, model=SequentialRNN(\n",
       "  (0): AWD_LSTM(\n",
       "    (encoder): Embedding(60005, 400, padding_idx=1)\n",
       "    (encoder_dp): EmbeddingDropout(\n",
       "      (emb): Embedding(60005, 400, padding_idx=1)\n",
       "    )\n",
       "    (rnns): ModuleList(\n",
       "      (0): WeightDropout(\n",
       "        (module): LSTM(400, 1150, batch_first=True)\n",
       "      )\n",
       "      (1): WeightDropout(\n",
       "        (module): LSTM(1150, 1150, batch_first=True)\n",
       "      )\n",
       "      (2): WeightDropout(\n",
       "        (module): LSTM(1150, 400, batch_first=True)\n",
       "      )\n",
       "    )\n",
       "    (input_dp): RNNDropout()\n",
       "    (hidden_dps): ModuleList(\n",
       "      (0): RNNDropout()\n",
       "      (1): RNNDropout()\n",
       "      (2): RNNDropout()\n",
       "    )\n",
       "  )\n",
       "  (1): LinearDecoder(\n",
       "    (decoder): Linear(in_features=400, out_features=60005, bias=True)\n",
       "    (output_dp): RNNDropout()\n",
       "  )\n",
       "), opt_func=functools.partial(<class 'torch.optim.adam.Adam'>, betas=(0.9, 0.99)), loss_func=FlattenedLoss of CrossEntropyLoss(), metrics=[<function accuracy at 0x7f55fe5e0d90>], true_wd=True, bn_wd=True, wd=0.01, train_bn=True, path=PosixPath('data/sentiment140'), model_dir='models', callback_fns=[functools.partial(<class 'fastai.basic_train.Recorder'>, add_time=True)], callbacks=[RNNTrainer\n",
       "learn: ...\n",
       "alpha: 2.0\n",
       "beta: 1.0], layer_groups=[Sequential(\n",
       "  (0): WeightDropout(\n",
       "    (module): LSTM(400, 1150, batch_first=True)\n",
       "  )\n",
       "  (1): RNNDropout()\n",
       "), Sequential(\n",
       "  (0): WeightDropout(\n",
       "    (module): LSTM(1150, 1150, batch_first=True)\n",
       "  )\n",
       "  (1): RNNDropout()\n",
       "), Sequential(\n",
       "  (0): WeightDropout(\n",
       "    (module): LSTM(1150, 400, batch_first=True)\n",
       "  )\n",
       "  (1): RNNDropout()\n",
       "), Sequential(\n",
       "  (0): Embedding(60005, 400, padding_idx=1)\n",
       "  (1): EmbeddingDropout(\n",
       "    (emb): Embedding(60005, 400, padding_idx=1)\n",
       "  )\n",
       "  (2): LinearDecoder(\n",
       "    (decoder): Linear(in_features=400, out_features=60005, bias=True)\n",
       "    (output_dp): RNNDropout()\n",
       "  )\n",
       ")], add_time=True)"
      ]
     },
     "execution_count": 31,
     "metadata": {},
     "output_type": "execute_result"
    }
   ],
   "source": [
    "learn.load('lm_fine_tune_best')"
   ]
  },
  {
   "cell_type": "markdown",
   "metadata": {},
   "source": [
    "## Sentiment Classifier"
   ]
  },
  {
   "cell_type": "markdown",
   "metadata": {},
   "source": [
    "### Use Sentiment-140 first"
   ]
  },
  {
   "cell_type": "code",
   "execution_count": null,
   "metadata": {},
   "outputs": [],
   "source": [
    "df_sent140['sentiment'] == 1"
   ]
  },
  {
   "cell_type": "code",
   "execution_count": 34,
   "metadata": {},
   "outputs": [
    {
     "data": {
      "text/html": [
       "<div>\n",
       "<style scoped>\n",
       "    .dataframe tbody tr th:only-of-type {\n",
       "        vertical-align: middle;\n",
       "    }\n",
       "\n",
       "    .dataframe tbody tr th {\n",
       "        vertical-align: top;\n",
       "    }\n",
       "\n",
       "    .dataframe thead th {\n",
       "        text-align: right;\n",
       "    }\n",
       "</style>\n",
       "<table border=\"1\" class=\"dataframe\">\n",
       "  <thead>\n",
       "    <tr style=\"text-align: right;\">\n",
       "      <th></th>\n",
       "      <th>sentiment</th>\n",
       "      <th>id</th>\n",
       "      <th>date</th>\n",
       "      <th>query</th>\n",
       "      <th>user</th>\n",
       "      <th>tweet</th>\n",
       "      <th>label</th>\n",
       "    </tr>\n",
       "  </thead>\n",
       "  <tbody>\n",
       "    <tr>\n",
       "      <th>0</th>\n",
       "      <td>0</td>\n",
       "      <td>1467810369</td>\n",
       "      <td>Mon Apr 06 22:19:45 PDT 2009</td>\n",
       "      <td>NO_QUERY</td>\n",
       "      <td>_TheSpecialOne_</td>\n",
       "      <td>&lt;url&gt; - awww, that's a bummer.  you shoulda g...</td>\n",
       "      <td>neutral</td>\n",
       "    </tr>\n",
       "    <tr>\n",
       "      <th>1</th>\n",
       "      <td>0</td>\n",
       "      <td>1467810672</td>\n",
       "      <td>Mon Apr 06 22:19:49 PDT 2009</td>\n",
       "      <td>NO_QUERY</td>\n",
       "      <td>scotthamilton</td>\n",
       "      <td>is upset that he can't update his facebook by ...</td>\n",
       "      <td>neutral</td>\n",
       "    </tr>\n",
       "    <tr>\n",
       "      <th>2</th>\n",
       "      <td>0</td>\n",
       "      <td>1467810917</td>\n",
       "      <td>Mon Apr 06 22:19:53 PDT 2009</td>\n",
       "      <td>NO_QUERY</td>\n",
       "      <td>mattycus</td>\n",
       "      <td>i dived many times for the ball. managed to s...</td>\n",
       "      <td>neutral</td>\n",
       "    </tr>\n",
       "    <tr>\n",
       "      <th>3</th>\n",
       "      <td>0</td>\n",
       "      <td>1467811184</td>\n",
       "      <td>Mon Apr 06 22:19:57 PDT 2009</td>\n",
       "      <td>NO_QUERY</td>\n",
       "      <td>ElleCTF</td>\n",
       "      <td>my whole body feels itchy and like its on fire</td>\n",
       "      <td>neutral</td>\n",
       "    </tr>\n",
       "    <tr>\n",
       "      <th>4</th>\n",
       "      <td>0</td>\n",
       "      <td>1467811193</td>\n",
       "      <td>Mon Apr 06 22:19:57 PDT 2009</td>\n",
       "      <td>NO_QUERY</td>\n",
       "      <td>Karoli</td>\n",
       "      <td>no, it's not behaving at all. i'm mad. why am...</td>\n",
       "      <td>neutral</td>\n",
       "    </tr>\n",
       "  </tbody>\n",
       "</table>\n",
       "</div>"
      ],
      "text/plain": [
       "   sentiment          id                          date     query  \\\n",
       "0          0  1467810369  Mon Apr 06 22:19:45 PDT 2009  NO_QUERY   \n",
       "1          0  1467810672  Mon Apr 06 22:19:49 PDT 2009  NO_QUERY   \n",
       "2          0  1467810917  Mon Apr 06 22:19:53 PDT 2009  NO_QUERY   \n",
       "3          0  1467811184  Mon Apr 06 22:19:57 PDT 2009  NO_QUERY   \n",
       "4          0  1467811193  Mon Apr 06 22:19:57 PDT 2009  NO_QUERY   \n",
       "\n",
       "              user                                              tweet    label  \n",
       "0  _TheSpecialOne_   <url> - awww, that's a bummer.  you shoulda g...  neutral  \n",
       "1    scotthamilton  is upset that he can't update his facebook by ...  neutral  \n",
       "2         mattycus   i dived many times for the ball. managed to s...  neutral  \n",
       "3          ElleCTF    my whole body feels itchy and like its on fire   neutral  \n",
       "4           Karoli   no, it's not behaving at all. i'm mad. why am...  neutral  "
      ]
     },
     "execution_count": 34,
     "metadata": {},
     "output_type": "execute_result"
    }
   ],
   "source": [
    "df_sent140['label'] = 'neutral'\n"
   ]
  },
  {
   "cell_type": "code",
   "execution_count": 35,
   "metadata": {},
   "outputs": [
    {
     "data": {
      "text/plain": [
       "(61989, 4)"
      ]
     },
     "execution_count": 35,
     "metadata": {},
     "output_type": "execute_result"
    }
   ],
   "source": [
    "df_test['validation'] = True\n",
    "df_train['validation'] = False\n",
    "df_all = df_train.append(df_test)\n",
    "df_all.shape"
   ]
  },
  {
   "cell_type": "code",
   "execution_count": 36,
   "metadata": {},
   "outputs": [
    {
     "data": {
      "text/html": [
       "<div>\n",
       "<style scoped>\n",
       "    .dataframe tbody tr th:only-of-type {\n",
       "        vertical-align: middle;\n",
       "    }\n",
       "\n",
       "    .dataframe tbody tr th {\n",
       "        vertical-align: top;\n",
       "    }\n",
       "\n",
       "    .dataframe thead th {\n",
       "        text-align: right;\n",
       "    }\n",
       "</style>\n",
       "<table border=\"1\" class=\"dataframe\">\n",
       "  <thead>\n",
       "    <tr style=\"text-align: right;\">\n",
       "      <th></th>\n",
       "      <th>id</th>\n",
       "      <th>label</th>\n",
       "      <th>tweet</th>\n",
       "      <th>validation</th>\n",
       "    </tr>\n",
       "  </thead>\n",
       "  <tbody>\n",
       "    <tr>\n",
       "      <th>0</th>\n",
       "      <td>260097528899452929</td>\n",
       "      <td>neutral</td>\n",
       "      <td>won the match #getin . plus\\u002c tomorrow is ...</td>\n",
       "      <td>False</td>\n",
       "    </tr>\n",
       "    <tr>\n",
       "      <th>1</th>\n",
       "      <td>263791921753882624</td>\n",
       "      <td>neutral</td>\n",
       "      <td>some areas of new england could see the first ...</td>\n",
       "      <td>False</td>\n",
       "    </tr>\n",
       "    <tr>\n",
       "      <th>2</th>\n",
       "      <td>264194578381410304</td>\n",
       "      <td>negative</td>\n",
       "      <td>2nd worst qb. definitely tony romo. the man w...</td>\n",
       "      <td>False</td>\n",
       "    </tr>\n",
       "    <tr>\n",
       "      <th>3</th>\n",
       "      <td>264041328420204544</td>\n",
       "      <td>neutral</td>\n",
       "      <td>#thailand washington - us president barack oba...</td>\n",
       "      <td>False</td>\n",
       "    </tr>\n",
       "    <tr>\n",
       "      <th>4</th>\n",
       "      <td>263816256640126976</td>\n",
       "      <td>neutral</td>\n",
       "      <td>did y\\u2019all hear what tony romo dressed up ...</td>\n",
       "      <td>False</td>\n",
       "    </tr>\n",
       "  </tbody>\n",
       "</table>\n",
       "</div>"
      ],
      "text/plain": [
       "                   id     label  \\\n",
       "0  260097528899452929   neutral   \n",
       "1  263791921753882624   neutral   \n",
       "2  264194578381410304  negative   \n",
       "3  264041328420204544   neutral   \n",
       "4  263816256640126976   neutral   \n",
       "\n",
       "                                               tweet  validation  \n",
       "0  won the match #getin . plus\\u002c tomorrow is ...       False  \n",
       "1  some areas of new england could see the first ...       False  \n",
       "2   2nd worst qb. definitely tony romo. the man w...       False  \n",
       "3  #thailand washington - us president barack oba...       False  \n",
       "4  did y\\u2019all hear what tony romo dressed up ...       False  "
      ]
     },
     "execution_count": 36,
     "metadata": {},
     "output_type": "execute_result"
    }
   ],
   "source": [
    "df_all.head()"
   ]
  },
  {
   "cell_type": "code",
   "execution_count": 37,
   "metadata": {},
   "outputs": [],
   "source": [
    "sentiment_data = (TextList.from_df(df_all, path=semeval_path, cols='tweet', vocab=data_lm.vocab)\n",
    "                 .split_from_df(col='validation')\n",
    "                 .label_from_df(cols='label')\n",
    "                 .databunch(bs=bs))"
   ]
  },
  {
   "cell_type": "code",
   "execution_count": 38,
   "metadata": {},
   "outputs": [
    {
     "data": {
      "text/plain": [
       "LabelList (11906 items)\n",
       "x: TextList\n",
       "xxbos # xxunk ari by ariana grande 80 % full < url > # singer # actress < url >,xxbos ariana grande kiis fm yours truly cd listening party in burbank < url > # xxunk,xxbos ariana grande white house easter egg roll in washington < url > # xxunk,xxbos # cd # musics ariana grande sweet like candy 3.4 oz 100 ml sealed in box 100 % xxunk new < url > xxunk < url >,xxbos side to side xxunk # xxunk # xxunk # musically # xxunk # lgbt xxunk # xxunk xxunk < url >\n",
       "y: CategoryList\n",
       "neutral,positive,positive,positive,neutral\n",
       "Path: data/SemEval2017-4A-English"
      ]
     },
     "execution_count": 38,
     "metadata": {},
     "output_type": "execute_result"
    }
   ],
   "source": [
    "sentiment_data.valid_ds"
   ]
  },
  {
   "cell_type": "code",
   "execution_count": 39,
   "metadata": {},
   "outputs": [
    {
     "data": {
      "text/plain": [
       "['negative', 'neutral', 'positive']"
      ]
     },
     "execution_count": 39,
     "metadata": {},
     "output_type": "execute_result"
    }
   ],
   "source": [
    "sentiment_data.classes"
   ]
  },
  {
   "cell_type": "code",
   "execution_count": 40,
   "metadata": {},
   "outputs": [
    {
     "data": {
      "text/html": [
       "<table border=\"1\" class=\"dataframe\">\n",
       "  <thead>\n",
       "    <tr style=\"text-align: right;\">\n",
       "      <th>text</th>\n",
       "      <th>target</th>\n",
       "    </tr>\n",
       "  </thead>\n",
       "  <tbody>\n",
       "    <tr>\n",
       "      <td>xxbos all presidents of american except one are or have been related to the monarchy . david cameron is her 5th cousin ... &lt; url &gt; \\n  xxunk \\t neutral \\t on a we d at 10 am the queen always calls david cameron and pretends to be frank bruno . cameron falls for it every time # xxunk \\n  xxunk \\t neutral \\t david cameron says that</td>\n",
       "      <td>neutral</td>\n",
       "    </tr>\n",
       "    <tr>\n",
       "      <td>xxbos tomorrow \\ xxunk i wake up in cebu ! ! ! : d so \\ xxunk i \\ xxunk have to log - off the internet and log - in to real life for a while ! good bye internet \\ xxunk hello world !</td>\n",
       "      <td>positive</td>\n",
       "    </tr>\n",
       "    <tr>\n",
       "      <td>xxbos oh \\ xxunk are we gon na have any august &amp; emma scene on xxunk xxunk tallahassee xxunk xxunk ? just a yes or no and i \\ xxunk be happy ( happier if it \\ xxunk a yes ) !</td>\n",
       "      <td>positive</td>\n",
       "    </tr>\n",
       "    <tr>\n",
       "      <td>xxbos thanks to jesus \\ xxunk cvs \\ xxunk my mom &amp; my mary ... i was able to kick this flu in 1 week ! now to make it w / out my maryjane until monday ! # struggles</td>\n",
       "      <td>positive</td>\n",
       "    </tr>\n",
       "    <tr>\n",
       "      <td>xxbos how 's this for crazy ? david wright 's last 2 trips to the dl , he 's returned in philly with a hr in his 1st ab . also 9 / 20 / 13 vs. cole xxunk .</td>\n",
       "      <td>neutral</td>\n",
       "    </tr>\n",
       "  </tbody>\n",
       "</table>"
      ],
      "text/plain": [
       "<IPython.core.display.HTML object>"
      ]
     },
     "metadata": {},
     "output_type": "display_data"
    }
   ],
   "source": [
    "sentiment_data.show_batch()"
   ]
  },
  {
   "cell_type": "markdown",
   "metadata": {},
   "source": [
    "### Metrics"
   ]
  },
  {
   "cell_type": "code",
   "execution_count": 41,
   "metadata": {},
   "outputs": [],
   "source": [
    "f1_score = partial(fbeta, beta=1)"
   ]
  },
  {
   "cell_type": "code",
   "execution_count": 42,
   "metadata": {},
   "outputs": [],
   "source": [
    "def average_recall(y_pred, y):\n",
    "    \n",
    "    def compute_recall(tp_label, y_label):\n",
    "        n_label = y_label.float().sum()\n",
    "        if n_label == 0.0:\n",
    "            return 0.0\n",
    "        return tp_label.float().sum() / n_label\n",
    "    \n",
    "    n = y.shape[0]\n",
    "    pred = y_pred.argmax(dim=-1).view(n, -1)\n",
    "    y_true = y.view(n, -1)\n",
    "        \n",
    "    pred_neg = pred == 0\n",
    "    y_neg = y_true == 0\n",
    "    true_neg = pred_neg * y_neg\n",
    "\n",
    "    pred_neu = pred == 1\n",
    "    y_neu = y_true == 1\n",
    "    true_neu = pred_neu * y_neu\n",
    "    \n",
    "    pred_pos = pred == 2\n",
    "    y_pos = y_true == 2\n",
    "    true_pos = pred_pos * y_pos\n",
    "    \n",
    "    recall_pos = compute_recall(true_pos, y_pos)\n",
    "    recall_neg = compute_recall(true_neg, y_neg)\n",
    "    recall_neu = compute_recall(true_neu, y_neu)\n",
    "    \n",
    "    #print(\"recall_pos\", recall_pos, \"recall_neg\", recall_neg, \"recall_neu\", recall_neu)\n",
    "    #print(\"true_pos\", true_pos.float().sum(), \"y_pos\", y_pos.float().sum())\n",
    "    #print(\"true_neg\", true_neg.float().sum(), \"y_neg\", y_neg.float().sum())\n",
    "    #print(\"true_neu\", true_neu.float().sum(), \"y_neu\", y_neu.float().sum())\n",
    "    #print(\"neg\", y_neg.sum(), \"neu\", y_neu.sum(), \"pos\", y_pos.sum(), )\n",
    "    \n",
    "    return (recall_pos + recall_neg + recall_neu) / 3.0"
   ]
  },
  {
   "cell_type": "code",
   "execution_count": 43,
   "metadata": {},
   "outputs": [],
   "source": [
    "metrics = [accuracy, average_recall]"
   ]
  },
  {
   "cell_type": "markdown",
   "metadata": {},
   "source": [
    "**Note**: I had to create a symbolic link to the model inside `SemEval2017-4A-English/models` because the language models were saved inside the `sentiment140` data directory."
   ]
  },
  {
   "cell_type": "code",
   "execution_count": 44,
   "metadata": {},
   "outputs": [],
   "source": [
    "learn = text_classifier_learner(sentiment_data, AWD_LSTM, drop_mult=0.3, metrics=metrics)\n",
    "learn.load_encoder('lm_fine_tune_best_encoder')"
   ]
  },
  {
   "cell_type": "code",
   "execution_count": 133,
   "metadata": {},
   "outputs": [
    {
     "data": {
      "text/html": [],
      "text/plain": [
       "<IPython.core.display.HTML object>"
      ]
     },
     "metadata": {},
     "output_type": "display_data"
    },
    {
     "name": "stdout",
     "output_type": "stream",
     "text": [
      "LR Finder is complete, type {learner_name}.recorder.plot() to see the graph.\n"
     ]
    }
   ],
   "source": [
    "learn.lr_find()"
   ]
  },
  {
   "cell_type": "code",
   "execution_count": 134,
   "metadata": {},
   "outputs": [
    {
     "data": {
      "image/png": "[encoded data removed]",
      "text/plain": [
       "<Figure size 432x288 with 1 Axes>"
      ]
     },
     "metadata": {
      "needs_background": "light"
     },
     "output_type": "display_data"
    }
   ],
   "source": [
    "learn.recorder.plot()"
   ]
  },
  {
   "cell_type": "code",
   "execution_count": 135,
   "metadata": {},
   "outputs": [
    {
     "data": {
      "image/png": "[encoded data removed]",
      "text/plain": [
       "<Figure size 432x288 with 1 Axes>"
      ]
     },
     "metadata": {
      "needs_background": "light"
     },
     "output_type": "display_data"
    }
   ],
   "source": [
    "learn.recorder.plot(skip_end=14)"
   ]
  },
  {
   "cell_type": "code",
   "execution_count": null,
   "metadata": {},
   "outputs": [],
   "source": [
    "from fastai.callbacks.misc import StopAfterNBatches"
   ]
  },
  {
   "cell_type": "code",
   "execution_count": 136,
   "metadata": {},
   "outputs": [
    {
     "data": {
      "text/html": [
       "Total time: 00:18 <p><table style='width:450px; margin-bottom:10px'>\n",
       "  <tr>\n",
       "    <th>epoch</th>\n",
       "    <th>train_loss</th>\n",
       "    <th>valid_loss</th>\n",
       "    <th>accuracy</th>\n",
       "    <th>average_recall</th>\n",
       "    <th>time</th>\n",
       "  </tr>\n",
       "  <tr>\n",
       "    <th>0</th>\n",
       "    <th>0.790500</th>\n",
       "    <th>0.809465</th>\n",
       "    <th>0.617252</th>\n",
       "    <th>0.569147</th>\n",
       "    <th>00:18</th>\n",
       "  </tr>\n",
       "</table>\n"
      ],
      "text/plain": [
       "<IPython.core.display.HTML object>"
      ]
     },
     "metadata": {},
     "output_type": "display_data"
    }
   ],
   "source": [
    "#learn.fit_one_cycle(1, 2e-2, moms=(0.8, 0.7), callbacks=[StopAfterNBatches(n_batches=3)])\n",
    "learn.fit_one_cycle(1, 3e-2, moms=(0.8, 0.7))"
   ]
  },
  {
   "cell_type": "markdown",
   "metadata": {},
   "source": [
    "### Look at the predictions\n"
   ]
  },
  {
   "cell_type": "code",
   "execution_count": 137,
   "metadata": {},
   "outputs": [],
   "source": [
    "preds = learn.get_preds()"
   ]
  },
  {
   "cell_type": "code",
   "execution_count": 138,
   "metadata": {},
   "outputs": [
    {
     "data": {
      "text/plain": [
       "tensor([2, 2, 2, 0, 0, 0, 0, 2, 1, 1, 0, 1, 0, 0, 1, 1, 0, 2, 1, 0])"
      ]
     },
     "execution_count": 138,
     "metadata": {},
     "output_type": "execute_result"
    }
   ],
   "source": [
    "(preds[0].argmax(dim=-1))[:20]"
   ]
  },
  {
   "cell_type": "code",
   "execution_count": 139,
   "metadata": {},
   "outputs": [
    {
     "data": {
      "text/plain": [
       "tensor([0, 1, 1, 0, 1, 0, 1, 0, 1, 1, 0, 1, 1, 1, 1, 1, 0, 0, 0, 1])"
      ]
     },
     "execution_count": 139,
     "metadata": {},
     "output_type": "execute_result"
    }
   ],
   "source": [
    "preds[1][:20]"
   ]
  },
  {
   "cell_type": "code",
   "execution_count": 140,
   "metadata": {},
   "outputs": [
    {
     "data": {
      "text/plain": [
       "tensor([2, 2, 2,  ..., 0, 1, 0])"
      ]
     },
     "execution_count": 140,
     "metadata": {},
     "output_type": "execute_result"
    }
   ],
   "source": [
    "predictions = preds[0].argmax(dim=1)\n",
    "predictions"
   ]
  },
  {
   "cell_type": "code",
   "execution_count": 141,
   "metadata": {},
   "outputs": [
    {
     "data": {
      "text/plain": [
       "(tensor(2576), tensor(7149), tensor(2181))"
      ]
     },
     "execution_count": 141,
     "metadata": {},
     "output_type": "execute_result"
    }
   ],
   "source": [
    "(predictions == 0).sum(), (predictions == 1).sum(), (predictions == 2).sum()"
   ]
  },
  {
   "cell_type": "code",
   "execution_count": 142,
   "metadata": {},
   "outputs": [
    {
     "data": {
      "text/plain": [
       "(tensor(3811), tensor(5743), tensor(2352))"
      ]
     },
     "execution_count": 142,
     "metadata": {},
     "output_type": "execute_result"
    }
   ],
   "source": [
    "targets = preds[1]\n",
    "(targets == 0).sum(), (targets == 1).sum(), (targets == 2).sum()"
   ]
  },
  {
   "cell_type": "code",
   "execution_count": 143,
   "metadata": {},
   "outputs": [
    {
     "data": {
      "text/plain": [
       "FlattenedLoss of CrossEntropyLoss()"
      ]
     },
     "execution_count": 143,
     "metadata": {},
     "output_type": "execute_result"
    }
   ],
   "source": [
    "learn.loss_func"
   ]
  },
  {
   "cell_type": "code",
   "execution_count": 144,
   "metadata": {},
   "outputs": [
    {
     "data": {
      "text/html": [
       "<table border=\"1\" class=\"dataframe\">\n",
       "  <thead>\n",
       "    <tr style=\"text-align: right;\">\n",
       "      <th>text</th>\n",
       "      <th>target</th>\n",
       "      <th>prediction</th>\n",
       "    </tr>\n",
       "  </thead>\n",
       "  <tbody>\n",
       "    <tr>\n",
       "      <td>xxbos for a long time no one considered the effect of repeated vaccinations on the brain . this was based on a mistaken ... &lt; url &gt; \\n  xxunk \\t neutral \\t xxunk caused death in america - every case of sids - the made up phenomena to cover up death by vaccines . &lt; url &gt; \\n  xxunk \\t neutral \\t study proving vaccines cause autism banned</td>\n",
       "      <td>negative</td>\n",
       "      <td>positive</td>\n",
       "    </tr>\n",
       "    <tr>\n",
       "      <td>xxbos donald trump has reversed himself on abortion , banning muslims and even his central promise of building a wall on xxunk &lt; url &gt; \\n  xxunk \\t positive \\t bill clinton built a wall on the mexican border in the 90s . # xxunk \\n  xxunk \\t neutral \\t &lt; email &gt; the is prepared to do a deal - u axe ur wall on mexican border</td>\n",
       "      <td>neutral</td>\n",
       "      <td>positive</td>\n",
       "    </tr>\n",
       "    <tr>\n",
       "      <td>xxbos in the past year alone , over 100 women from limerick have travelled to the uk to get access to abortion services ... &lt; url &gt; \\n  xxunk \\t neutral \\t 1 of america 's greatest presidents # xxunk quote on abortion xxunk i 've noticed that everyone who is for abortion xxunk &lt; url &gt; \\n  xxunk \\t negative \\t like it 's about abortion xxunk</td>\n",
       "      <td>neutral</td>\n",
       "      <td>positive</td>\n",
       "    </tr>\n",
       "    <tr>\n",
       "      <td>xxbos the patches ] are being used to kill people with dementia , with the idea that it xxunk cheapest and best to get rid of xxunk &lt; url &gt; \\n  xxunk \\t neutral \\t important for research paper : should euthanasia / assisted suicide be an option for suffering xxunk ill patience \\n  xxunk \\t negative \\t  when euthanasia is xxunk , i 'm not going</td>\n",
       "      <td>negative</td>\n",
       "      <td>negative</td>\n",
       "    </tr>\n",
       "    <tr>\n",
       "      <td>xxbos i do n't support animal cruelty but i 'm okay with giving my money to companies that do so they continue testing on xxunk &lt; url &gt; \\n  xxunk \\t negative \\t i 'm not for the animal cruelty or animal testing tbh \\n  xxunk \\t neutral \\t i just do n't get what 's the big deal of using mac products like i love mac &amp;</td>\n",
       "      <td>neutral</td>\n",
       "      <td>negative</td>\n",
       "    </tr>\n",
       "    <tr>\n",
       "      <td>xxbos of course they would cease ; no clinton in high power right now , so no cash ! watch charity foundation cease to xxunk xxunk &lt; url &gt; \\n  xxunk \\t neutral \\t i see that jill stein filed to have a vote recount in wisconsin . i wonder how much she received from the clinton foundation for her service \\n  xxunk \\t neutral \\t  no</td>\n",
       "      <td>negative</td>\n",
       "      <td>negative</td>\n",
       "    </tr>\n",
       "    <tr>\n",
       "      <td>xxbos the alleged xxunk came the same day that ukrainian president xxunk xxunk met with eu leaders for a summ xxunk &lt; url &gt; \\n  xxunk \\t neutral \\t i 'll say it again . i 'm willing to bet a crate of xxunk that xxunk will use xxunk 's 1999 strategy and win the presidential election \\n  xxunk \\t neutral \\t xxunk sure trump will not change</td>\n",
       "      <td>neutral</td>\n",
       "      <td>negative</td>\n",
       "    </tr>\n",
       "    <tr>\n",
       "      <td>xxbos donald trump is xxunk just xxunk to undo us climate policies as president . his transition team is also talking ... &lt; url &gt; \\n  xxunk \\t negative \\t instead of being xxunk at the spectacle of trump 's transition , liberals should try a more level - headed approach . xxunk &lt; url &gt; \\n  xxunk \\t neutral \\t it 's kris xxunk 's plan ...</td>\n",
       "      <td>negative</td>\n",
       "      <td>positive</td>\n",
       "    </tr>\n",
       "    <tr>\n",
       "      <td>xxbos he wants to break up the country xxunk biggest companies , meet with xxunk korean leader kim jong un &amp; throw president p xxunk &lt; url &gt; \\n  xxunk \\t neutral \\t shout out car crashes . shout out kim jong un . shout out the lakers maybe signing him to a 10-day for this game . &lt; url &gt; \\n  xxunk \\t neutral \\t  the</td>\n",
       "      <td>neutral</td>\n",
       "      <td>neutral</td>\n",
       "    </tr>\n",
       "    <tr>\n",
       "      <td>xxbos all 11 of the uk xxunk most senior judges will take their seats on the supreme court bench on monday to decide ... &lt; url &gt; \\n  xxunk \\t negative \\t  depressing how many people deluded that supreme court are deciding whether xxunk referendum is overturned \\n  xxunk \\t neutral \\t for # xxunk we had a 650 page xxunk the # xxunk was based on</td>\n",
       "      <td>neutral</td>\n",
       "      <td>neutral</td>\n",
       "    </tr>\n",
       "    <tr>\n",
       "      <td>xxbos putin only has to sit on the fence and wait until ukraine kills itself xxunk yeah , or until xxunk &amp; xxunk do xxunk &lt; url &gt; \\n  xxunk \\t negative \\t the only person self - interested # xxunk has n't criticized in the ukrainian govt is self - interested # xxunk . # xxunk \\n  xxunk \\t negative \\t &lt; url &gt; a poor fool</td>\n",
       "      <td>negative</td>\n",
       "      <td>negative</td>\n",
       "    </tr>\n",
       "    <tr>\n",
       "      <td>xxbos if a store can replace a $ 15 an hour employee with a robot that costs $ 35,000 , it will not only improve that xxunk xxunk &lt;url &gt; \\n  xxunk \\t positive \\t and that ca minimum wage goes up on the first for the next 5 years ayyy xxunk \\n  xxunk \\t neutral \\t  18 i 'm on minimum wage \\n  xxunk \\t</td>\n",
       "      <td>neutral</td>\n",
       "      <td>neutral</td>\n",
       "    </tr>\n",
       "    <tr>\n",
       "      <td>xxbos a transition official told fox xxunk ed henry that some in trump xxunk inner circle want the former massachusetts ... &lt; url &gt; \\n  xxunk \\t negative \\t  nothing is going to get overturned . while they re living in lalaland , trump is breaking transition records . \\n  xxunk \\t positive \\t  xxunk praises xxunk / flynn in transition release on nomination . xxunk</td>\n",
       "      <td>neutral</td>\n",
       "      <td>negative</td>\n",
       "    </tr>\n",
       "    <tr>\n",
       "      <td>xxbos green party presidential candidate jill stein has filed a request for a recount with wisconsin election ... &lt; url &gt; \\n  xxunk \\t neutral \\t my friend just told me trump added brian xxunk to his cabinet and i believed her \\n  xxunk \\t negative \\t  xxunk is a joke . i hope he 's not in trump 's cabinet anytime soon \\n  xxunk \\t</td>\n",
       "      <td>neutral</td>\n",
       "      <td>negative</td>\n",
       "    </tr>\n",
       "    <tr>\n",
       "      <td>xxbos instead , it 's washington , d.c . , and the incoming administration of president - elect donald trump that has state ... &lt; url &gt; \\n  xxunk \\t neutral \\t  # xxunk il : east peoria medical marijuana xxunk to host open house ahead of xxunk ... read blog : &lt; url &gt; \\n  xxunk \\t neutral \\t end xxunk : planning commission recommends xxunk</td>\n",
       "      <td>neutral</td>\n",
       "      <td>neutral</td>\n",
       "    </tr>\n",
       "    <tr>\n",
       "      <td>xxbos pope francis had read endo xxunk novel , scorsese said , adding that the xxunk told him , ' i hope the story of the film xxunk &lt; url &gt; \\n  xxunk \\t neutral \\t  since pope francis wrote al he has every right to tell those who enquiry whether their interpretation is correct or not ! \\n  xxunk \\t negative \\t xxunk testify : pope</td>\n",
       "      <td>neutral</td>\n",
       "      <td>neutral</td>\n",
       "    </tr>\n",
       "    <tr>\n",
       "      <td>xxbos chinese websites are blocking search results for xxunk fatty kim the third xxunk and xxunk kim fatty the third . xxunk the names are ... &lt; url &gt; \\n  xxunk \\t negative \\t  # xxunk # xxunk # xxunk xxunk # xxunk xxunk # xxunk xxunk # xxunk # china bans people calling # xxunk 's leader # xxunk &lt; url &gt; \\n  xxunk \\t neutral</td>\n",
       "      <td>negative</td>\n",
       "      <td>negative</td>\n",
       "    </tr>\n",
       "    <tr>\n",
       "      <td>xxbos are we out of touch , sexually deviant , decadent xxunk who ca n't own up to our xxunk it is the xxunk xxunk &lt; url &gt; \\n  xxunk \\t positive \\t  when hillary said , basket of xxunk . xxunk that outcome was awesome .</td>\n",
       "      <td>negative</td>\n",
       "      <td>positive</td>\n",
       "    </tr>\n",
       "    <tr>\n",
       "      <td>xxbos how do you do , fellow alt - xxunk ? say , any of you xxunk up for an op against a designated target late xxunk &lt; url &gt; \\n  xxunk \\t neutral \\t alt - xxunk hailing xxunk trump victory &lt; url &gt;</td>\n",
       "      <td>negative</td>\n",
       "      <td>neutral</td>\n",
       "    </tr>\n",
       "    <tr>\n",
       "      <td>xxbos y' all . i just watched two david blaine specials on netflix . i. do n't . it 's real . it 's all real . i do n't understand . it 's . wut . sum1 . xxunk xxunk xxunk</td>\n",
       "      <td>neutral</td>\n",
       "      <td>negative</td>\n",
       "    </tr>\n",
       "  </tbody>\n",
       "</table>"
      ],
      "text/plain": [
       "<IPython.core.display.HTML object>"
      ]
     },
     "metadata": {},
     "output_type": "display_data"
    }
   ],
   "source": [
    "learn.show_results(rows=20)"
   ]
  },
  {
   "cell_type": "code",
   "execution_count": 145,
   "metadata": {},
   "outputs": [],
   "source": [
    "learn.save('sent140-first')"
   ]
  },
  {
   "cell_type": "code",
   "execution_count": 146,
   "metadata": {},
   "outputs": [
    {
     "data": {
      "text/plain": [
       "RNNLearner(data=TextClasDataBunch;\n",
       "\n",
       "Train: LabelList (50083 items)\n",
       "x: TextList\n",
       "xxbos won the match # getin . plus \\ xxunk tomorrow is a very busy day \\ xxunk with awareness day \\ xxunk and debates . gulp . debates ...,xxbos some areas of new england could see the first flakes of the season tuesday .,xxbos 2nd worst qb . definitely tony romo . the man who likes to share the ball with everyone . including the other team .,xxbos # thailand washington - us president barack obama vowed wednesday as he visited storm - ravaged new jersey shore to ... < url >,xxbos did y \\ xxunk hear what tony romo dressed up as for halloween ? a giants xxunk ! cause that \\ xxunk all he could throw to sunday night .\n",
       "y: CategoryList\n",
       "neutral,neutral,negative,neutral,neutral\n",
       "Path: data/SemEval2017-4A-English;\n",
       "\n",
       "Valid: LabelList (11906 items)\n",
       "x: TextList\n",
       "xxbos # xxunk ari by ariana grande 80 % full < url > # singer # actress < url >,xxbos ariana grande kiis fm yours truly cd listening party in burbank < url > # xxunk,xxbos ariana grande white house easter egg roll in washington < url > # xxunk,xxbos # cd # musics ariana grande sweet like candy 3.4 oz 100 ml sealed in box 100 % xxunk new < url > xxunk < url >,xxbos side to side xxunk # xxunk # xxunk # musically # xxunk # lgbt xxunk # xxunk xxunk < url >\n",
       "y: CategoryList\n",
       "neutral,positive,positive,positive,neutral\n",
       "Path: data/SemEval2017-4A-English;\n",
       "\n",
       "Test: None, model=SequentialRNN(\n",
       "  (0): MultiBatchEncoder(\n",
       "    (module): AWD_LSTM(\n",
       "      (encoder): Embedding(60005, 400, padding_idx=1)\n",
       "      (encoder_dp): EmbeddingDropout(\n",
       "        (emb): Embedding(60005, 400, padding_idx=1)\n",
       "      )\n",
       "      (rnns): ModuleList(\n",
       "        (0): WeightDropout(\n",
       "          (module): LSTM(400, 1150, batch_first=True)\n",
       "        )\n",
       "        (1): WeightDropout(\n",
       "          (module): LSTM(1150, 1150, batch_first=True)\n",
       "        )\n",
       "        (2): WeightDropout(\n",
       "          (module): LSTM(1150, 400, batch_first=True)\n",
       "        )\n",
       "      )\n",
       "      (input_dp): RNNDropout()\n",
       "      (hidden_dps): ModuleList(\n",
       "        (0): RNNDropout()\n",
       "        (1): RNNDropout()\n",
       "        (2): RNNDropout()\n",
       "      )\n",
       "    )\n",
       "  )\n",
       "  (1): PoolingLinearClassifier(\n",
       "    (layers): Sequential(\n",
       "      (0): BatchNorm1d(1200, eps=1e-05, momentum=0.1, affine=True, track_running_stats=True)\n",
       "      (1): Dropout(p=0.12)\n",
       "      (2): Linear(in_features=1200, out_features=50, bias=True)\n",
       "      (3): ReLU(inplace)\n",
       "      (4): BatchNorm1d(50, eps=1e-05, momentum=0.1, affine=True, track_running_stats=True)\n",
       "      (5): Dropout(p=0.1)\n",
       "      (6): Linear(in_features=50, out_features=3, bias=True)\n",
       "    )\n",
       "  )\n",
       "), opt_func=functools.partial(<class 'torch.optim.adam.Adam'>, betas=(0.9, 0.99)), loss_func=FlattenedLoss of CrossEntropyLoss(), metrics=[<function accuracy at 0x7f03e8ebed90>, <function average_recall at 0x7f0308a670d0>], true_wd=True, bn_wd=True, wd=0.01, train_bn=True, path=PosixPath('data/SemEval2017-4A-English'), model_dir='models', callback_fns=[functools.partial(<class 'fastai.basic_train.Recorder'>, add_time=True)], callbacks=[RNNTrainer\n",
       "learn: ...\n",
       "alpha: 2.0\n",
       "beta: 1.0], layer_groups=[Sequential(\n",
       "  (0): Embedding(60005, 400, padding_idx=1)\n",
       "  (1): EmbeddingDropout(\n",
       "    (emb): Embedding(60005, 400, padding_idx=1)\n",
       "  )\n",
       "), Sequential(\n",
       "  (0): WeightDropout(\n",
       "    (module): LSTM(400, 1150, batch_first=True)\n",
       "  )\n",
       "  (1): RNNDropout()\n",
       "), Sequential(\n",
       "  (0): WeightDropout(\n",
       "    (module): LSTM(1150, 1150, batch_first=True)\n",
       "  )\n",
       "  (1): RNNDropout()\n",
       "), Sequential(\n",
       "  (0): WeightDropout(\n",
       "    (module): LSTM(1150, 400, batch_first=True)\n",
       "  )\n",
       "  (1): RNNDropout()\n",
       "), Sequential(\n",
       "  (0): PoolingLinearClassifier(\n",
       "    (layers): Sequential(\n",
       "      (0): BatchNorm1d(1200, eps=1e-05, momentum=0.1, affine=True, track_running_stats=True)\n",
       "      (1): Dropout(p=0.12)\n",
       "      (2): Linear(in_features=1200, out_features=50, bias=True)\n",
       "      (3): ReLU(inplace)\n",
       "      (4): BatchNorm1d(50, eps=1e-05, momentum=0.1, affine=True, track_running_stats=True)\n",
       "      (5): Dropout(p=0.1)\n",
       "      (6): Linear(in_features=50, out_features=3, bias=True)\n",
       "    )\n",
       "  )\n",
       ")], add_time=True)"
      ]
     },
     "execution_count": 146,
     "metadata": {},
     "output_type": "execute_result"
    }
   ],
   "source": [
    "learn.load('sent140-first')"
   ]
  },
  {
   "cell_type": "code",
   "execution_count": 147,
   "metadata": {},
   "outputs": [],
   "source": [
    "learn.freeze_to(-2)"
   ]
  },
  {
   "cell_type": "code",
   "execution_count": 148,
   "metadata": {},
   "outputs": [],
   "source": [
    "torch.cuda.empty_cache()"
   ]
  },
  {
   "cell_type": "markdown",
   "metadata": {},
   "source": [
    "### Reduce batch size because 100 doesn't fit"
   ]
  },
  {
   "cell_type": "code",
   "execution_count": 149,
   "metadata": {},
   "outputs": [
    {
     "data": {
      "text/plain": [
       "[100, 100, 100, 1]"
      ]
     },
     "execution_count": 149,
     "metadata": {},
     "output_type": "execute_result"
    }
   ],
   "source": [
    "[dl.batch_size for dl in sentiment_data.dls]"
   ]
  },
  {
   "cell_type": "code",
   "execution_count": 150,
   "metadata": {},
   "outputs": [
    {
     "data": {
      "text/plain": [
       "[60, 60, 60, 1]"
      ]
     },
     "execution_count": 150,
     "metadata": {},
     "output_type": "execute_result"
    }
   ],
   "source": [
    "new_bs = 60\n",
    "for dl in sentiment_data.dls:\n",
    "    if dl.batch_size == bs:\n",
    "        dl.batch_size = new_bs\n",
    "[dl.batch_size for dl in sentiment_data.dls]"
   ]
  },
  {
   "cell_type": "code",
   "execution_count": 151,
   "metadata": {},
   "outputs": [
    {
     "data": {
      "text/html": [
       "Total time: 00:27 <p><table style='width:450px; margin-bottom:10px'>\n",
       "  <tr>\n",
       "    <th>epoch</th>\n",
       "    <th>train_loss</th>\n",
       "    <th>valid_loss</th>\n",
       "    <th>accuracy</th>\n",
       "    <th>average_recall</th>\n",
       "    <th>time</th>\n",
       "  </tr>\n",
       "  <tr>\n",
       "    <th>0</th>\n",
       "    <th>0.733597</th>\n",
       "    <th>0.778971</th>\n",
       "    <th>0.636066</th>\n",
       "    <th>0.602474</th>\n",
       "    <th>00:27</th>\n",
       "  </tr>\n",
       "</table>\n"
      ],
      "text/plain": [
       "<IPython.core.display.HTML object>"
      ]
     },
     "metadata": {},
     "output_type": "display_data"
    }
   ],
   "source": [
    "learn.fit_one_cycle(1, slice(1e-2/(2.6**4),1e-2), moms=(0.8,0.7))"
   ]
  },
  {
   "cell_type": "code",
   "execution_count": 152,
   "metadata": {},
   "outputs": [],
   "source": [
    "learn.save('sent140-second')"
   ]
  },
  {
   "cell_type": "code",
   "execution_count": 153,
   "metadata": {},
   "outputs": [
    {
     "data": {
      "text/plain": [
       "RNNLearner(data=TextClasDataBunch;\n",
       "\n",
       "Train: LabelList (50083 items)\n",
       "x: TextList\n",
       "xxbos won the match # getin . plus \\ xxunk tomorrow is a very busy day \\ xxunk with awareness day \\ xxunk and debates . gulp . debates ...,xxbos some areas of new england could see the first flakes of the season tuesday .,xxbos 2nd worst qb . definitely tony romo . the man who likes to share the ball with everyone . including the other team .,xxbos # thailand washington - us president barack obama vowed wednesday as he visited storm - ravaged new jersey shore to ... < url >,xxbos did y \\ xxunk hear what tony romo dressed up as for halloween ? a giants xxunk ! cause that \\ xxunk all he could throw to sunday night .\n",
       "y: CategoryList\n",
       "neutral,neutral,negative,neutral,neutral\n",
       "Path: data/SemEval2017-4A-English;\n",
       "\n",
       "Valid: LabelList (11906 items)\n",
       "x: TextList\n",
       "xxbos # xxunk ari by ariana grande 80 % full < url > # singer # actress < url >,xxbos ariana grande kiis fm yours truly cd listening party in burbank < url > # xxunk,xxbos ariana grande white house easter egg roll in washington < url > # xxunk,xxbos # cd # musics ariana grande sweet like candy 3.4 oz 100 ml sealed in box 100 % xxunk new < url > xxunk < url >,xxbos side to side xxunk # xxunk # xxunk # musically # xxunk # lgbt xxunk # xxunk xxunk < url >\n",
       "y: CategoryList\n",
       "neutral,positive,positive,positive,neutral\n",
       "Path: data/SemEval2017-4A-English;\n",
       "\n",
       "Test: None, model=SequentialRNN(\n",
       "  (0): MultiBatchEncoder(\n",
       "    (module): AWD_LSTM(\n",
       "      (encoder): Embedding(60005, 400, padding_idx=1)\n",
       "      (encoder_dp): EmbeddingDropout(\n",
       "        (emb): Embedding(60005, 400, padding_idx=1)\n",
       "      )\n",
       "      (rnns): ModuleList(\n",
       "        (0): WeightDropout(\n",
       "          (module): LSTM(400, 1150, batch_first=True)\n",
       "        )\n",
       "        (1): WeightDropout(\n",
       "          (module): LSTM(1150, 1150, batch_first=True)\n",
       "        )\n",
       "        (2): WeightDropout(\n",
       "          (module): LSTM(1150, 400, batch_first=True)\n",
       "        )\n",
       "      )\n",
       "      (input_dp): RNNDropout()\n",
       "      (hidden_dps): ModuleList(\n",
       "        (0): RNNDropout()\n",
       "        (1): RNNDropout()\n",
       "        (2): RNNDropout()\n",
       "      )\n",
       "    )\n",
       "  )\n",
       "  (1): PoolingLinearClassifier(\n",
       "    (layers): Sequential(\n",
       "      (0): BatchNorm1d(1200, eps=1e-05, momentum=0.1, affine=True, track_running_stats=True)\n",
       "      (1): Dropout(p=0.12)\n",
       "      (2): Linear(in_features=1200, out_features=50, bias=True)\n",
       "      (3): ReLU(inplace)\n",
       "      (4): BatchNorm1d(50, eps=1e-05, momentum=0.1, affine=True, track_running_stats=True)\n",
       "      (5): Dropout(p=0.1)\n",
       "      (6): Linear(in_features=50, out_features=3, bias=True)\n",
       "    )\n",
       "  )\n",
       "), opt_func=functools.partial(<class 'torch.optim.adam.Adam'>, betas=(0.9, 0.99)), loss_func=FlattenedLoss of CrossEntropyLoss(), metrics=[<function accuracy at 0x7f03e8ebed90>, <function average_recall at 0x7f0308a670d0>], true_wd=True, bn_wd=True, wd=0.01, train_bn=True, path=PosixPath('data/SemEval2017-4A-English'), model_dir='models', callback_fns=[functools.partial(<class 'fastai.basic_train.Recorder'>, add_time=True)], callbacks=[RNNTrainer\n",
       "learn: ...\n",
       "alpha: 2.0\n",
       "beta: 1.0], layer_groups=[Sequential(\n",
       "  (0): Embedding(60005, 400, padding_idx=1)\n",
       "  (1): EmbeddingDropout(\n",
       "    (emb): Embedding(60005, 400, padding_idx=1)\n",
       "  )\n",
       "), Sequential(\n",
       "  (0): WeightDropout(\n",
       "    (module): LSTM(400, 1150, batch_first=True)\n",
       "  )\n",
       "  (1): RNNDropout()\n",
       "), Sequential(\n",
       "  (0): WeightDropout(\n",
       "    (module): LSTM(1150, 1150, batch_first=True)\n",
       "  )\n",
       "  (1): RNNDropout()\n",
       "), Sequential(\n",
       "  (0): WeightDropout(\n",
       "    (module): LSTM(1150, 400, batch_first=True)\n",
       "  )\n",
       "  (1): RNNDropout()\n",
       "), Sequential(\n",
       "  (0): PoolingLinearClassifier(\n",
       "    (layers): Sequential(\n",
       "      (0): BatchNorm1d(1200, eps=1e-05, momentum=0.1, affine=True, track_running_stats=True)\n",
       "      (1): Dropout(p=0.12)\n",
       "      (2): Linear(in_features=1200, out_features=50, bias=True)\n",
       "      (3): ReLU(inplace)\n",
       "      (4): BatchNorm1d(50, eps=1e-05, momentum=0.1, affine=True, track_running_stats=True)\n",
       "      (5): Dropout(p=0.1)\n",
       "      (6): Linear(in_features=50, out_features=3, bias=True)\n",
       "    )\n",
       "  )\n",
       ")], add_time=True)"
      ]
     },
     "execution_count": 153,
     "metadata": {},
     "output_type": "execute_result"
    }
   ],
   "source": [
    "learn.load('sent140-second')"
   ]
  },
  {
   "cell_type": "code",
   "execution_count": 154,
   "metadata": {},
   "outputs": [],
   "source": [
    "torch.cuda.empty_cache()"
   ]
  },
  {
   "cell_type": "markdown",
   "metadata": {},
   "source": [
    "### Reduce `batch_size` a lot\n",
    "\n",
    "I believe there are memory leaks or memory management problems. After the following change I observed a GPU memory usage of 29%, but if I tried to increase the batch size I got an out-of-memory error."
   ]
  },
  {
   "cell_type": "code",
   "execution_count": 155,
   "metadata": {},
   "outputs": [],
   "source": [
    "#bs = new_bs\n",
    "#new_bs = 5\n",
    "#for dl in sentiment_data.dls:\n",
    "#    if dl.batch_size == bs:\n",
    "#        dl.batch_size = new_bs\n",
    "#[dl.batch_size for dl in sentiment_data.dls]"
   ]
  },
  {
   "cell_type": "code",
   "execution_count": 156,
   "metadata": {},
   "outputs": [],
   "source": [
    "learn.unfreeze()"
   ]
  },
  {
   "cell_type": "code",
   "execution_count": 157,
   "metadata": {},
   "outputs": [],
   "source": [
    "learn.freeze_to(-3)"
   ]
  },
  {
   "cell_type": "code",
   "execution_count": 158,
   "metadata": {},
   "outputs": [
    {
     "data": {
      "text/html": [
       "Total time: 00:42 <p><table style='width:450px; margin-bottom:10px'>\n",
       "  <tr>\n",
       "    <th>epoch</th>\n",
       "    <th>train_loss</th>\n",
       "    <th>valid_loss</th>\n",
       "    <th>accuracy</th>\n",
       "    <th>average_recall</th>\n",
       "    <th>time</th>\n",
       "  </tr>\n",
       "  <tr>\n",
       "    <th>0</th>\n",
       "    <th>0.693925</th>\n",
       "    <th>0.766031</th>\n",
       "    <th>0.649924</th>\n",
       "    <th>0.615983</th>\n",
       "    <th>00:42</th>\n",
       "  </tr>\n",
       "</table>\n"
      ],
      "text/plain": [
       "<IPython.core.display.HTML object>"
      ]
     },
     "metadata": {},
     "output_type": "display_data"
    }
   ],
   "source": [
    "learn.fit_one_cycle(1, slice(5e-3/(2.6**4),5e-3), moms=(0.8,0.7))"
   ]
  },
  {
   "cell_type": "code",
   "execution_count": 159,
   "metadata": {},
   "outputs": [],
   "source": [
    "learn.save('sent140-third')"
   ]
  },
  {
   "cell_type": "code",
   "execution_count": 45,
   "metadata": {},
   "outputs": [
    {
     "data": {
      "text/plain": [
       "RNNLearner(data=TextClasDataBunch;\n",
       "\n",
       "Train: LabelList (50083 items)\n",
       "x: TextList\n",
       "xxbos won the match # getin . plus \\ xxunk tomorrow is a very busy day \\ xxunk with awareness day \\ xxunk and debates . gulp . debates ...,xxbos some areas of new england could see the first flakes of the season tuesday .,xxbos 2nd worst qb . definitely tony romo . the man who likes to share the ball with everyone . including the other team .,xxbos # thailand washington - us president barack obama vowed wednesday as he visited storm - ravaged new jersey shore to ... < url >,xxbos did y \\ xxunk hear what tony romo dressed up as for halloween ? a giants xxunk ! cause that \\ xxunk all he could throw to sunday night .\n",
       "y: CategoryList\n",
       "neutral,neutral,negative,neutral,neutral\n",
       "Path: data/SemEval2017-4A-English;\n",
       "\n",
       "Valid: LabelList (11906 items)\n",
       "x: TextList\n",
       "xxbos # xxunk ari by ariana grande 80 % full < url > # singer # actress < url >,xxbos ariana grande kiis fm yours truly cd listening party in burbank < url > # xxunk,xxbos ariana grande white house easter egg roll in washington < url > # xxunk,xxbos # cd # musics ariana grande sweet like candy 3.4 oz 100 ml sealed in box 100 % xxunk new < url > xxunk < url >,xxbos side to side xxunk # xxunk # xxunk # musically # xxunk # lgbt xxunk # xxunk xxunk < url >\n",
       "y: CategoryList\n",
       "neutral,positive,positive,positive,neutral\n",
       "Path: data/SemEval2017-4A-English;\n",
       "\n",
       "Test: None, model=SequentialRNN(\n",
       "  (0): MultiBatchEncoder(\n",
       "    (module): AWD_LSTM(\n",
       "      (encoder): Embedding(60005, 400, padding_idx=1)\n",
       "      (encoder_dp): EmbeddingDropout(\n",
       "        (emb): Embedding(60005, 400, padding_idx=1)\n",
       "      )\n",
       "      (rnns): ModuleList(\n",
       "        (0): WeightDropout(\n",
       "          (module): LSTM(400, 1150, batch_first=True)\n",
       "        )\n",
       "        (1): WeightDropout(\n",
       "          (module): LSTM(1150, 1150, batch_first=True)\n",
       "        )\n",
       "        (2): WeightDropout(\n",
       "          (module): LSTM(1150, 400, batch_first=True)\n",
       "        )\n",
       "      )\n",
       "      (input_dp): RNNDropout()\n",
       "      (hidden_dps): ModuleList(\n",
       "        (0): RNNDropout()\n",
       "        (1): RNNDropout()\n",
       "        (2): RNNDropout()\n",
       "      )\n",
       "    )\n",
       "  )\n",
       "  (1): PoolingLinearClassifier(\n",
       "    (layers): Sequential(\n",
       "      (0): BatchNorm1d(1200, eps=1e-05, momentum=0.1, affine=True, track_running_stats=True)\n",
       "      (1): Dropout(p=0.12)\n",
       "      (2): Linear(in_features=1200, out_features=50, bias=True)\n",
       "      (3): ReLU(inplace)\n",
       "      (4): BatchNorm1d(50, eps=1e-05, momentum=0.1, affine=True, track_running_stats=True)\n",
       "      (5): Dropout(p=0.1)\n",
       "      (6): Linear(in_features=50, out_features=3, bias=True)\n",
       "    )\n",
       "  )\n",
       "), opt_func=functools.partial(<class 'torch.optim.adam.Adam'>, betas=(0.9, 0.99)), loss_func=FlattenedLoss of CrossEntropyLoss(), metrics=[<function accuracy at 0x7f7a5b35dbf8>, <function average_recall at 0x7f7ad13a1ae8>], true_wd=True, bn_wd=True, wd=0.01, train_bn=True, path=PosixPath('data/SemEval2017-4A-English'), model_dir='models', callback_fns=[functools.partial(<class 'fastai.basic_train.Recorder'>, add_time=True)], callbacks=[RNNTrainer\n",
       "learn: ...\n",
       "alpha: 2.0\n",
       "beta: 1.0], layer_groups=[Sequential(\n",
       "  (0): Embedding(60005, 400, padding_idx=1)\n",
       "  (1): EmbeddingDropout(\n",
       "    (emb): Embedding(60005, 400, padding_idx=1)\n",
       "  )\n",
       "), Sequential(\n",
       "  (0): WeightDropout(\n",
       "    (module): LSTM(400, 1150, batch_first=True)\n",
       "  )\n",
       "  (1): RNNDropout()\n",
       "), Sequential(\n",
       "  (0): WeightDropout(\n",
       "    (module): LSTM(1150, 1150, batch_first=True)\n",
       "  )\n",
       "  (1): RNNDropout()\n",
       "), Sequential(\n",
       "  (0): WeightDropout(\n",
       "    (module): LSTM(1150, 400, batch_first=True)\n",
       "  )\n",
       "  (1): RNNDropout()\n",
       "), Sequential(\n",
       "  (0): PoolingLinearClassifier(\n",
       "    (layers): Sequential(\n",
       "      (0): BatchNorm1d(1200, eps=1e-05, momentum=0.1, affine=True, track_running_stats=True)\n",
       "      (1): Dropout(p=0.12)\n",
       "      (2): Linear(in_features=1200, out_features=50, bias=True)\n",
       "      (3): ReLU(inplace)\n",
       "      (4): BatchNorm1d(50, eps=1e-05, momentum=0.1, affine=True, track_running_stats=True)\n",
       "      (5): Dropout(p=0.1)\n",
       "      (6): Linear(in_features=50, out_features=3, bias=True)\n",
       "    )\n",
       "  )\n",
       ")], add_time=True)"
      ]
     },
     "execution_count": 45,
     "metadata": {},
     "output_type": "execute_result"
    }
   ],
   "source": [
    "learn.load('sent140-third')"
   ]
  },
  {
   "cell_type": "code",
   "execution_count": 48,
   "metadata": {},
   "outputs": [],
   "source": [
    "new_bs = 100"
   ]
  },
  {
   "cell_type": "code",
   "execution_count": 49,
   "metadata": {},
   "outputs": [
    {
     "data": {
      "text/plain": [
       "[40, 40, 40, 1]"
      ]
     },
     "execution_count": 49,
     "metadata": {},
     "output_type": "execute_result"
    }
   ],
   "source": [
    "torch.cuda.empty_cache()\n",
    "bs = new_bs\n",
    "new_bs = 40\n",
    "for dl in sentiment_data.dls:\n",
    "    if dl.batch_size == bs:\n",
    "        dl.batch_size = new_bs\n",
    "[dl.batch_size for dl in sentiment_data.dls]"
   ]
  },
  {
   "cell_type": "code",
   "execution_count": 50,
   "metadata": {},
   "outputs": [],
   "source": [
    "learn.unfreeze()"
   ]
  },
  {
   "cell_type": "code",
   "execution_count": 51,
   "metadata": {},
   "outputs": [
    {
     "data": {
      "text/html": [
       "Total time: 02:32 <p><table style='width:450px; margin-bottom:10px'>\n",
       "  <tr>\n",
       "    <th>epoch</th>\n",
       "    <th>train_loss</th>\n",
       "    <th>valid_loss</th>\n",
       "    <th>accuracy</th>\n",
       "    <th>average_recall</th>\n",
       "    <th>time</th>\n",
       "  </tr>\n",
       "  <tr>\n",
       "    <th>0</th>\n",
       "    <th>0.659032</th>\n",
       "    <th>0.766349</th>\n",
       "    <th>0.646481</th>\n",
       "    <th>0.626558</th>\n",
       "    <th>01:15</th>\n",
       "  </tr>\n",
       "  <tr>\n",
       "    <th>1</th>\n",
       "    <th>0.644873</th>\n",
       "    <th>0.763430</th>\n",
       "    <th>0.647405</th>\n",
       "    <th>0.621510</th>\n",
       "    <th>01:16</th>\n",
       "  </tr>\n",
       "</table>\n"
      ],
      "text/plain": [
       "<IPython.core.display.HTML object>"
      ]
     },
     "metadata": {},
     "output_type": "display_data"
    }
   ],
   "source": [
    "learn.fit_one_cycle(2, slice(1e-3/(2.6**4), 1e-3), moms=(0.8,0.7))"
   ]
  },
  {
   "cell_type": "markdown",
   "metadata": {},
   "source": [
    "Final results with Sentiment140 data, epoch 0 above:\n",
    "\n",
    "```\n",
    "train_loss  valid_loss  accuracy    average_recall\n",
    "0.659032\t0.766349\t0.646481\t0.626558\n",
    "```\n",
    "\n",
    "It does not represent an improvement over the best previous version (average_recall = 0.628) even though the accuracy is slightly better. The use of more training data for the language model did not help, so the bottleneck is possibly the amount of training data we use for classification.\n",
    "\n",
    "Should we use the sentiment-140 dataset for classification as well? Keep in mind that it was automatically annotated based on the existence of happy / sad emoticons.\n",
    "\n",
    "Another idea is to tune the loss function to take into account class imbalance.\n",
    "\n",
    "Yet another idea is to use BERT, if it's not already in use inside the fastai library."
   ]
  },
  {
   "cell_type": "code",
   "execution_count": null,
   "metadata": {},
   "outputs": [],
   "source": []
  }
 ],
 "metadata": {
  "kernelspec": {
   "display_name": "Python 3",
   "language": "python",
   "name": "python3"
  },
  "language_info": {
   "codemirror_mode": {
    "name": "ipython",
    "version": 3
   },
   "file_extension": ".py",
   "mimetype": "text/x-python",
   "name": "python",
   "nbconvert_exporter": "python",
   "pygments_lexer": "ipython3",
   "version": "3.7.2"
  }
 },
 "nbformat": 4,
 "nbformat_minor": 2
}
