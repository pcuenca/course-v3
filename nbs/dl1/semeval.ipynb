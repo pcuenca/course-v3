{
 "cells": [
  {
   "cell_type": "code",
   "execution_count": 1,
   "metadata": {},
   "outputs": [],
   "source": [
    "%reload_ext autoreload\n",
    "%autoreload 2\n",
    "%matplotlib inline"
   ]
  },
  {
   "cell_type": "code",
   "execution_count": 2,
   "metadata": {},
   "outputs": [],
   "source": [
    "from fastai.text import *"
   ]
  },
  {
   "cell_type": "markdown",
   "metadata": {},
   "source": [
    "## Look at the data"
   ]
  },
  {
   "cell_type": "code",
   "execution_count": 3,
   "metadata": {},
   "outputs": [
    {
     "data": {
      "text/plain": [
       "[PosixPath('data/SemEval2017-4A-English/readme.txt'),\n",
       " PosixPath('data/SemEval2017-4A-English/models'),\n",
       " PosixPath('data/SemEval2017-4A-English/test.csv'),\n",
       " PosixPath('data/SemEval2017-4A-English/data_lm.pkl'),\n",
       " PosixPath('data/SemEval2017-4A-English/train.csv')]"
      ]
     },
     "execution_count": 3,
     "metadata": {},
     "output_type": "execute_result"
    }
   ],
   "source": [
    "semeval_path = Path('data/SemEval2017-4A-English')\n",
    "semeval_path.ls()"
   ]
  },
  {
   "cell_type": "code",
   "execution_count": 4,
   "metadata": {},
   "outputs": [
    {
     "data": {
      "text/html": [
       "<div>\n",
       "<style scoped>\n",
       "    .dataframe tbody tr th:only-of-type {\n",
       "        vertical-align: middle;\n",
       "    }\n",
       "\n",
       "    .dataframe tbody tr th {\n",
       "        vertical-align: top;\n",
       "    }\n",
       "\n",
       "    .dataframe thead th {\n",
       "        text-align: right;\n",
       "    }\n",
       "</style>\n",
       "<table border=\"1\" class=\"dataframe\">\n",
       "  <thead>\n",
       "    <tr style=\"text-align: right;\">\n",
       "      <th></th>\n",
       "      <th>0</th>\n",
       "      <th>1</th>\n",
       "      <th>2</th>\n",
       "    </tr>\n",
       "  </thead>\n",
       "  <tbody>\n",
       "    <tr>\n",
       "      <th>0</th>\n",
       "      <td>801989080477154944</td>\n",
       "      <td>neutral</td>\n",
       "      <td>#ArianaGrande Ari By Ariana Grande 80% Full ht...</td>\n",
       "    </tr>\n",
       "    <tr>\n",
       "      <th>1</th>\n",
       "      <td>801989272341453952</td>\n",
       "      <td>positive</td>\n",
       "      <td>Ariana Grande KIIS FM Yours Truly CD listening...</td>\n",
       "    </tr>\n",
       "    <tr>\n",
       "      <th>2</th>\n",
       "      <td>801990978424962944</td>\n",
       "      <td>positive</td>\n",
       "      <td>Ariana Grande White House Easter Egg Roll in W...</td>\n",
       "    </tr>\n",
       "    <tr>\n",
       "      <th>3</th>\n",
       "      <td>801996232553963008</td>\n",
       "      <td>positive</td>\n",
       "      <td>#CD #Musics Ariana Grande Sweet Like Candy 3.4...</td>\n",
       "    </tr>\n",
       "    <tr>\n",
       "      <th>4</th>\n",
       "      <td>801998343442407040</td>\n",
       "      <td>neutral</td>\n",
       "      <td>SIDE TO SIDE 😘 @arianagrande #sidetoside #aria...</td>\n",
       "    </tr>\n",
       "  </tbody>\n",
       "</table>\n",
       "</div>"
      ],
      "text/plain": [
       "                    0         1  \\\n",
       "0  801989080477154944   neutral   \n",
       "1  801989272341453952  positive   \n",
       "2  801990978424962944  positive   \n",
       "3  801996232553963008  positive   \n",
       "4  801998343442407040   neutral   \n",
       "\n",
       "                                                   2  \n",
       "0  #ArianaGrande Ari By Ariana Grande 80% Full ht...  \n",
       "1  Ariana Grande KIIS FM Yours Truly CD listening...  \n",
       "2  Ariana Grande White House Easter Egg Roll in W...  \n",
       "3  #CD #Musics Ariana Grande Sweet Like Candy 3.4...  \n",
       "4  SIDE TO SIDE 😘 @arianagrande #sidetoside #aria...  "
      ]
     },
     "execution_count": 4,
     "metadata": {},
     "output_type": "execute_result"
    }
   ],
   "source": [
    "df_test = pd.read_csv(semeval_path/'test.csv', header=None, delimiter=\"\\t\")\n",
    "df_test.head()"
   ]
  },
  {
   "cell_type": "code",
   "execution_count": 5,
   "metadata": {},
   "outputs": [
    {
     "data": {
      "text/html": [
       "<div>\n",
       "<style scoped>\n",
       "    .dataframe tbody tr th:only-of-type {\n",
       "        vertical-align: middle;\n",
       "    }\n",
       "\n",
       "    .dataframe tbody tr th {\n",
       "        vertical-align: top;\n",
       "    }\n",
       "\n",
       "    .dataframe thead th {\n",
       "        text-align: right;\n",
       "    }\n",
       "</style>\n",
       "<table border=\"1\" class=\"dataframe\">\n",
       "  <thead>\n",
       "    <tr style=\"text-align: right;\">\n",
       "      <th></th>\n",
       "      <th>0</th>\n",
       "      <th>1</th>\n",
       "      <th>2</th>\n",
       "    </tr>\n",
       "  </thead>\n",
       "  <tbody>\n",
       "    <tr>\n",
       "      <th>0</th>\n",
       "      <td>260097528899452929</td>\n",
       "      <td>neutral</td>\n",
       "      <td>Won the match #getin . Plus\\u002c tomorrow is ...</td>\n",
       "    </tr>\n",
       "    <tr>\n",
       "      <th>1</th>\n",
       "      <td>263791921753882624</td>\n",
       "      <td>neutral</td>\n",
       "      <td>Some areas of New England could see the first ...</td>\n",
       "    </tr>\n",
       "    <tr>\n",
       "      <th>2</th>\n",
       "      <td>264194578381410304</td>\n",
       "      <td>negative</td>\n",
       "      <td>@francesco_con40 2nd worst QB. DEFINITELY Tony...</td>\n",
       "    </tr>\n",
       "    <tr>\n",
       "      <th>3</th>\n",
       "      <td>264041328420204544</td>\n",
       "      <td>neutral</td>\n",
       "      <td>#Thailand Washington - US President Barack Oba...</td>\n",
       "    </tr>\n",
       "    <tr>\n",
       "      <th>4</th>\n",
       "      <td>263816256640126976</td>\n",
       "      <td>neutral</td>\n",
       "      <td>Did y\\u2019all hear what Tony Romo dressed up ...</td>\n",
       "    </tr>\n",
       "  </tbody>\n",
       "</table>\n",
       "</div>"
      ],
      "text/plain": [
       "                    0         1  \\\n",
       "0  260097528899452929   neutral   \n",
       "1  263791921753882624   neutral   \n",
       "2  264194578381410304  negative   \n",
       "3  264041328420204544   neutral   \n",
       "4  263816256640126976   neutral   \n",
       "\n",
       "                                                   2  \n",
       "0  Won the match #getin . Plus\\u002c tomorrow is ...  \n",
       "1  Some areas of New England could see the first ...  \n",
       "2  @francesco_con40 2nd worst QB. DEFINITELY Tony...  \n",
       "3  #Thailand Washington - US President Barack Oba...  \n",
       "4  Did y\\u2019all hear what Tony Romo dressed up ...  "
      ]
     },
     "execution_count": 5,
     "metadata": {},
     "output_type": "execute_result"
    }
   ],
   "source": [
    "df_train = pd.read_csv(semeval_path/'train.csv', header=None, delimiter=\"\\t\")\n",
    "df_train.head()"
   ]
  },
  {
   "cell_type": "code",
   "execution_count": 6,
   "metadata": {},
   "outputs": [
    {
     "name": "stdout",
     "output_type": "stream",
     "text": [
      "(11906, 3) (50083, 3)\n"
     ]
    }
   ],
   "source": [
    "print(df_test.shape, df_train.shape)"
   ]
  },
  {
   "cell_type": "code",
   "execution_count": 7,
   "metadata": {},
   "outputs": [
    {
     "data": {
      "text/html": [
       "<div>\n",
       "<style scoped>\n",
       "    .dataframe tbody tr th:only-of-type {\n",
       "        vertical-align: middle;\n",
       "    }\n",
       "\n",
       "    .dataframe tbody tr th {\n",
       "        vertical-align: top;\n",
       "    }\n",
       "\n",
       "    .dataframe thead th {\n",
       "        text-align: right;\n",
       "    }\n",
       "</style>\n",
       "<table border=\"1\" class=\"dataframe\">\n",
       "  <thead>\n",
       "    <tr style=\"text-align: right;\">\n",
       "      <th></th>\n",
       "      <th>id</th>\n",
       "      <th>label</th>\n",
       "      <th>tweet</th>\n",
       "    </tr>\n",
       "  </thead>\n",
       "  <tbody>\n",
       "    <tr>\n",
       "      <th>0</th>\n",
       "      <td>260097528899452929</td>\n",
       "      <td>neutral</td>\n",
       "      <td>Won the match #getin . Plus\\u002c tomorrow is ...</td>\n",
       "    </tr>\n",
       "    <tr>\n",
       "      <th>1</th>\n",
       "      <td>263791921753882624</td>\n",
       "      <td>neutral</td>\n",
       "      <td>Some areas of New England could see the first ...</td>\n",
       "    </tr>\n",
       "    <tr>\n",
       "      <th>2</th>\n",
       "      <td>264194578381410304</td>\n",
       "      <td>negative</td>\n",
       "      <td>@francesco_con40 2nd worst QB. DEFINITELY Tony...</td>\n",
       "    </tr>\n",
       "    <tr>\n",
       "      <th>3</th>\n",
       "      <td>264041328420204544</td>\n",
       "      <td>neutral</td>\n",
       "      <td>#Thailand Washington - US President Barack Oba...</td>\n",
       "    </tr>\n",
       "    <tr>\n",
       "      <th>4</th>\n",
       "      <td>263816256640126976</td>\n",
       "      <td>neutral</td>\n",
       "      <td>Did y\\u2019all hear what Tony Romo dressed up ...</td>\n",
       "    </tr>\n",
       "  </tbody>\n",
       "</table>\n",
       "</div>"
      ],
      "text/plain": [
       "                   id     label  \\\n",
       "0  260097528899452929   neutral   \n",
       "1  263791921753882624   neutral   \n",
       "2  264194578381410304  negative   \n",
       "3  264041328420204544   neutral   \n",
       "4  263816256640126976   neutral   \n",
       "\n",
       "                                               tweet  \n",
       "0  Won the match #getin . Plus\\u002c tomorrow is ...  \n",
       "1  Some areas of New England could see the first ...  \n",
       "2  @francesco_con40 2nd worst QB. DEFINITELY Tony...  \n",
       "3  #Thailand Washington - US President Barack Oba...  \n",
       "4  Did y\\u2019all hear what Tony Romo dressed up ...  "
      ]
     },
     "execution_count": 7,
     "metadata": {},
     "output_type": "execute_result"
    }
   ],
   "source": [
    "df_test.columns = ['id', 'label', 'tweet']\n",
    "df_train.columns = ['id', 'label', 'tweet']\n",
    "df_train.head()"
   ]
  },
  {
   "cell_type": "code",
   "execution_count": 8,
   "metadata": {},
   "outputs": [
    {
     "data": {
      "text/plain": [
       "array(['neutral', 'positive', 'negative'], dtype=object)"
      ]
     },
     "execution_count": 8,
     "metadata": {},
     "output_type": "execute_result"
    }
   ],
   "source": [
    "df_test['label'].unique()"
   ]
  },
  {
   "cell_type": "code",
   "execution_count": 9,
   "metadata": {},
   "outputs": [
    {
     "data": {
      "text/plain": [
       "array(['neutral', 'negative', 'positive'], dtype=object)"
      ]
     },
     "execution_count": 9,
     "metadata": {},
     "output_type": "execute_result"
    }
   ],
   "source": [
    "df_train['label'].unique()"
   ]
  },
  {
   "cell_type": "markdown",
   "metadata": {},
   "source": [
    "## Pre-processing, filtering and deduplication"
   ]
  },
  {
   "cell_type": "code",
   "execution_count": 10,
   "metadata": {},
   "outputs": [],
   "source": [
    "# To Do"
   ]
  },
  {
   "cell_type": "code",
   "execution_count": 11,
   "metadata": {},
   "outputs": [
    {
     "data": {
      "text/plain": [
       "' this is to #test a loong link: <url>  <email>'"
      ]
     },
     "execution_count": 11,
     "metadata": {},
     "output_type": "execute_result"
    }
   ],
   "source": [
    "import re\n",
    "\n",
    "url_re = re.compile(r'(http:\\/\\/www\\.|https:\\/\\/www\\.|http:\\/\\/|https:\\/\\/)?[a-z0-9]+([\\-\\.]{1}[a-z0-9]+)*\\.[a-z]{2,5}(:[0-9]{1,5})?(\\/.*)?')\n",
    "rep_re = re.compile(r'(.)\\1{3,}')\n",
    "mention_re = re.compile(r'(@[\\w_-]+)')\n",
    "hashtag_re = re.compile(r'(#[\\w_-]+)')\n",
    "email_re = re.compile(r'[a-zA-Z0-9.!#$%&\\'*+/=?^_`{|}~-]+@[a-zA-Z0-9](?:[a-zA-Z0-9-]{0,61}[a-zA-Z0-9])?(?:\\.[a-zA-Z0-9](?:[a-zA-Z0-9-]{0,61}[a-zA-Z0-9])?)*')\n",
    "\n",
    "def preprocess(text):\n",
    "    text = text.lower()   # ToDo: preserve case of emoticons such as :D\n",
    "    text = email_re.sub('<email>', text)\n",
    "    text = url_re.sub('<url>', text)\n",
    "    text = rep_re.sub(r'\\1\\1', text)\n",
    "    # Remove mentions but keep hashtags\n",
    "    text = mention_re.sub('', text)\n",
    "\n",
    "    return text\n",
    "\n",
    "preprocess('@mention This is to #test a looooong link: http://www.google.com @apple pedro@latenitesoft.com')"
   ]
  },
  {
   "cell_type": "code",
   "execution_count": 12,
   "metadata": {},
   "outputs": [
    {
     "data": {
      "text/html": [
       "<div>\n",
       "<style scoped>\n",
       "    .dataframe tbody tr th:only-of-type {\n",
       "        vertical-align: middle;\n",
       "    }\n",
       "\n",
       "    .dataframe tbody tr th {\n",
       "        vertical-align: top;\n",
       "    }\n",
       "\n",
       "    .dataframe thead th {\n",
       "        text-align: right;\n",
       "    }\n",
       "</style>\n",
       "<table border=\"1\" class=\"dataframe\">\n",
       "  <thead>\n",
       "    <tr style=\"text-align: right;\">\n",
       "      <th></th>\n",
       "      <th>id</th>\n",
       "      <th>label</th>\n",
       "      <th>tweet</th>\n",
       "    </tr>\n",
       "  </thead>\n",
       "  <tbody>\n",
       "    <tr>\n",
       "      <th>0</th>\n",
       "      <td>801989080477154944</td>\n",
       "      <td>neutral</td>\n",
       "      <td>#arianagrande ari by ariana grande 80% full &lt;url&gt;</td>\n",
       "    </tr>\n",
       "    <tr>\n",
       "      <th>1</th>\n",
       "      <td>801989272341453952</td>\n",
       "      <td>positive</td>\n",
       "      <td>ariana grande kiis fm yours truly cd listening...</td>\n",
       "    </tr>\n",
       "    <tr>\n",
       "      <th>2</th>\n",
       "      <td>801990978424962944</td>\n",
       "      <td>positive</td>\n",
       "      <td>ariana grande white house easter egg roll in w...</td>\n",
       "    </tr>\n",
       "    <tr>\n",
       "      <th>3</th>\n",
       "      <td>801996232553963008</td>\n",
       "      <td>positive</td>\n",
       "      <td>#cd #musics ariana grande sweet like candy 3.4...</td>\n",
       "    </tr>\n",
       "    <tr>\n",
       "      <th>4</th>\n",
       "      <td>801998343442407040</td>\n",
       "      <td>neutral</td>\n",
       "      <td>side to side 😘  #sidetoside #arianagrande #mus...</td>\n",
       "    </tr>\n",
       "    <tr>\n",
       "      <th>5</th>\n",
       "      <td>802001659970744064</td>\n",
       "      <td>positive</td>\n",
       "      <td>hairspray live! previews at the macy's thanksg...</td>\n",
       "    </tr>\n",
       "    <tr>\n",
       "      <th>6</th>\n",
       "      <td>802003380973568000</td>\n",
       "      <td>positive</td>\n",
       "      <td>#lindsaylohan is ‘feeling thankful’ after blas...</td>\n",
       "    </tr>\n",
       "    <tr>\n",
       "      <th>7</th>\n",
       "      <td>802014830467174016</td>\n",
       "      <td>neutral</td>\n",
       "      <td>i hate her but... i love her songs dammit ._.#...</td>\n",
       "    </tr>\n",
       "    <tr>\n",
       "      <th>8</th>\n",
       "      <td>802020578609623040</td>\n",
       "      <td>neutral</td>\n",
       "      <td>ariana grande 【right there ft. big sean】#アリアナ ...</td>\n",
       "    </tr>\n",
       "    <tr>\n",
       "      <th>9</th>\n",
       "      <td>802021059490934016</td>\n",
       "      <td>positive</td>\n",
       "      <td>which one would you prefer to listen to for a ...</td>\n",
       "    </tr>\n",
       "    <tr>\n",
       "      <th>10</th>\n",
       "      <td>802021122384523008</td>\n",
       "      <td>neutral</td>\n",
       "      <td>booty baby ari#arianagrande #princessari #boot...</td>\n",
       "    </tr>\n",
       "    <tr>\n",
       "      <th>11</th>\n",
       "      <td>802022296818880000</td>\n",
       "      <td>neutral</td>\n",
       "      <td>#lindsaylohan backs out of a #kettering holida...</td>\n",
       "    </tr>\n",
       "    <tr>\n",
       "      <th>12</th>\n",
       "      <td>802022559520673024</td>\n",
       "      <td>positive</td>\n",
       "      <td>my idols are #littlemix #justinbieber #arianag...</td>\n",
       "    </tr>\n",
       "    <tr>\n",
       "      <th>13</th>\n",
       "      <td>802022965743415040</td>\n",
       "      <td>neutral</td>\n",
       "      <td>ariana grande - the sims 3 - simsdomination #a...</td>\n",
       "    </tr>\n",
       "    <tr>\n",
       "      <th>14</th>\n",
       "      <td>802024079851069056</td>\n",
       "      <td>neutral</td>\n",
       "      <td>#music #arianagrande-the remix-japan only #cd ...</td>\n",
       "    </tr>\n",
       "    <tr>\n",
       "      <th>15</th>\n",
       "      <td>802024085777629056</td>\n",
       "      <td>positive</td>\n",
       "      <td>#beauty #arianagrande-christmas &amp; chill-japan ...</td>\n",
       "    </tr>\n",
       "    <tr>\n",
       "      <th>16</th>\n",
       "      <td>802024981638958976</td>\n",
       "      <td>neutral</td>\n",
       "      <td>【popular song】ahh, i said i'm putting down my ...</td>\n",
       "    </tr>\n",
       "    <tr>\n",
       "      <th>17</th>\n",
       "      <td>802026442687217024</td>\n",
       "      <td>neutral</td>\n",
       "      <td>ariana grande private event for coach in japan...</td>\n",
       "    </tr>\n",
       "    <tr>\n",
       "      <th>18</th>\n",
       "      <td>802028835013206016</td>\n",
       "      <td>positive</td>\n",
       "      <td>#beauty #arianagrande-the remix-japan only #cd...</td>\n",
       "    </tr>\n",
       "    <tr>\n",
       "      <th>19</th>\n",
       "      <td>802028852180462976</td>\n",
       "      <td>positive</td>\n",
       "      <td>4. one last time - #arianagrande&lt;url&gt;</td>\n",
       "    </tr>\n",
       "    <tr>\n",
       "      <th>20</th>\n",
       "      <td>802030814246489984</td>\n",
       "      <td>positive</td>\n",
       "      <td>more #newarrivals #pentatonix #christmasalbum ...</td>\n",
       "    </tr>\n",
       "    <tr>\n",
       "      <th>21</th>\n",
       "      <td>802032149885026048</td>\n",
       "      <td>positive</td>\n",
       "      <td>so much love for this woman, ughh 💍💍 #arianagr...</td>\n",
       "    </tr>\n",
       "    <tr>\n",
       "      <th>22</th>\n",
       "      <td>802032523152718976</td>\n",
       "      <td>neutral</td>\n",
       "      <td>ariana lips💄#mac #ariana #arianagrande &lt;url&gt;</td>\n",
       "    </tr>\n",
       "    <tr>\n",
       "      <th>23</th>\n",
       "      <td>802041485948555008</td>\n",
       "      <td>neutral</td>\n",
       "      <td>ariana grande - 2015 nyc pride dance on the pi...</td>\n",
       "    </tr>\n",
       "    <tr>\n",
       "      <th>24</th>\n",
       "      <td>802042842096902016</td>\n",
       "      <td>positive</td>\n",
       "      <td>thanks god it's friday. #thanksgiving #arianag...</td>\n",
       "    </tr>\n",
       "    <tr>\n",
       "      <th>25</th>\n",
       "      <td>802045545992723968</td>\n",
       "      <td>neutral</td>\n",
       "      <td>#music &lt;email&gt; pm16:00ariana grande - baby i &lt;...</td>\n",
       "    </tr>\n",
       "    <tr>\n",
       "      <th>26</th>\n",
       "      <td>802045726318587008</td>\n",
       "      <td>positive</td>\n",
       "      <td>new on  . big fan of  and  #arianagrande #nick...</td>\n",
       "    </tr>\n",
       "    <tr>\n",
       "      <th>27</th>\n",
       "      <td>802198774114385024</td>\n",
       "      <td>negative</td>\n",
       "      <td>soros brainwashes &amp; enslaves u #blacklivesmatt...</td>\n",
       "    </tr>\n",
       "    <tr>\n",
       "      <th>28</th>\n",
       "      <td>802198896474803968</td>\n",
       "      <td>neutral</td>\n",
       "      <td>obama's latest #blacklivesmatter recruiting vi...</td>\n",
       "    </tr>\n",
       "    <tr>\n",
       "      <th>29</th>\n",
       "      <td>802198916489874944</td>\n",
       "      <td>negative</td>\n",
       "      <td>iggy from the\"revolution club\" mad that trump ...</td>\n",
       "    </tr>\n",
       "    <tr>\n",
       "      <th>...</th>\n",
       "      <td>...</td>\n",
       "      <td>...</td>\n",
       "      <td>...</td>\n",
       "    </tr>\n",
       "    <tr>\n",
       "      <th>11876</th>\n",
       "      <td>805668577621618688</td>\n",
       "      <td>neutral</td>\n",
       "      <td>zac efron flaunts fit abs in new ‘dirty grandp...</td>\n",
       "    </tr>\n",
       "    <tr>\n",
       "      <th>11877</th>\n",
       "      <td>805672672784883712</td>\n",
       "      <td>negative</td>\n",
       "      <td>it makes me so mad that i didn't realize it wa...</td>\n",
       "    </tr>\n",
       "    <tr>\n",
       "      <th>11878</th>\n",
       "      <td>805672855912398848</td>\n",
       "      <td>positive</td>\n",
       "      <td>zac efron &amp; seth rogen both have abs -- kinda ...</td>\n",
       "    </tr>\n",
       "    <tr>\n",
       "      <th>11879</th>\n",
       "      <td>805673812415090692</td>\n",
       "      <td>neutral</td>\n",
       "      <td>how to be fierce with zac efron #part6 (thank ...</td>\n",
       "    </tr>\n",
       "    <tr>\n",
       "      <th>11880</th>\n",
       "      <td>805675109524467712</td>\n",
       "      <td>positive</td>\n",
       "      <td>just realised i've loved zac efron since i was...</td>\n",
       "    </tr>\n",
       "    <tr>\n",
       "      <th>11881</th>\n",
       "      <td>805676316317995009</td>\n",
       "      <td>neutral</td>\n",
       "      <td>the one with zac efron?</td>\n",
       "    </tr>\n",
       "    <tr>\n",
       "      <th>11882</th>\n",
       "      <td>805678408315371520</td>\n",
       "      <td>neutral</td>\n",
       "      <td>#nowplaying scream by zac efron ♫ &lt;url&gt;</td>\n",
       "    </tr>\n",
       "    <tr>\n",
       "      <th>11883</th>\n",
       "      <td>805678892350640128</td>\n",
       "      <td>neutral</td>\n",
       "      <td>#sexy girls get fucked for first time zac efro...</td>\n",
       "    </tr>\n",
       "    <tr>\n",
       "      <th>11884</th>\n",
       "      <td>805680445891354626</td>\n",
       "      <td>neutral</td>\n",
       "      <td>zac efron goes shirtless in new pic with girlf...</td>\n",
       "    </tr>\n",
       "    <tr>\n",
       "      <th>11885</th>\n",
       "      <td>805681653628751873</td>\n",
       "      <td>neutral</td>\n",
       "      <td>zac efron completely naked &lt;url&gt;</td>\n",
       "    </tr>\n",
       "    <tr>\n",
       "      <th>11886</th>\n",
       "      <td>805683427026444288</td>\n",
       "      <td>positive</td>\n",
       "      <td>l l #zacefron #fashion the lucky one blu-ray d...</td>\n",
       "    </tr>\n",
       "    <tr>\n",
       "      <th>11887</th>\n",
       "      <td>805684107955019776</td>\n",
       "      <td>neutral</td>\n",
       "      <td>kelly brook reveals baywatch role with zac efr...</td>\n",
       "    </tr>\n",
       "    <tr>\n",
       "      <th>11888</th>\n",
       "      <td>805685999175159808</td>\n",
       "      <td>negative</td>\n",
       "      <td>5. i'm still not mad i'm not dating zac efron</td>\n",
       "    </tr>\n",
       "    <tr>\n",
       "      <th>11889</th>\n",
       "      <td>805686675951128576</td>\n",
       "      <td>neutral</td>\n",
       "      <td>zac efron and sami miró coordinate for their w...</td>\n",
       "    </tr>\n",
       "    <tr>\n",
       "      <th>11890</th>\n",
       "      <td>805686702966591488</td>\n",
       "      <td>positive</td>\n",
       "      <td>zac efron &amp; seth rogen flex their muscles in s...</td>\n",
       "    </tr>\n",
       "    <tr>\n",
       "      <th>11891</th>\n",
       "      <td>805687944241516544</td>\n",
       "      <td>neutral</td>\n",
       "      <td>#zacefron and seth rogen are shirtless and wea...</td>\n",
       "    </tr>\n",
       "    <tr>\n",
       "      <th>11892</th>\n",
       "      <td>805687959026601984</td>\n",
       "      <td>neutral</td>\n",
       "      <td>5 incidents of how zac efron is inspirational ...</td>\n",
       "    </tr>\n",
       "    <tr>\n",
       "      <th>11893</th>\n",
       "      <td>805689537024274434</td>\n",
       "      <td>neutral</td>\n",
       "      <td>alexandra daddario on working with zac efron a...</td>\n",
       "    </tr>\n",
       "    <tr>\n",
       "      <th>11894</th>\n",
       "      <td>805692823752146944</td>\n",
       "      <td>positive</td>\n",
       "      <td>there could be a thousand more hairspray remak...</td>\n",
       "    </tr>\n",
       "    <tr>\n",
       "      <th>11895</th>\n",
       "      <td>805693136785678336</td>\n",
       "      <td>neutral</td>\n",
       "      <td>to name a few: james marsden, nikki blonksy, ...</td>\n",
       "    </tr>\n",
       "    <tr>\n",
       "      <th>11896</th>\n",
       "      <td>805695924030894080</td>\n",
       "      <td>positive</td>\n",
       "      <td>imagine a film with zac efron in it, actually ...</td>\n",
       "    </tr>\n",
       "    <tr>\n",
       "      <th>11897</th>\n",
       "      <td>805696053760532482</td>\n",
       "      <td>neutral</td>\n",
       "      <td>✨✔😘😘defeat the ghost for me! 👻 🔥🐠john smith🔱🇨🇦...</td>\n",
       "    </tr>\n",
       "    <tr>\n",
       "      <th>11898</th>\n",
       "      <td>805696221092478976</td>\n",
       "      <td>neutral</td>\n",
       "      <td>zac efron &amp; bear grylls lol#liveme 🔥🐠john smit...</td>\n",
       "    </tr>\n",
       "    <tr>\n",
       "      <th>11899</th>\n",
       "      <td>805696468959002624</td>\n",
       "      <td>positive</td>\n",
       "      <td>abby *talking about the hamilton soundtrack\": ...</td>\n",
       "    </tr>\n",
       "    <tr>\n",
       "      <th>11900</th>\n",
       "      <td>805699412257181697</td>\n",
       "      <td>positive</td>\n",
       "      <td>can we like get zac efron or justin bieber for...</td>\n",
       "    </tr>\n",
       "    <tr>\n",
       "      <th>11901</th>\n",
       "      <td>805699615781625856</td>\n",
       "      <td>positive</td>\n",
       "      <td>update: zac efron kissing a puppy &lt;url&gt;</td>\n",
       "    </tr>\n",
       "    <tr>\n",
       "      <th>11902</th>\n",
       "      <td>805701709356003328</td>\n",
       "      <td>neutral</td>\n",
       "      <td>#zac efron sex pic skins michelle sex &lt;url&gt;</td>\n",
       "    </tr>\n",
       "    <tr>\n",
       "      <th>11903</th>\n",
       "      <td>805701818357579776</td>\n",
       "      <td>neutral</td>\n",
       "      <td>first look at neighbors 2 with zac efron shirt...</td>\n",
       "    </tr>\n",
       "    <tr>\n",
       "      <th>11904</th>\n",
       "      <td>805703557081075712</td>\n",
       "      <td>neutral</td>\n",
       "      <td>zac efron poses nude #lovely libra porn &lt;url&gt;</td>\n",
       "    </tr>\n",
       "    <tr>\n",
       "      <th>11905</th>\n",
       "      <td>805704324105940992</td>\n",
       "      <td>neutral</td>\n",
       "      <td>#fashion #style the paperboy (new blu-ray disc...</td>\n",
       "    </tr>\n",
       "  </tbody>\n",
       "</table>\n",
       "<p>11906 rows × 3 columns</p>\n",
       "</div>"
      ],
      "text/plain": [
       "                       id     label  \\\n",
       "0      801989080477154944   neutral   \n",
       "1      801989272341453952  positive   \n",
       "2      801990978424962944  positive   \n",
       "3      801996232553963008  positive   \n",
       "4      801998343442407040   neutral   \n",
       "5      802001659970744064  positive   \n",
       "6      802003380973568000  positive   \n",
       "7      802014830467174016   neutral   \n",
       "8      802020578609623040   neutral   \n",
       "9      802021059490934016  positive   \n",
       "10     802021122384523008   neutral   \n",
       "11     802022296818880000   neutral   \n",
       "12     802022559520673024  positive   \n",
       "13     802022965743415040   neutral   \n",
       "14     802024079851069056   neutral   \n",
       "15     802024085777629056  positive   \n",
       "16     802024981638958976   neutral   \n",
       "17     802026442687217024   neutral   \n",
       "18     802028835013206016  positive   \n",
       "19     802028852180462976  positive   \n",
       "20     802030814246489984  positive   \n",
       "21     802032149885026048  positive   \n",
       "22     802032523152718976   neutral   \n",
       "23     802041485948555008   neutral   \n",
       "24     802042842096902016  positive   \n",
       "25     802045545992723968   neutral   \n",
       "26     802045726318587008  positive   \n",
       "27     802198774114385024  negative   \n",
       "28     802198896474803968   neutral   \n",
       "29     802198916489874944  negative   \n",
       "...                   ...       ...   \n",
       "11876  805668577621618688   neutral   \n",
       "11877  805672672784883712  negative   \n",
       "11878  805672855912398848  positive   \n",
       "11879  805673812415090692   neutral   \n",
       "11880  805675109524467712  positive   \n",
       "11881  805676316317995009   neutral   \n",
       "11882  805678408315371520   neutral   \n",
       "11883  805678892350640128   neutral   \n",
       "11884  805680445891354626   neutral   \n",
       "11885  805681653628751873   neutral   \n",
       "11886  805683427026444288  positive   \n",
       "11887  805684107955019776   neutral   \n",
       "11888  805685999175159808  negative   \n",
       "11889  805686675951128576   neutral   \n",
       "11890  805686702966591488  positive   \n",
       "11891  805687944241516544   neutral   \n",
       "11892  805687959026601984   neutral   \n",
       "11893  805689537024274434   neutral   \n",
       "11894  805692823752146944  positive   \n",
       "11895  805693136785678336   neutral   \n",
       "11896  805695924030894080  positive   \n",
       "11897  805696053760532482   neutral   \n",
       "11898  805696221092478976   neutral   \n",
       "11899  805696468959002624  positive   \n",
       "11900  805699412257181697  positive   \n",
       "11901  805699615781625856  positive   \n",
       "11902  805701709356003328   neutral   \n",
       "11903  805701818357579776   neutral   \n",
       "11904  805703557081075712   neutral   \n",
       "11905  805704324105940992   neutral   \n",
       "\n",
       "                                                   tweet  \n",
       "0      #arianagrande ari by ariana grande 80% full <url>  \n",
       "1      ariana grande kiis fm yours truly cd listening...  \n",
       "2      ariana grande white house easter egg roll in w...  \n",
       "3      #cd #musics ariana grande sweet like candy 3.4...  \n",
       "4      side to side 😘  #sidetoside #arianagrande #mus...  \n",
       "5      hairspray live! previews at the macy's thanksg...  \n",
       "6      #lindsaylohan is ‘feeling thankful’ after blas...  \n",
       "7      i hate her but... i love her songs dammit ._.#...  \n",
       "8      ariana grande 【right there ft. big sean】#アリアナ ...  \n",
       "9      which one would you prefer to listen to for a ...  \n",
       "10     booty baby ari#arianagrande #princessari #boot...  \n",
       "11     #lindsaylohan backs out of a #kettering holida...  \n",
       "12     my idols are #littlemix #justinbieber #arianag...  \n",
       "13     ariana grande - the sims 3 - simsdomination #a...  \n",
       "14     #music #arianagrande-the remix-japan only #cd ...  \n",
       "15     #beauty #arianagrande-christmas & chill-japan ...  \n",
       "16     【popular song】ahh, i said i'm putting down my ...  \n",
       "17     ariana grande private event for coach in japan...  \n",
       "18     #beauty #arianagrande-the remix-japan only #cd...  \n",
       "19                 4. one last time - #arianagrande<url>  \n",
       "20     more #newarrivals #pentatonix #christmasalbum ...  \n",
       "21     so much love for this woman, ughh 💍💍 #arianagr...  \n",
       "22          ariana lips💄#mac #ariana #arianagrande <url>  \n",
       "23     ariana grande - 2015 nyc pride dance on the pi...  \n",
       "24     thanks god it's friday. #thanksgiving #arianag...  \n",
       "25     #music <email> pm16:00ariana grande - baby i <...  \n",
       "26     new on  . big fan of  and  #arianagrande #nick...  \n",
       "27     soros brainwashes & enslaves u #blacklivesmatt...  \n",
       "28     obama's latest #blacklivesmatter recruiting vi...  \n",
       "29     iggy from the\"revolution club\" mad that trump ...  \n",
       "...                                                  ...  \n",
       "11876  zac efron flaunts fit abs in new ‘dirty grandp...  \n",
       "11877  it makes me so mad that i didn't realize it wa...  \n",
       "11878  zac efron & seth rogen both have abs -- kinda ...  \n",
       "11879  how to be fierce with zac efron #part6 (thank ...  \n",
       "11880  just realised i've loved zac efron since i was...  \n",
       "11881                            the one with zac efron?  \n",
       "11882            #nowplaying scream by zac efron ♫ <url>  \n",
       "11883  #sexy girls get fucked for first time zac efro...  \n",
       "11884  zac efron goes shirtless in new pic with girlf...  \n",
       "11885                   zac efron completely naked <url>  \n",
       "11886  l l #zacefron #fashion the lucky one blu-ray d...  \n",
       "11887  kelly brook reveals baywatch role with zac efr...  \n",
       "11888      5. i'm still not mad i'm not dating zac efron  \n",
       "11889  zac efron and sami miró coordinate for their w...  \n",
       "11890  zac efron & seth rogen flex their muscles in s...  \n",
       "11891  #zacefron and seth rogen are shirtless and wea...  \n",
       "11892  5 incidents of how zac efron is inspirational ...  \n",
       "11893  alexandra daddario on working with zac efron a...  \n",
       "11894  there could be a thousand more hairspray remak...  \n",
       "11895   to name a few: james marsden, nikki blonksy, ...  \n",
       "11896  imagine a film with zac efron in it, actually ...  \n",
       "11897  ✨✔😘😘defeat the ghost for me! 👻 🔥🐠john smith🔱🇨🇦...  \n",
       "11898  zac efron & bear grylls lol#liveme 🔥🐠john smit...  \n",
       "11899  abby *talking about the hamilton soundtrack\": ...  \n",
       "11900  can we like get zac efron or justin bieber for...  \n",
       "11901            update: zac efron kissing a puppy <url>  \n",
       "11902        #zac efron sex pic skins michelle sex <url>  \n",
       "11903  first look at neighbors 2 with zac efron shirt...  \n",
       "11904      zac efron poses nude #lovely libra porn <url>  \n",
       "11905  #fashion #style the paperboy (new blu-ray disc...  \n",
       "\n",
       "[11906 rows x 3 columns]"
      ]
     },
     "execution_count": 12,
     "metadata": {},
     "output_type": "execute_result"
    }
   ],
   "source": [
    "df_test['tweet'] = df_test['tweet'].apply(preprocess)\n",
    "df_train['tweet'] = df_train['tweet'].apply(preprocess)\n",
    "df_test"
   ]
  },
  {
   "cell_type": "markdown",
   "metadata": {},
   "source": [
    "## Use _all_ text to create a language model"
   ]
  },
  {
   "cell_type": "code",
   "execution_count": 13,
   "metadata": {},
   "outputs": [
    {
     "name": "stdout",
     "output_type": "stream",
     "text": [
      "(61989,)\n"
     ]
    },
    {
     "data": {
      "text/plain": [
       "0    won the match #getin . plus\\u002c tomorrow is ...\n",
       "1    some areas of new england could see the first ...\n",
       "2     2nd worst qb. definitely tony romo. the man w...\n",
       "3    #thailand washington - us president barack oba...\n",
       "4    did y\\u2019all hear what tony romo dressed up ...\n",
       "Name: tweet, dtype: object"
      ]
     },
     "execution_count": 13,
     "metadata": {},
     "output_type": "execute_result"
    }
   ],
   "source": [
    "text_df = df_train['tweet']\n",
    "text_df = text_df.append(df_test['tweet'])\n",
    "text_df.columns = ['tweet']\n",
    "print(text_df.shape)\n",
    "text_df.head()"
   ]
  },
  {
   "cell_type": "code",
   "execution_count": 14,
   "metadata": {},
   "outputs": [
    {
     "data": {
      "text/html": [
       "<div>\n",
       "<style scoped>\n",
       "    .dataframe tbody tr th:only-of-type {\n",
       "        vertical-align: middle;\n",
       "    }\n",
       "\n",
       "    .dataframe tbody tr th {\n",
       "        vertical-align: top;\n",
       "    }\n",
       "\n",
       "    .dataframe thead th {\n",
       "        text-align: right;\n",
       "    }\n",
       "</style>\n",
       "<table border=\"1\" class=\"dataframe\">\n",
       "  <thead>\n",
       "    <tr style=\"text-align: right;\">\n",
       "      <th></th>\n",
       "      <th>tweet</th>\n",
       "    </tr>\n",
       "  </thead>\n",
       "  <tbody>\n",
       "    <tr>\n",
       "      <th>0</th>\n",
       "      <td>won the match #getin . plus\\u002c tomorrow is ...</td>\n",
       "    </tr>\n",
       "    <tr>\n",
       "      <th>1</th>\n",
       "      <td>some areas of new england could see the first ...</td>\n",
       "    </tr>\n",
       "    <tr>\n",
       "      <th>2</th>\n",
       "      <td>2nd worst qb. definitely tony romo. the man w...</td>\n",
       "    </tr>\n",
       "    <tr>\n",
       "      <th>3</th>\n",
       "      <td>#thailand washington - us president barack oba...</td>\n",
       "    </tr>\n",
       "    <tr>\n",
       "      <th>4</th>\n",
       "      <td>did y\\u2019all hear what tony romo dressed up ...</td>\n",
       "    </tr>\n",
       "  </tbody>\n",
       "</table>\n",
       "</div>"
      ],
      "text/plain": [
       "                                               tweet\n",
       "0  won the match #getin . plus\\u002c tomorrow is ...\n",
       "1  some areas of new england could see the first ...\n",
       "2   2nd worst qb. definitely tony romo. the man w...\n",
       "3  #thailand washington - us president barack oba...\n",
       "4  did y\\u2019all hear what tony romo dressed up ..."
      ]
     },
     "execution_count": 14,
     "metadata": {},
     "output_type": "execute_result"
    }
   ],
   "source": [
    "# Convert Series to DataFrame\n",
    "text_df = DataFrame(text_df)\n",
    "text_df.head()"
   ]
  },
  {
   "cell_type": "code",
   "execution_count": 15,
   "metadata": {},
   "outputs": [],
   "source": [
    "bs = 100"
   ]
  },
  {
   "cell_type": "code",
   "execution_count": 16,
   "metadata": {},
   "outputs": [],
   "source": [
    "data_lm = (TextList.from_df(text_df, path=semeval_path, cols='tweet')\n",
    "              .split_by_rand_pct(0.1, seed=17)\n",
    "              .label_for_lm()\n",
    "               .databunch(bs=bs))"
   ]
  },
  {
   "cell_type": "code",
   "execution_count": 17,
   "metadata": {},
   "outputs": [],
   "source": [
    "# Save for later\n",
    "data_lm.save('data_lm.pkl')"
   ]
  },
  {
   "cell_type": "code",
   "execution_count": 18,
   "metadata": {},
   "outputs": [
    {
     "data": {
      "text/html": [
       "<table border=\"1\" class=\"dataframe\">\n",
       "  <thead>\n",
       "    <tr style=\"text-align: right;\">\n",
       "      <th>idx</th>\n",
       "      <th>text</th>\n",
       "    </tr>\n",
       "  </thead>\n",
       "  <tbody>\n",
       "    <tr>\n",
       "      <td>0</td>\n",
       "      <td>. xxbos # thailand washington - us president barack obama vowed wednesday as he visited storm - ravaged new jersey shore to ... &lt; url &gt; xxbos did y \\ u2019all hear what tony romo dressed up as for halloween ? a giants xxunk ! cause that \\ u2019s all he could throw to sunday night . xxbos tim tebow may be xxunk ! wow jerry \\ u002c what the</td>\n",
       "    </tr>\n",
       "    <tr>\n",
       "      <td>1</td>\n",
       "      <td>the world hates me xxbos they are going in on the lakers . mike brown may need to take notes .. xxbos ( and trust \\ u002c i could talk forever about madonna \\ u2019s choice of singles . would * anything * from xxunk had been a better 1st single than \" xxunk ? \" ) xxbos haha it \\ u2019ll be alright . we got swansea on saturday</td>\n",
       "    </tr>\n",
       "    <tr>\n",
       "      <td>2</td>\n",
       "      <td>xxunk xxbos you find her and you may get a reason to stay longer here in philly :-) xxbos lol yes look on wiki under the 29th . xxbos want to see lana del rey in london so much in may ! xxbos you get ready 1st . i otw back from school only . on ur skype 1st xxbos no new grey \\ u2019s or scandal . :( must</td>\n",
       "    </tr>\n",
       "    <tr>\n",
       "      <td>3</td>\n",
       "      <td>were those polls abandoned ? xxbos capello says time for russia to win big match : russia manager fabio capello on thursday said that he intended to ... &lt; url &gt; xxbos xxunk goal ! jimmy martin sneaks a rebound past xxunk to give xxunk a 2 - 1 lead . xxunk &amp; bellamy with the xxunk left 2nd period xxbos kick - off your weekend with service ! ev</td>\n",
       "    </tr>\n",
       "    <tr>\n",
       "      <td>4</td>\n",
       "      <td>the new \\ u002c shown good discipline in the 1st 4 rounds tonight frankie \\ u002c kept a cool head ! # xxunk xxbos working the celebrity xxunk game saturday at xxunk la $ 12 at the door . gon na be with kendrick lamar \\ u002c rick ross \\ u002c xxunk carson \\ u002c ect . xxbos can \\ u2019 t believe is only 2 days older than me</td>\n",
       "    </tr>\n",
       "  </tbody>\n",
       "</table>"
      ],
      "text/plain": [
       "<IPython.core.display.HTML object>"
      ]
     },
     "metadata": {},
     "output_type": "display_data"
    }
   ],
   "source": [
    "data_lm.show_batch()"
   ]
  },
  {
   "cell_type": "code",
   "execution_count": 19,
   "metadata": {},
   "outputs": [
    {
     "data": {
      "text/plain": [
       "16407"
      ]
     },
     "execution_count": 19,
     "metadata": {},
     "output_type": "execute_result"
    }
   ],
   "source": [
    "len(data_lm.vocab.itos)"
   ]
  },
  {
   "cell_type": "markdown",
   "metadata": {},
   "source": [
    "## Load pretrained language model"
   ]
  },
  {
   "cell_type": "code",
   "execution_count": 20,
   "metadata": {},
   "outputs": [],
   "source": [
    "learn = language_model_learner(data_lm, AWD_LSTM, drop_mult=0.3)"
   ]
  },
  {
   "cell_type": "code",
   "execution_count": 21,
   "metadata": {},
   "outputs": [
    {
     "data": {
      "text/html": [],
      "text/plain": [
       "<IPython.core.display.HTML object>"
      ]
     },
     "metadata": {},
     "output_type": "display_data"
    },
    {
     "name": "stdout",
     "output_type": "stream",
     "text": [
      "LR Finder is complete, type {learner_name}.recorder.plot() to see the graph.\n"
     ]
    }
   ],
   "source": [
    "learn.lr_find()"
   ]
  },
  {
   "cell_type": "code",
   "execution_count": 22,
   "metadata": {},
   "outputs": [
    {
     "data": {
      "image/png": "[encoded data removed]",
      "text/plain": [
       "<Figure size 432x288 with 1 Axes>"
      ]
     },
     "metadata": {
      "needs_background": "light"
     },
     "output_type": "display_data"
    }
   ],
   "source": [
    "learn.recorder.plot()"
   ]
  },
  {
   "cell_type": "code",
   "execution_count": 23,
   "metadata": {},
   "outputs": [
    {
     "data": {
      "image/png": "[encoded data removed]",
      "text/plain": [
       "<Figure size 432x288 with 1 Axes>"
      ]
     },
     "metadata": {
      "needs_background": "light"
     },
     "output_type": "display_data"
    }
   ],
   "source": [
    "learn.recorder.plot(skip_end=15)"
   ]
  },
  {
   "cell_type": "code",
   "execution_count": 24,
   "metadata": {},
   "outputs": [
    {
     "data": {
      "text/html": [
       "Total time: 00:27 <p><table style='width:375px; margin-bottom:10px'>\n",
       "  <tr>\n",
       "    <th>epoch</th>\n",
       "    <th>train_loss</th>\n",
       "    <th>valid_loss</th>\n",
       "    <th>accuracy</th>\n",
       "    <th>time</th>\n",
       "  </tr>\n",
       "  <tr>\n",
       "    <th>0</th>\n",
       "    <th>5.030068</th>\n",
       "    <th>4.740429</th>\n",
       "    <th>0.241762</th>\n",
       "    <th>00:27</th>\n",
       "  </tr>\n",
       "</table>\n"
      ],
      "text/plain": [
       "<IPython.core.display.HTML object>"
      ]
     },
     "metadata": {},
     "output_type": "display_data"
    }
   ],
   "source": [
    "learn.fit_one_cycle(1, 3e-2, moms=(0.8, 0.7))"
   ]
  },
  {
   "cell_type": "code",
   "execution_count": 25,
   "metadata": {},
   "outputs": [],
   "source": [
    "learn.save('fit_head')"
   ]
  },
  {
   "cell_type": "markdown",
   "metadata": {},
   "source": [
    "## Unfreeze to fine-tune"
   ]
  },
  {
   "cell_type": "code",
   "execution_count": 26,
   "metadata": {},
   "outputs": [],
   "source": [
    "learn.unfreeze()"
   ]
  },
  {
   "cell_type": "code",
   "execution_count": 27,
   "metadata": {},
   "outputs": [],
   "source": [
    "torch.cuda.empty_cache()"
   ]
  },
  {
   "cell_type": "code",
   "execution_count": 28,
   "metadata": {},
   "outputs": [
    {
     "data": {
      "text/html": [
       "Total time: 04:53 <p><table style='width:375px; margin-bottom:10px'>\n",
       "  <tr>\n",
       "    <th>epoch</th>\n",
       "    <th>train_loss</th>\n",
       "    <th>valid_loss</th>\n",
       "    <th>accuracy</th>\n",
       "    <th>time</th>\n",
       "  </tr>\n",
       "  <tr>\n",
       "    <th>0</th>\n",
       "    <th>4.531154</th>\n",
       "    <th>4.561153</th>\n",
       "    <th>0.257558</th>\n",
       "    <th>00:32</th>\n",
       "  </tr>\n",
       "  <tr>\n",
       "    <th>1</th>\n",
       "    <th>4.416755</th>\n",
       "    <th>4.444188</th>\n",
       "    <th>0.267769</th>\n",
       "    <th>00:32</th>\n",
       "  </tr>\n",
       "  <tr>\n",
       "    <th>2</th>\n",
       "    <th>4.193397</th>\n",
       "    <th>4.355202</th>\n",
       "    <th>0.276286</th>\n",
       "    <th>00:32</th>\n",
       "  </tr>\n",
       "  <tr>\n",
       "    <th>3</th>\n",
       "    <th>3.964247</th>\n",
       "    <th>4.332478</th>\n",
       "    <th>0.280109</th>\n",
       "    <th>00:32</th>\n",
       "  </tr>\n",
       "  <tr>\n",
       "    <th>4</th>\n",
       "    <th>3.697937</th>\n",
       "    <th>4.347423</th>\n",
       "    <th>0.283476</th>\n",
       "    <th>00:32</th>\n",
       "  </tr>\n",
       "  <tr>\n",
       "    <th>5</th>\n",
       "    <th>3.429027</th>\n",
       "    <th>4.395639</th>\n",
       "    <th>0.282952</th>\n",
       "    <th>00:32</th>\n",
       "  </tr>\n",
       "  <tr>\n",
       "    <th>6</th>\n",
       "    <th>3.175354</th>\n",
       "    <th>4.455944</th>\n",
       "    <th>0.281463</th>\n",
       "    <th>00:32</th>\n",
       "  </tr>\n",
       "  <tr>\n",
       "    <th>7</th>\n",
       "    <th>2.996571</th>\n",
       "    <th>4.499282</th>\n",
       "    <th>0.280966</th>\n",
       "    <th>00:32</th>\n",
       "  </tr>\n",
       "  <tr>\n",
       "    <th>8</th>\n",
       "    <th>2.896019</th>\n",
       "    <th>4.525369</th>\n",
       "    <th>0.280388</th>\n",
       "    <th>00:32</th>\n",
       "  </tr>\n",
       "</table>\n"
      ],
      "text/plain": [
       "<IPython.core.display.HTML object>"
      ]
     },
     "metadata": {},
     "output_type": "display_data"
    }
   ],
   "source": [
    "learn.fit_one_cycle(9, 3e-3, moms=(0.8, 0.7))"
   ]
  },
  {
   "cell_type": "code",
   "execution_count": 29,
   "metadata": {},
   "outputs": [],
   "source": [
    "learn.save('fine_tuned')"
   ]
  },
  {
   "cell_type": "code",
   "execution_count": 30,
   "metadata": {},
   "outputs": [],
   "source": [
    "learn.save_encoder('fine_tuned_encoder')"
   ]
  },
  {
   "cell_type": "markdown",
   "metadata": {},
   "source": [
    "## Sentiment Classifier"
   ]
  },
  {
   "cell_type": "code",
   "execution_count": 31,
   "metadata": {},
   "outputs": [
    {
     "data": {
      "text/plain": [
       "(61989, 4)"
      ]
     },
     "execution_count": 31,
     "metadata": {},
     "output_type": "execute_result"
    }
   ],
   "source": [
    "df_test['validation'] = True\n",
    "df_train['validation'] = False\n",
    "df_all = df_train.append(df_test)\n",
    "df_all.shape"
   ]
  },
  {
   "cell_type": "code",
   "execution_count": 32,
   "metadata": {},
   "outputs": [
    {
     "data": {
      "text/html": [
       "<div>\n",
       "<style scoped>\n",
       "    .dataframe tbody tr th:only-of-type {\n",
       "        vertical-align: middle;\n",
       "    }\n",
       "\n",
       "    .dataframe tbody tr th {\n",
       "        vertical-align: top;\n",
       "    }\n",
       "\n",
       "    .dataframe thead th {\n",
       "        text-align: right;\n",
       "    }\n",
       "</style>\n",
       "<table border=\"1\" class=\"dataframe\">\n",
       "  <thead>\n",
       "    <tr style=\"text-align: right;\">\n",
       "      <th></th>\n",
       "      <th>id</th>\n",
       "      <th>label</th>\n",
       "      <th>tweet</th>\n",
       "      <th>validation</th>\n",
       "    </tr>\n",
       "  </thead>\n",
       "  <tbody>\n",
       "    <tr>\n",
       "      <th>0</th>\n",
       "      <td>260097528899452929</td>\n",
       "      <td>neutral</td>\n",
       "      <td>won the match #getin . plus\\u002c tomorrow is ...</td>\n",
       "      <td>False</td>\n",
       "    </tr>\n",
       "    <tr>\n",
       "      <th>1</th>\n",
       "      <td>263791921753882624</td>\n",
       "      <td>neutral</td>\n",
       "      <td>some areas of new england could see the first ...</td>\n",
       "      <td>False</td>\n",
       "    </tr>\n",
       "    <tr>\n",
       "      <th>2</th>\n",
       "      <td>264194578381410304</td>\n",
       "      <td>negative</td>\n",
       "      <td>2nd worst qb. definitely tony romo. the man w...</td>\n",
       "      <td>False</td>\n",
       "    </tr>\n",
       "    <tr>\n",
       "      <th>3</th>\n",
       "      <td>264041328420204544</td>\n",
       "      <td>neutral</td>\n",
       "      <td>#thailand washington - us president barack oba...</td>\n",
       "      <td>False</td>\n",
       "    </tr>\n",
       "    <tr>\n",
       "      <th>4</th>\n",
       "      <td>263816256640126976</td>\n",
       "      <td>neutral</td>\n",
       "      <td>did y\\u2019all hear what tony romo dressed up ...</td>\n",
       "      <td>False</td>\n",
       "    </tr>\n",
       "  </tbody>\n",
       "</table>\n",
       "</div>"
      ],
      "text/plain": [
       "                   id     label  \\\n",
       "0  260097528899452929   neutral   \n",
       "1  263791921753882624   neutral   \n",
       "2  264194578381410304  negative   \n",
       "3  264041328420204544   neutral   \n",
       "4  263816256640126976   neutral   \n",
       "\n",
       "                                               tweet  validation  \n",
       "0  won the match #getin . plus\\u002c tomorrow is ...       False  \n",
       "1  some areas of new england could see the first ...       False  \n",
       "2   2nd worst qb. definitely tony romo. the man w...       False  \n",
       "3  #thailand washington - us president barack oba...       False  \n",
       "4  did y\\u2019all hear what tony romo dressed up ...       False  "
      ]
     },
     "execution_count": 32,
     "metadata": {},
     "output_type": "execute_result"
    }
   ],
   "source": [
    "df_all.head()"
   ]
  },
  {
   "cell_type": "code",
   "execution_count": 33,
   "metadata": {},
   "outputs": [],
   "source": [
    "sentiment_data = (TextList.from_df(df_all, path=semeval_path, cols='tweet', vocab=data_lm.vocab)\n",
    "                 .split_from_df(col='validation')\n",
    "                 .label_from_df(cols='label')\n",
    "                 .databunch(bs=bs))"
   ]
  },
  {
   "cell_type": "code",
   "execution_count": 34,
   "metadata": {},
   "outputs": [
    {
     "data": {
      "text/plain": [
       "LabelList (11906 items)\n",
       "x: TextList\n",
       "xxbos # arianagrande ari by ariana grande 80 % full < url >,xxbos ariana grande xxunk fm yours truly cd listening party in burbank < url >,xxbos ariana grande white house easter egg roll in washington < url >,xxbos # cd # musics ariana grande sweet like candy xxunk oz 100 ml sealed in box 100 % xxunk new < url >,xxbos side to side 😘 # xxunk # arianagrande # musically # xxunk # lgbt xxunk # xxunk … < url >\n",
       "y: CategoryList\n",
       "neutral,positive,positive,positive,neutral\n",
       "Path: data/SemEval2017-4A-English"
      ]
     },
     "execution_count": 34,
     "metadata": {},
     "output_type": "execute_result"
    }
   ],
   "source": [
    "sentiment_data.valid_ds"
   ]
  },
  {
   "cell_type": "code",
   "execution_count": 35,
   "metadata": {},
   "outputs": [
    {
     "data": {
      "text/plain": [
       "['negative', 'neutral', 'positive']"
      ]
     },
     "execution_count": 35,
     "metadata": {},
     "output_type": "execute_result"
    }
   ],
   "source": [
    "sentiment_data.classes"
   ]
  },
  {
   "cell_type": "code",
   "execution_count": 36,
   "metadata": {},
   "outputs": [
    {
     "data": {
      "text/html": [
       "<table border=\"1\" class=\"dataframe\">\n",
       "  <thead>\n",
       "    <tr style=\"text-align: right;\">\n",
       "      <th>text</th>\n",
       "      <th>target</th>\n",
       "    </tr>\n",
       "  </thead>\n",
       "  <tbody>\n",
       "    <tr>\n",
       "      <td>xxbos all presidents of american except one are or have been related to the monarchy . david cameron is her 5th cousin ... &lt; url &gt; \\n  xxunk \\t neutral \\t on a we d at 10 am the queen always calls david cameron and pretends to be frank bruno . cameron falls for it every time # xxunk \\n  xxunk \\t neutral \\t david cameron says that</td>\n",
       "      <td>neutral</td>\n",
       "    </tr>\n",
       "    <tr>\n",
       "      <td>xxbos jay - z : can i get a fuck you ? jay - z 's dad : i do n't know , can you ? jay - z : may i get a fuck you ? jay - z 's dad : no , it 's supper time . go wash up .</td>\n",
       "      <td>neutral</td>\n",
       "    </tr>\n",
       "    <tr>\n",
       "      <td>xxbos lmao blake asked xtina \" \" are you bringing your grammy awards to the show tomorrow \" \" and she said \" \" no \\ u002c there wouldn \\ u2019 t be enough room \" \" lmfao ! ! !</td>\n",
       "      <td>neutral</td>\n",
       "    </tr>\n",
       "    <tr>\n",
       "      <td>xxbos cafe one ? ! \" \" they lose dongwoo on a tuesday . \" \" is the first line is that the right fic no it doesn \\ u2019 t seem like it wait link me ? ! lmao</td>\n",
       "      <td>negative</td>\n",
       "    </tr>\n",
       "    <tr>\n",
       "      <td>xxbos my name 's ashton &amp; &amp; i am a male i may be trans but that does n't make me any less manly than john cena or the rock i go by he / him or they / them</td>\n",
       "      <td>neutral</td>\n",
       "    </tr>\n",
       "  </tbody>\n",
       "</table>"
      ],
      "text/plain": [
       "<IPython.core.display.HTML object>"
      ]
     },
     "metadata": {},
     "output_type": "display_data"
    }
   ],
   "source": [
    "sentiment_data.show_batch()"
   ]
  },
  {
   "cell_type": "markdown",
   "metadata": {},
   "source": [
    "### Metrics"
   ]
  },
  {
   "cell_type": "code",
   "execution_count": 37,
   "metadata": {},
   "outputs": [],
   "source": [
    "f1_score = partial(fbeta, beta=1)"
   ]
  },
  {
   "cell_type": "code",
   "execution_count": 38,
   "metadata": {},
   "outputs": [],
   "source": [
    "def average_recall(y_pred, y):\n",
    "    \n",
    "    def compute_recall(tp_label, y_label):\n",
    "        n_label = y_label.float().sum()\n",
    "        if n_label == 0.0:\n",
    "            return 0.0\n",
    "        return tp_label.float().sum() / n_label\n",
    "    \n",
    "    n = y.shape[0]\n",
    "    pred = y_pred.argmax(dim=-1).view(n, -1)\n",
    "    y_true = y.view(n, -1)\n",
    "        \n",
    "    pred_neg = pred == 0\n",
    "    y_neg = y_true == 0\n",
    "    true_neg = pred_neg * y_neg\n",
    "\n",
    "    pred_neu = pred == 1\n",
    "    y_neu = y_true == 1\n",
    "    true_neu = pred_neu * y_neu\n",
    "    \n",
    "    pred_pos = pred == 2\n",
    "    y_pos = y_true == 2\n",
    "    true_pos = pred_pos * y_pos\n",
    "    \n",
    "    recall_pos = compute_recall(true_pos, y_pos)\n",
    "    recall_neg = compute_recall(true_neg, y_neg)\n",
    "    recall_neu = compute_recall(true_neu, y_neu)\n",
    "    \n",
    "    #print(\"recall_pos\", recall_pos, \"recall_neg\", recall_neg, \"recall_neu\", recall_neu)\n",
    "    #print(\"true_pos\", true_pos.float().sum(), \"y_pos\", y_pos.float().sum())\n",
    "    #print(\"true_neg\", true_neg.float().sum(), \"y_neg\", y_neg.float().sum())\n",
    "    #print(\"true_neu\", true_neu.float().sum(), \"y_neu\", y_neu.float().sum())\n",
    "    #print(\"neg\", y_neg.sum(), \"neu\", y_neu.sum(), \"pos\", y_pos.sum(), )\n",
    "    \n",
    "    return (recall_pos + recall_neg + recall_neu) / 3.0"
   ]
  },
  {
   "cell_type": "code",
   "execution_count": 39,
   "metadata": {},
   "outputs": [],
   "source": [
    "metrics = [accuracy, average_recall]"
   ]
  },
  {
   "cell_type": "code",
   "execution_count": 40,
   "metadata": {},
   "outputs": [],
   "source": [
    "learn = text_classifier_learner(sentiment_data, AWD_LSTM, drop_mult=0.3, metrics=metrics)\n",
    "learn.load_encoder('fine_tuned_encoder')"
   ]
  },
  {
   "cell_type": "code",
   "execution_count": 41,
   "metadata": {},
   "outputs": [
    {
     "data": {
      "text/html": [],
      "text/plain": [
       "<IPython.core.display.HTML object>"
      ]
     },
     "metadata": {},
     "output_type": "display_data"
    },
    {
     "name": "stdout",
     "output_type": "stream",
     "text": [
      "LR Finder is complete, type {learner_name}.recorder.plot() to see the graph.\n"
     ]
    }
   ],
   "source": [
    "learn.lr_find()"
   ]
  },
  {
   "cell_type": "code",
   "execution_count": 42,
   "metadata": {},
   "outputs": [
    {
     "data": {
      "image/png": "[encoded data removed]",
      "text/plain": [
       "<Figure size 432x288 with 1 Axes>"
      ]
     },
     "metadata": {
      "needs_background": "light"
     },
     "output_type": "display_data"
    }
   ],
   "source": [
    "learn.recorder.plot()"
   ]
  },
  {
   "cell_type": "code",
   "execution_count": 43,
   "metadata": {},
   "outputs": [
    {
     "data": {
      "image/png": "[encoded data removed]",
      "text/plain": [
       "<Figure size 432x288 with 1 Axes>"
      ]
     },
     "metadata": {
      "needs_background": "light"
     },
     "output_type": "display_data"
    }
   ],
   "source": [
    "learn.recorder.plot(skip_end=14)"
   ]
  },
  {
   "cell_type": "code",
   "execution_count": 44,
   "metadata": {},
   "outputs": [],
   "source": [
    "from fastai.callbacks.misc import StopAfterNBatches"
   ]
  },
  {
   "cell_type": "code",
   "execution_count": 45,
   "metadata": {},
   "outputs": [
    {
     "data": {
      "text/html": [
       "Total time: 00:17 <p><table style='width:450px; margin-bottom:10px'>\n",
       "  <tr>\n",
       "    <th>epoch</th>\n",
       "    <th>train_loss</th>\n",
       "    <th>valid_loss</th>\n",
       "    <th>accuracy</th>\n",
       "    <th>average_recall</th>\n",
       "    <th>time</th>\n",
       "  </tr>\n",
       "  <tr>\n",
       "    <th>0</th>\n",
       "    <th>0.814725</th>\n",
       "    <th>0.813767</th>\n",
       "    <th>0.613052</th>\n",
       "    <th>0.583236</th>\n",
       "    <th>00:17</th>\n",
       "  </tr>\n",
       "</table>\n"
      ],
      "text/plain": [
       "<IPython.core.display.HTML object>"
      ]
     },
     "metadata": {},
     "output_type": "display_data"
    }
   ],
   "source": [
    "#learn.fit_one_cycle(1, 2e-2, moms=(0.8, 0.7), callbacks=[StopAfterNBatches(n_batches=3)])\n",
    "learn.fit_one_cycle(1, 2e-2, moms=(0.8, 0.7))"
   ]
  },
  {
   "cell_type": "code",
   "execution_count": 46,
   "metadata": {},
   "outputs": [
    {
     "data": {
      "text/plain": [
       "LabelList (11906 items)\n",
       "x: TextList\n",
       "xxbos # arianagrande ari by ariana grande 80 % full < url >,xxbos ariana grande xxunk fm yours truly cd listening party in burbank < url >,xxbos ariana grande white house easter egg roll in washington < url >,xxbos # cd # musics ariana grande sweet like candy xxunk oz 100 ml sealed in box 100 % xxunk new < url >,xxbos side to side 😘 # xxunk # arianagrande # musically # xxunk # lgbt xxunk # xxunk … < url >\n",
       "y: CategoryList\n",
       "neutral,positive,positive,positive,neutral\n",
       "Path: data/SemEval2017-4A-English"
      ]
     },
     "execution_count": 46,
     "metadata": {},
     "output_type": "execute_result"
    }
   ],
   "source": [
    "sentiment_data.valid_ds"
   ]
  },
  {
   "cell_type": "markdown",
   "metadata": {},
   "source": [
    "### Most of the predictions are `neutral`\n",
    "Something must be wrong.\n",
    "The situation improves after restarting everything and changing `drop_mult` to 0.3 (instead of 0.5) when building the `text_classifier_learner`. We now have an average_recall of 0.59 instead of 0.34. I also changed the batch size to 100 - I don't know whether it has an impact."
   ]
  },
  {
   "cell_type": "code",
   "execution_count": 47,
   "metadata": {},
   "outputs": [],
   "source": [
    "preds = learn.get_preds()"
   ]
  },
  {
   "cell_type": "code",
   "execution_count": 48,
   "metadata": {},
   "outputs": [
    {
     "data": {
      "text/plain": [
       "tensor([0, 0, 0, 1, 0, 0, 0, 1, 0, 1, 1, 0, 0, 0, 1, 1, 0, 1, 1, 0])"
      ]
     },
     "execution_count": 48,
     "metadata": {},
     "output_type": "execute_result"
    }
   ],
   "source": [
    "(preds[0].argmax(dim=-1))[:20]"
   ]
  },
  {
   "cell_type": "code",
   "execution_count": 49,
   "metadata": {},
   "outputs": [
    {
     "data": {
      "text/plain": [
       "tensor([0, 1, 1, 0, 1, 0, 0, 1, 1, 1, 0, 1, 1, 1, 1, 1, 0, 0, 0, 1])"
      ]
     },
     "execution_count": 49,
     "metadata": {},
     "output_type": "execute_result"
    }
   ],
   "source": [
    "preds[1][:20]"
   ]
  },
  {
   "cell_type": "code",
   "execution_count": 50,
   "metadata": {},
   "outputs": [
    {
     "data": {
      "text/plain": [
       "tensor([0, 0, 0,  ..., 1, 1, 1])"
      ]
     },
     "execution_count": 50,
     "metadata": {},
     "output_type": "execute_result"
    }
   ],
   "source": [
    "predictions = preds[0].argmax(dim=1)\n",
    "predictions"
   ]
  },
  {
   "cell_type": "code",
   "execution_count": 51,
   "metadata": {},
   "outputs": [
    {
     "data": {
      "text/plain": [
       "(tensor(3420), tensor(5989), tensor(2497))"
      ]
     },
     "execution_count": 51,
     "metadata": {},
     "output_type": "execute_result"
    }
   ],
   "source": [
    "(predictions == 0).sum(), (predictions == 1).sum(), (predictions == 2).sum()"
   ]
  },
  {
   "cell_type": "code",
   "execution_count": 52,
   "metadata": {},
   "outputs": [
    {
     "data": {
      "text/plain": [
       "(tensor(3811), tensor(5743), tensor(2352))"
      ]
     },
     "execution_count": 52,
     "metadata": {},
     "output_type": "execute_result"
    }
   ],
   "source": [
    "targets = preds[1]\n",
    "(targets == 0).sum(), (targets == 1).sum(), (targets == 2).sum()"
   ]
  },
  {
   "cell_type": "code",
   "execution_count": 53,
   "metadata": {},
   "outputs": [
    {
     "data": {
      "text/plain": [
       "FlattenedLoss of CrossEntropyLoss()"
      ]
     },
     "execution_count": 53,
     "metadata": {},
     "output_type": "execute_result"
    }
   ],
   "source": [
    "learn.loss_func"
   ]
  },
  {
   "cell_type": "code",
   "execution_count": 54,
   "metadata": {},
   "outputs": [
    {
     "data": {
      "text/html": [
       "<table border=\"1\" class=\"dataframe\">\n",
       "  <thead>\n",
       "    <tr style=\"text-align: right;\">\n",
       "      <th>text</th>\n",
       "      <th>target</th>\n",
       "      <th>prediction</th>\n",
       "    </tr>\n",
       "  </thead>\n",
       "  <tbody>\n",
       "    <tr>\n",
       "      <td>xxbos for a long time no one considered the effect of repeated xxunk on the brain . this was based on a mistaken ... &lt; url &gt; \\n  xxunk \\t neutral \\t xxunk caused death in america - every case of xxunk - the made up xxunk to cover up death by vaccines . &lt; url &gt; \\n  xxunk \\t neutral \\t study proving vaccines cause autism banned</td>\n",
       "      <td>negative</td>\n",
       "      <td>negative</td>\n",
       "    </tr>\n",
       "    <tr>\n",
       "      <td>xxbos donald trump has reversed himself on abortion , banning muslims and even his central promise of building a wall on … &lt; url &gt; \\n  xxunk \\t positive \\t bill clinton built a wall on the mexican border in the 90s . # xxunk \\n  xxunk \\t neutral \\t &lt; email &gt; the is prepared to do a deal - u axe ur wall on mexican border</td>\n",
       "      <td>neutral</td>\n",
       "      <td>negative</td>\n",
       "    </tr>\n",
       "    <tr>\n",
       "      <td>xxbos in the past year alone , over 100 women from limerick have xxunk to the uk to get access to abortion services ... &lt; url &gt; \\n  xxunk \\t neutral \\t 1 of america 's greatest presidents # xxunk quote on abortion “ i 've noticed that everyone who is for abortion … &lt; url &gt; \\n  xxunk \\t negative \\t like it 's about abortion 😞</td>\n",
       "      <td>neutral</td>\n",
       "      <td>negative</td>\n",
       "    </tr>\n",
       "    <tr>\n",
       "      <td>xxbos the patches ] are being used to kill people with dementia , with the idea that it ’s cheapest and best to get rid of … &lt; url &gt; \\n  xxunk \\t neutral \\t important for research paper : should euthanasia / assisted suicide be an option for suffering terminally ill patience \\n  xxunk \\t negative \\t  when euthanasia is xxunk , i 'm not going</td>\n",
       "      <td>negative</td>\n",
       "      <td>neutral</td>\n",
       "    </tr>\n",
       "    <tr>\n",
       "      <td>xxbos i do n't support animal cruelty but i 'm okay with giving my money to companies that do so they continue testing on … &lt; url &gt; \\n  xxunk \\t negative \\t i 'm not for the animal cruelty or animal testing tbh \\n  xxunk \\t neutral \\t i just do n't get what 's the big deal of using mac products like i love mac &amp;</td>\n",
       "      <td>neutral</td>\n",
       "      <td>negative</td>\n",
       "    </tr>\n",
       "    <tr>\n",
       "      <td>xxbos of course they would cease ; no clinton in high power right now , so no cash ! watch charity foundation cease to xxunk … &lt; url &gt; \\n  xxunk \\t neutral \\t i see that jill stein filed to have a vote recount in wisconsin . i wonder how much she received from the clinton foundation for her service \\n  xxunk \\t neutral \\t  no</td>\n",
       "      <td>negative</td>\n",
       "      <td>negative</td>\n",
       "    </tr>\n",
       "    <tr>\n",
       "      <td>xxbos donald trump is n’t just xxunk to xxunk us climate policies as president . his transition team is also talking ... &lt; url &gt; \\n  xxunk \\t negative \\t instead of being xxunk at the spectacle of trump 's transition , liberals should try a more level - headed approach . … &lt; url &gt; \\n  xxunk \\t neutral \\t it 's kris kobach 's plan ...</td>\n",
       "      <td>negative</td>\n",
       "      <td>negative</td>\n",
       "    </tr>\n",
       "    <tr>\n",
       "      <td>xxbos the alleged xxunk came the same day that ukrainian president petro poroshenko met with eu leaders for a xxunk … &lt; url &gt; \\n  xxunk \\t neutral \\t i 'll say it again . i 'm willing to bet a xxunk of xxunk that poroshenko will use xxunk 's 1999 strategy and win the presidential election \\n  xxunk \\t neutral \\t poroshenko sure trump will not change</td>\n",
       "      <td>neutral</td>\n",
       "      <td>neutral</td>\n",
       "    </tr>\n",
       "    <tr>\n",
       "      <td>xxbos he wants to break up the country ’s biggest companies , meet with xxunk korean leader kim jong un &amp; throw president p … &lt; url &gt; \\n  xxunk \\t neutral \\t shout out car crashes . shout out kim jong un . shout out the lakers maybe signing him to a xxunk for this game . &lt; url &gt; \\n  xxunk \\t neutral \\t  the</td>\n",
       "      <td>neutral</td>\n",
       "      <td>negative</td>\n",
       "    </tr>\n",
       "    <tr>\n",
       "      <td>xxbos all 11 of the uk ’s most senior judges will take their seats on the supreme court bench on monday to decide ... &lt; url &gt; \\n  xxunk \\t negative \\t  depressing how many people deluded that supreme court are deciding whether brexit referendum is overturned \\n  xxunk \\t neutral \\t for # xxunk we had a 650 page xxunk the # xxunk was based on</td>\n",
       "      <td>neutral</td>\n",
       "      <td>neutral</td>\n",
       "    </tr>\n",
       "    <tr>\n",
       "      <td>xxbos putin only has to sit on the fence and wait until ukraine kills itself ” yeah , or until saakashvili &amp; xxunk do … &lt; url &gt; \\n  xxunk \\t negative \\t the only person self - interested # saakashvili has n't criticized in the ukrainian govt is self - interested # xxunk . # xxunk \\n  xxunk \\t negative \\t &lt; url &gt; \\n  xxunk</td>\n",
       "      <td>negative</td>\n",
       "      <td>neutral</td>\n",
       "    </tr>\n",
       "    <tr>\n",
       "      <td>xxbos if a store can replace a $ 15 an hour employee with a robot that costs $ xxunk , it will not only improve that xxunk … &lt;url &gt; \\n  xxunk \\t positive \\t and that ca minimum wage goes up on the first for the next 5 years xxunk 😋 \\n  xxunk \\t neutral \\t  18 i 'm on minimum wage \\n  xxunk \\t</td>\n",
       "      <td>neutral</td>\n",
       "      <td>negative</td>\n",
       "    </tr>\n",
       "    <tr>\n",
       "      <td>xxbos a transition official told fox ’s ed henry that some in trump ’s inner circle want the former xxunk ... &lt; url &gt; \\n  xxunk \\t negative \\t  nothing is going to get overturned . while they re living in xxunk , trump is breaking transition records . \\n  xxunk \\t positive \\t  lieberman praises mcfarland / flynn in transition release on nomination . lieberman</td>\n",
       "      <td>neutral</td>\n",
       "      <td>negative</td>\n",
       "    </tr>\n",
       "    <tr>\n",
       "      <td>xxbos green party presidential candidate jill stein has filed a request for a recount with wisconsin election ... &lt; url &gt; \\n  xxunk \\t neutral \\t my friend just told me trump added brian xxunk to his cabinet and i believed her \\n  xxunk \\t negative \\t  romney is a joke . i hope he 's not in trump 's cabinet anytime soon \\n  xxunk \\t</td>\n",
       "      <td>neutral</td>\n",
       "      <td>negative</td>\n",
       "    </tr>\n",
       "    <tr>\n",
       "      <td>xxbos instead , it 's washington , d.c . , and the incoming administration of president - elect donald trump that has state ... &lt; url &gt; \\n  xxunk \\t neutral \\t  # xxunk il : east xxunk medical marijuana dispensary to host open house ahead of xxunk ... read blog : &lt; url &gt; \\n  xxunk \\t neutral \\t end prohibition : planning commission recommends xxunk</td>\n",
       "      <td>neutral</td>\n",
       "      <td>neutral</td>\n",
       "    </tr>\n",
       "    <tr>\n",
       "      <td>xxbos pope francis had read endo ’s novel , scorsese said , adding that the xxunk told him , ' i hope the story of the film … &lt; url &gt; \\n  xxunk \\t neutral \\t  since pope francis wrote al he has every right to tell those who enquiry whether their interpretation is correct or not ! \\n  xxunk \\t negative \\t xxunk testify : pope</td>\n",
       "      <td>neutral</td>\n",
       "      <td>neutral</td>\n",
       "    </tr>\n",
       "    <tr>\n",
       "      <td>xxbos chinese websites are blocking search results for “ fatty kim the third ” and “ kim fatty the third . ” the names are ... &lt; url &gt; \\n  xxunk \\t negative \\t  # xxunk # xxunk # xxunk ！ # xxunk ！ # xxunk ！ # xxunk # china bans people calling # northkorea 's leader # kimfattythethird &lt; url &gt; \\n  xxunk \\t neutral</td>\n",
       "      <td>negative</td>\n",
       "      <td>negative</td>\n",
       "    </tr>\n",
       "    <tr>\n",
       "      <td>xxbos are we out of touch , sexually xxunk , decadent xxunk who ca n't own up to our xxunk it is the xxunk … &lt; url &gt; \\n  xxunk \\t positive \\t  when hillary said , basket of deplorables . \" that outcome was awesome .</td>\n",
       "      <td>negative</td>\n",
       "      <td>neutral</td>\n",
       "    </tr>\n",
       "    <tr>\n",
       "      <td>xxbos how do you do , fellow alt - rightists ? say , any of you xxunk up for an op against a designated target late … &lt; url &gt; \\n  xxunk \\t neutral \\t alt - rightists xxunk \" trump victory &lt; url &gt;</td>\n",
       "      <td>negative</td>\n",
       "      <td>neutral</td>\n",
       "    </tr>\n",
       "    <tr>\n",
       "      <td>xxbos y' all . i just watched two david blaine specials on netflix . i. do n't . it 's real . it 's all real . i do n't understand . it 's . wut . sum1 . xxunk xxunk ️</td>\n",
       "      <td>neutral</td>\n",
       "      <td>negative</td>\n",
       "    </tr>\n",
       "  </tbody>\n",
       "</table>"
      ],
      "text/plain": [
       "<IPython.core.display.HTML object>"
      ]
     },
     "metadata": {},
     "output_type": "display_data"
    }
   ],
   "source": [
    "learn.show_results(rows=20)"
   ]
  },
  {
   "cell_type": "code",
   "execution_count": 55,
   "metadata": {},
   "outputs": [],
   "source": [
    "learn.save('first')"
   ]
  },
  {
   "cell_type": "code",
   "execution_count": 56,
   "metadata": {},
   "outputs": [
    {
     "data": {
      "text/plain": [
       "RNNLearner(data=TextClasDataBunch;\n",
       "\n",
       "Train: LabelList (50083 items)\n",
       "x: TextList\n",
       "xxbos won the match # xxunk . plus \\ u002c tomorrow is a very busy day \\ u002c with awareness day \\ u2019s and debates . xxunk . debates ...,xxbos some areas of new england could see the first xxunk of the season tuesday .,xxbos 2nd worst qb . definitely tony romo . the man who likes to share the ball with everyone . including the other team .,xxbos # thailand washington - us president barack obama vowed wednesday as he visited storm - ravaged new jersey shore to ... < url >,xxbos did y \\ u2019all hear what tony romo dressed up as for halloween ? a giants xxunk ! cause that \\ u2019s all he could throw to sunday night .\n",
       "y: CategoryList\n",
       "neutral,neutral,negative,neutral,neutral\n",
       "Path: data/SemEval2017-4A-English;\n",
       "\n",
       "Valid: LabelList (11906 items)\n",
       "x: TextList\n",
       "xxbos # arianagrande ari by ariana grande 80 % full < url >,xxbos ariana grande xxunk fm yours truly cd listening party in burbank < url >,xxbos ariana grande white house easter egg roll in washington < url >,xxbos # cd # musics ariana grande sweet like candy xxunk oz 100 ml sealed in box 100 % xxunk new < url >,xxbos side to side 😘 # xxunk # arianagrande # musically # xxunk # lgbt xxunk # xxunk … < url >\n",
       "y: CategoryList\n",
       "neutral,positive,positive,positive,neutral\n",
       "Path: data/SemEval2017-4A-English;\n",
       "\n",
       "Test: None, model=SequentialRNN(\n",
       "  (0): MultiBatchEncoder(\n",
       "    (module): AWD_LSTM(\n",
       "      (encoder): Embedding(16407, 400, padding_idx=1)\n",
       "      (encoder_dp): EmbeddingDropout(\n",
       "        (emb): Embedding(16407, 400, padding_idx=1)\n",
       "      )\n",
       "      (rnns): ModuleList(\n",
       "        (0): WeightDropout(\n",
       "          (module): LSTM(400, 1150, batch_first=True)\n",
       "        )\n",
       "        (1): WeightDropout(\n",
       "          (module): LSTM(1150, 1150, batch_first=True)\n",
       "        )\n",
       "        (2): WeightDropout(\n",
       "          (module): LSTM(1150, 400, batch_first=True)\n",
       "        )\n",
       "      )\n",
       "      (input_dp): RNNDropout()\n",
       "      (hidden_dps): ModuleList(\n",
       "        (0): RNNDropout()\n",
       "        (1): RNNDropout()\n",
       "        (2): RNNDropout()\n",
       "      )\n",
       "    )\n",
       "  )\n",
       "  (1): PoolingLinearClassifier(\n",
       "    (layers): Sequential(\n",
       "      (0): BatchNorm1d(1200, eps=1e-05, momentum=0.1, affine=True, track_running_stats=True)\n",
       "      (1): Dropout(p=0.12)\n",
       "      (2): Linear(in_features=1200, out_features=50, bias=True)\n",
       "      (3): ReLU(inplace)\n",
       "      (4): BatchNorm1d(50, eps=1e-05, momentum=0.1, affine=True, track_running_stats=True)\n",
       "      (5): Dropout(p=0.1)\n",
       "      (6): Linear(in_features=50, out_features=3, bias=True)\n",
       "    )\n",
       "  )\n",
       "), opt_func=functools.partial(<class 'torch.optim.adam.Adam'>, betas=(0.9, 0.99)), loss_func=FlattenedLoss of CrossEntropyLoss(), metrics=[<function accuracy at 0x7fc3a28a4d90>, <function average_recall at 0x7fc42bb17bf8>], true_wd=True, bn_wd=True, wd=0.01, train_bn=True, path=PosixPath('data/SemEval2017-4A-English'), model_dir='models', callback_fns=[functools.partial(<class 'fastai.basic_train.Recorder'>, add_time=True)], callbacks=[RNNTrainer\n",
       "learn: ...\n",
       "alpha: 2.0\n",
       "beta: 1.0], layer_groups=[Sequential(\n",
       "  (0): Embedding(16407, 400, padding_idx=1)\n",
       "  (1): EmbeddingDropout(\n",
       "    (emb): Embedding(16407, 400, padding_idx=1)\n",
       "  )\n",
       "), Sequential(\n",
       "  (0): WeightDropout(\n",
       "    (module): LSTM(400, 1150, batch_first=True)\n",
       "  )\n",
       "  (1): RNNDropout()\n",
       "), Sequential(\n",
       "  (0): WeightDropout(\n",
       "    (module): LSTM(1150, 1150, batch_first=True)\n",
       "  )\n",
       "  (1): RNNDropout()\n",
       "), Sequential(\n",
       "  (0): WeightDropout(\n",
       "    (module): LSTM(1150, 400, batch_first=True)\n",
       "  )\n",
       "  (1): RNNDropout()\n",
       "), Sequential(\n",
       "  (0): PoolingLinearClassifier(\n",
       "    (layers): Sequential(\n",
       "      (0): BatchNorm1d(1200, eps=1e-05, momentum=0.1, affine=True, track_running_stats=True)\n",
       "      (1): Dropout(p=0.12)\n",
       "      (2): Linear(in_features=1200, out_features=50, bias=True)\n",
       "      (3): ReLU(inplace)\n",
       "      (4): BatchNorm1d(50, eps=1e-05, momentum=0.1, affine=True, track_running_stats=True)\n",
       "      (5): Dropout(p=0.1)\n",
       "      (6): Linear(in_features=50, out_features=3, bias=True)\n",
       "    )\n",
       "  )\n",
       ")], add_time=True)"
      ]
     },
     "execution_count": 56,
     "metadata": {},
     "output_type": "execute_result"
    }
   ],
   "source": [
    "learn.load('first')"
   ]
  },
  {
   "cell_type": "code",
   "execution_count": 57,
   "metadata": {},
   "outputs": [],
   "source": [
    "learn.freeze_to(-2)"
   ]
  },
  {
   "cell_type": "code",
   "execution_count": 58,
   "metadata": {},
   "outputs": [],
   "source": [
    "torch.cuda.empty_cache()"
   ]
  },
  {
   "cell_type": "markdown",
   "metadata": {},
   "source": [
    "### Reduce batch size because 100 doesn't fit"
   ]
  },
  {
   "cell_type": "code",
   "execution_count": 59,
   "metadata": {},
   "outputs": [
    {
     "data": {
      "text/plain": [
       "[100, 100, 100, 1]"
      ]
     },
     "execution_count": 59,
     "metadata": {},
     "output_type": "execute_result"
    }
   ],
   "source": [
    "[dl.batch_size for dl in sentiment_data.dls]"
   ]
  },
  {
   "cell_type": "code",
   "execution_count": 60,
   "metadata": {},
   "outputs": [
    {
     "data": {
      "text/plain": [
       "[60, 60, 60, 1]"
      ]
     },
     "execution_count": 60,
     "metadata": {},
     "output_type": "execute_result"
    }
   ],
   "source": [
    "new_bs = 60\n",
    "for dl in sentiment_data.dls:\n",
    "    if dl.batch_size == bs:\n",
    "        dl.batch_size = new_bs\n",
    "[dl.batch_size for dl in sentiment_data.dls]"
   ]
  },
  {
   "cell_type": "code",
   "execution_count": 61,
   "metadata": {},
   "outputs": [
    {
     "data": {
      "text/html": [
       "Total time: 00:26 <p><table style='width:450px; margin-bottom:10px'>\n",
       "  <tr>\n",
       "    <th>epoch</th>\n",
       "    <th>train_loss</th>\n",
       "    <th>valid_loss</th>\n",
       "    <th>accuracy</th>\n",
       "    <th>average_recall</th>\n",
       "    <th>time</th>\n",
       "  </tr>\n",
       "  <tr>\n",
       "    <th>0</th>\n",
       "    <th>0.758882</th>\n",
       "    <th>0.784535</th>\n",
       "    <th>0.630354</th>\n",
       "    <th>0.601370</th>\n",
       "    <th>00:26</th>\n",
       "  </tr>\n",
       "</table>\n"
      ],
      "text/plain": [
       "<IPython.core.display.HTML object>"
      ]
     },
     "metadata": {},
     "output_type": "display_data"
    }
   ],
   "source": [
    "learn.fit_one_cycle(1, slice(1e-2/(2.6**4),1e-2), moms=(0.8,0.7))"
   ]
  },
  {
   "cell_type": "code",
   "execution_count": 62,
   "metadata": {},
   "outputs": [],
   "source": [
    "learn.save('second')"
   ]
  },
  {
   "cell_type": "code",
   "execution_count": 63,
   "metadata": {},
   "outputs": [
    {
     "data": {
      "text/plain": [
       "RNNLearner(data=TextClasDataBunch;\n",
       "\n",
       "Train: LabelList (50083 items)\n",
       "x: TextList\n",
       "xxbos won the match # xxunk . plus \\ u002c tomorrow is a very busy day \\ u002c with awareness day \\ u2019s and debates . xxunk . debates ...,xxbos some areas of new england could see the first xxunk of the season tuesday .,xxbos 2nd worst qb . definitely tony romo . the man who likes to share the ball with everyone . including the other team .,xxbos # thailand washington - us president barack obama vowed wednesday as he visited storm - ravaged new jersey shore to ... < url >,xxbos did y \\ u2019all hear what tony romo dressed up as for halloween ? a giants xxunk ! cause that \\ u2019s all he could throw to sunday night .\n",
       "y: CategoryList\n",
       "neutral,neutral,negative,neutral,neutral\n",
       "Path: data/SemEval2017-4A-English;\n",
       "\n",
       "Valid: LabelList (11906 items)\n",
       "x: TextList\n",
       "xxbos # arianagrande ari by ariana grande 80 % full < url >,xxbos ariana grande xxunk fm yours truly cd listening party in burbank < url >,xxbos ariana grande white house easter egg roll in washington < url >,xxbos # cd # musics ariana grande sweet like candy xxunk oz 100 ml sealed in box 100 % xxunk new < url >,xxbos side to side 😘 # xxunk # arianagrande # musically # xxunk # lgbt xxunk # xxunk … < url >\n",
       "y: CategoryList\n",
       "neutral,positive,positive,positive,neutral\n",
       "Path: data/SemEval2017-4A-English;\n",
       "\n",
       "Test: None, model=SequentialRNN(\n",
       "  (0): MultiBatchEncoder(\n",
       "    (module): AWD_LSTM(\n",
       "      (encoder): Embedding(16407, 400, padding_idx=1)\n",
       "      (encoder_dp): EmbeddingDropout(\n",
       "        (emb): Embedding(16407, 400, padding_idx=1)\n",
       "      )\n",
       "      (rnns): ModuleList(\n",
       "        (0): WeightDropout(\n",
       "          (module): LSTM(400, 1150, batch_first=True)\n",
       "        )\n",
       "        (1): WeightDropout(\n",
       "          (module): LSTM(1150, 1150, batch_first=True)\n",
       "        )\n",
       "        (2): WeightDropout(\n",
       "          (module): LSTM(1150, 400, batch_first=True)\n",
       "        )\n",
       "      )\n",
       "      (input_dp): RNNDropout()\n",
       "      (hidden_dps): ModuleList(\n",
       "        (0): RNNDropout()\n",
       "        (1): RNNDropout()\n",
       "        (2): RNNDropout()\n",
       "      )\n",
       "    )\n",
       "  )\n",
       "  (1): PoolingLinearClassifier(\n",
       "    (layers): Sequential(\n",
       "      (0): BatchNorm1d(1200, eps=1e-05, momentum=0.1, affine=True, track_running_stats=True)\n",
       "      (1): Dropout(p=0.12)\n",
       "      (2): Linear(in_features=1200, out_features=50, bias=True)\n",
       "      (3): ReLU(inplace)\n",
       "      (4): BatchNorm1d(50, eps=1e-05, momentum=0.1, affine=True, track_running_stats=True)\n",
       "      (5): Dropout(p=0.1)\n",
       "      (6): Linear(in_features=50, out_features=3, bias=True)\n",
       "    )\n",
       "  )\n",
       "), opt_func=functools.partial(<class 'torch.optim.adam.Adam'>, betas=(0.9, 0.99)), loss_func=FlattenedLoss of CrossEntropyLoss(), metrics=[<function accuracy at 0x7fc3a28a4d90>, <function average_recall at 0x7fc42bb17bf8>], true_wd=True, bn_wd=True, wd=0.01, train_bn=True, path=PosixPath('data/SemEval2017-4A-English'), model_dir='models', callback_fns=[functools.partial(<class 'fastai.basic_train.Recorder'>, add_time=True)], callbacks=[RNNTrainer\n",
       "learn: ...\n",
       "alpha: 2.0\n",
       "beta: 1.0], layer_groups=[Sequential(\n",
       "  (0): Embedding(16407, 400, padding_idx=1)\n",
       "  (1): EmbeddingDropout(\n",
       "    (emb): Embedding(16407, 400, padding_idx=1)\n",
       "  )\n",
       "), Sequential(\n",
       "  (0): WeightDropout(\n",
       "    (module): LSTM(400, 1150, batch_first=True)\n",
       "  )\n",
       "  (1): RNNDropout()\n",
       "), Sequential(\n",
       "  (0): WeightDropout(\n",
       "    (module): LSTM(1150, 1150, batch_first=True)\n",
       "  )\n",
       "  (1): RNNDropout()\n",
       "), Sequential(\n",
       "  (0): WeightDropout(\n",
       "    (module): LSTM(1150, 400, batch_first=True)\n",
       "  )\n",
       "  (1): RNNDropout()\n",
       "), Sequential(\n",
       "  (0): PoolingLinearClassifier(\n",
       "    (layers): Sequential(\n",
       "      (0): BatchNorm1d(1200, eps=1e-05, momentum=0.1, affine=True, track_running_stats=True)\n",
       "      (1): Dropout(p=0.12)\n",
       "      (2): Linear(in_features=1200, out_features=50, bias=True)\n",
       "      (3): ReLU(inplace)\n",
       "      (4): BatchNorm1d(50, eps=1e-05, momentum=0.1, affine=True, track_running_stats=True)\n",
       "      (5): Dropout(p=0.1)\n",
       "      (6): Linear(in_features=50, out_features=3, bias=True)\n",
       "    )\n",
       "  )\n",
       ")], add_time=True)"
      ]
     },
     "execution_count": 63,
     "metadata": {},
     "output_type": "execute_result"
    }
   ],
   "source": [
    "learn.load('second')"
   ]
  },
  {
   "cell_type": "code",
   "execution_count": 64,
   "metadata": {},
   "outputs": [],
   "source": [
    "torch.cuda.empty_cache()"
   ]
  },
  {
   "cell_type": "markdown",
   "metadata": {},
   "source": [
    "### Reduce `batch_size` a lot\n",
    "\n",
    "I believe there are memory leaks or memory management problems. After the following change I observed a GPU memory usage of 29%, but if I tried to increase the batch size I got an out-of-memory error."
   ]
  },
  {
   "cell_type": "code",
   "execution_count": 65,
   "metadata": {},
   "outputs": [],
   "source": [
    "#bs = new_bs\n",
    "#new_bs = 5\n",
    "#for dl in sentiment_data.dls:\n",
    "#    if dl.batch_size == bs:\n",
    "#        dl.batch_size = new_bs\n",
    "#[dl.batch_size for dl in sentiment_data.dls]"
   ]
  },
  {
   "cell_type": "code",
   "execution_count": 66,
   "metadata": {},
   "outputs": [],
   "source": [
    "learn.unfreeze()"
   ]
  },
  {
   "cell_type": "code",
   "execution_count": 67,
   "metadata": {},
   "outputs": [],
   "source": [
    "learn.freeze_to(-3)"
   ]
  },
  {
   "cell_type": "code",
   "execution_count": 68,
   "metadata": {},
   "outputs": [
    {
     "data": {
      "text/html": [
       "Total time: 00:41 <p><table style='width:450px; margin-bottom:10px'>\n",
       "  <tr>\n",
       "    <th>epoch</th>\n",
       "    <th>train_loss</th>\n",
       "    <th>valid_loss</th>\n",
       "    <th>accuracy</th>\n",
       "    <th>average_recall</th>\n",
       "    <th>time</th>\n",
       "  </tr>\n",
       "  <tr>\n",
       "    <th>0</th>\n",
       "    <th>0.729559</th>\n",
       "    <th>0.768957</th>\n",
       "    <th>0.634050</th>\n",
       "    <th>0.622301</th>\n",
       "    <th>00:41</th>\n",
       "  </tr>\n",
       "</table>\n"
      ],
      "text/plain": [
       "<IPython.core.display.HTML object>"
      ]
     },
     "metadata": {},
     "output_type": "display_data"
    }
   ],
   "source": [
    "learn.fit_one_cycle(1, slice(5e-3/(2.6**4),5e-3), moms=(0.8,0.7))"
   ]
  },
  {
   "cell_type": "markdown",
   "metadata": {},
   "source": [
    "The average recall __decreased__ this time. Does the batch size have an impact on the lr or some other parameter?\n",
    "It didn't decrease so much the second time around. I did not reduce the bs to 5 this time."
   ]
  },
  {
   "cell_type": "code",
   "execution_count": 69,
   "metadata": {},
   "outputs": [],
   "source": [
    "learn.save('third')"
   ]
  },
  {
   "cell_type": "code",
   "execution_count": 70,
   "metadata": {},
   "outputs": [
    {
     "data": {
      "text/plain": [
       "RNNLearner(data=TextClasDataBunch;\n",
       "\n",
       "Train: LabelList (50083 items)\n",
       "x: TextList\n",
       "xxbos won the match # xxunk . plus \\ u002c tomorrow is a very busy day \\ u002c with awareness day \\ u2019s and debates . xxunk . debates ...,xxbos some areas of new england could see the first xxunk of the season tuesday .,xxbos 2nd worst qb . definitely tony romo . the man who likes to share the ball with everyone . including the other team .,xxbos # thailand washington - us president barack obama vowed wednesday as he visited storm - ravaged new jersey shore to ... < url >,xxbos did y \\ u2019all hear what tony romo dressed up as for halloween ? a giants xxunk ! cause that \\ u2019s all he could throw to sunday night .\n",
       "y: CategoryList\n",
       "neutral,neutral,negative,neutral,neutral\n",
       "Path: data/SemEval2017-4A-English;\n",
       "\n",
       "Valid: LabelList (11906 items)\n",
       "x: TextList\n",
       "xxbos # arianagrande ari by ariana grande 80 % full < url >,xxbos ariana grande xxunk fm yours truly cd listening party in burbank < url >,xxbos ariana grande white house easter egg roll in washington < url >,xxbos # cd # musics ariana grande sweet like candy xxunk oz 100 ml sealed in box 100 % xxunk new < url >,xxbos side to side 😘 # xxunk # arianagrande # musically # xxunk # lgbt xxunk # xxunk … < url >\n",
       "y: CategoryList\n",
       "neutral,positive,positive,positive,neutral\n",
       "Path: data/SemEval2017-4A-English;\n",
       "\n",
       "Test: None, model=SequentialRNN(\n",
       "  (0): MultiBatchEncoder(\n",
       "    (module): AWD_LSTM(\n",
       "      (encoder): Embedding(16407, 400, padding_idx=1)\n",
       "      (encoder_dp): EmbeddingDropout(\n",
       "        (emb): Embedding(16407, 400, padding_idx=1)\n",
       "      )\n",
       "      (rnns): ModuleList(\n",
       "        (0): WeightDropout(\n",
       "          (module): LSTM(400, 1150, batch_first=True)\n",
       "        )\n",
       "        (1): WeightDropout(\n",
       "          (module): LSTM(1150, 1150, batch_first=True)\n",
       "        )\n",
       "        (2): WeightDropout(\n",
       "          (module): LSTM(1150, 400, batch_first=True)\n",
       "        )\n",
       "      )\n",
       "      (input_dp): RNNDropout()\n",
       "      (hidden_dps): ModuleList(\n",
       "        (0): RNNDropout()\n",
       "        (1): RNNDropout()\n",
       "        (2): RNNDropout()\n",
       "      )\n",
       "    )\n",
       "  )\n",
       "  (1): PoolingLinearClassifier(\n",
       "    (layers): Sequential(\n",
       "      (0): BatchNorm1d(1200, eps=1e-05, momentum=0.1, affine=True, track_running_stats=True)\n",
       "      (1): Dropout(p=0.12)\n",
       "      (2): Linear(in_features=1200, out_features=50, bias=True)\n",
       "      (3): ReLU(inplace)\n",
       "      (4): BatchNorm1d(50, eps=1e-05, momentum=0.1, affine=True, track_running_stats=True)\n",
       "      (5): Dropout(p=0.1)\n",
       "      (6): Linear(in_features=50, out_features=3, bias=True)\n",
       "    )\n",
       "  )\n",
       "), opt_func=functools.partial(<class 'torch.optim.adam.Adam'>, betas=(0.9, 0.99)), loss_func=FlattenedLoss of CrossEntropyLoss(), metrics=[<function accuracy at 0x7fc3a28a4d90>, <function average_recall at 0x7fc42bb17bf8>], true_wd=True, bn_wd=True, wd=0.01, train_bn=True, path=PosixPath('data/SemEval2017-4A-English'), model_dir='models', callback_fns=[functools.partial(<class 'fastai.basic_train.Recorder'>, add_time=True)], callbacks=[RNNTrainer\n",
       "learn: ...\n",
       "alpha: 2.0\n",
       "beta: 1.0], layer_groups=[Sequential(\n",
       "  (0): Embedding(16407, 400, padding_idx=1)\n",
       "  (1): EmbeddingDropout(\n",
       "    (emb): Embedding(16407, 400, padding_idx=1)\n",
       "  )\n",
       "), Sequential(\n",
       "  (0): WeightDropout(\n",
       "    (module): LSTM(400, 1150, batch_first=True)\n",
       "  )\n",
       "  (1): RNNDropout()\n",
       "), Sequential(\n",
       "  (0): WeightDropout(\n",
       "    (module): LSTM(1150, 1150, batch_first=True)\n",
       "  )\n",
       "  (1): RNNDropout()\n",
       "), Sequential(\n",
       "  (0): WeightDropout(\n",
       "    (module): LSTM(1150, 400, batch_first=True)\n",
       "  )\n",
       "  (1): RNNDropout()\n",
       "), Sequential(\n",
       "  (0): PoolingLinearClassifier(\n",
       "    (layers): Sequential(\n",
       "      (0): BatchNorm1d(1200, eps=1e-05, momentum=0.1, affine=True, track_running_stats=True)\n",
       "      (1): Dropout(p=0.12)\n",
       "      (2): Linear(in_features=1200, out_features=50, bias=True)\n",
       "      (3): ReLU(inplace)\n",
       "      (4): BatchNorm1d(50, eps=1e-05, momentum=0.1, affine=True, track_running_stats=True)\n",
       "      (5): Dropout(p=0.1)\n",
       "      (6): Linear(in_features=50, out_features=3, bias=True)\n",
       "    )\n",
       "  )\n",
       ")], add_time=True)"
      ]
     },
     "execution_count": 70,
     "metadata": {},
     "output_type": "execute_result"
    }
   ],
   "source": [
    "learn.load('third')"
   ]
  },
  {
   "cell_type": "code",
   "execution_count": 71,
   "metadata": {},
   "outputs": [
    {
     "data": {
      "text/plain": [
       "[40, 40, 40, 1]"
      ]
     },
     "execution_count": 71,
     "metadata": {},
     "output_type": "execute_result"
    }
   ],
   "source": [
    "torch.cuda.empty_cache()\n",
    "bs = new_bs\n",
    "new_bs = 40\n",
    "for dl in sentiment_data.dls:\n",
    "    if dl.batch_size == bs:\n",
    "        dl.batch_size = new_bs\n",
    "[dl.batch_size for dl in sentiment_data.dls]"
   ]
  },
  {
   "cell_type": "code",
   "execution_count": 72,
   "metadata": {},
   "outputs": [],
   "source": [
    "learn.unfreeze()"
   ]
  },
  {
   "cell_type": "code",
   "execution_count": 73,
   "metadata": {},
   "outputs": [
    {
     "data": {
      "text/html": [
       "Total time: 02:22 <p><table style='width:450px; margin-bottom:10px'>\n",
       "  <tr>\n",
       "    <th>epoch</th>\n",
       "    <th>train_loss</th>\n",
       "    <th>valid_loss</th>\n",
       "    <th>accuracy</th>\n",
       "    <th>average_recall</th>\n",
       "    <th>time</th>\n",
       "  </tr>\n",
       "  <tr>\n",
       "    <th>0</th>\n",
       "    <th>0.662049</th>\n",
       "    <th>0.779231</th>\n",
       "    <th>0.631194</th>\n",
       "    <th>0.628330</th>\n",
       "    <th>01:11</th>\n",
       "  </tr>\n",
       "  <tr>\n",
       "    <th>1</th>\n",
       "    <th>0.634076</th>\n",
       "    <th>0.787535</th>\n",
       "    <th>0.626743</th>\n",
       "    <th>0.625387</th>\n",
       "    <th>01:10</th>\n",
       "  </tr>\n",
       "</table>\n"
      ],
      "text/plain": [
       "<IPython.core.display.HTML object>"
      ]
     },
     "metadata": {},
     "output_type": "display_data"
    }
   ],
   "source": [
    "learn.fit_one_cycle(2, slice(1e-3/(2.6**4), 1e-3), moms=(0.8,0.7))"
   ]
  },
  {
   "cell_type": "markdown",
   "metadata": {},
   "source": [
    "Final results (no pre-processing or filtering, unknown random seed):\n",
    "\n",
    "```\n",
    "train_loss  valid_loss  accuracy    average_recall\n",
    "0.720842\t0.796595\t0.624223\t0.602124\n",
    "```\n",
    "\n",
    "Final results with reproducible seed:\n",
    "\n",
    "```\n",
    "average_recall ~0.58\n",
    "```\n",
    "\n",
    "With some pre-processing:\n",
    "\n",
    "```\n",
    "average_recall ~0.625\n",
    "```\n",
    "\n",
    "With pre-processing (URLs, repetitions, remove mentions but keep hashtags), base LR=4e-2:\n",
    "\n",
    "```\n",
    "train_loss  valid_loss  accuracy    average_recall\n",
    "0.629977\t0.791526\t0.624391\t0.621962\n",
    "```\n",
    "\n",
    "Same pre-processing, base LR=3e-2, 9 epochs instead of 10 in initial training:\n",
    "\n",
    "```\n",
    "     train_loss  valid_loss  accuracy    average_recall\n",
    "0\t0.662049\t0.779231\t0.631194\t0.628330\t01:11\n",
    "1\t0.634076\t0.787535\t0.626743\t0.625387\t01:10\n",
    "```"
   ]
  },
  {
   "cell_type": "code",
   "execution_count": null,
   "metadata": {},
   "outputs": [],
   "source": []
  }
 ],
 "metadata": {
  "kernelspec": {
   "display_name": "Python 3",
   "language": "python",
   "name": "python3"
  },
  "language_info": {
   "codemirror_mode": {
    "name": "ipython",
    "version": 3
   },
   "file_extension": ".py",
   "mimetype": "text/x-python",
   "name": "python",
   "nbconvert_exporter": "python",
   "pygments_lexer": "ipython3",
   "version": "3.7.2"
  }
 },
 "nbformat": 4,
 "nbformat_minor": 2
}
