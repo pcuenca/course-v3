{
 "cells": [
  {
   "cell_type": "markdown",
   "metadata": {},
   "source": [
    "# LSTM tests with S&P's 500"
   ]
  },
  {
   "cell_type": "markdown",
   "metadata": {},
   "source": [
    "Exercise proposed and conducted by David Griñán and Pablo Talavante, AI Saturdays Madrid.\n",
    "\n",
    "We are going to use Kaggle's [S&P 500 stock data](https://www.kaggle.com/camnugent/sandp500) to study the use of LSTMs for time-series analysis.\n",
    "\n",
    "Sections:\n",
    "\n",
    "- [Data Analysis](#Data-Analysis)\n",
    "- [Predict a stock](#Predict-a-stock)\n",
    "- [Use _all_ stocks to predict `AAPL`](#Use-all-stocks-to-predict-AAPL)\n",
    "- [Use PyTorch instead of Keras](#Use-PyTorch-instead-of-Keras)"
   ]
  },
  {
   "cell_type": "markdown",
   "metadata": {},
   "source": [
    "## Data Analysis"
   ]
  },
  {
   "cell_type": "code",
   "execution_count": 208,
   "metadata": {},
   "outputs": [],
   "source": [
    "import pandas as pd\n",
    "import numpy as np\n",
    "import matplotlib.pyplot as plt\n",
    "from fastai import *\n",
    "from fastai.vision import *"
   ]
  },
  {
   "cell_type": "markdown",
   "metadata": {},
   "source": [
    "You need to download the dataset from Kaggle and adjust your path below."
   ]
  },
  {
   "cell_type": "code",
   "execution_count": 209,
   "metadata": {},
   "outputs": [
    {
     "data": {
      "text/plain": [
       "[PosixPath('data/sandp500/individual_stocks_5yr.zip'),\n",
       " PosixPath('data/sandp500/merge.sh'),\n",
       " PosixPath('data/sandp500/getSandP.py'),\n",
       " PosixPath('data/sandp500/all_stocks_5yr.csv')]"
      ]
     },
     "execution_count": 209,
     "metadata": {},
     "output_type": "execute_result"
    }
   ],
   "source": [
    "path = Path('./data/sandp500')\n",
    "path.ls()"
   ]
  },
  {
   "cell_type": "code",
   "execution_count": 210,
   "metadata": {},
   "outputs": [],
   "source": [
    "stocks = pd.read_csv(path / 'all_stocks_5yr.csv')"
   ]
  },
  {
   "cell_type": "code",
   "execution_count": 211,
   "metadata": {},
   "outputs": [
    {
     "data": {
      "text/plain": [
       "Index(['date', 'open', 'high', 'low', 'close', 'volume', 'Name'], dtype='object')"
      ]
     },
     "execution_count": 211,
     "metadata": {},
     "output_type": "execute_result"
    }
   ],
   "source": [
    "stocks.columns"
   ]
  },
  {
   "cell_type": "code",
   "execution_count": 212,
   "metadata": {},
   "outputs": [
    {
     "data": {
      "text/html": [
       "<div>\n",
       "<style scoped>\n",
       "    .dataframe tbody tr th:only-of-type {\n",
       "        vertical-align: middle;\n",
       "    }\n",
       "\n",
       "    .dataframe tbody tr th {\n",
       "        vertical-align: top;\n",
       "    }\n",
       "\n",
       "    .dataframe thead th {\n",
       "        text-align: right;\n",
       "    }\n",
       "</style>\n",
       "<table border=\"1\" class=\"dataframe\">\n",
       "  <thead>\n",
       "    <tr style=\"text-align: right;\">\n",
       "      <th></th>\n",
       "      <th>date</th>\n",
       "      <th>open</th>\n",
       "      <th>high</th>\n",
       "      <th>low</th>\n",
       "      <th>close</th>\n",
       "      <th>volume</th>\n",
       "      <th>Name</th>\n",
       "    </tr>\n",
       "  </thead>\n",
       "  <tbody>\n",
       "    <tr>\n",
       "      <th>0</th>\n",
       "      <td>2013-02-08</td>\n",
       "      <td>15.07</td>\n",
       "      <td>15.12</td>\n",
       "      <td>14.63</td>\n",
       "      <td>14.75</td>\n",
       "      <td>8407500</td>\n",
       "      <td>AAL</td>\n",
       "    </tr>\n",
       "    <tr>\n",
       "      <th>1</th>\n",
       "      <td>2013-02-11</td>\n",
       "      <td>14.89</td>\n",
       "      <td>15.01</td>\n",
       "      <td>14.26</td>\n",
       "      <td>14.46</td>\n",
       "      <td>8882000</td>\n",
       "      <td>AAL</td>\n",
       "    </tr>\n",
       "    <tr>\n",
       "      <th>2</th>\n",
       "      <td>2013-02-12</td>\n",
       "      <td>14.45</td>\n",
       "      <td>14.51</td>\n",
       "      <td>14.10</td>\n",
       "      <td>14.27</td>\n",
       "      <td>8126000</td>\n",
       "      <td>AAL</td>\n",
       "    </tr>\n",
       "    <tr>\n",
       "      <th>3</th>\n",
       "      <td>2013-02-13</td>\n",
       "      <td>14.30</td>\n",
       "      <td>14.94</td>\n",
       "      <td>14.25</td>\n",
       "      <td>14.66</td>\n",
       "      <td>10259500</td>\n",
       "      <td>AAL</td>\n",
       "    </tr>\n",
       "    <tr>\n",
       "      <th>4</th>\n",
       "      <td>2013-02-14</td>\n",
       "      <td>14.94</td>\n",
       "      <td>14.96</td>\n",
       "      <td>13.16</td>\n",
       "      <td>13.99</td>\n",
       "      <td>31879900</td>\n",
       "      <td>AAL</td>\n",
       "    </tr>\n",
       "  </tbody>\n",
       "</table>\n",
       "</div>"
      ],
      "text/plain": [
       "         date   open   high    low  close    volume Name\n",
       "0  2013-02-08  15.07  15.12  14.63  14.75   8407500  AAL\n",
       "1  2013-02-11  14.89  15.01  14.26  14.46   8882000  AAL\n",
       "2  2013-02-12  14.45  14.51  14.10  14.27   8126000  AAL\n",
       "3  2013-02-13  14.30  14.94  14.25  14.66  10259500  AAL\n",
       "4  2013-02-14  14.94  14.96  13.16  13.99  31879900  AAL"
      ]
     },
     "execution_count": 212,
     "metadata": {},
     "output_type": "execute_result"
    }
   ],
   "source": [
    "stocks.head()"
   ]
  },
  {
   "cell_type": "code",
   "execution_count": 213,
   "metadata": {},
   "outputs": [
    {
     "data": {
      "text/plain": [
       "array(['AAL', 'AAPL', 'AAP', 'ABBV', ..., 'YUM', 'ZBH', 'ZION', 'ZTS'], dtype=object)"
      ]
     },
     "execution_count": 213,
     "metadata": {},
     "output_type": "execute_result"
    }
   ],
   "source": [
    "names = stocks['Name'].unique()\n",
    "names"
   ]
  },
  {
   "cell_type": "code",
   "execution_count": 214,
   "metadata": {},
   "outputs": [
    {
     "data": {
      "text/plain": [
       "1259"
      ]
     },
     "execution_count": 214,
     "metadata": {},
     "output_type": "execute_result"
    }
   ],
   "source": [
    "len(stocks[stocks['Name'] == 'AAPL'])"
   ]
  },
  {
   "cell_type": "code",
   "execution_count": 215,
   "metadata": {},
   "outputs": [
    {
     "data": {
      "text/plain": [
       "1259"
      ]
     },
     "execution_count": 215,
     "metadata": {},
     "output_type": "execute_result"
    }
   ],
   "source": [
    "len(stocks[stocks['Name'] == 'AMZN'])"
   ]
  },
  {
   "cell_type": "markdown",
   "metadata": {},
   "source": [
    "Even though most of the stocks have the same amount of data (1259 samples, corresponding to 5 years of trading activity), some of them contain as few as 44 samples. We will remove all the stocks that have less than 1259 entries."
   ]
  },
  {
   "cell_type": "code",
   "execution_count": 216,
   "metadata": {},
   "outputs": [
    {
     "name": "stdout",
     "output_type": "stream",
     "text": [
      "1259\n",
      "44\n"
     ]
    }
   ],
   "source": [
    "counts = {x:len(stocks[stocks['Name'] == x]) for x in names}\n",
    "print(counts['AMZN'])\n",
    "print(counts['APTV'])"
   ]
  },
  {
   "cell_type": "code",
   "execution_count": 217,
   "metadata": {},
   "outputs": [
    {
     "data": {
      "text/plain": [
       "['ALLE',\n",
       " 'APTV',\n",
       " 'BHF',\n",
       " 'BHGE',\n",
       " 'BMY',\n",
       " 'CFG',\n",
       " 'COTY',\n",
       " 'CSRA',\n",
       " 'DHR',\n",
       " 'DWDP',\n",
       " 'DXC',\n",
       " 'ES',\n",
       " 'EVHC',\n",
       " 'FOXA',\n",
       " 'FOX',\n",
       " 'FTV',\n",
       " 'GOOG',\n",
       " 'HLT',\n",
       " 'HPE',\n",
       " 'HPQ',\n",
       " 'ICE',\n",
       " 'INFO',\n",
       " 'IQV',\n",
       " 'KHC',\n",
       " 'NAVI',\n",
       " 'NWSA',\n",
       " 'NWS',\n",
       " 'ORCL',\n",
       " 'O',\n",
       " 'PYPL',\n",
       " 'QRVO',\n",
       " 'SYF',\n",
       " 'UA',\n",
       " 'WLTW',\n",
       " 'WRK']"
      ]
     },
     "execution_count": 217,
     "metadata": {},
     "output_type": "execute_result"
    }
   ],
   "source": [
    "with_insufficient_data = [x for x in counts.keys() if counts[x] < 1259]\n",
    "with_insufficient_data"
   ]
  },
  {
   "cell_type": "markdown",
   "metadata": {},
   "source": [
    "### Drop the stocks with less than 1259 samples"
   ]
  },
  {
   "cell_type": "code",
   "execution_count": 218,
   "metadata": {},
   "outputs": [],
   "source": [
    "for s in with_insufficient_data:\n",
    "    stocks = stocks.drop(stocks[stocks['Name'] == s].index)"
   ]
  },
  {
   "cell_type": "markdown",
   "metadata": {},
   "source": [
    "Update `names` and `counts`."
   ]
  },
  {
   "cell_type": "code",
   "execution_count": 219,
   "metadata": {},
   "outputs": [
    {
     "data": {
      "text/plain": [
       "[]"
      ]
     },
     "execution_count": 219,
     "metadata": {},
     "output_type": "execute_result"
    }
   ],
   "source": [
    "names = stocks['Name'].unique()\n",
    "counts = {x:len(stocks[stocks['Name'] == x]) for x in names}\n",
    "[x for x in counts.keys() if counts[x] < 1259]"
   ]
  },
  {
   "cell_type": "markdown",
   "metadata": {},
   "source": [
    "## Predict a stock"
   ]
  },
  {
   "cell_type": "markdown",
   "metadata": {},
   "source": [
    "We are going to use time-series data for a given stock to predict time-series values for the same stock."
   ]
  },
  {
   "cell_type": "code",
   "execution_count": 220,
   "metadata": {},
   "outputs": [
    {
     "data": {
      "text/plain": [
       "1259     67.8542\n",
       "1260     68.5614\n",
       "1261     66.8428\n",
       "1262     66.7156\n",
       "1263     66.6556\n",
       "1264     65.7371\n",
       "1265     65.7128\n",
       "1266     64.1214\n",
       "1267     63.7228\n",
       "1268     64.4014\n",
       "1269     63.2571\n",
       "1270     64.1385\n",
       "1271     63.5099\n",
       "1272     63.0571\n",
       "1273     61.4957\n",
       "1274     60.0071\n",
       "1275     61.5919\n",
       "1276     60.8088\n",
       "1277     61.5117\n",
       "1278     61.6742\n",
       "1279     62.5528\n",
       "1280     61.2042\n",
       "1281     61.1928\n",
       "1282     61.7857\n",
       "1283     63.3799\n",
       "1284     65.1028\n",
       "1285     64.9271\n",
       "1286     64.5828\n",
       "1287     64.6756\n",
       "1288     65.9871\n",
       "          ...   \n",
       "2488    170.5700\n",
       "2489    170.6000\n",
       "2490    171.0800\n",
       "2491    169.2300\n",
       "2492    172.2600\n",
       "2493    172.2300\n",
       "2494    173.0300\n",
       "2495    175.0000\n",
       "2496    174.3500\n",
       "2497    174.3300\n",
       "2498    174.2900\n",
       "2499    175.2800\n",
       "2500    177.0900\n",
       "2501    176.1900\n",
       "2502    179.1000\n",
       "2503    179.2600\n",
       "2504    178.4600\n",
       "2505    177.0000\n",
       "2506    177.0400\n",
       "2507    174.2200\n",
       "2508    171.1100\n",
       "2509    171.5100\n",
       "2510    167.9600\n",
       "2511    166.9700\n",
       "2512    167.4300\n",
       "2513    167.7800\n",
       "2514    160.5000\n",
       "2515    156.4900\n",
       "2516    163.0300\n",
       "2517    159.5400\n",
       "Name: close, Length: 1259, dtype: float64"
      ]
     },
     "execution_count": 220,
     "metadata": {},
     "output_type": "execute_result"
    }
   ],
   "source": [
    "company = 'AAPL'\n",
    "apple_close_series_df = stocks[stocks['Name'] == company]['close']\n",
    "apple_close_series_df"
   ]
  },
  {
   "cell_type": "code",
   "execution_count": 221,
   "metadata": {},
   "outputs": [
    {
     "data": {
      "text/plain": [
       "array([ 67.8542,  68.5614,  66.8428,  66.7156, ..., 160.5   , 156.49  , 163.03  , 159.54  ])"
      ]
     },
     "execution_count": 221,
     "metadata": {},
     "output_type": "execute_result"
    }
   ],
   "source": [
    "# drop the index\n",
    "apple_close_series = apple_close_series_df.values\n",
    "apple_close_series"
   ]
  },
  {
   "cell_type": "markdown",
   "metadata": {},
   "source": [
    "The `apple_close_series` array contains all stock values at market close for the selected stock. We are going to build a matrix with 21 columns. The first 20 columns will be our `X`: stock values for 20 consecutive days, while the 21st column will be our `Y`: the market close value the following day after the series. We will have as many rows as complete 20-day series exist in the source data. The window length (20) is configurable."
   ]
  },
  {
   "cell_type": "code",
   "execution_count": 222,
   "metadata": {},
   "outputs": [
    {
     "data": {
      "text/plain": [
       "array([[ 67.8542,  68.5614,  66.8428,  66.7156, ...,  60.8088,  61.5117,  61.6742,  62.5528],\n",
       "       [ 68.5614,  66.8428,  66.7156,  66.6556, ...,  61.5117,  61.6742,  62.5528,  61.2042],\n",
       "       [ 66.8428,  66.7156,  66.6556,  65.7371, ...,  61.6742,  62.5528,  61.2042,  61.1928],\n",
       "       [ 66.7156,  66.6556,  65.7371,  65.7128, ...,  62.5528,  61.2042,  61.1928,  61.7857],\n",
       "       ...,\n",
       "       [173.03  , 175.    , 174.35  , 174.33  , ..., 166.97  , 167.43  , 167.78  , 160.5   ],\n",
       "       [175.    , 174.35  , 174.33  , 174.29  , ..., 167.43  , 167.78  , 160.5   , 156.49  ],\n",
       "       [174.35  , 174.33  , 174.29  , 175.28  , ..., 167.78  , 160.5   , 156.49  , 163.03  ],\n",
       "       [174.33  , 174.29  , 175.28  , 177.09  , ..., 160.5   , 156.49  , 163.03  , 159.54  ]])"
      ]
     },
     "execution_count": 222,
     "metadata": {},
     "output_type": "execute_result"
    }
   ],
   "source": [
    "window_len = 20\n",
    "xy_data = []\n",
    "\n",
    "for i, v in enumerate(apple_close_series):\n",
    "    row = apple_close_series[i:i+window_len+1]\n",
    "    if len(row) < window_len + 1:\n",
    "        break\n",
    "    if len(xy_data) == 0:\n",
    "        # First row - initialize our data\n",
    "        xy_data = row\n",
    "    else:\n",
    "        # Stack the new row below the existing ones\n",
    "        xy_data = np.vstack([xy_data, row])\n",
    "\n",
    "xy_data"
   ]
  },
  {
   "cell_type": "code",
   "execution_count": 223,
   "metadata": {},
   "outputs": [
    {
     "data": {
      "text/plain": [
       "(1239, 21)"
      ]
     },
     "execution_count": 223,
     "metadata": {},
     "output_type": "execute_result"
    }
   ],
   "source": [
    "xy_data.shape"
   ]
  },
  {
   "cell_type": "markdown",
   "metadata": {},
   "source": [
    "### Normalize everything\n",
    "\n",
    "For numeric stability reasons, scale values so they all lie in the 0..1 range. `0` represents the minimum value of the stock in the given period, while `1` represents the maximum. Our model will be trained using these new normalized values. The trained model will not work for future values out of the range we used for normalization. "
   ]
  },
  {
   "cell_type": "code",
   "execution_count": 224,
   "metadata": {},
   "outputs": [
    {
     "data": {
      "text/plain": [
       "array([[0.09771 , 0.103438, 0.089519, 0.088489, ..., 0.040649, 0.046342, 0.047658, 0.054774],\n",
       "       [0.103438, 0.089519, 0.088489, 0.088003, ..., 0.046342, 0.047658, 0.054774, 0.043851],\n",
       "       [0.089519, 0.088489, 0.088003, 0.080564, ..., 0.047658, 0.054774, 0.043851, 0.043759],\n",
       "       [0.088489, 0.088003, 0.080564, 0.080367, ..., 0.054774, 0.043851, 0.043759, 0.048561],\n",
       "       ...,\n",
       "       [0.949542, 0.965498, 0.960233, 0.960071, ..., 0.900462, 0.904187, 0.907022, 0.84806 ],\n",
       "       [0.965498, 0.960233, 0.960071, 0.959747, ..., 0.904187, 0.907022, 0.84806 , 0.815583],\n",
       "       [0.960233, 0.960071, 0.959747, 0.967765, ..., 0.907022, 0.84806 , 0.815583, 0.868551],\n",
       "       [0.960071, 0.959747, 0.967765, 0.982425, ..., 0.84806 , 0.815583, 0.868551, 0.840285]])"
      ]
     },
     "execution_count": 224,
     "metadata": {},
     "output_type": "execute_result"
    }
   ],
   "source": [
    "xy_max = xy_data.max()\n",
    "xy_min = xy_data.min()\n",
    "\n",
    "xy_data = (xy_data - xy_min) / (xy_max - xy_min)\n",
    "xy_data"
   ]
  },
  {
   "cell_type": "markdown",
   "metadata": {},
   "source": [
    "Create function to go back to the actual values."
   ]
  },
  {
   "cell_type": "code",
   "execution_count": 225,
   "metadata": {},
   "outputs": [
    {
     "data": {
      "text/plain": [
       "62.5528"
      ]
     },
     "execution_count": 225,
     "metadata": {},
     "output_type": "execute_result"
    }
   ],
   "source": [
    "def unnormalize(v):\n",
    "    return xy_min + (xy_max - xy_min) * v\n",
    "\n",
    "unnormalize(xy_data[0, -1])"
   ]
  },
  {
   "cell_type": "markdown",
   "metadata": {},
   "source": [
    "### Create train / validation split"
   ]
  },
  {
   "cell_type": "code",
   "execution_count": 226,
   "metadata": {},
   "outputs": [
    {
     "name": "stdout",
     "output_type": "stream",
     "text": [
      "(991, 21) (247, 21)\n"
     ]
    }
   ],
   "source": [
    "train_data = xy_data[0:round(len(xy_data)*0.8), :]\n",
    "val_data = xy_data[round(len(xy_data)*0.8)+1:, :]\n",
    "print(train_data.shape, val_data.shape)"
   ]
  },
  {
   "cell_type": "code",
   "execution_count": 227,
   "metadata": {},
   "outputs": [
    {
     "name": "stdout",
     "output_type": "stream",
     "text": [
      "(991, 20) (991,)\n"
     ]
    }
   ],
   "source": [
    "X_train = train_data[:, :-1]\n",
    "Y_train = train_data[:, -1]\n",
    "print(X_train.shape, Y_train.shape)"
   ]
  },
  {
   "cell_type": "markdown",
   "metadata": {},
   "source": [
    "### LSTM by [pablotalavante](https://github.com/pablotalavante/ai6-madrid-demos/blob/master/session_4/LSTM%20sesion%204.ipynb)"
   ]
  },
  {
   "cell_type": "code",
   "execution_count": 228,
   "metadata": {},
   "outputs": [],
   "source": [
    "from keras.models import Sequential\n",
    "from keras.layers import Dense, LSTM\n"
   ]
  },
  {
   "cell_type": "code",
   "execution_count": 229,
   "metadata": {},
   "outputs": [],
   "source": [
    "def create_model():\n",
    "    model = Sequential()\n",
    "    model.add(LSTM(20,\n",
    "              input_shape=(20, 1)))\n",
    "    model.add(Dense(1))\n",
    "    model.compile(loss='mse', optimizer='adam')\n",
    "    \n",
    "    return model\n"
   ]
  },
  {
   "cell_type": "code",
   "execution_count": 230,
   "metadata": {},
   "outputs": [],
   "source": [
    "X = np.expand_dims(X_train, -1)"
   ]
  },
  {
   "cell_type": "markdown",
   "metadata": {},
   "source": [
    "La entrada del modelo debe tener la forma [batch_size, time_steps, features]\n",
    "En nuestro caso, si solo tenemos una feature, necesitamos exandir la dimensión de nuestra matriz 2-D para que entre en la red neuronal y se quede con al forma [batch_size, time_steps, 1], ya que únicamente tenemos una feature\n"
   ]
  },
  {
   "cell_type": "code",
   "execution_count": 231,
   "metadata": {},
   "outputs": [],
   "source": [
    "model = create_model()"
   ]
  },
  {
   "cell_type": "code",
   "execution_count": 232,
   "metadata": {},
   "outputs": [
    {
     "name": "stdout",
     "output_type": "stream",
     "text": [
      "Epoch 1/5\n",
      "991/991 [==============================] - 2s 2ms/step - loss: 0.0830\n",
      "Epoch 2/5\n",
      "991/991 [==============================] - 1s 630us/step - loss: 0.0100\n",
      "Epoch 3/5\n",
      "991/991 [==============================] - 1s 643us/step - loss: 0.0060\n",
      "Epoch 4/5\n",
      "991/991 [==============================] - 1s 661us/step - loss: 0.0037\n",
      "Epoch 5/5\n",
      "991/991 [==============================] - 1s 660us/step - loss: 0.0025\n",
      "Epoch 1/5\n",
      "991/991 [==============================] - 1s 642us/step - loss: 0.0017\n",
      "Epoch 2/5\n",
      "991/991 [==============================] - 1s 640us/step - loss: 0.0012\n",
      "Epoch 3/5\n",
      "991/991 [==============================] - 1s 627us/step - loss: 9.2116e-04\n",
      "Epoch 4/5\n",
      "991/991 [==============================] - 1s 633us/step - loss: 8.0555e-04\n",
      "Epoch 5/5\n",
      "991/991 [==============================] - 1s 629us/step - loss: 7.6600e-04\n",
      "Epoch 1/5\n",
      "991/991 [==============================] - 1s 642us/step - loss: 7.6230e-04\n",
      "Epoch 2/5\n",
      "991/991 [==============================] - 1s 648us/step - loss: 7.4766e-04\n",
      "Epoch 3/5\n",
      "991/991 [==============================] - 1s 644us/step - loss: 7.4073e-04\n",
      "Epoch 4/5\n",
      "991/991 [==============================] - 1s 652us/step - loss: 7.3407e-04\n",
      "Epoch 5/5\n",
      "991/991 [==============================] - 1s 638us/step - loss: 7.3347e-04\n",
      "Epoch 1/5\n",
      "991/991 [==============================] - 1s 630us/step - loss: 7.3035e-04\n",
      "Epoch 2/5\n",
      "991/991 [==============================] - 1s 630us/step - loss: 7.3801e-04\n",
      "Epoch 3/5\n",
      "991/991 [==============================] - 1s 645us/step - loss: 7.2157e-04\n",
      "Epoch 4/5\n",
      "991/991 [==============================] - 1s 653us/step - loss: 7.0811e-04\n",
      "Epoch 5/5\n",
      "991/991 [==============================] - 1s 650us/step - loss: 7.0123e-04\n",
      "Epoch 1/5\n",
      "991/991 [==============================] - 1s 642us/step - loss: 6.8458e-04\n",
      "Epoch 2/5\n",
      "991/991 [==============================] - 1s 651us/step - loss: 6.8987e-04\n",
      "Epoch 3/5\n",
      "991/991 [==============================] - 1s 643us/step - loss: 6.8282e-04\n",
      "Epoch 4/5\n",
      "991/991 [==============================] - 1s 636us/step - loss: 6.8370e-04\n",
      "Epoch 5/5\n",
      "991/991 [==============================] - 1s 633us/step - loss: 6.6704e-04\n",
      "Epoch 1/5\n",
      "991/991 [==============================] - 1s 628us/step - loss: 6.5732e-04\n",
      "Epoch 2/5\n",
      "991/991 [==============================] - 1s 622us/step - loss: 6.5238e-04\n",
      "Epoch 3/5\n",
      "991/991 [==============================] - 1s 649us/step - loss: 6.4625e-04\n",
      "Epoch 4/5\n",
      "991/991 [==============================] - 1s 644us/step - loss: 6.4722e-04\n",
      "Epoch 5/5\n",
      "991/991 [==============================] - 1s 644us/step - loss: 6.3734e-04\n",
      "Epoch 1/5\n",
      "991/991 [==============================] - 1s 652us/step - loss: 6.3733e-04\n",
      "Epoch 2/5\n",
      "991/991 [==============================] - 1s 648us/step - loss: 6.1887e-04\n",
      "Epoch 3/5\n",
      "991/991 [==============================] - 1s 632us/step - loss: 6.2991e-04\n",
      "Epoch 4/5\n",
      "991/991 [==============================] - 1s 633us/step - loss: 6.1442e-04\n",
      "Epoch 5/5\n",
      "991/991 [==============================] - 1s 645us/step - loss: 6.0939e-04\n",
      "Epoch 1/5\n",
      "991/991 [==============================] - 1s 649us/step - loss: 6.0391e-04\n",
      "Epoch 2/5\n",
      "991/991 [==============================] - 1s 620us/step - loss: 6.0365e-04\n",
      "Epoch 3/5\n",
      "991/991 [==============================] - 1s 635us/step - loss: 5.9314e-04\n",
      "Epoch 4/5\n",
      "991/991 [==============================] - 1s 640us/step - loss: 5.8834e-04\n",
      "Epoch 5/5\n",
      "991/991 [==============================] - 1s 658us/step - loss: 5.8263e-04\n",
      "Epoch 1/5\n",
      "991/991 [==============================] - 1s 638us/step - loss: 5.7602e-04\n",
      "Epoch 2/5\n",
      "991/991 [==============================] - 1s 661us/step - loss: 5.7212e-04\n",
      "Epoch 3/5\n",
      "991/991 [==============================] - 1s 656us/step - loss: 5.7133e-04\n",
      "Epoch 4/5\n",
      "991/991 [==============================] - 1s 636us/step - loss: 5.6134e-04\n",
      "Epoch 5/5\n",
      "991/991 [==============================] - 1s 645us/step - loss: 5.6189e-04\n",
      "Epoch 1/5\n",
      "991/991 [==============================] - 1s 649us/step - loss: 5.5105e-04\n",
      "Epoch 2/5\n",
      "991/991 [==============================] - 1s 624us/step - loss: 5.7043e-04\n",
      "Epoch 3/5\n",
      "991/991 [==============================] - 1s 656us/step - loss: 5.3933e-04\n",
      "Epoch 4/5\n",
      "991/991 [==============================] - 1s 657us/step - loss: 5.4695e-04\n",
      "Epoch 5/5\n",
      "991/991 [==============================] - 1s 636us/step - loss: 5.4802e-04\n"
     ]
    }
   ],
   "source": [
    "for i in range(10):\n",
    "    model.fit(X, Y_train, batch_size=64, epochs=5,\n",
    "                       verbose=1, shuffle=True)"
   ]
  },
  {
   "cell_type": "markdown",
   "metadata": {},
   "source": [
    "### Verify results"
   ]
  },
  {
   "cell_type": "code",
   "execution_count": 233,
   "metadata": {},
   "outputs": [],
   "source": [
    "X_val = val_data[:, :-1]\n",
    "Y_val = val_data[:, -1]"
   ]
  },
  {
   "cell_type": "code",
   "execution_count": 234,
   "metadata": {},
   "outputs": [],
   "source": [
    "X_expanded = np.expand_dims(X_val, -1)"
   ]
  },
  {
   "cell_type": "code",
   "execution_count": 235,
   "metadata": {},
   "outputs": [],
   "source": [
    "Y_pred = model.predict(X_expanded)"
   ]
  },
  {
   "cell_type": "code",
   "execution_count": 236,
   "metadata": {},
   "outputs": [
    {
     "data": {
      "text/plain": [
       "247"
      ]
     },
     "execution_count": 236,
     "metadata": {},
     "output_type": "execute_result"
    }
   ],
   "source": [
    "len(Y_val)"
   ]
  },
  {
   "cell_type": "code",
   "execution_count": 237,
   "metadata": {},
   "outputs": [
    {
     "data": {
      "text/plain": [
       "[<matplotlib.lines.Line2D at 0x7f44197a60b8>]"
      ]
     },
     "execution_count": 237,
     "metadata": {},
     "output_type": "execute_result"
    },
    {
     "data": {
      "image/png": "[encoded data removed]",
      "text/plain": [
       "<Figure size 432x288 with 1 Axes>"
      ]
     },
     "metadata": {
      "needs_background": "light"
     },
     "output_type": "display_data"
    }
   ],
   "source": [
    "# Plot\n",
    "plt.plot(unnormalize(Y_val))\n",
    "plt.plot(unnormalize(Y_pred))"
   ]
  },
  {
   "cell_type": "code",
   "execution_count": 238,
   "metadata": {},
   "outputs": [
    {
     "data": {
      "text/plain": [
       "<matplotlib.legend.Legend at 0x7f4419749cf8>"
      ]
     },
     "execution_count": 238,
     "metadata": {},
     "output_type": "execute_result"
    },
    {
     "data": {
      "image/png": "[encoded data removed]",
      "text/plain": [
       "<Figure size 432x288 with 1 Axes>"
      ]
     },
     "metadata": {
      "needs_background": "light"
     },
     "output_type": "display_data"
    }
   ],
   "source": [
    "# Plot with legends\n",
    "fig, ax = plt.subplots()\n",
    "ax.plot(unnormalize(Y_val), label='Y_val')\n",
    "ax.plot(unnormalize(Y_pred), label='Y_pred')\n",
    "ax.legend()"
   ]
  },
  {
   "cell_type": "markdown",
   "metadata": {},
   "source": [
    "**To Do** Why is the predicted curve below the actual one?"
   ]
  },
  {
   "cell_type": "markdown",
   "metadata": {},
   "source": [
    "## Use _all_ stocks to predict `AAPL`"
   ]
  },
  {
   "cell_type": "code",
   "execution_count": 239,
   "metadata": {},
   "outputs": [],
   "source": [
    "names = stocks['Name'].unique()"
   ]
  },
  {
   "cell_type": "code",
   "execution_count": 240,
   "metadata": {},
   "outputs": [
    {
     "data": {
      "text/plain": [
       "470"
      ]
     },
     "execution_count": 240,
     "metadata": {},
     "output_type": "execute_result"
    }
   ],
   "source": [
    "len(names)"
   ]
  },
  {
   "cell_type": "markdown",
   "metadata": {},
   "source": [
    "Build a tensor with all stocks. Normalize stocks individually. Keep `Y` being `AAPL`."
   ]
  },
  {
   "cell_type": "code",
   "execution_count": 241,
   "metadata": {},
   "outputs": [],
   "source": [
    "D = []\n",
    "window_size = 20\n",
    "\n",
    "y = []\n",
    "for n in names:\n",
    "    X = []\n",
    "    asset = stocks[stocks['Name'] == n]\n",
    "    for t in range(asset.shape[0] - window_size):\n",
    "        instance = asset['close'][t:t+window_size+1].values\n",
    "        if n == 'AAPL':\n",
    "            y.append(instance[-1])\n",
    "        X.append(instance[:-1])\n",
    "    X_NP = np.asarray(X)\n",
    "    X_NP = (X_NP - X_NP.min()) / (X_NP.max() - X_NP.min())\n",
    "    D.append(X_NP)"
   ]
  },
  {
   "cell_type": "code",
   "execution_count": 242,
   "metadata": {},
   "outputs": [],
   "source": [
    "# Normalize Y\n",
    "y = np.asarray(y)\n",
    "y = (y - y.min()) / (y.max() - y.min())"
   ]
  },
  {
   "cell_type": "code",
   "execution_count": 243,
   "metadata": {},
   "outputs": [
    {
     "data": {
      "text/plain": [
       "(1239, 20, 470)"
      ]
     },
     "execution_count": 243,
     "metadata": {},
     "output_type": "execute_result"
    }
   ],
   "source": [
    "D = np.stack(D, axis=-1)\n",
    "D.shape"
   ]
  },
  {
   "cell_type": "code",
   "execution_count": 244,
   "metadata": {},
   "outputs": [],
   "source": [
    "X_train = D[:1000]\n",
    "y_train = y[:1000]\n",
    "\n",
    "X_test = D[1000:]\n",
    "y_test = y[1000:]"
   ]
  },
  {
   "cell_type": "code",
   "execution_count": 249,
   "metadata": {},
   "outputs": [],
   "source": [
    "def create_model():\n",
    "    model = Sequential()\n",
    "    model.add(LSTM(120,\n",
    "              input_shape=(20, len(names))))\n",
    "    model.add(Dense(20))\n",
    "    model.add(Dense(1))\n",
    "    model.compile(loss='mse', optimizer='adam')\n",
    "    \n",
    "    return model"
   ]
  },
  {
   "cell_type": "code",
   "execution_count": 250,
   "metadata": {},
   "outputs": [],
   "source": [
    "model = create_model()"
   ]
  },
  {
   "cell_type": "markdown",
   "metadata": {},
   "source": [
    "Provide validation data to `fit()` so we get feedback about the validation loss."
   ]
  },
  {
   "cell_type": "code",
   "execution_count": 251,
   "metadata": {},
   "outputs": [
    {
     "name": "stdout",
     "output_type": "stream",
     "text": [
      "Train on 1000 samples, validate on 239 samples\n",
      "Epoch 1/25\n",
      "1000/1000 [==============================] - 2s 2ms/step - loss: 0.6160 - val_loss: 0.0520\n",
      "Epoch 2/25\n",
      "1000/1000 [==============================] - 1s 831us/step - loss: 0.0384 - val_loss: 0.0124\n",
      "Epoch 3/25\n",
      "1000/1000 [==============================] - 1s 833us/step - loss: 0.0122 - val_loss: 0.0932\n",
      "Epoch 4/25\n",
      "1000/1000 [==============================] - 1s 847us/step - loss: 0.0052 - val_loss: 0.1070\n",
      "Epoch 5/25\n",
      "1000/1000 [==============================] - 1s 833us/step - loss: 0.0031 - val_loss: 0.0831\n",
      "Epoch 6/25\n",
      "1000/1000 [==============================] - 1s 839us/step - loss: 0.0024 - val_loss: 0.0746\n",
      "Epoch 7/25\n",
      "1000/1000 [==============================] - 1s 831us/step - loss: 0.0020 - val_loss: 0.0608\n",
      "Epoch 8/25\n",
      "1000/1000 [==============================] - 1s 825us/step - loss: 0.0018 - val_loss: 0.0552\n",
      "Epoch 9/25\n",
      "1000/1000 [==============================] - 1s 839us/step - loss: 0.0017 - val_loss: 0.0503\n",
      "Epoch 10/25\n",
      "1000/1000 [==============================] - 1s 803us/step - loss: 0.0015 - val_loss: 0.0425\n",
      "Epoch 11/25\n",
      "1000/1000 [==============================] - 1s 827us/step - loss: 0.0015 - val_loss: 0.0431\n",
      "Epoch 12/25\n",
      "1000/1000 [==============================] - 1s 826us/step - loss: 0.0013 - val_loss: 0.0418\n",
      "Epoch 13/25\n",
      "1000/1000 [==============================] - 1s 870us/step - loss: 0.0013 - val_loss: 0.0415\n",
      "Epoch 14/25\n",
      "1000/1000 [==============================] - 1s 834us/step - loss: 0.0012 - val_loss: 0.0353\n",
      "Epoch 15/25\n",
      "1000/1000 [==============================] - 1s 852us/step - loss: 0.0011 - val_loss: 0.0414\n",
      "Epoch 16/25\n",
      "1000/1000 [==============================] - 1s 823us/step - loss: 0.0011 - val_loss: 0.0341\n",
      "Epoch 17/25\n",
      "1000/1000 [==============================] - 1s 860us/step - loss: 0.0011 - val_loss: 0.0387\n",
      "Epoch 18/25\n",
      "1000/1000 [==============================] - 1s 844us/step - loss: 9.9355e-04 - val_loss: 0.0333\n",
      "Epoch 19/25\n",
      "1000/1000 [==============================] - 1s 852us/step - loss: 9.5950e-04 - val_loss: 0.0364\n",
      "Epoch 20/25\n",
      "1000/1000 [==============================] - 1s 847us/step - loss: 9.5263e-04 - val_loss: 0.0327\n",
      "Epoch 21/25\n",
      "1000/1000 [==============================] - 1s 842us/step - loss: 8.8745e-04 - val_loss: 0.0330\n",
      "Epoch 22/25\n",
      "1000/1000 [==============================] - 1s 843us/step - loss: 8.5807e-04 - val_loss: 0.0306\n",
      "Epoch 23/25\n",
      "1000/1000 [==============================] - 1s 846us/step - loss: 8.6382e-04 - val_loss: 0.0322\n",
      "Epoch 24/25\n",
      "1000/1000 [==============================] - 1s 833us/step - loss: 8.0695e-04 - val_loss: 0.0292\n",
      "Epoch 25/25\n",
      "1000/1000 [==============================] - 1s 848us/step - loss: 7.8883e-04 - val_loss: 0.0271\n"
     ]
    },
    {
     "data": {
      "text/plain": [
       "<keras.callbacks.History at 0x7f4418626c50>"
      ]
     },
     "execution_count": 251,
     "metadata": {},
     "output_type": "execute_result"
    }
   ],
   "source": [
    "model.fit(X_train, y_train, batch_size=64, epochs=25,\n",
    "                       verbose=1, shuffle=True, validation_data=(X_test, y_test))"
   ]
  },
  {
   "cell_type": "code",
   "execution_count": 253,
   "metadata": {},
   "outputs": [
    {
     "data": {
      "text/plain": [
       "[<matplotlib.lines.Line2D at 0x7f440db3f860>]"
      ]
     },
     "execution_count": 253,
     "metadata": {},
     "output_type": "execute_result"
    },
    {
     "data": {
      "image/png": "[encoded data removed]",
      "text/plain": [
       "<Figure size 432x288 with 1 Axes>"
      ]
     },
     "metadata": {
      "needs_background": "light"
     },
     "output_type": "display_data"
    }
   ],
   "source": [
    "y_pred = model.predict(X_test)\n",
    "plt.plot(y_test)\n",
    "plt.plot(y_pred)"
   ]
  },
  {
   "cell_type": "markdown",
   "metadata": {},
   "source": [
    "**To Do** Note that each stock has been normalized independently. Does that have an impact on the prediction?"
   ]
  },
  {
   "cell_type": "markdown",
   "metadata": {},
   "source": [
    "## Use _some_ stocks to predict `AAPL`"
   ]
  },
  {
   "cell_type": "markdown",
   "metadata": {},
   "source": [
    "We will now use a few technology stocks to see how they perform with respect to the previous case."
   ]
  },
  {
   "cell_type": "code",
   "execution_count": 264,
   "metadata": {},
   "outputs": [
    {
     "data": {
      "text/plain": [
       "['AAPL', 'AMZN', 'FB', 'MSFT', 'GOOGL', 'NFLX', 'AMD']"
      ]
     },
     "execution_count": 264,
     "metadata": {},
     "output_type": "execute_result"
    }
   ],
   "source": [
    "some_tech_symbols = ['AAPL', 'AMZN', 'FB', 'MSFT', 'GOOGL', 'NFLX', 'TWTR', 'AMD']\n",
    "tech_symbols = [t for t in some_tech_symbols if t in names]\n",
    "tech_symbols"
   ]
  },
  {
   "cell_type": "code",
   "execution_count": 308,
   "metadata": {},
   "outputs": [],
   "source": [
    "def tensor_from_symbols(symbols):\n",
    "    D = []\n",
    "    window_size = 20\n",
    "\n",
    "    y = []\n",
    "    for n in symbols:\n",
    "        X = []\n",
    "        asset = stocks[stocks['Name'] == n]\n",
    "        for t in range(asset.shape[0] - window_size):\n",
    "            instance = asset['close'][t:t+window_size+1].values\n",
    "            if n == 'AAPL':\n",
    "                y.append(instance[-1])\n",
    "            X.append(instance[:-1])\n",
    "            \n",
    "        X_NP = np.asarray(X)\n",
    "        X_NP = (X_NP - X_NP.min()) / (X_NP.max() - X_NP.min())\n",
    "        D.append(X_NP)\n",
    "        \n",
    "    y = np.asarray(y)\n",
    "    y = (y - y.min()) / (y.max() - y.min())\n",
    "    D = np.stack(D, axis=-1)\n",
    "    \n",
    "    return D, y"
   ]
  },
  {
   "cell_type": "code",
   "execution_count": 309,
   "metadata": {},
   "outputs": [],
   "source": [
    "D, y = tensor_from_symbols(tech_symbols)"
   ]
  },
  {
   "cell_type": "code",
   "execution_count": 310,
   "metadata": {
    "scrolled": true
   },
   "outputs": [
    {
     "data": {
      "text/plain": [
       "(1239, 20, 7)"
      ]
     },
     "execution_count": 310,
     "metadata": {},
     "output_type": "execute_result"
    }
   ],
   "source": [
    "D.shape"
   ]
  },
  {
   "cell_type": "code",
   "execution_count": 311,
   "metadata": {},
   "outputs": [],
   "source": [
    "X_train = D[:1000]\n",
    "y_train = y[:1000]\n",
    "\n",
    "X_test = D[1000:]\n",
    "y_test = y[1000:]"
   ]
  },
  {
   "cell_type": "code",
   "execution_count": 312,
   "metadata": {},
   "outputs": [],
   "source": [
    "def create_model(n_symbols):\n",
    "    model = Sequential()\n",
    "    model.add(LSTM(120,\n",
    "              input_shape=(20, n_symbols)))\n",
    "    model.add(Dense(20))\n",
    "    model.add(Dense(1))\n",
    "    model.compile(loss='mse', optimizer='adam')\n",
    "    \n",
    "    return model"
   ]
  },
  {
   "cell_type": "code",
   "execution_count": 313,
   "metadata": {},
   "outputs": [],
   "source": [
    "model = create_model(len(tech_symbols))"
   ]
  },
  {
   "cell_type": "markdown",
   "metadata": {},
   "source": [
    "Provide validation data to `fit()` so we get feedback about the validation loss."
   ]
  },
  {
   "cell_type": "code",
   "execution_count": 314,
   "metadata": {},
   "outputs": [
    {
     "name": "stdout",
     "output_type": "stream",
     "text": [
      "Train on 1000 samples, validate on 239 samples\n",
      "Epoch 1/25\n",
      "1000/1000 [==============================] - 2s 2ms/step - loss: 0.0273 - val_loss: 0.0307\n",
      "Epoch 2/25\n",
      "1000/1000 [==============================] - 1s 750us/step - loss: 0.0041 - val_loss: 0.0317\n",
      "Epoch 3/25\n",
      "1000/1000 [==============================] - 1s 748us/step - loss: 0.0016 - val_loss: 0.0015\n",
      "Epoch 4/25\n",
      "1000/1000 [==============================] - 1s 739us/step - loss: 7.0290e-04 - val_loss: 0.0014\n",
      "Epoch 5/25\n",
      "1000/1000 [==============================] - 1s 746us/step - loss: 5.1435e-04 - val_loss: 8.7618e-04\n",
      "Epoch 6/25\n",
      "1000/1000 [==============================] - 1s 742us/step - loss: 4.8443e-04 - val_loss: 8.8479e-04\n",
      "Epoch 7/25\n",
      "1000/1000 [==============================] - 1s 749us/step - loss: 4.7141e-04 - val_loss: 7.5170e-04\n",
      "Epoch 8/25\n",
      "1000/1000 [==============================] - 1s 701us/step - loss: 4.4368e-04 - val_loss: 0.0018\n",
      "Epoch 9/25\n",
      "1000/1000 [==============================] - 1s 743us/step - loss: 4.5988e-04 - val_loss: 9.2223e-04\n",
      "Epoch 10/25\n",
      "1000/1000 [==============================] - 1s 761us/step - loss: 4.2492e-04 - val_loss: 8.0236e-04\n",
      "Epoch 11/25\n",
      "1000/1000 [==============================] - 1s 756us/step - loss: 4.1891e-04 - val_loss: 0.0010\n",
      "Epoch 12/25\n",
      "1000/1000 [==============================] - 1s 743us/step - loss: 4.1414e-04 - val_loss: 7.3655e-04\n",
      "Epoch 13/25\n",
      "1000/1000 [==============================] - 1s 731us/step - loss: 4.2471e-04 - val_loss: 7.1039e-04\n",
      "Epoch 14/25\n",
      "1000/1000 [==============================] - 1s 739us/step - loss: 4.1248e-04 - val_loss: 8.8644e-04\n",
      "Epoch 15/25\n",
      "1000/1000 [==============================] - 1s 711us/step - loss: 3.9628e-04 - val_loss: 7.3734e-04\n",
      "Epoch 16/25\n",
      "1000/1000 [==============================] - 1s 748us/step - loss: 3.9214e-04 - val_loss: 8.0843e-04\n",
      "Epoch 17/25\n",
      "1000/1000 [==============================] - 1s 750us/step - loss: 3.8651e-04 - val_loss: 9.0649e-04\n",
      "Epoch 18/25\n",
      "1000/1000 [==============================] - 1s 733us/step - loss: 3.8068e-04 - val_loss: 7.2019e-04\n",
      "Epoch 19/25\n",
      "1000/1000 [==============================] - 1s 743us/step - loss: 3.8296e-04 - val_loss: 6.9607e-04\n",
      "Epoch 20/25\n",
      "1000/1000 [==============================] - 1s 753us/step - loss: 3.7469e-04 - val_loss: 7.3187e-04\n",
      "Epoch 21/25\n",
      "1000/1000 [==============================] - 1s 760us/step - loss: 3.7577e-04 - val_loss: 6.8451e-04\n",
      "Epoch 22/25\n",
      "1000/1000 [==============================] - 1s 737us/step - loss: 3.6944e-04 - val_loss: 6.5346e-04\n",
      "Epoch 23/25\n",
      "1000/1000 [==============================] - 1s 730us/step - loss: 3.8118e-04 - val_loss: 6.7505e-04\n",
      "Epoch 24/25\n",
      "1000/1000 [==============================] - 1s 743us/step - loss: 3.5511e-04 - val_loss: 6.4609e-04\n",
      "Epoch 25/25\n",
      "1000/1000 [==============================] - 1s 743us/step - loss: 3.7187e-04 - val_loss: 7.8469e-04\n"
     ]
    },
    {
     "data": {
      "text/plain": [
       "<keras.callbacks.History at 0x7f440c58a7b8>"
      ]
     },
     "execution_count": 314,
     "metadata": {},
     "output_type": "execute_result"
    }
   ],
   "source": [
    "model.fit(X_train, y_train, batch_size=64, epochs=25,\n",
    "                       verbose=1, shuffle=True, validation_data=(X_test, y_test))"
   ]
  },
  {
   "cell_type": "code",
   "execution_count": 315,
   "metadata": {},
   "outputs": [],
   "source": [
    "y_tech_pred = model.predict(X_test)"
   ]
  },
  {
   "cell_type": "code",
   "execution_count": 316,
   "metadata": {
    "scrolled": true
   },
   "outputs": [
    {
     "data": {
      "text/plain": [
       "<matplotlib.legend.Legend at 0x7f43fe2415f8>"
      ]
     },
     "execution_count": 316,
     "metadata": {},
     "output_type": "execute_result"
    },
    {
     "data": {
      "image/png": "[encoded data removed]",
      "text/plain": [
       "<Figure size 432x288 with 1 Axes>"
      ]
     },
     "metadata": {
      "needs_background": "light"
     },
     "output_type": "display_data"
    }
   ],
   "source": [
    "fig, ax = plt.subplots()\n",
    "ax.plot(y_test, label='y')\n",
    "ax.plot(y_pred, label='all_stocks')\n",
    "ax.plot(y_tech_pred, label='tech_stocks')\n",
    "ax.legend()"
   ]
  },
  {
   "cell_type": "markdown",
   "metadata": {},
   "source": [
    "The fact that `AAPL` is included probably dominates the new prediction. Let's exclude `AAPL` and retrain."
   ]
  },
  {
   "cell_type": "code",
   "execution_count": 319,
   "metadata": {},
   "outputs": [],
   "source": [
    "tech_sans_apple = [t for t in tech_symbols if t != 'AAPL']"
   ]
  },
  {
   "cell_type": "code",
   "execution_count": 321,
   "metadata": {},
   "outputs": [],
   "source": [
    "D = []\n",
    "window_size = 20\n",
    "\n",
    "for n in tech_sans_apple:\n",
    "    X = []\n",
    "    asset = stocks[stocks['Name'] == n]\n",
    "    for t in range(asset.shape[0] - window_size):\n",
    "        instance = asset['close'][t:t+window_size+1].values\n",
    "        X.append(instance[:-1])\n",
    "\n",
    "    X_NP = np.asarray(X)\n",
    "    X_NP = (X_NP - X_NP.min()) / (X_NP.max() - X_NP.min())\n",
    "    D.append(X_NP)\n",
    "\n",
    "D = np.stack(D, axis=-1)"
   ]
  },
  {
   "cell_type": "code",
   "execution_count": 322,
   "metadata": {
    "scrolled": true
   },
   "outputs": [
    {
     "data": {
      "text/plain": [
       "(1239, 20, 6)"
      ]
     },
     "execution_count": 322,
     "metadata": {},
     "output_type": "execute_result"
    }
   ],
   "source": [
    "D.shape"
   ]
  },
  {
   "cell_type": "code",
   "execution_count": 326,
   "metadata": {},
   "outputs": [
    {
     "data": {
      "text/plain": [
       "(1239,)"
      ]
     },
     "execution_count": 326,
     "metadata": {},
     "output_type": "execute_result"
    }
   ],
   "source": [
    "# We still have y from a previous section\n",
    "y.shape"
   ]
  },
  {
   "cell_type": "code",
   "execution_count": 327,
   "metadata": {},
   "outputs": [],
   "source": [
    "X_train = D[:1000]\n",
    "y_train = y[:1000]\n",
    "\n",
    "X_test = D[1000:]\n",
    "y_test = y[1000:]"
   ]
  },
  {
   "cell_type": "code",
   "execution_count": 328,
   "metadata": {},
   "outputs": [],
   "source": [
    "def create_model(n_symbols):\n",
    "    model = Sequential()\n",
    "    model.add(LSTM(120,\n",
    "              input_shape=(20, n_symbols)))\n",
    "    model.add(Dense(20))\n",
    "    model.add(Dense(1))\n",
    "    model.compile(loss='mse', optimizer='adam')\n",
    "    \n",
    "    return model"
   ]
  },
  {
   "cell_type": "code",
   "execution_count": 329,
   "metadata": {},
   "outputs": [],
   "source": [
    "model = create_model(len(tech_sans_apple))"
   ]
  },
  {
   "cell_type": "markdown",
   "metadata": {},
   "source": [
    "Provide validation data to `fit()` so we get feedback about the validation loss."
   ]
  },
  {
   "cell_type": "code",
   "execution_count": 330,
   "metadata": {},
   "outputs": [
    {
     "name": "stdout",
     "output_type": "stream",
     "text": [
      "Train on 1000 samples, validate on 239 samples\n",
      "Epoch 1/25\n",
      "1000/1000 [==============================] - 3s 3ms/step - loss: 0.0263 - val_loss: 0.0094\n",
      "Epoch 2/25\n",
      "1000/1000 [==============================] - 1s 727us/step - loss: 0.0121 - val_loss: 0.0621\n",
      "Epoch 3/25\n",
      "1000/1000 [==============================] - 1s 752us/step - loss: 0.0075 - val_loss: 0.0518\n",
      "Epoch 4/25\n",
      "1000/1000 [==============================] - 1s 756us/step - loss: 0.0043 - val_loss: 0.0132\n",
      "Epoch 5/25\n",
      "1000/1000 [==============================] - 1s 723us/step - loss: 0.0039 - val_loss: 0.0209\n",
      "Epoch 6/25\n",
      "1000/1000 [==============================] - 1s 755us/step - loss: 0.0036 - val_loss: 0.0252\n",
      "Epoch 7/25\n",
      "1000/1000 [==============================] - 1s 711us/step - loss: 0.0035 - val_loss: 0.0307\n",
      "Epoch 8/25\n",
      "1000/1000 [==============================] - 1s 727us/step - loss: 0.0035 - val_loss: 0.0295\n",
      "Epoch 9/25\n",
      "1000/1000 [==============================] - 1s 772us/step - loss: 0.0035 - val_loss: 0.0276\n",
      "Epoch 10/25\n",
      "1000/1000 [==============================] - 1s 724us/step - loss: 0.0039 - val_loss: 0.0341\n",
      "Epoch 11/25\n",
      "1000/1000 [==============================] - 1s 737us/step - loss: 0.0034 - val_loss: 0.0210\n",
      "Epoch 12/25\n",
      "1000/1000 [==============================] - 1s 752us/step - loss: 0.0033 - val_loss: 0.0198\n",
      "Epoch 13/25\n",
      "1000/1000 [==============================] - 1s 753us/step - loss: 0.0033 - val_loss: 0.0150\n",
      "Epoch 14/25\n",
      "1000/1000 [==============================] - 1s 742us/step - loss: 0.0031 - val_loss: 0.0177\n",
      "Epoch 15/25\n",
      "1000/1000 [==============================] - 1s 740us/step - loss: 0.0032 - val_loss: 0.0199\n",
      "Epoch 16/25\n",
      "1000/1000 [==============================] - 1s 736us/step - loss: 0.0032 - val_loss: 0.0329\n",
      "Epoch 17/25\n",
      "1000/1000 [==============================] - 1s 753us/step - loss: 0.0032 - val_loss: 0.0199\n",
      "Epoch 18/25\n",
      "1000/1000 [==============================] - 1s 749us/step - loss: 0.0030 - val_loss: 0.0184\n",
      "Epoch 19/25\n",
      "1000/1000 [==============================] - 1s 749us/step - loss: 0.0030 - val_loss: 0.0234\n",
      "Epoch 20/25\n",
      "1000/1000 [==============================] - 1s 749us/step - loss: 0.0033 - val_loss: 0.0177\n",
      "Epoch 21/25\n",
      "1000/1000 [==============================] - 1s 742us/step - loss: 0.0032 - val_loss: 0.0150\n",
      "Epoch 22/25\n",
      "1000/1000 [==============================] - 1s 727us/step - loss: 0.0029 - val_loss: 0.0151\n",
      "Epoch 23/25\n",
      "1000/1000 [==============================] - 1s 737us/step - loss: 0.0029 - val_loss: 0.0282\n",
      "Epoch 24/25\n",
      "1000/1000 [==============================] - 1s 720us/step - loss: 0.0030 - val_loss: 0.0139\n",
      "Epoch 25/25\n",
      "1000/1000 [==============================] - 1s 731us/step - loss: 0.0027 - val_loss: 0.0108\n"
     ]
    },
    {
     "data": {
      "text/plain": [
       "<keras.callbacks.History at 0x7f43fdf14860>"
      ]
     },
     "execution_count": 330,
     "metadata": {},
     "output_type": "execute_result"
    }
   ],
   "source": [
    "model.fit(X_train, y_train, batch_size=64, epochs=25,\n",
    "                       verbose=1, shuffle=True, validation_data=(X_test, y_test))"
   ]
  },
  {
   "cell_type": "code",
   "execution_count": 331,
   "metadata": {},
   "outputs": [],
   "source": [
    "y_no_aapl_pred = model.predict(X_test)"
   ]
  },
  {
   "cell_type": "code",
   "execution_count": 333,
   "metadata": {
    "scrolled": true
   },
   "outputs": [
    {
     "data": {
      "text/plain": [
       "<matplotlib.legend.Legend at 0x7f43fd3bfba8>"
      ]
     },
     "execution_count": 333,
     "metadata": {},
     "output_type": "execute_result"
    },
    {
     "data": {
      "image/png": "[encoded data removed]",
      "text/plain": [
       "<Figure size 432x288 with 1 Axes>"
      ]
     },
     "metadata": {
      "needs_background": "light"
     },
     "output_type": "display_data"
    }
   ],
   "source": [
    "fig, ax = plt.subplots()\n",
    "ax.plot(y_test, label='y')\n",
    "ax.plot(y_pred, label='all_stocks')\n",
    "ax.plot(y_tech_pred, label='tech_stocks')\n",
    "ax.plot(y_no_aapl_pred, label='tech_no_aapl')\n",
    "ax.legend()"
   ]
  },
  {
   "cell_type": "markdown",
   "metadata": {},
   "source": [
    "## Use PyTorch instead of Keras"
   ]
  },
  {
   "cell_type": "markdown",
   "metadata": {},
   "source": [
    "**To Do**"
   ]
  },
  {
   "cell_type": "code",
   "execution_count": null,
   "metadata": {},
   "outputs": [],
   "source": []
  }
 ],
 "metadata": {
  "kernelspec": {
   "display_name": "Python 3",
   "language": "python",
   "name": "python3"
  },
  "language_info": {
   "codemirror_mode": {
    "name": "ipython",
    "version": 3
   },
   "file_extension": ".py",
   "mimetype": "text/x-python",
   "name": "python",
   "nbconvert_exporter": "python",
   "pygments_lexer": "ipython3",
   "version": "3.7.2"
  }
 },
 "nbformat": 4,
 "nbformat_minor": 2
}
