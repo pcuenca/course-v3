{
 "cells": [
  {
   "cell_type": "code",
   "execution_count": 1,
   "metadata": {},
   "outputs": [],
   "source": [
    "%reload_ext autoreload\n",
    "%autoreload 2\n",
    "%matplotlib inline"
   ]
  },
  {
   "cell_type": "code",
   "execution_count": 2,
   "metadata": {},
   "outputs": [],
   "source": [
    "from fastai.text import *"
   ]
  },
  {
   "cell_type": "markdown",
   "metadata": {},
   "source": [
    "## Look at the data"
   ]
  },
  {
   "cell_type": "code",
   "execution_count": 3,
   "metadata": {},
   "outputs": [
    {
     "data": {
      "text/plain": [
       "[PosixPath('data/mrtrump/MrTrumpSpeeches.csv'),\n",
       " PosixPath('data/mrtrump/models'),\n",
       " PosixPath('data/mrtrump/MrTrumpSpeeches_preview.csv'),\n",
       " PosixPath('data/mrtrump/data_lm.pkl')]"
      ]
     },
     "execution_count": 3,
     "metadata": {},
     "output_type": "execute_result"
    }
   ],
   "source": [
    "trump_path = Path('data/mrtrump')\n",
    "trump_path.ls()"
   ]
  },
  {
   "cell_type": "code",
   "execution_count": 4,
   "metadata": {},
   "outputs": [
    {
     "data": {
      "text/html": [
       "<div>\n",
       "<style scoped>\n",
       "    .dataframe tbody tr th:only-of-type {\n",
       "        vertical-align: middle;\n",
       "    }\n",
       "\n",
       "    .dataframe tbody tr th {\n",
       "        vertical-align: top;\n",
       "    }\n",
       "\n",
       "    .dataframe thead th {\n",
       "        text-align: right;\n",
       "    }\n",
       "</style>\n",
       "<table border=\"1\" class=\"dataframe\">\n",
       "  <thead>\n",
       "    <tr style=\"text-align: right;\">\n",
       "      <th></th>\n",
       "      <th>id</th>\n",
       "      <th>playlist</th>\n",
       "      <th>upload_date</th>\n",
       "      <th>title</th>\n",
       "      <th>view_count</th>\n",
       "      <th>average_rating</th>\n",
       "      <th>like_count</th>\n",
       "      <th>dislike_count</th>\n",
       "      <th>subtitles</th>\n",
       "    </tr>\n",
       "  </thead>\n",
       "  <tbody>\n",
       "    <tr>\n",
       "      <th>0</th>\n",
       "      <td>-2WTNSujhjk</td>\n",
       "      <td>Donald Trump Speeches &amp; Events</td>\n",
       "      <td>20160220</td>\n",
       "      <td>Live Stream: Donald Trump Victory Rally in Spa...</td>\n",
       "      <td>4057.0</td>\n",
       "      <td>4.259259</td>\n",
       "      <td>44.0</td>\n",
       "      <td>10.0</td>\n",
       "      <td>presidents of the United States mr. go   tr...</td>\n",
       "    </tr>\n",
       "    <tr>\n",
       "      <th>1</th>\n",
       "      <td>-64nfy6i58w</td>\n",
       "      <td>Donald Trump Speeches &amp; Events</td>\n",
       "      <td>20161107</td>\n",
       "      <td>LAST RALLY: Donald Trump FINAL CAMPAIGN Rally ...</td>\n",
       "      <td>47276.0</td>\n",
       "      <td>4.358025</td>\n",
       "      <td>952.0</td>\n",
       "      <td>182.0</td>\n",
       "      <td>it's now officially Tuesday November a   di...</td>\n",
       "    </tr>\n",
       "    <tr>\n",
       "      <th>2</th>\n",
       "      <td>-7Sp31hTxkU</td>\n",
       "      <td>Donald Trump Speeches &amp; Events</td>\n",
       "      <td>20160423</td>\n",
       "      <td>FULL SPEECH: Donald Trump Rally in Bridgeport ...</td>\n",
       "      <td>19966.0</td>\n",
       "      <td>4.666667</td>\n",
       "      <td>220.0</td>\n",
       "      <td>20.0</td>\n",
       "      <td>you   [Music]   [Music]   [Music]   you   I...</td>\n",
       "    </tr>\n",
       "  </tbody>\n",
       "</table>\n",
       "</div>"
      ],
      "text/plain": [
       "            id                        playlist  upload_date  \\\n",
       "0  -2WTNSujhjk  Donald Trump Speeches & Events     20160220   \n",
       "1  -64nfy6i58w  Donald Trump Speeches & Events     20161107   \n",
       "2  -7Sp31hTxkU  Donald Trump Speeches & Events     20160423   \n",
       "\n",
       "                                               title  view_count  \\\n",
       "0  Live Stream: Donald Trump Victory Rally in Spa...      4057.0   \n",
       "1  LAST RALLY: Donald Trump FINAL CAMPAIGN Rally ...     47276.0   \n",
       "2  FULL SPEECH: Donald Trump Rally in Bridgeport ...     19966.0   \n",
       "\n",
       "   average_rating  like_count  dislike_count  \\\n",
       "0        4.259259        44.0           10.0   \n",
       "1        4.358025       952.0          182.0   \n",
       "2        4.666667       220.0           20.0   \n",
       "\n",
       "                                           subtitles  \n",
       "0     presidents of the United States mr. go   tr...  \n",
       "1     it's now officially Tuesday November a   di...  \n",
       "2     you   [Music]   [Music]   [Music]   you   I...  "
      ]
     },
     "execution_count": 4,
     "metadata": {},
     "output_type": "execute_result"
    }
   ],
   "source": [
    "df = pd.read_csv(trump_path/'MrTrumpSpeeches_preview.csv')\n",
    "df.head()"
   ]
  },
  {
   "cell_type": "code",
   "execution_count": 5,
   "metadata": {},
   "outputs": [
    {
     "data": {
      "text/plain": [
       "\"   presidents of the United States mr. go   trapp family   you   you   thank you   [Applause]   [Music]   everybody well I want to begin by   thanking the people of South Carolina   this is a special state thank you these   are special people and you know we get a   little boost last week from a place we   all remember New Hampshire we can't   forget it special special we love it and   they sent us in here with a very good   feeling right very good feeling so I   really want to thank you and my   volunteers all of these people   volunteers and and they travel and they   go I say what are you doing and now   they're going to Texas and they're going   all over some are going to Nevada I'll   be going to Nevada we're making a big   speech tomorrow in Atlanta and then   we're going right to Nevada and I think   we're going to do terrific there and the   SEC is going to be very very exciting we   expect it to very very well I want to   just say thank you to my family it's   been not easy for them they don't see me   anymore making speeches all the time and   I have a great family I really have a   great family so I just want to thank all   of you and ivanka you know we have a   hospital ready just in case in South   Carolina we're going to have a baby   there's nothing wrong with that right so   could be any it could be any second that   could even be before I'm finished I mean   but it's but you know she insisted on   being here was so important to ivanka to   insist on being so thank really good   Vanessa Don we have a wonderful   lieutenant governor who backed us very   early in the process you know Henry   right the lieutenant governor of South   Carolina I will take him over the   governor any time because we want me one   [Applause]   he can handle that very nice he's tough   he's very tough Tiffany Erik Lora and   Milania Milania sasa just want to say an   amazing place South Carolina   congratulation to my husband he was   working very hard and he loves you we   love you and to be going ahead to Nevada   and we will see what happened he would   be the best president   [Applause]   and representing some very very   wonderful children ivanka just a fool   Thank You South Carolina this is an   amazing amazing night the momentum since   the beginning of this campaign has been   unbelievable and that's because my   father's message resonates so deeply   with so many people so as our family   we're incredibly proud we're incredibly   grateful to each of you so thank you for   being here to support us and I will say   this my father is an incredibly hard   worker and he'll be working for each and   every one of you so together we'll make   America great again thank you very much   thank you very much so you know i was   watching upstairs and it was really   amazing to be watching what i was   watching and some of the pundits and I   you know overall fair but not too much   but a number of the pundits and well if   a couple of the other candidates dropped   out if you add their scores together   it's going to equal Trump right these   geniuses they're geniuses they don't   understand that as people drop out I'm   going to get a lot of those votes all so   you don't just you're just add them   together   [Applause]   so I think we're going to do very very   well I think we're going to do very well   I want to also congratulate the other   candidates in particular I have to say   Ted and Marco did a really good job and   they got they did quite well as I   understand him and come on just of just   one minute come on one second right good   okay we go back to for tomorrow morning   tomorrow morning we'll be back but I   just want to congratulate the other   candidates there's nothing easy about   running for president I can tell you   it's tough it's nasty its mean it's   vicious it's beautiful when you win it's   beautiful and we're going to start we   are going to start winning for our   country we're gonna start women because   our country does it win anymore doesn't   one we don't win with the military we   can't beat Isis we have great military   but we can't be nice as we don't win on   trade you look at what China is doing to   us what Japan does to us what Mexico is   just killing us at the border at the   border and with trade Mexico is killing   us absolutely will do the wall don't   worry we're going to do the wall we're   going to do the wall and by the way   who's going to pay for the wall Mexico   is going to pay for the world and it's   very easy the other politicians come   down you can't get Mexico to pay for the   wall I said one hundred percent we have   a fifty eight billion dollar trade   deficit with mexico the wall is going to   cause 10 to 12 billion dollars okay   believe me they will pay one of the   officials actually one of the ex   officials from mexico had a news   conference and he announced that we will   not be paying for the wall who does mr.   Trump think he is they came to me the   press these people look at all those   cameras back there the press came to me   and they told me that he said would not   pay for the wall do you have a comment I   said yes the wall just got 10 feet   taller   it's true and I love Mexico I love   Mexico I love China I love many of these   countries that rip us off because we   have leaders that are incompetent and   don't know what they're doing I love   these countries they great I have   thousands and thousands of Hispanics   we're going to Nevada I lead I lead with   the Hispanics I'm leading in every poll   with Hispanics they love me I love them   the problem is the problem is that the   leaders of these countries whether it's   Mexico or Japan or Vietnam which is just   doing a big number now all of a sudden   or China in particular that's the big   one the greatest abuse of a country that   I think I've ever seen financially China   what they've done to us is the greatest   single theft in the history of the world   they've taken our jobs they've taken our   money they've taken everything we're   bringing our jobs back folks we're   bringing our jobs back we're going to   bring them back and I know how to do it   we've had so many we've had so many   incredible endorsements and to me   getting the greatest business people to   endorse me as very important Carl Icahn   endorse me so many others have endorsed   me and we're going to put these great   business people in charge of trade and   when China wants to come and negotiate   they're going to negotiate not with a   political hack which is what they have   now they're going to negotiate with the   best business minds in the world and we   have them in this country   so we're going to do a lot of beautiful   work we're going to terminate Obamacare   it's going to be terminated it's going   to be over it's going to be repealed and   it's going to be replaced and you're   going to have much better health care at   a much smaller cost because Obamacare if   you look look at the increases in your   Obamacare 25 35 45 even fifty five   percent it's dead it's not working we're   going to go to a plan that's going to be   so much better and so much less   expensive so second amendment by the way   this is a room loves the Second   Amendment thank you fellas this is a   room loves and cherishes the Second   Amendment we are going to protect our   Second Amendment   [Applause]   common core is gone we are getting rid   of common core we're bringing education   to a local level the people in this   community every time I see them they   want education locally the parents the   teachers they want to do it they don't   want bureaucrats in Washington telling   them how to educate their children we   spend as a nation more for education /   pupal than any other nation in the world   not even close more per pupil second   place doesn't even exist it's so   different and yet out of 30 countries   were ranked number 30 you have China you   have Norway Sweden Denmark and then you   have number 30 the United States so we   spend the most and we're at the bottom   of the heap it's not going to happen   anymore folks not going to happen   anymore we are going to build our   military which I thank because a number   of the people came down in a number of   the pundits and watching tonight we love   our military   we love our military and by the way we   love our police our police are terrific   we love our police they are not being   treated properly we're going to build   our military so big so good so strong so   powerful that nobody is ever going to   mess with us folks and we're going to   buy we're going to buy the equipment   that our generals are soldiers that   everybody that's in the note want we're   not buying equipment that sells because   they have political well because they   take campaign and they give campaign   contributions we are going to get the   equipment that they want not the   equipment that they're told to have by   senators and congressmen in Washington   we're going to have great equipment and   the reason i can say that is I'm   self-funding my campaign I'm not getting   millions of dollars from all of these   I'm not getting millions of dollars from   all of these special interests and   lobbyists and donors that once they get   it they literally do whatever the   politicians want that's not going to   happen and we're going to take care of   our vets we love our vets and they're   being treated terribly with taking care   of our veterans so we're now off to   Nevada and it's a great state we have   great people we have great people in our   nation no matter where we go I went to   Mobile Alabama 35000 people we went to   Oklahoma recently twice 20000 people   20000 people no matter where we go we   fill up the arenas over here the other   day we had a 9000 we had a 10000 we   have people the only thing that stops   the crowds are the walls because we   can't get them in we have to send   thousands of people away Time magazine   Time magazine last week did an   incredible comfort cover story they said   it's a movement and that's what it is   it's an incredible movement with   incredible people incredible people   [Applause]   [Music]   [Applause]   it's an incredible movement with   incredible people I tell you and whether   we go honestly whether we go to Dallas   or whether we go anywhere you say you go   to LA you go anywhere you say our people   are incredible and you know our theme   what's our theme you know it right right   our theme which I love maybe the   greatest theme of all time right and the   word again eventually is going to come   off we're going to get rid of the whole   theme because what's going to happen   make America great again right and the   last two weeks because I've gotten to   see so many I guess millions when you   add them all up with all of these rooms   and all of these speeches and I've met   so many people but the people are so   incredible that I've been saying make   America great again and it's going to be   greater than ever before that's the kind   of potential we have greater than ever   before so so so I want to thank   everybody I love you all again South   Carolina we will never forget you we   will never forget you we will never ever   forget South Carolina we will never   forget our great volunteers we love our   volunteers will never forget all of the   people that have helped us so much my   family and folks let's go let's have a   big win in Nevada let's have a big win   at the SEC let's put this thing away and   let's make America great again thank you   very much thank you very much   you   [Music]   you   [Music]   you   [Music]   you   [Music]   you   you   you   you\""
      ]
     },
     "execution_count": 5,
     "metadata": {},
     "output_type": "execute_result"
    }
   ],
   "source": [
    "df['subtitles'][0]"
   ]
  },
  {
   "cell_type": "markdown",
   "metadata": {},
   "source": [
    "Perhaps we should we remove tokens such as [applause], [music], etc. Let's roll with them for now, it could be fun."
   ]
  },
  {
   "cell_type": "markdown",
   "metadata": {},
   "source": [
    "## Read whole file to create a language model"
   ]
  },
  {
   "cell_type": "markdown",
   "metadata": {},
   "source": [
    "Reading the csv directly fails, we need to help a little bit with a few options."
   ]
  },
  {
   "cell_type": "code",
   "execution_count": 6,
   "metadata": {},
   "outputs": [],
   "source": [
    "dataframe = pd.read_csv(trump_path/'MrTrumpSpeeches.csv', header=0, delimiter=\"\\~\", quoting=3, engine='python')"
   ]
  },
  {
   "cell_type": "code",
   "execution_count": 7,
   "metadata": {},
   "outputs": [
    {
     "name": "stdout",
     "output_type": "stream",
     "text": [
      "(836, 9)\n",
      "Index(['id', 'playlist', 'upload_date', 'title', 'view_count',\n",
      "       'average_rating', 'like_count', 'dislike_count', 'subtitles'],\n",
      "      dtype='object')\n",
      "            id                        playlist  upload_date  \\\n",
      "0  -2WTNSujhjk  Donald Trump Speeches & Events     20160220   \n",
      "1  -64nfy6i58w  Donald Trump Speeches & Events     20161107   \n",
      "2  -7Sp31hTxkU  Donald Trump Speeches & Events     20160423   \n",
      "3  -byuyavcNI4  Donald Trump Speeches & Events     20160617   \n",
      "4  09BXh-AA72M  Donald Trump Speeches & Events     20161105   \n",
      "\n",
      "                                               title  view_count  \\\n",
      "0  Live Stream: Donald Trump Victory Rally in Spa...      4057.0   \n",
      "1  LAST RALLY: Donald Trump FINAL CAMPAIGN Rally ...     47276.0   \n",
      "2  FULL SPEECH: Donald Trump Rally in Bridgeport,...     19966.0   \n",
      "3  Full Speech: Donald Trump Rally in Houston, Te...     15138.0   \n",
      "4  Full Speech: Donald Trump Rally in Denver, Col...      8720.0   \n",
      "\n",
      "   average_rating  like_count  dislike_count  \\\n",
      "0        4.259259        44.0           10.0   \n",
      "1        4.358025       952.0          182.0   \n",
      "2        4.666667       220.0           20.0   \n",
      "3        4.582491       266.0           31.0   \n",
      "4        4.924731       365.0            7.0   \n",
      "\n",
      "                                           subtitles  \n",
      "0     presidents of the United States mr. go   tr...  \n",
      "1     it's now officially Tuesday November a   di...  \n",
      "2     you   [Music]   [Music]   [Music]   you   I...  \n",
      "3     we welcome stars and president   [Music]   ...  \n",
      "4     you   thank you   [Music]   great people Gr...  \n"
     ]
    }
   ],
   "source": [
    "print(dataframe.shape)\n",
    "print(dataframe.columns)\n",
    "print(dataframe.head())"
   ]
  },
  {
   "cell_type": "code",
   "execution_count": 8,
   "metadata": {},
   "outputs": [],
   "source": [
    "bs=50"
   ]
  },
  {
   "cell_type": "code",
   "execution_count": 9,
   "metadata": {},
   "outputs": [],
   "source": [
    "data_lm = (TextList.from_df(dataframe, path=trump_path, cols='subtitles')\n",
    "              .random_split_by_pct(0.1)\n",
    "              .label_for_lm()\n",
    "               .databunch(bs=bs))"
   ]
  },
  {
   "cell_type": "code",
   "execution_count": 10,
   "metadata": {},
   "outputs": [],
   "source": [
    "# Save for later\n",
    "data_lm.save('data_lm.pkl')"
   ]
  },
  {
   "cell_type": "code",
   "execution_count": 11,
   "metadata": {},
   "outputs": [
    {
     "data": {
      "text/html": [
       "<table>  <col width='5%'>  <col width='95%'>  <tr>\n",
       "    <th>idx</th>\n",
       "    <th>text</th>\n",
       "  </tr>\n",
       "  <tr>\n",
       "    <th>0</th>\n",
       "    <th>hampshire we ca n't forget it special special we love it and they sent us in here with a very good feeling right very good feeling so i really want to thank you and my volunteers all of these people volunteers and and they travel and they go i say what are you doing and now they 're going to xxmaj texas and they 're going all over some are</th>\n",
       "  </tr>\n",
       "  <tr>\n",
       "    <th>1</th>\n",
       "    <th>i always used to say for months now i 've been saying i 'll take rights over xxmaj debbie and everyone said oh but xxmaj debbie 's a superstar said so his rights and then it turned out that xxmaj debbie flamed out and she 's gone but the disloyalty was incredible and i really mean that because honestly whether you like her or not she worked very hard to</th>\n",
       "  </tr>\n",
       "  <tr>\n",
       "    <th>2</th>\n",
       "    <th>thirty - five percent income taxes will be cut dramatically for the workers of workers that i mean the really hard workers you 're paying too much tax folks everybody knows it so for the workers the middle - class families everybody we 're having a major major tax reductions and i will tell you xxmaj ivanka xxmaj trump wants child care taken care of and we 're going to</th>\n",
       "  </tr>\n",
       "  <tr>\n",
       "    <th>3</th>\n",
       "    <th>that we think we have all of us somebody somebody gets a good job and you do n't have the problems but we 're having our jobs ripped off and being sent to other countries ripped off by currency manipulation where they 're lowering the value of their currency and they 're making it impossible for our companies to compete we 're being ripped off at every level and we</th>\n",
       "  </tr>\n",
       "  <tr>\n",
       "    <th>4</th>\n",
       "    <th>enjoy your new plant the weather 's hot but that 's okay enjoy the new plan but if you move there 's going to be this text they 're not going to move folks they 're not going to move they 're going to say well we 're gon na stay now they 'll stay in xxmaj indiana they may come to xxmaj north xxmaj carolina all of that stuff</th>\n",
       "  </tr>\n",
       "</table>\n"
      ],
      "text/plain": [
       "<IPython.core.display.HTML object>"
      ]
     },
     "metadata": {},
     "output_type": "display_data"
    }
   ],
   "source": [
    "data_lm.show_batch()"
   ]
  },
  {
   "cell_type": "code",
   "execution_count": 12,
   "metadata": {},
   "outputs": [
    {
     "data": {
      "text/plain": [
       "11895"
      ]
     },
     "execution_count": 12,
     "metadata": {},
     "output_type": "execute_result"
    }
   ],
   "source": [
    "len(data_lm.vocab.itos)"
   ]
  },
  {
   "cell_type": "markdown",
   "metadata": {},
   "source": [
    "## Load pretrained language model"
   ]
  },
  {
   "cell_type": "code",
   "execution_count": 13,
   "metadata": {},
   "outputs": [],
   "source": [
    "learn = language_model_learner(data_lm, AWD_LSTM, drop_mult=0.3)"
   ]
  },
  {
   "cell_type": "code",
   "execution_count": 14,
   "metadata": {},
   "outputs": [],
   "source": [
    "AWD_LSTM??"
   ]
  },
  {
   "cell_type": "code",
   "execution_count": 15,
   "metadata": {},
   "outputs": [
    {
     "data": {
      "text/html": [],
      "text/plain": [
       "<IPython.core.display.HTML object>"
      ]
     },
     "metadata": {},
     "output_type": "display_data"
    },
    {
     "name": "stdout",
     "output_type": "stream",
     "text": [
      "LR Finder is complete, type {learner_name}.recorder.plot() to see the graph.\n"
     ]
    }
   ],
   "source": [
    "learn.lr_find()"
   ]
  },
  {
   "cell_type": "code",
   "execution_count": 16,
   "metadata": {},
   "outputs": [
    {
     "name": "stdout",
     "output_type": "stream",
     "text": [
      "Min numerical gradient: 3.31E-02\n"
     ]
    },
    {
     "data": {
      "image/png": "[encoded data removed]",
      "text/plain": [
       "<Figure size 432x288 with 1 Axes>"
      ]
     },
     "metadata": {
      "needs_background": "light"
     },
     "output_type": "display_data"
    }
   ],
   "source": [
    "learn.recorder.plot()"
   ]
  },
  {
   "cell_type": "code",
   "execution_count": 17,
   "metadata": {},
   "outputs": [
    {
     "name": "stdout",
     "output_type": "stream",
     "text": [
      "Min numerical gradient: 3.31E-02\n"
     ]
    },
    {
     "data": {
      "image/png": "[encoded data removed]",
      "text/plain": [
       "<Figure size 432x288 with 1 Axes>"
      ]
     },
     "metadata": {
      "needs_background": "light"
     },
     "output_type": "display_data"
    }
   ],
   "source": [
    "learn.recorder.plot(skip_end=15)"
   ]
  },
  {
   "cell_type": "code",
   "execution_count": 18,
   "metadata": {},
   "outputs": [
    {
     "data": {
      "text/html": [
       "Total time: 01:16 <p><table style='width:300px; margin-bottom:10px'>\n",
       "  <tr>\n",
       "    <th>epoch</th>\n",
       "    <th>train_loss</th>\n",
       "    <th>valid_loss</th>\n",
       "    <th>accuracy</th>\n",
       "  </tr>\n",
       "  <tr>\n",
       "    <th>1</th>\n",
       "    <th>3.831092</th>\n",
       "    <th>3.817893</th>\n",
       "    <th>0.282857</th>\n",
       "  </tr>\n",
       "</table>\n"
      ],
      "text/plain": [
       "<IPython.core.display.HTML object>"
      ]
     },
     "metadata": {},
     "output_type": "display_data"
    }
   ],
   "source": [
    "learn.fit_one_cycle(1, 3e-2, moms=(0.8, 0.7))"
   ]
  },
  {
   "cell_type": "code",
   "execution_count": 19,
   "metadata": {},
   "outputs": [],
   "source": [
    "learn.save('fit_head')"
   ]
  },
  {
   "cell_type": "markdown",
   "metadata": {},
   "source": [
    "## Unfreeze to fine-tune"
   ]
  },
  {
   "cell_type": "code",
   "execution_count": 20,
   "metadata": {},
   "outputs": [],
   "source": [
    "learn.unfreeze()"
   ]
  },
  {
   "cell_type": "code",
   "execution_count": 21,
   "metadata": {},
   "outputs": [],
   "source": [
    "torch.cuda.empty_cache()"
   ]
  },
  {
   "cell_type": "code",
   "execution_count": 22,
   "metadata": {},
   "outputs": [
    {
     "data": {
      "text/html": [
       "Total time: 14:25 <p><table style='width:300px; margin-bottom:10px'>\n",
       "  <tr>\n",
       "    <th>epoch</th>\n",
       "    <th>train_loss</th>\n",
       "    <th>valid_loss</th>\n",
       "    <th>accuracy</th>\n",
       "  </tr>\n",
       "  <tr>\n",
       "    <th>1</th>\n",
       "    <th>3.495352</th>\n",
       "    <th>3.657011</th>\n",
       "    <th>0.304301</th>\n",
       "  </tr>\n",
       "  <tr>\n",
       "    <th>2</th>\n",
       "    <th>3.330906</th>\n",
       "    <th>3.534734</th>\n",
       "    <th>0.322778</th>\n",
       "  </tr>\n",
       "  <tr>\n",
       "    <th>3</th>\n",
       "    <th>3.146074</th>\n",
       "    <th>3.436176</th>\n",
       "    <th>0.339162</th>\n",
       "  </tr>\n",
       "  <tr>\n",
       "    <th>4</th>\n",
       "    <th>2.865780</th>\n",
       "    <th>3.355327</th>\n",
       "    <th>0.353184</th>\n",
       "  </tr>\n",
       "  <tr>\n",
       "    <th>5</th>\n",
       "    <th>2.581101</th>\n",
       "    <th>3.287690</th>\n",
       "    <th>0.369105</th>\n",
       "  </tr>\n",
       "  <tr>\n",
       "    <th>6</th>\n",
       "    <th>2.235302</th>\n",
       "    <th>3.265190</th>\n",
       "    <th>0.382026</th>\n",
       "  </tr>\n",
       "  <tr>\n",
       "    <th>7</th>\n",
       "    <th>2.129893</th>\n",
       "    <th>3.207923</th>\n",
       "    <th>0.395707</th>\n",
       "  </tr>\n",
       "  <tr>\n",
       "    <th>8</th>\n",
       "    <th>1.826912</th>\n",
       "    <th>3.201088</th>\n",
       "    <th>0.404609</th>\n",
       "  </tr>\n",
       "  <tr>\n",
       "    <th>9</th>\n",
       "    <th>1.758937</th>\n",
       "    <th>3.204947</th>\n",
       "    <th>0.409011</th>\n",
       "  </tr>\n",
       "  <tr>\n",
       "    <th>10</th>\n",
       "    <th>1.657858</th>\n",
       "    <th>3.214163</th>\n",
       "    <th>0.410677</th>\n",
       "  </tr>\n",
       "</table>\n"
      ],
      "text/plain": [
       "<IPython.core.display.HTML object>"
      ]
     },
     "metadata": {},
     "output_type": "display_data"
    }
   ],
   "source": [
    "learn.fit_one_cycle(10, 3e-3, moms=(0.8, 0.7))"
   ]
  },
  {
   "cell_type": "code",
   "execution_count": 23,
   "metadata": {},
   "outputs": [],
   "source": [
    "learn.save('fine_tuned')"
   ]
  },
  {
   "cell_type": "code",
   "execution_count": 24,
   "metadata": {},
   "outputs": [],
   "source": [
    "learn.save_encoder('fine_tuned_encoder')"
   ]
  },
  {
   "cell_type": "code",
   "execution_count": 25,
   "metadata": {},
   "outputs": [],
   "source": [
    "TEXT = 'We need to build a wall'\n",
    "N_WORDS = 100\n",
    "N_SENTENCES = 1"
   ]
  },
  {
   "cell_type": "code",
   "execution_count": 26,
   "metadata": {},
   "outputs": [
    {
     "name": "stdout",
     "output_type": "stream",
     "text": [
      "We need to build a wall and Mexico will pay for the wall that we 're talking about and the wall is going to cost the United States tremendous amounts of money to build it from the Gulf Coast but i 'll tell you we have a very depleted military we have great military and we ca n't allow it to happen we will build the wall we 're going to build a wall and who is going to pay for the wall who one hundred percent they 're not going to pay for the world they 're not going to\n"
     ]
    }
   ],
   "source": [
    "print(\"\\n\".join(learn.predict(TEXT, N_WORDS, temperature=0.75) for _ in range(N_SENTENCES)))"
   ]
  },
  {
   "cell_type": "code",
   "execution_count": 27,
   "metadata": {},
   "outputs": [
    {
     "name": "stdout",
     "output_type": "stream",
     "text": [
      "We need to build a wall it 's going to be a real wall and Mexico will pay for the wall you know we have a real wall you know when they say we wo n't pay for the world we do n't know if they want to pay for the wall so we 're gon na have a wall we 're going to have a wall we are going to stop drugs from coming pouring into this country we 're going to stop people from coming into our country that we love we do n't know where these are people guess what 's going\n"
     ]
    }
   ],
   "source": [
    "print(\"\\n\".join(learn.predict(TEXT, N_WORDS, temperature=0.75) for _ in range(N_SENTENCES)))"
   ]
  },
  {
   "cell_type": "code",
   "execution_count": 28,
   "metadata": {},
   "outputs": [],
   "source": [
    "TEXT = 'Hillary Clinton'\n",
    "N_WORDS = 100\n",
    "N_SENTENCES = 1"
   ]
  },
  {
   "cell_type": "code",
   "execution_count": 29,
   "metadata": {},
   "outputs": [
    {
     "name": "stdout",
     "output_type": "stream",
     "text": [
      "Hillary Clinton has been a countless instance in the presidential on this issue of trade and renewal of this country as a country that is due to her energy policies that have blocked all the coal mines and shut down the mines and i 'm not sure that they could be the true ones because she is the only one who has a good relationship with Hillary Clinton but the only thing she can sign is to increase the number of jobs producing by American energy not by American power or create massive coal production now i 'm\n"
     ]
    }
   ],
   "source": [
    "print(\"\\n\".join(learn.predict(TEXT, N_WORDS, temperature=0.75) for _ in range(N_SENTENCES)))"
   ]
  },
  {
   "cell_type": "code",
   "execution_count": 30,
   "metadata": {},
   "outputs": [],
   "source": [
    "def generate_phrase(seed, nwords=100):\n",
    "    return learn.predict(seed, nwords, temperature=0.75)"
   ]
  },
  {
   "cell_type": "code",
   "execution_count": 31,
   "metadata": {},
   "outputs": [
    {
     "data": {
      "text/plain": [
       "\"Steve Bannon and Steve Bannon and MSNBC chief legal correspondent ari melber thank you yeah john yeah it 's a very good group of people that i think a lot of people are getting ahead of or getting ahead of schedule so we 're going to be speaking with the Attorney General so and we are going to do something that 's going to be very special and i think we 're going to do very very well in November that we are going to have to blow a big deal that 's going to be\""
      ]
     },
     "execution_count": 31,
     "metadata": {},
     "output_type": "execute_result"
    }
   ],
   "source": [
    "generate_phrase('Steve Bannon')"
   ]
  },
  {
   "cell_type": "code",
   "execution_count": 32,
   "metadata": {},
   "outputs": [
    {
     "data": {
      "text/plain": [
       "\"Hillary Clinton does not have a chance and what she 's done in Libya what she wanted to do is look at Syria look at the migration you look at her plan look at her plan for the inner cities to give us a break Hillary Clinton supports Obamacare and wants to expand it you 've seen it for years it 's going to happen and it does n't work that way anymore it 's not going to happen either we win this election or we lose our country with a government that serves the people every\""
      ]
     },
     "execution_count": 32,
     "metadata": {},
     "output_type": "execute_result"
    }
   ],
   "source": [
    "generate_phrase('Hillary Clinton')"
   ]
  },
  {
   "cell_type": "code",
   "execution_count": null,
   "metadata": {},
   "outputs": [],
   "source": []
  }
 ],
 "metadata": {
  "kernelspec": {
   "display_name": "Python 3",
   "language": "python",
   "name": "python3"
  },
  "language_info": {
   "codemirror_mode": {
    "name": "ipython",
    "version": 3
   },
   "file_extension": ".py",
   "mimetype": "text/x-python",
   "name": "python",
   "nbconvert_exporter": "python",
   "pygments_lexer": "ipython3",
   "version": "3.7.2"
  }
 },
 "nbformat": 4,
 "nbformat_minor": 2
}
